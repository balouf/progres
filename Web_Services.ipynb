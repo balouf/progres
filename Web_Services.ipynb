{
 "cells": [
  {
   "cell_type": "code",
   "execution_count": 1,
   "id": "c83a57c9",
   "metadata": {
    "ExecuteTime": {
     "end_time": "2024-10-11T07:07:27.532207Z",
     "start_time": "2024-10-11T07:07:27.516609Z"
    },
    "init_cell": true,
    "slideshow": {
     "slide_type": "skip"
    }
   },
   "outputs": [
    {
     "data": {
      "text/html": [
       "<style>\n",
       ".prompt_container { display: none !important; }\n",
       ".prompt { display: none !important; }\n",
       ".run_this_cell { display: none !important; }\n",
       "\n",
       "\n",
       "</style>\n"
      ],
      "text/plain": [
       "<IPython.core.display.HTML object>"
      ]
     },
     "metadata": {},
     "output_type": "display_data"
    }
   ],
   "source": [
    "%%html\n",
    "<style>\n",
    ".prompt_container { display: none !important; }\n",
    ".prompt { display: none !important; }\n",
    ".run_this_cell { display: none !important; }\n",
    "\n",
    "\n",
    "</style>"
   ]
  },
  {
   "cell_type": "markdown",
   "id": "13980f54",
   "metadata": {
    "slideshow": {
     "slide_type": "slide"
    }
   },
   "source": [
    "# ProgRes, Part II\n",
    "\n",
    "# Web services"
   ]
  },
  {
   "cell_type": "markdown",
   "id": "99c42851",
   "metadata": {},
   "source": [
    "Fabien Mathieu - fabien.mathieu@normalesup.org\n",
    "\n",
    "Sébastien Tixeuil - Sebastien.Tixeuil@lip6.fr"
   ]
  },
  {
   "cell_type": "markdown",
   "id": "21153e1f",
   "metadata": {
    "slideshow": {
     "slide_type": "subslide"
    }
   },
   "source": [
    "# Roadmap"
   ]
  },
  {
   "cell_type": "markdown",
   "id": "c42a2846",
   "metadata": {},
   "source": [
    "- Part I: done\n",
    "- Part II (Web services)\n",
    "  - This week:\n",
    "    - Definitions / Reminders (OSI, HTTP, REST...)\n",
    "    - Client side\n",
    "       - Retrieve content\n",
    "       - Manipulate content\n",
    "  - Next week: Server side\n",
    "- Part III: P2P"
   ]
  },
  {
   "cell_type": "markdown",
   "id": "9bae4ca4",
   "metadata": {
    "slideshow": {
     "slide_type": "subslide"
    }
   },
   "source": [
    "# Methodology"
   ]
  },
  {
   "cell_type": "markdown",
   "id": "7192002c",
   "metadata": {},
   "source": [
    "- Course, practicals, and mini-projects are made on notebooks (jupyter or jupyterlab)\n",
    "- Available on Github: https://github.com/balouf/progres\n",
    "- This means you will send your practical notebooks. \n",
    "- Please put your name(s) **on the filename AND inside** as well!"
   ]
  },
  {
   "cell_type": "markdown",
   "id": "b47274e2",
   "metadata": {
    "slideshow": {
     "slide_type": "subslide"
    }
   },
   "source": [
    "# Jupyter notebook?"
   ]
  },
  {
   "cell_type": "markdown",
   "id": "717b3a8c",
   "metadata": {},
   "source": [
    "A notebook is just a text file with extension `.ipynb` that contains cells.\n",
    "- Two main types of cells:\n",
    "  - Markdown cells to write formatted text. You can itemize or write maths like $\\frac{\\sqrt{\\pi}}{2}$\n",
    "  - Code cell to execute Python code\n",
    "- This is a markdown cell"
   ]
  },
  {
   "cell_type": "code",
   "execution_count": null,
   "id": "94198080",
   "metadata": {
    "ExecuteTime": {
     "end_time": "2024-10-10T20:08:05.340783Z",
     "start_time": "2024-10-10T20:08:05.335542Z"
    },
    "cell_style": "split"
   },
   "outputs": [],
   "source": [
    "# This is a code cell\n",
    "x = 1+1"
   ]
  },
  {
   "cell_type": "code",
   "execution_count": null,
   "id": "02f70845",
   "metadata": {
    "ExecuteTime": {
     "end_time": "2024-10-10T20:08:06.534946Z",
     "start_time": "2024-10-10T20:08:06.525084Z"
    },
    "cell_style": "split"
   },
   "outputs": [],
   "source": [
    "# Cell codes share the same workspace\n",
    "x"
   ]
  },
  {
   "cell_type": "markdown",
   "id": "3ddc58ea",
   "metadata": {
    "slideshow": {
     "slide_type": "subslide"
    }
   },
   "source": [
    "# Using Jupyter Notebook"
   ]
  },
  {
   "cell_type": "markdown",
   "id": "b29e9e7f",
   "metadata": {},
   "source": [
    "Two modes:\n",
    "- Command mode (blue). Hit `esc` to enter it\n",
    "- Edit mode (green). Hit `enter` on a cell to edit\n",
    "- There are many shortcuts (hit `H` on command mode to see them)"
   ]
  },
  {
   "cell_type": "markdown",
   "id": "550426f8",
   "metadata": {
    "slideshow": {
     "slide_type": "subslide"
    }
   },
   "source": [
    "# The rules"
   ]
  },
  {
   "cell_type": "markdown",
   "id": "0670aca0",
   "metadata": {},
   "source": [
    "https://github.com/balouf/progres/blob/main/rules.ipynb"
   ]
  },
  {
   "cell_type": "markdown",
   "id": "ffc9633e",
   "metadata": {
    "slideshow": {
     "slide_type": "slide"
    }
   },
   "source": [
    "## What is a Web Service?"
   ]
  },
  {
   "cell_type": "markdown",
   "id": "94f33156",
   "metadata": {
    "slideshow": {
     "slide_type": "slide"
    }
   },
   "source": [
    "# Reminder: the OSI model"
   ]
  },
  {
   "cell_type": "markdown",
   "id": "dfcb0f34",
   "metadata": {},
   "source": [
    "| Layer | Protocol Data Unit (PDU) | Function |\n",
    "| :-- | --- | :-: |\n",
    "| 7 (Application) | Data | High-level protocols such as for resource sharing or remote file access, e.g. HTTP. |\n",
    "| 6 (Presentation) | Data | Translation of data between a networking service and an application;<br>including character encoding, data compression and encryption/decryption. |\n",
    "| 5 (Session) | Data | Managing communication sessions, i.e.,<br>continuous exchange of information in the form of multiple back-and-forth transmissions between two nodes. |\n",
    "| 4 (Transport) | Segment, datagram | Reliable transmission of data segments between points on a network,<br>including segmentation, acknowledgement and multiplexing. |\n",
    "| 3 (Network) | Packet | Structuring and managing a multi-node network, including addressing, routing and traffic control. |\n",
    "| 2 (Data link) | Frame, PRB | Transmission of data frames between two nodes connected by a physical layer. |\n",
    "| 1 (Physical) | Bit, Symbol | Transmission and reception of raw bit streams over a physical medium. |\n",
    "\n",
    "From wikipedia"
   ]
  },
  {
   "cell_type": "markdown",
   "id": "ade510b0",
   "metadata": {
    "slideshow": {
     "slide_type": "subslide"
    }
   },
   "source": [
    "# Reminder: the OSI model"
   ]
  },
  {
   "cell_type": "markdown",
   "id": "08167040",
   "metadata": {},
   "source": [
    "- OSI should be seen as a guideline more than strict frontiers\n",
    "- 1 & 2 (physical layers): depend on the physical medium you use\n",
    "- 3 & 4 (Internet layers): IP (3), UDP (\"3.5\"), TCP (4)\n",
    "- Data layers: HTTP(S), SSH, SMTP, (S)FTP... (some see 5/6/7 distinction as artificial)"
   ]
  },
  {
   "cell_type": "markdown",
   "id": "e205c332",
   "metadata": {
    "slideshow": {
     "slide_type": "subslide"
    }
   },
   "source": [
    "# The OSI hourglass"
   ]
  },
  {
   "cell_type": "markdown",
   "id": "a5ffce05",
   "metadata": {
    "cell_style": "split"
   },
   "source": [
    "Just for Internet culture\n",
    "\n",
    "- Many physical implementations\n",
    "- Many data applications\n",
    "- One waist: IP"
   ]
  },
  {
   "cell_type": "markdown",
   "id": "cfdfcc33",
   "metadata": {
    "cell_style": "split"
   },
   "source": [
    "<img src = \"https://scx2.b-cdn.net/gfx/news/hires/2011/howtheintern.jpg\">"
   ]
  },
  {
   "cell_type": "markdown",
   "id": "1140c84d",
   "metadata": {
    "slideshow": {
     "slide_type": "subslide"
    }
   },
   "source": [
    "# OSI model and PROGRES"
   ]
  },
  {
   "cell_type": "markdown",
   "id": "974be838",
   "metadata": {},
   "source": [
    "- Part I (past sessions) was making your own data layers out of sockets\n",
    "- Part II is about directly using L7 protocols\n",
    "- Part III will be about overlay networks (\"L8\")"
   ]
  },
  {
   "cell_type": "markdown",
   "id": "d20767ab",
   "metadata": {
    "slideshow": {
     "slide_type": "subslide"
    }
   },
   "source": [
    "# HTTP in the old days (Web 1.0)"
   ]
  },
  {
   "cell_type": "markdown",
   "id": "71b9311c",
   "metadata": {
    "cell_style": "split"
   },
   "source": [
    "- Goal: serve a (static) web page\n",
    "- Client (user on a navigator) requests a URL\n",
    "- Server serves a physical file (or a view of a directory)\n",
    "- Navigator displays the page\n",
    "\n",
    "- https://files.data.gouv.fr/insee-sirene/\n",
    "- http://test-debit.free.fr/"
   ]
  },
  {
   "cell_type": "markdown",
   "id": "4b0d7f63",
   "metadata": {
    "cell_style": "split"
   },
   "source": [
    "- HTTP: HyperText Transfert Protocol\n",
    "- URL: Uniform Resource Locator"
   ]
  },
  {
   "cell_type": "markdown",
   "id": "d1bae6d5",
   "metadata": {
    "slideshow": {
     "slide_type": "subslide"
    }
   },
   "source": [
    "# HTTPS today (Web X.Y)"
   ]
  },
  {
   "cell_type": "markdown",
   "id": "f4b7934e",
   "metadata": {
    "cell_style": "split"
   },
   "source": [
    "- Goal: C asks R to S using a URI\n",
    "- C is anything\n",
    "- R is anything\n",
    "- S is a server\n",
    "- https://pokeapi.co/api/v2/pokemon-form/25/\n",
    "- https://api.archives-ouvertes.fr/search/?q=authIdHal_s:fabien-mathieu"
   ]
  },
  {
   "cell_type": "markdown",
   "id": "4f13010a",
   "metadata": {
    "cell_style": "split"
   },
   "source": [
    "- HTTPS: HyperText Transfert Protocol Secure\n",
    "- URI: Uniform Resource Identifier"
   ]
  },
  {
   "cell_type": "markdown",
   "id": "a705aa6a",
   "metadata": {
    "slideshow": {
     "slide_type": "subslide"
    }
   },
   "source": [
    "# Web services"
   ]
  },
  {
   "cell_type": "markdown",
   "id": "44b0c101",
   "metadata": {},
   "source": [
    "- Client is typically a program executed to access content\n",
    " - On client side (JS of a webpage)\n",
    " - On server side (to *build* the webpage to return)\n",
    "- Request is a HTTP(S) method on a URI\n",
    "- Result is anything (None, html, xml, json, image...)"
   ]
  },
  {
   "cell_type": "markdown",
   "id": "a5ca595a",
   "metadata": {
    "slideshow": {
     "slide_type": "subslide"
    }
   },
   "source": [
    "# HTTP(S) methods"
   ]
  },
  {
   "cell_type": "markdown",
   "id": "e1b381bf",
   "metadata": {},
   "source": [
    "Any HTTP(S) method is like this:\n",
    "- A request is sent by the client, with some headers (type of request, ...) and possibly a body (input data)\n",
    "- A response is sent by the server, with some headers (status code, metadata) and possibly a body (output data)"
   ]
  },
  {
   "cell_type": "markdown",
   "id": "6e43cdc8",
   "metadata": {
    "slideshow": {
     "slide_type": "subslide"
    }
   },
   "source": [
    "# HTTP methods: theory"
   ]
  },
  {
   "cell_type": "markdown",
   "id": "6b6781af",
   "metadata": {},
   "source": [
    "From wikipedia:\n",
    "- **GET**: requests data from the target resource. GET requests should only retrieve data. All data is in the URI (useful for caching).\n",
    "- **HEAD**: like GET, but don't actually send the data. Uses include checking whether a page is available through the status code and quickly finding the size of a file (Content-Length).\n",
    "- **POST**: requests the target to process some resources (data) sent by the client. Posted data is not on the URI. For example, it is used for posting a message to an Internet forum, subscribing to a mailing list, or completing an online shopping transaction.\n",
    "- **PUT**: requests to create or update using the data enclosed in the request. A distinction from POST is that the client specifies the target location on the server.\n",
    "- **DELETE**: requests suppression of entry.\n",
    "- **CONNECT**: establishes a TCP/IP tunnel. It is often used to secure connections through one or more HTTP proxies with TLS.\n",
    "- **OPTIONS**: requests that the supported HTTP methods that it supports. This can be used to check the functionality of a web server.\n",
    "- **TRACE**: transfers the received request in the response body. That way a client can see what (if any) changes or additions have been made by intermediaries.\n",
    "- **PATCH**: modifies part(s) of entry. This can save bandwidth by updating a part of a file or document without having to transfer it entirely."
   ]
  },
  {
   "cell_type": "markdown",
   "id": "8a9df789",
   "metadata": {
    "slideshow": {
     "slide_type": "subslide"
    }
   },
   "source": [
    "# HTTP methods in practice: GET or POST?"
   ]
  },
  {
   "cell_type": "markdown",
   "id": "3fa56c7b",
   "metadata": {},
   "source": [
    "- **GET** can perform all methods (e.g. \"http://my.server.co/uri?method=POST&data=...\")\n",
    "- Same for **POST** (which is a GET with hidden data)\n",
    "- 99% of methods used in the real world are GET or POST"
   ]
  },
  {
   "cell_type": "markdown",
   "id": "5110c924",
   "metadata": {
    "slideshow": {
     "slide_type": "subslide"
    }
   },
   "source": [
    "# HTTP methods: GET?"
   ]
  },
  {
   "cell_type": "markdown",
   "id": "69702f5c",
   "metadata": {
    "cell_style": "center"
   },
   "source": [
    "- All request information is visible in the URI\n",
    "- Human can write a GET in the browser\n",
    "- Useful for caching / bookmarking\n",
    "- Good practice: use get to read"
   ]
  },
  {
   "cell_type": "markdown",
   "id": "aa64cace",
   "metadata": {
    "slideshow": {
     "slide_type": "subslide"
    }
   },
   "source": [
    "# HTTP methods: POST?"
   ]
  },
  {
   "cell_type": "markdown",
   "id": "d6211537",
   "metadata": {
    "cell_style": "center"
   },
   "source": [
    "- Hide some request information inside the sent message\n",
    "- Usually performed by forms / javascript\n",
    "- Useful for sending login / password\n",
    "- Good practice: use post to write (and password)"
   ]
  },
  {
   "cell_type": "markdown",
   "id": "13b3dd1d",
   "metadata": {
    "slideshow": {
     "slide_type": "subslide"
    }
   },
   "source": [
    "# Anatomy of a GET method: inspect"
   ]
  },
  {
   "cell_type": "markdown",
   "id": "b139faf3",
   "metadata": {},
   "source": [
    "The browser way: Inspect\n",
    "\n",
    "https://pokeapi.co/api/v2/pokemon-form/25/"
   ]
  },
  {
   "cell_type": "markdown",
   "id": "8fd8b3cb",
   "metadata": {
    "slideshow": {
     "slide_type": "subslide"
    }
   },
   "source": [
    "# Anatomy of a GET method: within Python"
   ]
  },
  {
   "cell_type": "markdown",
   "id": "30f72509",
   "metadata": {},
   "source": [
    "The requests package (that we will use intensively) gives you all."
   ]
  },
  {
   "cell_type": "code",
   "execution_count": 2,
   "id": "b340a2e0",
   "metadata": {
    "ExecuteTime": {
     "end_time": "2024-10-11T07:09:19.419882Z",
     "start_time": "2024-10-11T07:09:19.168008Z"
    },
    "slideshow": {
     "slide_type": ""
    }
   },
   "outputs": [
    {
     "name": "stdout",
     "output_type": "stream",
     "text": [
      "Request headers: {'User-Agent': 'python-requests/2.31.0', 'Accept-Encoding': 'gzip, deflate', 'Accept': '*/*', 'Connection': 'keep-alive'}\n",
      "Response headers: {'Date': 'Fri, 11 Oct 2024 07:09:19 GMT', 'Content-Type': 'application/json; charset=utf-8', 'Content-Length': '336', 'Connection': 'keep-alive', 'Cache-Control': 'public, max-age=86400, s-maxage=86400', 'Content-Encoding': 'gzip', 'etag': 'W/\"4f8-9UFHCQTIN7577Tbo+plk2O2VsR0\"', 'strict-transport-security': 'max-age=31556926', 'x-country-code': 'US', 'x-orig-accept-language': 'en-US,en;q=0.9,fr;q=0.8,es;q=0.7,en-CA;q=0.6', 'x-powered-by': 'Express', 'x-served-by': 'cache-mia-kmia1760075-MIA', 'x-cache': 'MISS', 'x-cache-hits': '0', 'x-timer': 'S1720447922.371344,VS0,VE265', 'vary': 'Origin, Accept-Encoding,cookie,need-authorization, x-fh-requested-host, accept-encoding', 'alt-svc': 'h3=\":443\"; ma=86400', 'CF-Cache-Status': 'HIT', 'Age': '83323', 'Accept-Ranges': 'bytes', 'Report-To': '{\"endpoints\":[{\"url\":\"https:\\\\/\\\\/a.nel.cloudflare.com\\\\/report\\\\/v4?s=HGxqy%2BWcrrW4OEbPdnDGSoDA53IuH6JMkj5MJBSm99wN0V1G1kC2%2F1LRRklkilru5i6HznoJLWoF4%2B9FNfmSkmBJ7WMYzDhAdfCQZCevVcfG5JiQvfmyn1HfvBlyXCTDJtVG1T7rJnW3\"}],\"group\":\"cf-nel\",\"max_age\":604800}', 'NEL': '{\"success_fraction\":0,\"report_to\":\"cf-nel\",\"max_age\":604800}', 'Access-Control-Allow-Origin': '*', 'Server': 'cloudflare', 'CF-RAY': '8d0d06256fdfd475-CDG'}\n"
     ]
    }
   ],
   "source": [
    "from requests import get\n",
    "request = get(\"https://pokeapi.co/api/v2/pokemon-form/25/\")\n",
    "print(f\"Request headers: {request.request.headers}\")\n",
    "print(f\"Response headers: {request.headers}\")"
   ]
  },
  {
   "cell_type": "markdown",
   "id": "95742ed8",
   "metadata": {
    "slideshow": {
     "slide_type": "subslide"
    }
   },
   "source": [
    "# Anatomy of a GET method: within Python"
   ]
  },
  {
   "cell_type": "code",
   "execution_count": 3,
   "id": "29058d5e",
   "metadata": {
    "ExecuteTime": {
     "end_time": "2024-10-11T07:09:22.665878Z",
     "start_time": "2024-10-11T07:09:22.660021Z"
    }
   },
   "outputs": [
    {
     "name": "stdout",
     "output_type": "stream",
     "text": [
      "Status code: 200\n",
      "Method: GET\n"
     ]
    }
   ],
   "source": [
    "print(f\"Status code: {request.status_code}\")\n",
    "print(f\"Method: {request.request.method}\")"
   ]
  },
  {
   "cell_type": "code",
   "execution_count": 4,
   "id": "02b2e057",
   "metadata": {
    "ExecuteTime": {
     "end_time": "2024-10-11T07:09:23.539483Z",
     "start_time": "2024-10-11T07:09:23.527820Z"
    }
   },
   "outputs": [
    {
     "data": {
      "text/plain": [
       "{'form_name': '',\n",
       " 'form_names': [],\n",
       " 'form_order': 1,\n",
       " 'id': 25,\n",
       " 'is_battle_only': False,\n",
       " 'is_default': True,\n",
       " 'is_mega': False,\n",
       " 'name': 'pikachu',\n",
       " 'names': [],\n",
       " 'order': 36,\n",
       " 'pokemon': {'name': 'pikachu',\n",
       "  'url': 'https://pokeapi.co/api/v2/pokemon/25/'},\n",
       " 'types': [{'slot': 1,\n",
       "   'type': {'name': 'electric', 'url': 'https://pokeapi.co/api/v2/type/13/'}}],\n",
       " 'version_group': {'name': 'red-blue',\n",
       "  'url': 'https://pokeapi.co/api/v2/version-group/1/'}}"
      ]
     },
     "execution_count": 4,
     "metadata": {},
     "output_type": "execute_result"
    }
   ],
   "source": [
    "{k: v for k, v in request.json().items() if k != 'sprites'}"
   ]
  },
  {
   "cell_type": "markdown",
   "id": "ad202e59",
   "metadata": {
    "slideshow": {
     "slide_type": "subslide"
    }
   },
   "source": [
    "# Anatomy of a POST method: within Python"
   ]
  },
  {
   "cell_type": "markdown",
   "id": "1a318e81",
   "metadata": {},
   "source": [
    "We will use https://httpbin.org, a website to test http requests."
   ]
  },
  {
   "cell_type": "code",
   "execution_count": 5,
   "id": "409fc8f8",
   "metadata": {
    "ExecuteTime": {
     "end_time": "2024-10-11T07:09:29.821525Z",
     "start_time": "2024-10-11T07:09:29.422275Z"
    }
   },
   "outputs": [],
   "source": [
    "from requests import post\n",
    "request = post(\"https://httpbin.org/post\", json={'Hello': 'world', 'Answer': 42, 'password': 'MyPrivatePassword'})"
   ]
  },
  {
   "cell_type": "markdown",
   "id": "b117adb0",
   "metadata": {
    "slideshow": {
     "slide_type": "subslide"
    }
   },
   "source": [
    "# Anatomy of a POST method: within Python"
   ]
  },
  {
   "cell_type": "code",
   "execution_count": 7,
   "id": "388c62a1",
   "metadata": {
    "ExecuteTime": {
     "end_time": "2024-10-11T07:09:59.368728Z",
     "start_time": "2024-10-11T07:09:59.362351Z"
    }
   },
   "outputs": [
    {
     "name": "stdout",
     "output_type": "stream",
     "text": [
      "Status code: 200\n",
      "Method: POST\n",
      "Request headers: {'User-Agent': 'python-requests/2.31.0', 'Accept-Encoding': 'gzip, deflate', 'Accept': '*/*', 'Connection': 'keep-alive', 'Content-Length': '65', 'Content-Type': 'application/json'}\n",
      "Response headers: {'Date': 'Fri, 11 Oct 2024 07:09:29 GMT', 'Content-Type': 'application/json', 'Content-Length': '594', 'Connection': 'keep-alive', 'Server': 'gunicorn/19.9.0', 'Access-Control-Allow-Origin': '*', 'Access-Control-Allow-Credentials': 'true'}\n"
     ]
    }
   ],
   "source": [
    "print(f\"Status code: {request.status_code}\")\n",
    "print(f\"Method: {request.request.method}\")\n",
    "print(f\"Request headers: {request.request.headers}\")\n",
    "print(f\"Response headers: {request.headers}\")"
   ]
  },
  {
   "cell_type": "markdown",
   "id": "3db4f800",
   "metadata": {
    "slideshow": {
     "slide_type": "subslide"
    }
   },
   "source": [
    "# Anatomy of a POST method: within Python"
   ]
  },
  {
   "cell_type": "code",
   "execution_count": 8,
   "id": "a038d9bf",
   "metadata": {
    "ExecuteTime": {
     "end_time": "2024-10-11T07:10:05.674525Z",
     "start_time": "2024-10-11T07:10:05.668741Z"
    }
   },
   "outputs": [
    {
     "name": "stdout",
     "output_type": "stream",
     "text": [
      "{\n",
      "  \"args\": {}, \n",
      "  \"data\": \"{\\\"Hello\\\": \\\"world\\\", \\\"Answer\\\": 42, \\\"password\\\": \\\"MyPrivatePassword\\\"}\", \n",
      "  \"files\": {}, \n",
      "  \"form\": {}, \n",
      "  \"headers\": {\n",
      "    \"Accept\": \"*/*\", \n",
      "    \"Accept-Encoding\": \"gzip, deflate\", \n",
      "    \"Content-Length\": \"65\", \n",
      "    \"Content-Type\": \"application/json\", \n",
      "    \"Host\": \"httpbin.org\", \n",
      "    \"User-Agent\": \"python-requests/2.31.0\", \n",
      "    \"X-Amzn-Trace-Id\": \"Root=1-6708cf29-5752b01850215f0235fcca8f\"\n",
      "  }, \n",
      "  \"json\": {\n",
      "    \"Answer\": 42, \n",
      "    \"Hello\": \"world\", \n",
      "    \"password\": \"MyPrivatePassword\"\n",
      "  }, \n",
      "  \"origin\": \"5.51.223.252\", \n",
      "  \"url\": \"https://httpbin.org/post\"\n",
      "}\n",
      "\n"
     ]
    }
   ],
   "source": [
    "print(request.text)"
   ]
  },
  {
   "cell_type": "markdown",
   "id": "7397a481",
   "metadata": {
    "slideshow": {
     "slide_type": "subslide"
    }
   },
   "source": [
    "# REST API"
   ]
  },
  {
   "cell_type": "markdown",
   "id": "e6fe7981",
   "metadata": {},
   "source": [
    "- REpresentational State Transfert Application Programming Interface is a simple, relatively normalized, way of performing web services.\n",
    "- Response is typically json or xml."
   ]
  },
  {
   "cell_type": "markdown",
   "id": "ec7cf814",
   "metadata": {},
   "source": [
    "https://pokeapi.co/api/v2/pokemon-form/25/\n",
    "\n",
    "- Method is GET (implicit)\n",
    "- https://pokeapi.co/api/ is the base URL of the URI\n",
    "- v2 is the API version\n",
    "- pokemon-form/25/ is the actual request (fetch Pikachu!)"
   ]
  },
  {
   "cell_type": "markdown",
   "id": "02f560b6",
   "metadata": {
    "slideshow": {
     "slide_type": "slide"
    }
   },
   "source": [
    "## Client Side"
   ]
  },
  {
   "cell_type": "markdown",
   "id": "650da95a",
   "metadata": {
    "slideshow": {
     "slide_type": "slide"
    }
   },
   "source": [
    "### Retrieve data"
   ]
  },
  {
   "cell_type": "markdown",
   "id": "a53b8cd4",
   "metadata": {
    "slideshow": {
     "slide_type": "subslide"
    }
   },
   "source": [
    "# Retrieve data"
   ]
  },
  {
   "cell_type": "markdown",
   "id": "4e26f96a",
   "metadata": {},
   "source": [
    "Data can be:\n",
    "- Arbitrary bytes (image, pdf, binary...)\n",
    "- Text\n",
    "- Structured text (html, json, ...)\n",
    "\n",
    "You need to adapt:\n",
    "- Load in memory or save to file?\n",
    "- Don't load a text as bytes or a json as text!"
   ]
  },
  {
   "cell_type": "markdown",
   "id": "32bb4c84",
   "metadata": {
    "slideshow": {
     "slide_type": "subslide"
    }
   },
   "source": [
    "# Retrieve with requests"
   ]
  },
  {
   "cell_type": "code",
   "execution_count": 9,
   "id": "fa6e64e8",
   "metadata": {
    "ExecuteTime": {
     "end_time": "2024-10-11T07:11:04.443252Z",
     "start_time": "2024-10-11T07:11:04.290436Z"
    }
   },
   "outputs": [
    {
     "name": "stdout",
     "output_type": "stream",
     "text": [
      "Request status is 200,\n",
      "Content length is 67291 bytes,\n",
      "Request encoding is UTF-8,\n",
      "Text size is 67285 chars.\n",
      "Response headers: {'Date': 'Fri, 11 Oct 2024 07:11:04 GMT', 'Content-Type': 'text/html; charset=UTF-8', 'Transfer-Encoding': 'chunked', 'Connection': 'keep-alive', 'Set-Cookie': 'mobile_lelscan=0; expires=Sat, 12-Oct-2024 07:11:04 GMT; Max-Age=86400; path=lelscans.net', 'Vary': 'Accept-Encoding', 'cf-cache-status': 'DYNAMIC', 'Report-To': '{\"endpoints\":[{\"url\":\"https:\\\\/\\\\/a.nel.cloudflare.com\\\\/report\\\\/v4?s=40bYEbupsBamWRWdDNWAjP7dqE%2BBeX0QqhK6j5%2FuTTCM88w3pnMPjIwbiCA9CTZyc%2BYkZuRG2WfKM37jBxPK0VCbvkYyjAtJJGUVl1pfcVD5ojrZsdsSkoskzgJZBftvSAdQq89ig1O0X8Y%3D\"}],\"group\":\"cf-nel\",\"max_age\":604800}', 'NEL': '{\"success_fraction\":0,\"report_to\":\"cf-nel\",\"max_age\":604800}', 'Speculation-Rules': '\"/cdn-cgi/speculation\"', 'Server': 'cloudflare', 'CF-RAY': '8d0d08b5b90701ef-CDG', 'Content-Encoding': 'gzip', 'alt-svc': 'h3=\":443\"; ma=86400'}\n"
     ]
    }
   ],
   "source": [
    "from requests import Session\n",
    "manga = \"https://lelscans.net\"\n",
    "s = Session() # Sessions make better performance\n",
    "r = s.get(manga)\n",
    "print(f\"Request status is {r.status_code},\\n\"\n",
    " f\"Content length is {len(r.content)} bytes,\\n\"\n",
    " f\"Request encoding is {r.encoding},\\n\"\n",
    " f\"Text size is {len(r.text)} chars.\")\n",
    "print(f\"Response headers: {r.headers}\")"
   ]
  },
  {
   "cell_type": "markdown",
   "id": "0833c3d4",
   "metadata": {
    "slideshow": {
     "slide_type": "subslide"
    }
   },
   "source": [
    "# Retrieve with requests"
   ]
  },
  {
   "cell_type": "code",
   "execution_count": 12,
   "id": "84d25420",
   "metadata": {
    "ExecuteTime": {
     "end_time": "2024-10-11T07:13:19.178087Z",
     "start_time": "2024-10-11T07:13:19.170132Z"
    }
   },
   "outputs": [
    {
     "data": {
      "text/plain": [
       "'<!DOCTYPE html PUBLIC \"-//W3C//DTD XHTML 1.0 Transitional//EN\" \"http://www.w3.org/TR/xhtml1/DTD/xhtml1-transitional.dtd\">\\r\\n<html xmlns=\"http://www.w3.org/1999/xhtml\">\\r\\n<head>\\r\\n<title>One Piece lecture en ligne scan</title>\\r\\n\\t<meta name=\"description\" content=\"One Piece Lecture en ligne, tous les scan One Piece.\" /> \\r\\n\\t<meta name=\"lelscan\" content=\"One Piece\" />\\r\\n\\t<meta http-equiv=\"Content-Type\" content=\"text/html;charset=ISO-8859-1\" />\\r\\n\\t<meta http-equiv=\"Content-Language\" content=\"fr\" />\\r\\n\\t<meta name=\"keywords\" content=\"One Piece lecture en ligne, lecture en ligne One Piece, scan One Piece, One Piece scan, One Piece lel, lecture en ligne One Piece, Lecture, lecture,  scan, chapitre, chapitre One Piece, lecture One Piece, lecture Chapitre One Piece, mangas, manga, One Piece, One Piece fr, One Piece france, scans, image One Piece \" /> \\r\\n\\t<meta name=\"subject\" content=\"One Piece lecture en ligne scan\" />\\r\\n\\t<meta name=\"identifier-url\" content=\"https://lelscans.net\" />\\r\\n\\t<meta property=\"og:i'"
      ]
     },
     "execution_count": 12,
     "metadata": {},
     "output_type": "execute_result"
    }
   ],
   "source": [
    "r.text[:1000]"
   ]
  },
  {
   "cell_type": "markdown",
   "id": "f8624221",
   "metadata": {
    "slideshow": {
     "slide_type": "subslide"
    }
   },
   "source": [
    "# Retrieve with requests"
   ]
  },
  {
   "cell_type": "code",
   "execution_count": 13,
   "id": "1f9283ef",
   "metadata": {
    "ExecuteTime": {
     "end_time": "2024-10-11T07:13:20.525969Z",
     "start_time": "2024-10-11T07:13:20.518133Z"
    }
   },
   "outputs": [
    {
     "data": {
      "text/plain": [
       "b'<!DOCTYPE html PUBLIC \"-//W3C//DTD XHTML 1.0 Transitional//EN\" \"http://www.w3.org/TR/xhtml1/DTD/xhtml1-transitional.dtd\">\\r\\n<html xmlns=\"http://www.w3.org/1999/xhtml\">\\r\\n<head>\\r\\n<title>One Piece lecture en ligne scan</title>\\r\\n\\t<meta name=\"description\" content=\"One Piece Lecture en ligne, tous les scan One Piece.\" /> \\r\\n\\t<meta name=\"lelscan\" content=\"One Piece\" />\\r\\n\\t<meta http-equiv=\"Content-Type\" content=\"text/html;charset=ISO-8859-1\" />\\r\\n\\t<meta http-equiv=\"Content-Language\" content=\"fr\" />\\r\\n\\t<meta name=\"keywords\" content=\"One Piece lecture en ligne, lecture en ligne One Piece, scan One Piece, One Piece scan, One Piece lel, lecture en ligne One Piece, Lecture, lecture,  scan, chapitre, chapitre One Piece, lecture One Piece, lecture Chapitre One Piece, mangas, manga, One Piece, One Piece fr, One Piece france, scans, image One Piece \" /> \\r\\n\\t<meta name=\"subject\" content=\"One Piece lecture en ligne scan\" />\\r\\n\\t<meta name=\"identifier-url\" content=\"https://lelscans.net\" />\\r\\n\\t<meta property=\"og:i'"
      ]
     },
     "execution_count": 13,
     "metadata": {},
     "output_type": "execute_result"
    }
   ],
   "source": [
    "r.content[:1000]"
   ]
  },
  {
   "cell_type": "markdown",
   "id": "659a86ca",
   "metadata": {
    "slideshow": {
     "slide_type": "subslide"
    }
   },
   "source": [
    "# Example: remote file size"
   ]
  },
  {
   "cell_type": "code",
   "execution_count": 14,
   "id": "3cf2f1df",
   "metadata": {
    "ExecuteTime": {
     "end_time": "2024-10-11T07:13:23.773595Z",
     "start_time": "2024-10-11T07:13:23.767510Z"
    }
   },
   "outputs": [],
   "source": [
    "def get_size(url):\n",
    "    s = Session()\n",
    "    r = s.head(url)\n",
    "    return int(r.headers['Content-Length'])"
   ]
  },
  {
   "cell_type": "code",
   "execution_count": 15,
   "id": "56f75454",
   "metadata": {
    "ExecuteTime": {
     "end_time": "2024-10-11T07:13:27.042881Z",
     "start_time": "2024-10-11T07:13:26.908160Z"
    }
   },
   "outputs": [
    {
     "data": {
      "text/plain": [
       "3994091520"
      ]
     },
     "execution_count": 15,
     "metadata": {},
     "output_type": "execute_result"
    }
   ],
   "source": [
    "url = \"http://ftp.crifo.org/debian-cd/current/amd64/iso-dvd/debian-12.7.0-amd64-DVD-1.iso\"\n",
    "get_size(url)"
   ]
  },
  {
   "cell_type": "markdown",
   "id": "a84b3660",
   "metadata": {
    "slideshow": {
     "slide_type": "subslide"
    }
   },
   "source": [
    "# Example: stream downloading"
   ]
  },
  {
   "cell_type": "code",
   "execution_count": 16,
   "id": "b139eb57",
   "metadata": {
    "ExecuteTime": {
     "end_time": "2024-10-11T07:13:30.217190Z",
     "start_time": "2024-10-11T07:13:30.210136Z"
    }
   },
   "outputs": [],
   "source": [
    "from pathlib import Path\n",
    "def download(source_url, dest_file):\n",
    "    s = Session()\n",
    "    s.verify = False\n",
    "    r = s.get(source_url, stream=True)\n",
    "    dest_file = Path(dest_file)\n",
    "    with open(dest_file, \"wb\") as f:\n",
    "        for chunk in r.iter_content(chunk_size=8192):\n",
    "            if chunk: \n",
    "                f.write(chunk)"
   ]
  },
  {
   "cell_type": "code",
   "execution_count": 17,
   "id": "fbbc0961",
   "metadata": {
    "ExecuteTime": {
     "end_time": "2024-10-11T07:13:31.511685Z",
     "start_time": "2024-10-11T07:13:31.137672Z"
    }
   },
   "outputs": [
    {
     "name": "stderr",
     "output_type": "stream",
     "text": [
      "C:\\Users\\fabienma\\AppData\\Local\\Programs\\Python\\Python311\\Lib\\site-packages\\urllib3\\connectionpool.py:1103: InsecureRequestWarning: Unverified HTTPS request is being made to host 'www-npa.lip6.fr'. Adding certificate verification is strongly advised. See: https://urllib3.readthedocs.io/en/latest/advanced-usage.html#tls-warnings\n",
      "  warnings.warn(\n"
     ]
    }
   ],
   "source": [
    "url = \"https://www-npa.lip6.fr/~tixeuil/m2r/uploads/Main/PROGRES2025_2.pdf\"\n",
    "download(url, 'python.pdf')"
   ]
  },
  {
   "cell_type": "markdown",
   "id": "12b5ffcf",
   "metadata": {},
   "source": [
    "<a href=\"./python.pdf\">python.pdf (local file)</a>"
   ]
  },
  {
   "cell_type": "markdown",
   "id": "6802ccd5",
   "metadata": {
    "slideshow": {
     "slide_type": "slide"
    }
   },
   "source": [
    "### Manipulate data"
   ]
  },
  {
   "cell_type": "markdown",
   "id": "764627da",
   "metadata": {
    "slideshow": {
     "slide_type": "slide"
    }
   },
   "source": [
    "#### Basic string manipulation"
   ]
  },
  {
   "cell_type": "markdown",
   "id": "6a557009",
   "metadata": {
    "slideshow": {
     "slide_type": "subslide"
    }
   },
   "source": [
    "# String manipulation"
   ]
  },
  {
   "cell_type": "markdown",
   "id": "ec955154",
   "metadata": {},
   "source": [
    "Even if you have structured data, you need to master basic string manipulations."
   ]
  },
  {
   "cell_type": "code",
   "execution_count": 18,
   "id": "d28ef01e",
   "metadata": {
    "ExecuteTime": {
     "end_time": "2024-10-11T07:13:42.663911Z",
     "start_time": "2024-10-11T07:13:42.657658Z"
    }
   },
   "outputs": [
    {
     "name": "stdout",
     "output_type": "stream",
     "text": [
      " Python is a great language\n",
      " but Erlang is pretty cool too!  \n"
     ]
    }
   ],
   "source": [
    "txt = \" Python is a great language\\n but Erlang is pretty cool too!  \"\n",
    "print(txt)"
   ]
  },
  {
   "cell_type": "markdown",
   "id": "0d9cd2ae",
   "metadata": {
    "slideshow": {
     "slide_type": "subslide"
    }
   },
   "source": [
    "# Split"
   ]
  },
  {
   "cell_type": "code",
   "execution_count": 19,
   "id": "5964a2ea",
   "metadata": {
    "ExecuteTime": {
     "end_time": "2024-10-11T07:13:44.325242Z",
     "start_time": "2024-10-11T07:13:44.316700Z"
    }
   },
   "outputs": [
    {
     "name": "stdout",
     "output_type": "stream",
     "text": [
      "['Python', 'is', 'a', 'great', 'language', 'but', 'Erlang', 'is', 'pretty', 'cool', 'too!']\n",
      "[' Python is ', ' gre', 't l', 'ngu', 'ge\\n but Erl', 'ng is pretty cool too!  ']\n",
      "[' Python is a great language', ' but Erlang is pretty cool too!  ']\n",
      "[' Python is a great l', 'guage\\n but Erl', 'g is pretty cool too!  ']\n"
     ]
    }
   ],
   "source": [
    "print(l1:=txt.split())\n",
    "print(l2:=txt.split('a'))\n",
    "print(l3:=txt.split('\\n'))\n",
    "print(l4:=txt.split('an'))"
   ]
  },
  {
   "cell_type": "markdown",
   "id": "c5ebc169",
   "metadata": {
    "slideshow": {
     "slide_type": "subslide"
    }
   },
   "source": [
    "# Join"
   ]
  },
  {
   "cell_type": "code",
   "execution_count": 20,
   "id": "f8152943",
   "metadata": {
    "ExecuteTime": {
     "end_time": "2024-10-11T07:13:45.600300Z",
     "start_time": "2024-10-11T07:13:45.594171Z"
    }
   },
   "outputs": [
    {
     "name": "stdout",
     "output_type": "stream",
     "text": [
      "Python is a great language but Erlang is pretty cool too!\n",
      " Python is a great language\n",
      " but Erlang is pretty cool too!  \n",
      " Python is a great language\n",
      " but Erlang is pretty cool too!  \n",
      " Python is a great lANguage\n",
      " but ErlANg is pretty cool too!  \n"
     ]
    }
   ],
   "source": [
    "print(' '.join(l1))\n",
    "print('a'.join(l2))\n",
    "print('\\n'.join(l3))\n",
    "print('AN'.join(l4))"
   ]
  },
  {
   "cell_type": "markdown",
   "id": "c266c85e",
   "metadata": {
    "slideshow": {
     "slide_type": "subslide"
    }
   },
   "source": [
    "# Other methods"
   ]
  },
  {
   "cell_type": "markdown",
   "id": "576fef08",
   "metadata": {},
   "source": [
    "By default, `str` in Python have many powerful methods... Try them!"
   ]
  },
  {
   "cell_type": "code",
   "execution_count": 21,
   "id": "a087664a",
   "metadata": {
    "ExecuteTime": {
     "end_time": "2024-10-11T07:13:46.859807Z",
     "start_time": "2024-10-11T07:13:46.850913Z"
    }
   },
   "outputs": [
    {
     "name": "stdout",
     "output_type": "stream",
     "text": [
      "capitalize, casefold, center, count, encode, endswith, expandtabs, find, format, format_map, index, isalnum, isalpha, isascii, isdecimal, isdigit, isidentifier, islower, isnumeric, isprintable, isspace, istitle, isupper, join, ljust, lower, lstrip, maketrans, partition, removeprefix, removesuffix, replace, rfind, rindex, rjust, rpartition, rsplit, rstrip, split, splitlines, startswith, strip, swapcase, title, translate, upper, zfill\n"
     ]
    }
   ],
   "source": [
    "print(', '.join([method_name for method_name in dir(txt) \n",
    "                 if callable(getattr(txt, method_name)) and not method_name.startswith('_')]))"
   ]
  },
  {
   "cell_type": "markdown",
   "id": "351e4b0e",
   "metadata": {
    "slideshow": {
     "slide_type": "slide"
    }
   },
   "source": [
    "#### Regular Expression"
   ]
  },
  {
   "cell_type": "markdown",
   "id": "34f23a2f",
   "metadata": {
    "slideshow": {
     "slide_type": "subslide"
    }
   },
   "source": [
    "# Regular Expressions"
   ]
  },
  {
   "cell_type": "markdown",
   "id": "3921a2a1",
   "metadata": {},
   "source": [
    "- More powerful\n",
    "- More complex that basic methods\n",
    "- Personal advice: don't use RegEx if you can avoid it\n",
    "- Personal advice #2: sometimes, you cannot avoid it, so you need to learn"
   ]
  },
  {
   "cell_type": "markdown",
   "id": "fb057c10",
   "metadata": {
    "slideshow": {
     "slide_type": "subslide"
    }
   },
   "source": [
    "# Regular Expressions"
   ]
  },
  {
   "cell_type": "markdown",
   "id": "55bca62d",
   "metadata": {},
   "source": [
    "Recipe:\n",
    "- define a *pattern*\n",
    "- apply pattern to a string\n",
    "- you can:\n",
    "  - find all pattern occurrences (`findall`)\n",
    "  - substitute with another string (`sub`)\n",
    "  - check if the pattern matches the string (`match`/`fullmatch`)\n",
    "  - extract parts of the pattern (`group`)"
   ]
  },
  {
   "cell_type": "markdown",
   "id": "9d6c9bae",
   "metadata": {
    "slideshow": {
     "slide_type": "subslide"
    }
   },
   "source": [
    "# Defining a pattern"
   ]
  },
  {
   "cell_type": "markdown",
   "id": "5b24db62",
   "metadata": {},
   "source": [
    "- a, X, 9, < -- ordinary characters just match themselves exactly.\n",
    "- Some characters have special meanings: . ^ \\$ * + ? { [ ] \\ | ( ) (details below)\n",
    "- . (a period) -- matches any single character except newline '\\n'\n",
    "- \\w -- (lowercase w) matches a \"word\" character: a letter or digit or underscore [a-zA-Z0-9_]. \\W matches any non-word character. \n",
    "- \\b -- boundary between word and non-word \n",
    "- \\s -- (lowercase s) matches a single whitespace character -- space, newline, return, \n",
    "tab, form [ \\n\\r\\t\\f]. \\S (upper case S) matches any non-whitespace \n",
    "character."
   ]
  },
  {
   "cell_type": "markdown",
   "id": "030f912e",
   "metadata": {
    "slideshow": {
     "slide_type": "subslide"
    }
   },
   "source": [
    "# Defining a pattern"
   ]
  },
  {
   "cell_type": "markdown",
   "id": "65fd30ae",
   "metadata": {},
   "source": [
    "- \\t, \\n, \\r -- tab, newline, return \n",
    "- \\d -- decimal digit [0-9]\n",
    "- \\$=end—match the end of the string. ^ matches the start of the string but also means not\n",
    "- \\ -- inhibit the \"specialness\" of a character. So, for example, use \\\\. to match a \n",
    "period or \\\\\\\\ to match a backslash. If you are unsure if a character has special meaning, \n",
    "such as '@', you can put a slash in front of it, \\@, to make sure it is treated just as a \n",
    "character"
   ]
  },
  {
   "cell_type": "markdown",
   "id": "c027cb75",
   "metadata": {
    "slideshow": {
     "slide_type": "subslide"
    }
   },
   "source": [
    "# Defining a pattern"
   ]
  },
  {
   "cell_type": "markdown",
   "id": "d96c53a5",
   "metadata": {},
   "source": [
    "- [] - set of possible characters\n",
    "- | - or\n",
    "- {n} - exactly n occurrences.\n",
    "- () - create group \n",
    "- \\+ - at least one occurrence.\n",
    "- \\* - zero or more occurrence.\n",
    "- ? - zero or one occurrence. Also mean greedy match (`.*` vs `.*?`)."
   ]
  },
  {
   "cell_type": "markdown",
   "id": "cb405e82",
   "metadata": {
    "slideshow": {
     "slide_type": "subslide"
    }
   },
   "source": [
    "# Example: extract Email Information"
   ]
  },
  {
   "cell_type": "code",
   "execution_count": 22,
   "id": "1b3cac9d",
   "metadata": {
    "ExecuteTime": {
     "end_time": "2024-10-11T07:15:08.269145Z",
     "start_time": "2024-10-11T07:15:08.262139Z"
    }
   },
   "outputs": [
    {
     "name": "stdout",
     "output_type": "stream",
     "text": [
      "('fabien.mathieu', 'normalesup.com')\n"
     ]
    }
   ],
   "source": [
    "import re\n",
    "txt = 'fabien.mathieu@normalesup.com'\n",
    "pattern = '([^@]+)@([^@]+\\.[a-z]+)'\n",
    "m = re.fullmatch(pattern, txt)\n",
    "print(m.groups())"
   ]
  },
  {
   "cell_type": "markdown",
   "id": "8d592670",
   "metadata": {
    "slideshow": {
     "slide_type": "subslide"
    }
   },
   "source": [
    "# Example: *manual* html parsing"
   ]
  },
  {
   "cell_type": "markdown",
   "id": "bf4cc60b",
   "metadata": {},
   "source": [
    "https://www.lip6.fr/recherche/team_membres.php?acronyme=NPA"
   ]
  },
  {
   "cell_type": "code",
   "execution_count": 23,
   "id": "b3f9d30a",
   "metadata": {
    "ExecuteTime": {
     "end_time": "2024-10-11T07:15:14.450566Z",
     "start_time": "2024-10-11T07:15:14.283783Z"
    }
   },
   "outputs": [],
   "source": [
    "url = \"https://www.lip6.fr/recherche/team_membres.php?acronyme=NPA\"\n",
    "r = s.get(url)\n",
    "txt = r.text"
   ]
  },
  {
   "cell_type": "code",
   "execution_count": null,
   "id": "a2f65e9d",
   "metadata": {},
   "outputs": [],
   "source": []
  },
  {
   "cell_type": "markdown",
   "id": "9009d33a",
   "metadata": {
    "slideshow": {
     "slide_type": "subslide"
    }
   },
   "source": [
    "# Example: *manual* html parsing"
   ]
  },
  {
   "cell_type": "code",
   "execution_count": 24,
   "id": "f73d7d62",
   "metadata": {
    "ExecuteTime": {
     "end_time": "2024-10-11T07:15:22.213480Z",
     "start_time": "2024-10-11T07:15:22.202519Z"
    }
   },
   "outputs": [
    {
     "data": {
      "text/plain": [
       "'\\n\\t<tr>\\n\\t\\t<td><a class=\"nouser\" title=\"Pas de page personnelle\" href=\"#\"></a><a href=\\'../actualite/personnes-fiche.php?ident=P224\\'>Baey&nbsp;Sébastien</a> (Maître de Conférences, Sorbonne Université)</td>\\n\\t\\t<td class=\\'bureau\\'>Campus Pierre et Marie Curie 26-00/103</td>\\n\\t</tr>\\n\\t<tr>\\n\\t\\t<td><a class=\"nouser\" title=\"Pas de page personnelle\" href=\"#\"></a><a href=\\'../actualite/personnes-fiche.php?ident=P144\\'>Baynat&nbsp;Bruno</a> (Maître de Conférences, Sorbonne Université)</td>\\n\\t\\t<td class=\\'bureau\\'>Campus Pierre et Marie Curie 26-00/112</td>\\n\\t</tr>\\n\\t<tr>\\n\\t\\t<td><a class=\"user\" title=\"Page personnelle\" href=\"http://www-npa.lip6.fr/~bramas/\"></a><a href=\\'../actualite/personnes-fiche.php?ident=P1678\\'>Bramas&nbsp;Quentin</a> (Maître de Conférences, Sorbonne Université)</td>\\n\\t\\t<td class=\\'bureau\\'>Campus Pierre et Marie Curie 26-00/128</td>\\n\\t</tr>\\n\\t<tr>\\n\\t\\t<td><a class=\"user\" title=\"Page personnelle\" href=\"http://lip6.fr/Binh-Minh.Bui-Xuan\"></a><strong><a href=\\'../actualite/personnes-fiche.php?ident=P1654\\'>Bui-Xuan&nbsp;Binh-Minh</a></strong> (Chargé de Recherche [HDR], CNRS)</td>\\n\\t\\t<td class=\\'bureau\\'>Campus Pierre et Marie Curie 26-00/122</td>\\n\\t</tr>\\n\\t<tr>\\n\\t\\t<td><a class=\"user\" title=\"Page personnelle\" href=\"http://lip6.fr/Marcelo.Amorim\"></a><a href=\\'../actualite/personnes-fiche.php?ident=P1599\\'>Dias de Amorim&nbsp;Marcelo</a> (Directeur de Recherche, CNRS)</td>\\n\\t\\t<td class=\\'bureau\\'>Campus Pierre et Marie Curie 26-00/109</td>\\n\\t</tr>\\n\\t<tr>\\n\\t\\t<td><a class=\"user\" title=\"Page personnelle\" href=\"http://lip6.fr/Serge.Fdida\"></a><a href=\\'../actualite/personnes-fiche.php?ident=P1600\\'>Fdida&nbsp;Serge</a> (Professeur, Sorbonne Université)</td>\\n\\t\\t<td class=\\'bureau\\'>Campus Pierre et Marie Curie 26-00/111</td>\\n\\t</tr>\\n\\t<tr>\\n\\t\\t<td><a class=\"user\" title=\"Page personnelle\" href=\"http://lip6.fr/Anne.Fladenmuller\"></a><a href=\\'../actualite/personnes-fiche.php?ident=P1527\\'>Fladenmuller&nbsp;Anne</a> (Professeure, Sorbonne Université)</td>\\n\\t\\t<td class=\\'bureau\\'>Campus Pierre et Marie Curie 26-00/108</td>\\n\\t</tr>\\n\\t<tr>\\n\\t\\t<td><a class=\"nouser\" title=\"Pas de page personnelle\" href=\"#\"></a><a href=\\'../actualite/personnes-fiche.php?ident=P1563\\'>Fossati&nbsp;Francesca</a> (Maitresse de Conférences, Sorbonne Université)</td>\\n\\t\\t<td class=\\'bureau\\'>Campus Pierre et Marie Curie 26-00/117</td>\\n\\t</tr>\\n\\t<tr>\\n\\t\\t<td><a class=\"user\" title=\"Page personnelle\" href=\"http://lip6.fr/Olivier.Fourmaux\"></a><a href=\\'../actualite/personnes-fiche.php?ident=P1646\\'>Fourmaux&nbsp;Olivier</a> (Professeur, Sorbonne Université)</td>\\n\\t\\t<td class=\\'bureau\\'>Campus Pierre et Marie Curie 26-00/103</td>\\n\\t</tr>\\n\\t<tr>\\n\\t\\t<td><a class=\"user\" title=\"Page personnelle\" href=\"http://lip6.fr/Timur.Friedman\"></a><a href=\\'../actualite/personnes-fiche.php?ident=P154\\'>Friedman&nbsp;Timur</a> (Maître de Conférences, Sorbonne Université)</td>\\n\\t\\t<td class=\\'bureau\\'>Campus Pierre et Marie Curie 26-00/107</td>\\n\\t</tr>\\n\\t<tr>\\n\\t\\t<td><a class=\"nouser\" title=\"Pas de page personnelle\" href=\"#\"></a><a href=\\'../actualite/personnes-fiche.php?ident=P1584\\'>Kervella&nbsp;Brigitte</a> (Maitresse de Conférences, Université de Picardie Jules-Verne)</td>\\n\\t\\t<td class=\\'bureau\\'>Campus Pierre et Marie Curie 26-00/105</td>\\n\\t</tr>\\n\\t<tr>\\n\\t\\t<td><a class=\"nouser\" title=\"Pas de page personnelle\" href=\"#\"></a><a href=\\'../actualite/personnes-fiche.php?ident=P161\\'>Malouch&nbsp;Naceur</a> (Maître de Conférences [HDR], Sorbonne Université)</td>\\n\\t\\t<td class=\\'bureau\\'>Campus Pierre et Marie Curie 26-00/105</td>\\n\\t</tr>\\n\\t<tr>\\n\\t\\t<td><a class=\"nouser\" title=\"Pas de page personnelle\" href=\"#\"></a><a href=\\'../actualite/personnes-fiche.php?ident=P246\\'>Potop-Butucaru&nbsp;Maria</a> (Professeure, Sorbonne Université)</td>\\n\\t\\t<td class=\\'bureau\\'>Campus Pierre et Marie Curie 26-00/115</td>\\n\\t</tr>\\n\\t<tr>\\n\\t\\t<td><a class=\"user\" title=\"Page personnelle\" href=\"http://lip6.fr/Guy.Pujolle\"></a><a href=\\'../actualite/personnes-fiche.php?ident=P1585\\'>Pujolle&nbsp;Guy</a> (Professeur Émérite, Sorbonne Université)</td>\\n\\t\\t<td class=\\'bureau\\'>Campus Pierre et Marie Curie 26-00/126</td>\\n\\t</tr>\\n\\t<tr>\\n\\t\\t<td><a class=\"nouser\" title=\"Pas de page personnelle\" href=\"#\"></a><a href=\\'../actualite/personnes-fiche.php?ident=P172\\'>Thai&nbsp;Kim Loan</a> (Maitresse de Conférences, Sorbonne Université)</td>\\n\\t\\t<td class=\\'bureau\\'>Campus Pierre et Marie Curie 26-00/114</td>\\n\\t</tr>\\n\\t<tr>\\n\\t\\t<td><a class=\"user\" title=\"Page personnelle\" href=\"http://lip6.fr/Sebastien.Tixeuil\"></a><a href=\\'../actualite/personnes-fiche.php?ident=P384\\'>Tixeuil&nbsp;Sébastien</a> (Professeur, Sorbonne Université)</td>\\n\\t\\t<td class=\\'bureau\\'>Campus Pierre et Marie Curie 26-00/113</td>\\n\\t</tr>\\n\\n\\t'"
      ]
     },
     "execution_count": 24,
     "metadata": {},
     "output_type": "execute_result"
    }
   ],
   "source": [
    "pattern1 = r\"<table class='annuaire'>(.*?)</table>\"\n",
    "permanents = re.findall(pattern1, txt, re.DOTALL)[0]\n",
    "permanents"
   ]
  },
  {
   "cell_type": "markdown",
   "id": "8a9790ff",
   "metadata": {
    "slideshow": {
     "slide_type": "subslide"
    }
   },
   "source": [
    "# Example: *manual* html parsing"
   ]
  },
  {
   "cell_type": "code",
   "execution_count": 26,
   "id": "f865838b",
   "metadata": {
    "ExecuteTime": {
     "end_time": "2024-10-11T07:15:40.870470Z",
     "start_time": "2024-10-11T07:15:40.863127Z"
    }
   },
   "outputs": [
    {
     "name": "stdout",
     "output_type": "stream",
     "text": [
      "Baey Sébastien: corridor 26-00, room 103\n",
      "Baynat Bruno: corridor 26-00, room 112\n",
      "Bramas Quentin: corridor 26-00, room 128\n",
      "Bui-Xuan Binh-Minh: corridor 26-00, room 122\n",
      "Dias de Amorim Marcelo: corridor 26-00, room 109\n",
      "Fdida Serge: corridor 26-00, room 111\n",
      "Fladenmuller Anne: corridor 26-00, room 108\n",
      "Fossati Francesca: corridor 26-00, room 117\n",
      "Fourmaux Olivier: corridor 26-00, room 103\n",
      "Friedman Timur: corridor 26-00, room 107\n",
      "Kervella Brigitte: corridor 26-00, room 105\n",
      "Malouch Naceur: corridor 26-00, room 105\n",
      "Potop-Butucaru Maria: corridor 26-00, room 115\n",
      "Pujolle Guy: corridor 26-00, room 126\n",
      "Thai Kim Loan: corridor 26-00, room 114\n",
      "Tixeuil Sébastien: corridor 26-00, room 113\n"
     ]
    }
   ],
   "source": [
    "pattern = r\"<a href=.*?>([^<]*?)</a>.*?([0-9]{2}-[0-9]{2})/([0-9]{3})\"\n",
    "print(\"\\n\".join(f\"{p[0].replace('&nbsp;', ' ')}: corridor {p[1]}, room {p[2]}\" \n",
    "                for p in re.findall(pattern, permanents, re.DOTALL)))"
   ]
  },
  {
   "cell_type": "markdown",
   "id": "4a125b17",
   "metadata": {
    "slideshow": {
     "slide_type": "slide"
    }
   },
   "source": [
    "#### HTML parsing with BeautifulSoup"
   ]
  },
  {
   "cell_type": "markdown",
   "id": "12034b2b",
   "metadata": {
    "slideshow": {
     "slide_type": "subslide"
    }
   },
   "source": [
    "# BeautifulSoup"
   ]
  },
  {
   "cell_type": "markdown",
   "id": "c568c130",
   "metadata": {},
   "source": [
    "A much easier way to manipulate html!\n",
    "- Make a soup (a navigable version of a string)\n",
    "- Browse a soup \n",
    "- soup.find(\"tag\") / soup.tag (returns soup)\n",
    "- soup.find_all(\"tag\") / soup(\"tag\") (returns list)\n",
    "- soup.find(\"tag\", {'attr_name': 'attr_value'})\n",
    "- soup.contents (list of children)\n",
    "- soup.attrs: attributes"
   ]
  },
  {
   "cell_type": "markdown",
   "id": "16033c36",
   "metadata": {
    "slideshow": {
     "slide_type": "subslide"
    }
   },
   "source": [
    "# BeautifulSoup"
   ]
  },
  {
   "cell_type": "markdown",
   "id": "24acd5c8",
   "metadata": {},
   "source": [
    "Extract text:\n",
    "- soup.decode_contents(): returns soup as string\n",
    "- soup.encode_contents(): returns soup as bytes\n",
    "- soup.text: return soup as tagless string\n",
    "- soup['attr_name']: return attribute value\n",
    "- soup.name: tag name"
   ]
  },
  {
   "cell_type": "markdown",
   "id": "1f839b25",
   "metadata": {
    "slideshow": {
     "slide_type": "subslide"
    }
   },
   "source": [
    "# Back to RE example"
   ]
  },
  {
   "cell_type": "code",
   "execution_count": 27,
   "id": "a8985deb",
   "metadata": {
    "ExecuteTime": {
     "end_time": "2024-10-11T07:15:46.466304Z",
     "start_time": "2024-10-11T07:15:46.309444Z"
    }
   },
   "outputs": [
    {
     "name": "stdout",
     "output_type": "stream",
     "text": [
      "Baey Sébastien: corridor 26-00, room 103 \n",
      "Baynat Bruno: corridor 26-00, room 112 \n",
      "Bramas Quentin: corridor 26-00, room 128 \n",
      "Bui-Xuan Binh-Minh: corridor 26-00, room 122 \n",
      "Dias de Amorim Marcelo: corridor 26-00, room 109 \n",
      "Fdida Serge: corridor 26-00, room 111 \n",
      "Fladenmuller Anne: corridor 26-00, room 108 \n",
      "Fossati Francesca: corridor 26-00, room 117 \n",
      "Fourmaux Olivier: corridor 26-00, room 103 \n",
      "Friedman Timur: corridor 26-00, room 107 \n",
      "Kervella Brigitte: corridor 26-00, room 105 \n",
      "Malouch Naceur: corridor 26-00, room 105 \n",
      "Potop-Butucaru Maria: corridor 26-00, room 115 \n",
      "Pujolle Guy: corridor 26-00, room 126 \n",
      "Thai Kim Loan: corridor 26-00, room 114 \n",
      "Tixeuil Sébastien: corridor 26-00, room 113 \n"
     ]
    }
   ],
   "source": [
    "from bs4 import BeautifulSoup as Soup\n",
    "soup = Soup(r.text)\n",
    "nbsp = '\\xa0'\n",
    "entries = soup.table('tr')\n",
    "names = [ p('a')[1].text.replace(nbsp, ' ') for p in entries ]\n",
    "locations = [p.find('td', {'class': 'bureau'}).text.split()[-1].split('/') for p in entries]\n",
    "print('\\n'.join(f\"{n}: corridor {l[0]}, room {l[1]} \" for n, l in zip(names, locations)))"
   ]
  },
  {
   "cell_type": "markdown",
   "id": "c72235e8",
   "metadata": {
    "slideshow": {
     "slide_type": "subslide"
    }
   },
   "source": [
    "# Another example"
   ]
  },
  {
   "cell_type": "markdown",
   "id": "cba2d3b1",
   "metadata": {},
   "source": [
    "https://www.lip6.fr/production/publications-type.php?id=-1&annee=2024&type_pub=COL"
   ]
  },
  {
   "cell_type": "code",
   "execution_count": 28,
   "id": "98192f67",
   "metadata": {
    "ExecuteTime": {
     "end_time": "2024-10-11T07:16:11.188259Z",
     "start_time": "2024-10-11T07:16:11.071057Z"
    }
   },
   "outputs": [],
   "source": [
    "news = \"https://www.lip6.fr/production/publications-type.php?id=-1&annee=2024&type_pub=COL\"\n",
    "soup = Soup(s.get(news).text)"
   ]
  },
  {
   "cell_type": "markdown",
   "id": "36f51a84",
   "metadata": {
    "slideshow": {
     "slide_type": "subslide"
    }
   },
   "source": [
    "# Another example"
   ]
  },
  {
   "cell_type": "code",
   "execution_count": 29,
   "id": "107f38d1",
   "metadata": {
    "ExecuteTime": {
     "end_time": "2024-10-11T07:16:13.026892Z",
     "start_time": "2024-10-11T07:16:13.019474Z"
    }
   },
   "outputs": [
    {
     "data": {
      "text/plain": [
       "<li><strong>N. Afroz, Ah. Sayem, G. Volanis, D. Maliuk, Haralampos‑G. Stratigopoulos, Y. Makris</strong> : “<a href=\"https://hal.science/hal-04555768\">On the Sensitivity of Analog Artificial Neural Network Models to Process Variation</a>”, 42<sup>nd</sup> IEEE VLSI Test Symposium (VTS 2024), VTS24 proceedings, Tempe, AZ, United States [Afroz 2024]</li>"
      ]
     },
     "execution_count": 29,
     "metadata": {},
     "output_type": "execute_result"
    }
   ],
   "source": [
    "# First article\n",
    "soup.find('div', {'class': 'encadre'}).li"
   ]
  },
  {
   "cell_type": "markdown",
   "id": "a3ad1d63",
   "metadata": {
    "slideshow": {
     "slide_type": "subslide"
    }
   },
   "source": [
    "# Another example"
   ]
  },
  {
   "cell_type": "code",
   "execution_count": 30,
   "id": "a265369b",
   "metadata": {
    "ExecuteTime": {
     "end_time": "2024-10-11T07:16:17.080663Z",
     "start_time": "2024-10-11T07:16:17.073673Z"
    }
   },
   "outputs": [
    {
     "name": "stdout",
     "output_type": "stream",
     "text": [
      "On the Sensitivity of Analog Artificial Neural Network Models to Process Variation\n",
      "https://hal.science/hal-04555768\n",
      "Comparative E-Voting Security Evaluation: Multi-Modal Authentication Approaches\n",
      "https://hal.science/hal-04650059\n",
      "Recent advances on sparse direct solver using Block Low-Rank and mixed precision for large scale applications\n",
      "https://hal.science/hal-04642783\n",
      "CosyVerif: The Path to Formalisms Cohabitation\n",
      "https://hal.science/hal-04610312\n",
      "Contract Scheduling with Distributional and Multiple Advice\n",
      "https://hal.science/hal-04550239\n"
     ]
    }
   ],
   "source": [
    "# The 5 first articles: names and URL\n",
    "for p in soup.find('div', {'class': 'encadre'}).find_all('li')[:5]:\n",
    "    a = p.a\n",
    "    print(a.text)\n",
    "    print(a['href'])"
   ]
  },
  {
   "cell_type": "markdown",
   "id": "76f890ce",
   "metadata": {
    "slideshow": {
     "slide_type": "slide"
    }
   },
   "source": [
    "#### XML"
   ]
  },
  {
   "cell_type": "markdown",
   "id": "1916c663",
   "metadata": {
    "slideshow": {
     "slide_type": "subslide"
    }
   },
   "source": [
    "# XML"
   ]
  },
  {
   "cell_type": "markdown",
   "id": "edd7e37c",
   "metadata": {},
   "source": [
    "- A human-readable way to represent data\n",
    "- Introduced as a generalization / normalization of HTML\n",
    "- Extensible Markup Language (XML) \n",
    "- Serializable (can be directly loaded/dumped from string)\n",
    "- Used by many langages"
   ]
  },
  {
   "cell_type": "markdown",
   "id": "96c4f78d",
   "metadata": {
    "slideshow": {
     "slide_type": "subslide"
    }
   },
   "source": [
    "# XML specification"
   ]
  },
  {
   "cell_type": "markdown",
   "id": "d4a08614",
   "metadata": {},
   "source": [
    "XML is made of markups similar to HTML:\n",
    "- tag: something that starts with < and ends with >.\n",
    "  - start-tag, such as `<section>`\n",
    "  - end-tag, such as `</section>`\n",
    "  - empty-element tag, such as `<line-break />\n",
    "- element: empty-element tag or anything between a start and matching tags (included)\n",
    "- content: anything between a start and matching tags (excluded). Can contain text and/or element(s)\n",
    "- attribute: key-value pairs stored inside a start or empty tag."
   ]
  },
  {
   "cell_type": "markdown",
   "id": "2a637e8c",
   "metadata": {
    "slideshow": {
     "slide_type": "subslide"
    }
   },
   "source": [
    "# Example #1"
   ]
  },
  {
   "cell_type": "code",
   "execution_count": 31,
   "id": "4249009b",
   "metadata": {
    "ExecuteTime": {
     "end_time": "2024-10-11T07:16:23.515277Z",
     "start_time": "2024-10-11T07:16:23.509317Z"
    }
   },
   "outputs": [],
   "source": [
    "xml = \"\"\"\n",
    "<?xml version=\"1.0\" encoding=\"UTF-8\"?> \n",
    "<note> \n",
    "<to>Tove</to>\n",
    "<from>Jani</from> \n",
    "<heading>Reminder</heading>\n",
    "<body>Don't forget me this weekend!</body> \n",
    "</note>\n",
    "\"\"\""
   ]
  },
  {
   "cell_type": "markdown",
   "id": "96b8a704",
   "metadata": {
    "slideshow": {
     "slide_type": "subslide"
    }
   },
   "source": [
    "# Example #2"
   ]
  },
  {
   "cell_type": "code",
   "execution_count": 32,
   "id": "25f9cdcf",
   "metadata": {
    "ExecuteTime": {
     "end_time": "2024-10-11T07:16:25.103152Z",
     "start_time": "2024-10-11T07:16:25.097326Z"
    }
   },
   "outputs": [],
   "source": [
    "xml = \"\"\"<?xml version=\"1.0\"?> <data> \n",
    "<country name=\"Liechtenstein\"> <rank>1</rank>\n",
    "<year>2008</year> <gdppc>141100</gdppc>\n",
    "<neighbor name=\"Austria\" direction=\"E\"/> \n",
    "<neighbor name=\"Switzerland\" direction=\"W\"/> \n",
    "</country>\n",
    "<country name=\"Singapore\"> \n",
    "<rank>4</rank>\n",
    "<year>2011</year> <gdppc>59900</gdppc>\n",
    "<neighbor name=\"Malaysia\" direction=\"N\"/> \n",
    "</country>\n",
    "<country name=\"Panama\"> \n",
    "<rank>68</rank>\n",
    "<year>2011</year> <gdppc>13600</gdppc>\n",
    "<neighbor name=\"Costa Rica\" direction=\"W\"/> \n",
    "<neighbor name=\"Colombia\" direction=\"E\"/> \n",
    "</country> </data> \n",
    "\"\"\"\n",
    "with open('data.xml', 'wt') as f:\n",
    "    f.write(xml)"
   ]
  },
  {
   "cell_type": "markdown",
   "id": "c2b7eb4e",
   "metadata": {
    "slideshow": {
     "slide_type": "subslide"
    }
   },
   "source": [
    "# Parsing XML with the xml package"
   ]
  },
  {
   "cell_type": "markdown",
   "id": "bb08b0df",
   "metadata": {},
   "source": [
    "xml.etree.ElementTree loads the whole file, you can then navigate in the tree structure."
   ]
  },
  {
   "cell_type": "code",
   "execution_count": 33,
   "id": "dd2669db",
   "metadata": {
    "ExecuteTime": {
     "end_time": "2024-10-11T07:16:26.922673Z",
     "start_time": "2024-10-11T07:16:26.903690Z"
    }
   },
   "outputs": [
    {
     "name": "stdout",
     "output_type": "stream",
     "text": [
      "Main tag: data; main attributes: {}\n",
      "Text of second element of first element: 2008\n",
      "country {'name': 'Liechtenstein'}\n",
      "country {'name': 'Singapore'}\n",
      "country {'name': 'Panama'}\n",
      "{'name': 'Austria', 'direction': 'E'}\n",
      "{'name': 'Switzerland', 'direction': 'W'}\n",
      "{'name': 'Malaysia', 'direction': 'N'}\n",
      "{'name': 'Costa Rica', 'direction': 'W'}\n",
      "{'name': 'Colombia', 'direction': 'E'}\n"
     ]
    }
   ],
   "source": [
    "import xml.etree.ElementTree as ET\n",
    "root = ET.parse('data.xml').getroot()\n",
    "print(f\"Main tag: {root.tag}; main attributes: {root.attrib}\")\n",
    "print(f\"Text of second element of first element: {root[0][1].text}\")\n",
    "for child in root:\n",
    "    print(child.tag, child.attrib)\n",
    "for n in root.iter('neighbor'):\n",
    "    print(n.attrib)"
   ]
  },
  {
   "cell_type": "markdown",
   "id": "f91d3343",
   "metadata": {
    "slideshow": {
     "slide_type": "subslide"
    }
   },
   "source": [
    "# Parsing XML with the xml package"
   ]
  },
  {
   "cell_type": "markdown",
   "id": "891c7927",
   "metadata": {},
   "source": [
    "You can also load from string (instead of from file)"
   ]
  },
  {
   "cell_type": "code",
   "execution_count": 34,
   "id": "aa18d206",
   "metadata": {
    "ExecuteTime": {
     "end_time": "2024-10-11T07:16:29.268540Z",
     "start_time": "2024-10-11T07:16:29.262060Z"
    }
   },
   "outputs": [
    {
     "name": "stdout",
     "output_type": "stream",
     "text": [
      "Main tag: data; main attributes: {}\n"
     ]
    }
   ],
   "source": [
    "root = ET.fromstring(xml) \n",
    "print(f\"Main tag: {root.tag}; main attributes: {root.attrib}\")"
   ]
  },
  {
   "cell_type": "markdown",
   "id": "982c9f76",
   "metadata": {},
   "source": [
    "For very large files, you may want to iterate from file instead of loading the full content"
   ]
  },
  {
   "cell_type": "markdown",
   "id": "10fdb77b",
   "metadata": {
    "slideshow": {
     "slide_type": "subslide"
    }
   },
   "source": [
    "# Parsing XML with BeautifulSoup"
   ]
  },
  {
   "cell_type": "code",
   "execution_count": 35,
   "id": "6e85e79f",
   "metadata": {
    "ExecuteTime": {
     "end_time": "2024-10-11T07:16:31.066495Z",
     "start_time": "2024-10-11T07:16:31.057913Z"
    }
   },
   "outputs": [
    {
     "data": {
      "text/plain": [
       "<?xml version=\"1.0\" encoding=\"utf-8\"?>\n",
       "<data>\n",
       "<country name=\"Liechtenstein\"> <rank>1</rank>\n",
       "<year>2008</year> <gdppc>141100</gdppc>\n",
       "<neighbor direction=\"E\" name=\"Austria\"/>\n",
       "<neighbor direction=\"W\" name=\"Switzerland\"/>\n",
       "</country>\n",
       "<country name=\"Singapore\">\n",
       "<rank>4</rank>\n",
       "<year>2011</year> <gdppc>59900</gdppc>\n",
       "<neighbor direction=\"N\" name=\"Malaysia\"/>\n",
       "</country>\n",
       "<country name=\"Panama\">\n",
       "<rank>68</rank>\n",
       "<year>2011</year> <gdppc>13600</gdppc>\n",
       "<neighbor direction=\"W\" name=\"Costa Rica\"/>\n",
       "<neighbor direction=\"E\" name=\"Colombia\"/>\n",
       "</country> </data>"
      ]
     },
     "execution_count": 35,
     "metadata": {},
     "output_type": "execute_result"
    }
   ],
   "source": [
    "soup = Soup(xml, features='xml')\n",
    "soup"
   ]
  },
  {
   "cell_type": "markdown",
   "id": "af1b6909",
   "metadata": {
    "slideshow": {
     "slide_type": "subslide"
    }
   },
   "source": [
    "# Parsing XML with BeautifulSoup"
   ]
  },
  {
   "cell_type": "code",
   "execution_count": 36,
   "id": "51ca1267",
   "metadata": {
    "ExecuteTime": {
     "end_time": "2024-10-11T07:16:32.747980Z",
     "start_time": "2024-10-11T07:16:32.740834Z"
    }
   },
   "outputs": [
    {
     "name": "stdout",
     "output_type": "stream",
     "text": [
      "country {'name': 'Liechtenstein'}\n",
      "country {'name': 'Singapore'}\n",
      "country {'name': 'Panama'}\n"
     ]
    }
   ],
   "source": [
    "print(\"\\n\".join( c.name+\" \"+str(c.attrs) for c in soup.data.contents if c.name))"
   ]
  },
  {
   "cell_type": "code",
   "execution_count": null,
   "id": "1c6e8f92",
   "metadata": {
    "ExecuteTime": {
     "end_time": "2024-10-11T05:01:29.147998Z",
     "start_time": "2024-10-11T05:01:29.141432Z"
    }
   },
   "outputs": [],
   "source": [
    "\n",
    "print(\"\\n\".join( str(c.attrs) for c in soup('neighbor')))"
   ]
  },
  {
   "cell_type": "markdown",
   "id": "85138046",
   "metadata": {
    "slideshow": {
     "slide_type": "slide"
    }
   },
   "source": [
    "#### JSON"
   ]
  },
  {
   "cell_type": "markdown",
   "id": "f42bdc88",
   "metadata": {
    "slideshow": {
     "slide_type": "subslide"
    }
   },
   "source": [
    "# JSON"
   ]
  },
  {
   "cell_type": "markdown",
   "id": "2d46bb92",
   "metadata": {},
   "source": [
    "- A simple way to represent data\n",
    "- Introduced for Javascript (JavaScript Object Notation)\n",
    "- More compact than HTML/XML, but still easy to read by humans\n",
    "- Anything that can be represented in XML can be represented in JSON\n",
    "- Serializable (can be directly dumped into a string)\n",
    "- Widely used by many langages"
   ]
  },
  {
   "cell_type": "markdown",
   "id": "61cdfc83",
   "metadata": {
    "slideshow": {
     "slide_type": "subslide"
    }
   },
   "source": [
    "# JSON specification"
   ]
  },
  {
   "cell_type": "markdown",
   "id": "836547fa",
   "metadata": {},
   "source": [
    "JSON data can be:\n",
    "- A number\n",
    "- A string\n",
    "- A boolean, `true` or `false` (-> `True` or `False` in Python)\n",
    "- An ordered list of elements (-> Python `list`)\n",
    "- A collection of key–value pairs where the keys are strings (-> Python `dict`)\n",
    "- null: an empty value, using the word `null` (-> `None`)"
   ]
  },
  {
   "cell_type": "markdown",
   "id": "9d5e0388",
   "metadata": {
    "slideshow": {
     "slide_type": "subslide"
    }
   },
   "source": [
    "# Example: from/to string"
   ]
  },
  {
   "cell_type": "code",
   "execution_count": 37,
   "id": "fea3737b",
   "metadata": {
    "ExecuteTime": {
     "end_time": "2024-10-11T07:16:37.694268Z",
     "start_time": "2024-10-11T07:16:37.683083Z"
    }
   },
   "outputs": [
    {
     "data": {
      "text/plain": [
       "'[\"a\\\\u00e9\\\\u00e7\\\\u00e8\\\\u00e0\", 1234, [4, 5, 6], {\"key1\": null, \"key2\": true}]'"
      ]
     },
     "execution_count": 37,
     "metadata": {},
     "output_type": "execute_result"
    }
   ],
   "source": [
    "from json import loads, dumps\n",
    "dumps(['aéçèà',1234,[4,5,6], {'key1': None, 'key2': True}])"
   ]
  },
  {
   "cell_type": "code",
   "execution_count": 38,
   "id": "557834c7",
   "metadata": {
    "ExecuteTime": {
     "end_time": "2024-10-11T07:16:42.371890Z",
     "start_time": "2024-10-11T07:16:42.365225Z"
    }
   },
   "outputs": [
    {
     "data": {
      "text/plain": [
       "['aéçèà', 1234, [4, 5, 6], {'key1': None, 'key2': True}]"
      ]
     },
     "execution_count": 38,
     "metadata": {},
     "output_type": "execute_result"
    }
   ],
   "source": [
    "loads('[\"a\\\\u00e9\\\\u00e7\\\\u00e8\\\\u00e0\", 1234, [4, 5, 6], {\"key1\": null, \"key2\": true}]')"
   ]
  },
  {
   "cell_type": "markdown",
   "id": "7cd11696",
   "metadata": {
    "slideshow": {
     "slide_type": "subslide"
    }
   },
   "source": [
    "# Example: from/to file"
   ]
  },
  {
   "cell_type": "code",
   "execution_count": 39,
   "id": "b7b10650",
   "metadata": {
    "ExecuteTime": {
     "end_time": "2024-10-11T07:16:47.059267Z",
     "start_time": "2024-10-11T07:16:47.053796Z"
    }
   },
   "outputs": [],
   "source": [
    "from json import load, dump\n",
    "data = {}\n",
    "data['people'] = []\n",
    "data['people'].append({'name': 'Mark', 'website': 'facebook.com'})\n",
    "data['people'].append({'name': 'Larry', 'website': 'google.com'})\n",
    "data['people'].append({'name': 'Tim', 'website': 'apple.com',})\n",
    "with open('data.json', 'wt') as f:\n",
    "    dump(data, f)"
   ]
  },
  {
   "cell_type": "markdown",
   "id": "b1a658ae",
   "metadata": {
    "slideshow": {
     "slide_type": "subslide"
    }
   },
   "source": [
    "# Example: from/to file"
   ]
  },
  {
   "cell_type": "code",
   "execution_count": 40,
   "id": "68b1394d",
   "metadata": {
    "ExecuteTime": {
     "end_time": "2024-10-11T07:16:49.293402Z",
     "start_time": "2024-10-11T07:16:49.279198Z"
    }
   },
   "outputs": [
    {
     "data": {
      "text/plain": [
       "'{\"people\": [{\"name\": \"Mark\", \"website\": \"facebook.com\"}, {\"name\": \"Larry\", \"website\": \"google.com\"}, {\"name\": \"Tim\", \"website\": \"apple.com\"}]}'"
      ]
     },
     "execution_count": 40,
     "metadata": {},
     "output_type": "execute_result"
    }
   ],
   "source": [
    "with open('data.json', 'rt') as f:\n",
    "    raw = f.read()\n",
    "raw"
   ]
  },
  {
   "cell_type": "code",
   "execution_count": 41,
   "id": "6995a9dc",
   "metadata": {
    "ExecuteTime": {
     "end_time": "2024-10-11T07:16:50.745696Z",
     "start_time": "2024-10-11T07:16:50.739171Z"
    }
   },
   "outputs": [
    {
     "name": "stdout",
     "output_type": "stream",
     "text": [
      "Name: Mark; Website: facebook.com\n",
      "Name: Larry; Website: google.com\n",
      "Name: Tim; Website: apple.com\n"
     ]
    }
   ],
   "source": [
    "with open('data.json', 'rt') as f:\n",
    "    data = load(f)\n",
    "print('\\n'.join( f\"Name: {p['name']}; Website: {p['website']}\" for p in data['people']))"
   ]
  },
  {
   "cell_type": "markdown",
   "id": "39c1d7ed",
   "metadata": {
    "slideshow": {
     "slide_type": "subslide"
    }
   },
   "source": [
    "# Fun fact: Jupyter Notebooks are... json"
   ]
  },
  {
   "cell_type": "code",
   "execution_count": 42,
   "id": "0617e165",
   "metadata": {
    "ExecuteTime": {
     "end_time": "2024-10-11T07:17:08.760997Z",
     "start_time": "2024-10-11T07:17:08.753271Z"
    }
   },
   "outputs": [],
   "source": [
    "with open('Web_services.ipynb', encoding='utf8') as f:\n",
    "    this_notebook = load(f)"
   ]
  },
  {
   "cell_type": "code",
   "execution_count": 43,
   "id": "120c4e20",
   "metadata": {
    "ExecuteTime": {
     "end_time": "2024-10-11T07:17:09.478391Z",
     "start_time": "2024-10-11T07:17:09.469826Z"
    }
   },
   "outputs": [
    {
     "data": {
      "text/plain": [
       "[{'cell_type': 'code',\n",
       "  'execution_count': None,\n",
       "  'id': '02f70845',\n",
       "  'metadata': {'ExecuteTime': {'end_time': '2024-10-10T20:08:06.534946Z',\n",
       "    'start_time': '2024-10-10T20:08:06.525084Z'},\n",
       "   'cell_style': 'split'},\n",
       "  'outputs': [],\n",
       "  'source': ['# Cell codes share the same workspace\\n', 'x']},\n",
       " {'cell_type': 'markdown',\n",
       "  'id': '3ddc58ea',\n",
       "  'metadata': {'slideshow': {'slide_type': 'subslide'}},\n",
       "  'source': ['# Using Jupyter Notebook']},\n",
       " {'cell_type': 'markdown',\n",
       "  'id': 'b29e9e7f',\n",
       "  'metadata': {},\n",
       "  'source': ['Two modes:\\n',\n",
       "   '- Command mode (blue). Hit `esc` to enter it\\n',\n",
       "   '- Edit mode (green). Hit `enter` on a cell to edit\\n',\n",
       "   '- There are many shortcuts (hit `H` on command mode to see them)']},\n",
       " {'cell_type': 'markdown',\n",
       "  'id': 'db1e8422',\n",
       "  'metadata': {'slideshow': {'slide_type': 'subslide'}},\n",
       "  'source': ['# The rules']},\n",
       " {'cell_type': 'markdown',\n",
       "  'id': '1e21cb14',\n",
       "  'metadata': {},\n",
       "  'source': ['https://github.com/balouf/progres/blob/main/rules.ipynb']}]"
      ]
     },
     "execution_count": 43,
     "metadata": {},
     "output_type": "execute_result"
    }
   ],
   "source": [
    "this_notebook['cells'][10:15]"
   ]
  },
  {
   "cell_type": "markdown",
   "id": "bed22d31",
   "metadata": {
    "slideshow": {
     "slide_type": "slide"
    }
   },
   "source": [
    "#### CSV"
   ]
  },
  {
   "cell_type": "markdown",
   "id": "b22b0576",
   "metadata": {
    "slideshow": {
     "slide_type": "subslide"
    }
   },
   "source": [
    "# CSV"
   ]
  },
  {
   "cell_type": "markdown",
   "id": "95338f17",
   "metadata": {},
   "source": [
    "- CSV: Comma Separated Values\n",
    "- Cheap format for tables\n",
    "- Each line is a row\n",
    "- Column are separated by a separator (usually but not necessarily comma)\n",
    "- First row may contain header names"
   ]
  },
  {
   "cell_type": "markdown",
   "id": "165fe709",
   "metadata": {
    "slideshow": {
     "slide_type": "subslide"
    }
   },
   "source": [
    "# Example: the Big Mac index"
   ]
  },
  {
   "cell_type": "markdown",
   "id": "68c4ecae",
   "metadata": {},
   "source": [
    "https://github.com/TheEconomist/big-mac-data"
   ]
  },
  {
   "cell_type": "markdown",
   "id": "b80f8164",
   "metadata": {},
   "source": [
    "name,iso_a3,currency_code,local_price,dollar_ex,GDP_dollar,date"
   ]
  },
  {
   "cell_type": "code",
   "execution_count": 44,
   "id": "24b1c2f2",
   "metadata": {
    "ExecuteTime": {
     "end_time": "2024-10-11T07:17:34.644349Z",
     "start_time": "2024-10-11T07:17:34.107688Z"
    }
   },
   "outputs": [
    {
     "name": "stdout",
     "output_type": "stream",
     "text": [
      "name,iso_a3,currency_code,local_price,dollar_ex,GDP_dollar,GDP_local,date\n",
      "Argentina,ARG,ARS,2.5,1,8709.072,8709.072,2000-04-01\n",
      "Australia,AUS,AUD,2.59,1.68,21780.066,33750.299,2000-04-01\n",
      "Brazil,BRA,BRL,2.95,1.79,3567.631,6471.445,2000-04-01\n",
      "Canada,CAN,CAD,2.85,1.47,22340.553,33191.468,2000-04-01\n",
      "Swit\n"
     ]
    }
   ],
   "source": [
    "url = \"https://github.com/TheEconomist/big-mac-data/raw/master/source-data/big-mac-source-data-v2.csv\"\n",
    "big_mac = s.get(url).text\n",
    "print(big_mac[:300])"
   ]
  },
  {
   "cell_type": "markdown",
   "id": "43c7762a",
   "metadata": {
    "slideshow": {
     "slide_type": "subslide"
    }
   },
   "source": [
    "# Using the csv module"
   ]
  },
  {
   "cell_type": "code",
   "execution_count": 46,
   "id": "67fe3321",
   "metadata": {
    "ExecuteTime": {
     "end_time": "2024-10-11T07:17:59.653794Z",
     "start_time": "2024-10-11T07:17:59.644473Z"
    }
   },
   "outputs": [
    {
     "name": "stdout",
     "output_type": "stream",
     "text": [
      "France, 3.5, 2011-07-01\n",
      "France, 3.6, 2012-01-01\n",
      "France, 3.6, 2012-07-01\n",
      "France, 3.6, 2013-01-01\n",
      "France, 3.9, 2013-07-01\n",
      "France, 3.8, 2014-01-01\n",
      "France, 3.9, 2014-07-01\n",
      "France, 3.9, 2015-01-01\n",
      "France, 4.1, 2015-07-01\n",
      "France, 4.1, 2016-01-01\n",
      "France, 4.1, 2016-07-01\n",
      "France, 4.1, 2017-01-01\n",
      "France, 4.1, 2017-07-01\n",
      "France, 4.2, 2018-01-01\n",
      "France, 4.2, 2018-07-01\n",
      "France, 4.2, 2019-01-01\n",
      "France, 4.2, 2019-07-09\n",
      "France, 4.2, 2020-01-14\n",
      "France, 4.2, 2020-07-01\n",
      "France, 4.2, 2021-01-01\n",
      "France, 4.3, 2021-07-01\n",
      "France, 4.35, 2022-01-01\n",
      "France, 4.7, 2022-07-01\n",
      "France, 5, 2023-01-01\n",
      "France, 5.3, 2023-07-01\n",
      "France, 5.4, 2024-01-01\n",
      "France, 5.5, 2024-07-01\n"
     ]
    }
   ],
   "source": [
    "from io import StringIO # Make a string look like a file\n",
    "import csv\n",
    "with StringIO(big_mac) as csvfile:\n",
    "    r = csv.reader(csvfile)\n",
    "    for row in r:\n",
    "        if(row[0] == \"France\"):\n",
    "            print(str(row[0]) + ', ' + str(row[3]) + ', ' + str(row[7]))"
   ]
  },
  {
   "cell_type": "markdown",
   "id": "b0a0af89",
   "metadata": {
    "slideshow": {
     "slide_type": "subslide"
    }
   },
   "source": [
    "# Using the csv module"
   ]
  },
  {
   "cell_type": "code",
   "execution_count": 47,
   "id": "22072bd6",
   "metadata": {
    "ExecuteTime": {
     "end_time": "2024-10-11T07:18:13.163770Z",
     "start_time": "2024-10-11T07:18:13.158196Z"
    }
   },
   "outputs": [
    {
     "name": "stdout",
     "output_type": "stream",
     "text": [
      "name,local_price,date\n",
      "Argentina,2.5,2000-04-01\n",
      "Australia,2.59,2000-04-01\n",
      "Brazil,2.95,2000-04-01\n",
      "Canada,2.85,2000-04-01\n",
      "Switzerland,5.9,2000-04-01\n",
      "Chile,1260,2000-04-01\n",
      "China,9.9,2000-04-01\n"
     ]
    }
   ],
   "source": [
    "with StringIO(big_mac) as csvfile:\n",
    "    r = csv.reader(csvfile)\n",
    "    for i, row in enumerate(r):\n",
    "        print(str(row[0]) + ',' + str(row[3]) + ',' + str(row[7]))\n",
    "        if i>6:\n",
    "            break"
   ]
  },
  {
   "cell_type": "markdown",
   "id": "5ca35b62",
   "metadata": {
    "slideshow": {
     "slide_type": "subslide"
    }
   },
   "source": [
    "# Using the csv module"
   ]
  },
  {
   "cell_type": "code",
   "execution_count": 48,
   "id": "4f800c4a",
   "metadata": {
    "ExecuteTime": {
     "end_time": "2024-10-11T07:18:24.523363Z",
     "start_time": "2024-10-11T07:18:24.500188Z"
    }
   },
   "outputs": [
    {
     "name": "stdout",
     "output_type": "stream",
     "text": [
      "Austria 5.15\n",
      "Belgium 4.9\n",
      "Germany 6.05\n",
      "Spain 5.4\n",
      "Estonia 4.5\n",
      "Euro area 5.6\n",
      "Finland 5.95\n",
      "France 5.5\n",
      "Greece 4.7\n",
      "Croatia 4.32\n",
      "Ireland 5.65\n",
      "Italy 5.8\n",
      "Lithuania 4.1\n",
      "Latvia 3.7\n",
      "Netherlands 5.69\n",
      "Portugal 4.95\n",
      "Slovakia 4.5\n",
      "Slovenia 3.9\n"
     ]
    }
   ],
   "source": [
    "with StringIO(big_mac) as csvfile:\n",
    "    r = csv.DictReader(csvfile)\n",
    "    for row in r:\n",
    "        if row['currency_code'] == 'EUR' and '2024-07' in row['date']:\n",
    "            print(row['name'], row['local_price'])"
   ]
  },
  {
   "cell_type": "markdown",
   "id": "ea6d3ce9",
   "metadata": {
    "slideshow": {
     "slide_type": "subslide"
    }
   },
   "source": [
    "# Pandas"
   ]
  },
  {
   "cell_type": "code",
   "execution_count": 49,
   "id": "921ddcb7",
   "metadata": {
    "ExecuteTime": {
     "end_time": "2024-10-11T07:18:30.970080Z",
     "start_time": "2024-10-11T07:18:30.102390Z"
    }
   },
   "outputs": [
    {
     "data": {
      "text/html": [
       "<div>\n",
       "<style scoped>\n",
       "    .dataframe tbody tr th:only-of-type {\n",
       "        vertical-align: middle;\n",
       "    }\n",
       "\n",
       "    .dataframe tbody tr th {\n",
       "        vertical-align: top;\n",
       "    }\n",
       "\n",
       "    .dataframe thead th {\n",
       "        text-align: right;\n",
       "    }\n",
       "</style>\n",
       "<table border=\"1\" class=\"dataframe\">\n",
       "  <thead>\n",
       "    <tr style=\"text-align: right;\">\n",
       "      <th></th>\n",
       "      <th>name</th>\n",
       "      <th>iso_a3</th>\n",
       "      <th>currency_code</th>\n",
       "      <th>local_price</th>\n",
       "      <th>dollar_ex</th>\n",
       "      <th>GDP_dollar</th>\n",
       "      <th>GDP_local</th>\n",
       "      <th>date</th>\n",
       "    </tr>\n",
       "  </thead>\n",
       "  <tbody>\n",
       "    <tr>\n",
       "      <th>0</th>\n",
       "      <td>Argentina</td>\n",
       "      <td>ARG</td>\n",
       "      <td>ARS</td>\n",
       "      <td>2.50</td>\n",
       "      <td>1.00000</td>\n",
       "      <td>8709.072</td>\n",
       "      <td>8.709072e+03</td>\n",
       "      <td>2000-04-01</td>\n",
       "    </tr>\n",
       "    <tr>\n",
       "      <th>1</th>\n",
       "      <td>Australia</td>\n",
       "      <td>AUS</td>\n",
       "      <td>AUD</td>\n",
       "      <td>2.59</td>\n",
       "      <td>1.68000</td>\n",
       "      <td>21780.066</td>\n",
       "      <td>3.375030e+04</td>\n",
       "      <td>2000-04-01</td>\n",
       "    </tr>\n",
       "    <tr>\n",
       "      <th>2</th>\n",
       "      <td>Brazil</td>\n",
       "      <td>BRA</td>\n",
       "      <td>BRL</td>\n",
       "      <td>2.95</td>\n",
       "      <td>1.79000</td>\n",
       "      <td>3567.631</td>\n",
       "      <td>6.471445e+03</td>\n",
       "      <td>2000-04-01</td>\n",
       "    </tr>\n",
       "    <tr>\n",
       "      <th>3</th>\n",
       "      <td>Canada</td>\n",
       "      <td>CAN</td>\n",
       "      <td>CAD</td>\n",
       "      <td>2.85</td>\n",
       "      <td>1.47000</td>\n",
       "      <td>22340.553</td>\n",
       "      <td>3.319147e+04</td>\n",
       "      <td>2000-04-01</td>\n",
       "    </tr>\n",
       "    <tr>\n",
       "      <th>4</th>\n",
       "      <td>Switzerland</td>\n",
       "      <td>CHE</td>\n",
       "      <td>CHF</td>\n",
       "      <td>5.90</td>\n",
       "      <td>1.70000</td>\n",
       "      <td>41762.292</td>\n",
       "      <td>6.273344e+04</td>\n",
       "      <td>2000-04-01</td>\n",
       "    </tr>\n",
       "    <tr>\n",
       "      <th>...</th>\n",
       "      <td>...</td>\n",
       "      <td>...</td>\n",
       "      <td>...</td>\n",
       "      <td>...</td>\n",
       "      <td>...</td>\n",
       "      <td>...</td>\n",
       "      <td>...</td>\n",
       "      <td>...</td>\n",
       "    </tr>\n",
       "    <tr>\n",
       "      <th>2226</th>\n",
       "      <td>Uruguay</td>\n",
       "      <td>URY</td>\n",
       "      <td>UYU</td>\n",
       "      <td>285.00</td>\n",
       "      <td>40.30000</td>\n",
       "      <td>21656.979</td>\n",
       "      <td>8.407546e+05</td>\n",
       "      <td>2024-07-01</td>\n",
       "    </tr>\n",
       "    <tr>\n",
       "      <th>2227</th>\n",
       "      <td>United States</td>\n",
       "      <td>USA</td>\n",
       "      <td>USD</td>\n",
       "      <td>5.69</td>\n",
       "      <td>1.00000</td>\n",
       "      <td>81632.253</td>\n",
       "      <td>8.163225e+04</td>\n",
       "      <td>2024-07-01</td>\n",
       "    </tr>\n",
       "    <tr>\n",
       "      <th>2228</th>\n",
       "      <td>Venezuela</td>\n",
       "      <td>VEN</td>\n",
       "      <td>VES</td>\n",
       "      <td>181.60</td>\n",
       "      <td>36.56705</td>\n",
       "      <td>3659.195</td>\n",
       "      <td>1.072017e+05</td>\n",
       "      <td>2024-07-01</td>\n",
       "    </tr>\n",
       "    <tr>\n",
       "      <th>2229</th>\n",
       "      <td>Vietnam</td>\n",
       "      <td>VNM</td>\n",
       "      <td>VND</td>\n",
       "      <td>76000.00</td>\n",
       "      <td>25247.50000</td>\n",
       "      <td>4324.049</td>\n",
       "      <td>1.019124e+08</td>\n",
       "      <td>2024-07-01</td>\n",
       "    </tr>\n",
       "    <tr>\n",
       "      <th>2230</th>\n",
       "      <td>South Africa</td>\n",
       "      <td>ZAF</td>\n",
       "      <td>ZAR</td>\n",
       "      <td>51.90</td>\n",
       "      <td>18.19125</td>\n",
       "      <td>6138.248</td>\n",
       "      <td>1.132839e+05</td>\n",
       "      <td>2024-07-01</td>\n",
       "    </tr>\n",
       "  </tbody>\n",
       "</table>\n",
       "<p>2231 rows × 8 columns</p>\n",
       "</div>"
      ],
      "text/plain": [
       "               name iso_a3 currency_code  local_price    dollar_ex  \\\n",
       "0         Argentina    ARG           ARS         2.50      1.00000   \n",
       "1         Australia    AUS           AUD         2.59      1.68000   \n",
       "2            Brazil    BRA           BRL         2.95      1.79000   \n",
       "3            Canada    CAN           CAD         2.85      1.47000   \n",
       "4       Switzerland    CHE           CHF         5.90      1.70000   \n",
       "...             ...    ...           ...          ...          ...   \n",
       "2226        Uruguay    URY           UYU       285.00     40.30000   \n",
       "2227  United States    USA           USD         5.69      1.00000   \n",
       "2228      Venezuela    VEN           VES       181.60     36.56705   \n",
       "2229        Vietnam    VNM           VND     76000.00  25247.50000   \n",
       "2230   South Africa    ZAF           ZAR        51.90     18.19125   \n",
       "\n",
       "      GDP_dollar     GDP_local        date  \n",
       "0       8709.072  8.709072e+03  2000-04-01  \n",
       "1      21780.066  3.375030e+04  2000-04-01  \n",
       "2       3567.631  6.471445e+03  2000-04-01  \n",
       "3      22340.553  3.319147e+04  2000-04-01  \n",
       "4      41762.292  6.273344e+04  2000-04-01  \n",
       "...          ...           ...         ...  \n",
       "2226   21656.979  8.407546e+05  2024-07-01  \n",
       "2227   81632.253  8.163225e+04  2024-07-01  \n",
       "2228    3659.195  1.072017e+05  2024-07-01  \n",
       "2229    4324.049  1.019124e+08  2024-07-01  \n",
       "2230    6138.248  1.132839e+05  2024-07-01  \n",
       "\n",
       "[2231 rows x 8 columns]"
      ]
     },
     "execution_count": 49,
     "metadata": {},
     "output_type": "execute_result"
    }
   ],
   "source": [
    "import pandas as pd\n",
    "with StringIO(big_mac) as csvfile:\n",
    "    df = pd.read_csv(csvfile)\n",
    "df"
   ]
  },
  {
   "cell_type": "markdown",
   "id": "4faefa7c",
   "metadata": {
    "slideshow": {
     "slide_type": "subslide"
    }
   },
   "source": [
    "# Pandas"
   ]
  },
  {
   "cell_type": "markdown",
   "id": "1da624a9",
   "metadata": {
    "cell_style": "center"
   },
   "source": [
    "Method `describe` lists the statistical properties of each attribute."
   ]
  },
  {
   "cell_type": "code",
   "execution_count": 50,
   "id": "761b3cb5",
   "metadata": {
    "ExecuteTime": {
     "end_time": "2024-10-11T07:18:33.534581Z",
     "start_time": "2024-10-11T07:18:33.501839Z"
    },
    "cell_style": "center"
   },
   "outputs": [
    {
     "data": {
      "text/html": [
       "<div>\n",
       "<style scoped>\n",
       "    .dataframe tbody tr th:only-of-type {\n",
       "        vertical-align: middle;\n",
       "    }\n",
       "\n",
       "    .dataframe tbody tr th {\n",
       "        vertical-align: top;\n",
       "    }\n",
       "\n",
       "    .dataframe thead th {\n",
       "        text-align: right;\n",
       "    }\n",
       "</style>\n",
       "<table border=\"1\" class=\"dataframe\">\n",
       "  <thead>\n",
       "    <tr style=\"text-align: right;\">\n",
       "      <th></th>\n",
       "      <th>local_price</th>\n",
       "      <th>dollar_ex</th>\n",
       "      <th>GDP_dollar</th>\n",
       "      <th>GDP_local</th>\n",
       "    </tr>\n",
       "  </thead>\n",
       "  <tbody>\n",
       "    <tr>\n",
       "      <th>count</th>\n",
       "      <td>2.231000e+03</td>\n",
       "      <td>2.231000e+03</td>\n",
       "      <td>2228.000000</td>\n",
       "      <td>2.206000e+03</td>\n",
       "    </tr>\n",
       "    <tr>\n",
       "      <th>mean</th>\n",
       "      <td>1.473759e+04</td>\n",
       "      <td>4.342232e+03</td>\n",
       "      <td>25627.768436</td>\n",
       "      <td>2.907328e+06</td>\n",
       "    </tr>\n",
       "    <tr>\n",
       "      <th>std</th>\n",
       "      <td>3.683582e+05</td>\n",
       "      <td>9.404394e+04</td>\n",
       "      <td>22174.000259</td>\n",
       "      <td>1.077228e+07</td>\n",
       "    </tr>\n",
       "    <tr>\n",
       "      <th>min</th>\n",
       "      <td>0.000000e+00</td>\n",
       "      <td>0.000000e+00</td>\n",
       "      <td>771.761000</td>\n",
       "      <td>5.124420e+02</td>\n",
       "    </tr>\n",
       "    <tr>\n",
       "      <th>25%</th>\n",
       "      <td>4.600000e+00</td>\n",
       "      <td>1.000000e+00</td>\n",
       "      <td>6684.626000</td>\n",
       "      <td>3.369584e+04</td>\n",
       "    </tr>\n",
       "    <tr>\n",
       "      <th>50%</th>\n",
       "      <td>1.590000e+01</td>\n",
       "      <td>5.248650e+00</td>\n",
       "      <td>19069.311000</td>\n",
       "      <td>7.403373e+04</td>\n",
       "    </tr>\n",
       "    <tr>\n",
       "      <th>75%</th>\n",
       "      <td>9.000000e+01</td>\n",
       "      <td>3.293220e+01</td>\n",
       "      <td>42076.398000</td>\n",
       "      <td>3.595211e+05</td>\n",
       "    </tr>\n",
       "    <tr>\n",
       "      <th>max</th>\n",
       "      <td>1.602000e+07</td>\n",
       "      <td>3.613989e+06</td>\n",
       "      <td>108438.547000</td>\n",
       "      <td>1.019124e+08</td>\n",
       "    </tr>\n",
       "  </tbody>\n",
       "</table>\n",
       "</div>"
      ],
      "text/plain": [
       "        local_price     dollar_ex     GDP_dollar     GDP_local\n",
       "count  2.231000e+03  2.231000e+03    2228.000000  2.206000e+03\n",
       "mean   1.473759e+04  4.342232e+03   25627.768436  2.907328e+06\n",
       "std    3.683582e+05  9.404394e+04   22174.000259  1.077228e+07\n",
       "min    0.000000e+00  0.000000e+00     771.761000  5.124420e+02\n",
       "25%    4.600000e+00  1.000000e+00    6684.626000  3.369584e+04\n",
       "50%    1.590000e+01  5.248650e+00   19069.311000  7.403373e+04\n",
       "75%    9.000000e+01  3.293220e+01   42076.398000  3.595211e+05\n",
       "max    1.602000e+07  3.613989e+06  108438.547000  1.019124e+08"
      ]
     },
     "execution_count": 50,
     "metadata": {},
     "output_type": "execute_result"
    }
   ],
   "source": [
    "df.describe()"
   ]
  },
  {
   "cell_type": "markdown",
   "id": "7b5e01d2",
   "metadata": {
    "slideshow": {
     "slide_type": "subslide"
    }
   },
   "source": [
    "# Pandas"
   ]
  },
  {
   "cell_type": "markdown",
   "id": "b78a96e6",
   "metadata": {
    "cell_style": "center"
   },
   "source": [
    "Method `apply` allows to apply a formula. Example: compute prices in dollars."
   ]
  },
  {
   "cell_type": "code",
   "execution_count": 51,
   "id": "a4dc3dd2",
   "metadata": {
    "ExecuteTime": {
     "end_time": "2024-10-11T07:18:35.255696Z",
     "start_time": "2024-10-11T07:18:35.222074Z"
    },
    "cell_style": "center"
   },
   "outputs": [],
   "source": [
    "import numpy as np\n",
    "df['dollar_price'] = df.apply(lambda r: r['local_price']/r['dollar_ex']\n",
    "                                              if r['dollar_ex'] else np.nan, axis=1)"
   ]
  },
  {
   "cell_type": "markdown",
   "id": "b5748d59",
   "metadata": {
    "slideshow": {
     "slide_type": "subslide"
    }
   },
   "source": [
    "# Pandas"
   ]
  },
  {
   "cell_type": "code",
   "execution_count": 52,
   "id": "2b608a20",
   "metadata": {
    "ExecuteTime": {
     "end_time": "2024-10-11T07:18:36.779542Z",
     "start_time": "2024-10-11T07:18:36.764758Z"
    }
   },
   "outputs": [
    {
     "data": {
      "text/plain": [
       "count    2230.000000\n",
       "mean        3.615655\n",
       "std         1.292935\n",
       "min         0.639966\n",
       "25%         2.609994\n",
       "50%         3.540844\n",
       "75%         4.512121\n",
       "max         9.081066\n",
       "Name: dollar_price, dtype: float64"
      ]
     },
     "execution_count": 52,
     "metadata": {},
     "output_type": "execute_result"
    }
   ],
   "source": [
    "df['dollar_price'].describe()"
   ]
  },
  {
   "cell_type": "markdown",
   "id": "845b7516",
   "metadata": {
    "slideshow": {
     "slide_type": "subslide"
    }
   },
   "source": [
    "# Pandas"
   ]
  },
  {
   "cell_type": "code",
   "execution_count": 53,
   "id": "790704c1",
   "metadata": {
    "ExecuteTime": {
     "end_time": "2024-10-11T07:18:38.443675Z",
     "start_time": "2024-10-11T07:18:38.433026Z"
    },
    "cell_style": "split"
   },
   "outputs": [
    {
     "data": {
      "text/plain": [
       "name              Venezuela\n",
       "iso_a3                  VEN\n",
       "currency_code           VEF\n",
       "local_price            39.0\n",
       "dollar_ex           4.29465\n",
       "GDP_dollar         12688.11\n",
       "GDP_local               NaN\n",
       "date             2013-01-01\n",
       "dollar_price       9.081066\n",
       "Name: 736, dtype: object"
      ]
     },
     "execution_count": 53,
     "metadata": {},
     "output_type": "execute_result"
    }
   ],
   "source": [
    "df.iloc[df['dollar_price'].idxmax()]"
   ]
  },
  {
   "cell_type": "code",
   "execution_count": 54,
   "id": "44907691",
   "metadata": {
    "ExecuteTime": {
     "end_time": "2024-10-11T07:18:39.776760Z",
     "start_time": "2024-10-11T07:18:39.764394Z"
    },
    "cell_style": "split"
   },
   "outputs": [
    {
     "data": {
      "text/plain": [
       "name             Saudi Arabia\n",
       "iso_a3                    SAU\n",
       "currency_code             SAR\n",
       "local_price               2.4\n",
       "dollar_ex              3.7502\n",
       "GDP_dollar          11027.901\n",
       "GDP_local           41354.628\n",
       "date               2004-05-01\n",
       "dollar_price         0.639966\n",
       "Name: 150, dtype: object"
      ]
     },
     "execution_count": 54,
     "metadata": {},
     "output_type": "execute_result"
    }
   ],
   "source": [
    "df.iloc[df['dollar_price'].idxmin()]"
   ]
  },
  {
   "cell_type": "markdown",
   "id": "cf0667a2",
   "metadata": {
    "slideshow": {
     "slide_type": "subslide"
    }
   },
   "source": [
    "# Pandas"
   ]
  },
  {
   "cell_type": "code",
   "execution_count": 55,
   "id": "16e12fdc",
   "metadata": {
    "ExecuteTime": {
     "end_time": "2024-10-11T07:18:44.278844Z",
     "start_time": "2024-10-11T07:18:42.833206Z"
    }
   },
   "outputs": [
    {
     "data": {
      "image/png": "[encoded data removed]",
      "text/plain": [
       "<Figure size 1500x500 with 1 Axes>"
      ]
     },
     "metadata": {},
     "output_type": "display_data"
    }
   ],
   "source": [
    "from matplotlib import pyplot as plt\n",
    "f, a = plt.subplots(figsize=(15, 5))\n",
    "df.boxplot(column=['dollar_price'], by='date', figsize=(15, 5), rot=45, ax=a)\n",
    "a.set_xticklabels(labels=a.get_xticklabels(), ha='right')\n",
    "plt.ylim([0, 10])\n",
    "plt.show()"
   ]
  },
  {
   "cell_type": "markdown",
   "id": "d5ccfbc6",
   "metadata": {
    "slideshow": {
     "slide_type": "slide"
    }
   },
   "source": [
    "#### Other formats"
   ]
  },
  {
   "cell_type": "markdown",
   "id": "6730c5e9",
   "metadata": {
    "slideshow": {
     "slide_type": "subslide"
    }
   },
   "source": [
    "# Other formats"
   ]
  },
  {
   "cell_type": "markdown",
   "id": "4cff8005",
   "metadata": {},
   "source": [
    "- All widely used formats have a Python package to manipulate them\n",
    "- xls, xlsx -> pandas, xlswriter\n",
    "- pdf -> pdfminer.six\n",
    "- ... (look for it when you need it)"
   ]
  },
  {
   "cell_type": "markdown",
   "id": "ec661c0f",
   "metadata": {
    "slideshow": {
     "slide_type": "slide"
    }
   },
   "source": [
    "#### Python packages dedicated to a website"
   ]
  },
  {
   "cell_type": "markdown",
   "id": "197d9616",
   "metadata": {
    "slideshow": {
     "slide_type": "subslide"
    }
   },
   "source": [
    "# Wikipedia"
   ]
  },
  {
   "cell_type": "code",
   "execution_count": 56,
   "id": "9511be4a",
   "metadata": {
    "ExecuteTime": {
     "end_time": "2024-10-11T07:18:56.717978Z",
     "start_time": "2024-10-11T07:18:55.632732Z"
    }
   },
   "outputs": [
    {
     "name": "stdout",
     "output_type": "stream",
     "text": [
      "Python is a high-level, general-purpose programming language. Its design philosophy emphasizes code readability with the use of significant indentation.\n",
      "Python is dynamically typed and garbage-collected. It supports multiple programming paradigms, including structured (particularly procedural), object-oriented and functional programming. It is often described as a \"batteries included\" language due to its comprehensive standard library.\n",
      "Guido van Rossum began working on Python in the late 1980s as a successor to the ABC programming language and first released it in 1991 as Python 0.9.0. Python 2.0 was released in 2000. Python 3.0, released in 2008, was a major revision not completely backward-compatible with earlier versions. Python 2.7.18, released in 2020, was the last release of Python 2.\n",
      "Python consistently ranks as one of the most popular programming languages, and has gained widespread use in the machine learning community.\n",
      "\n",
      "\n"
     ]
    }
   ],
   "source": [
    "from wikipedia import page\n",
    "r = page(\"Python (programming language)\")\n",
    "print(r.summary)"
   ]
  },
  {
   "cell_type": "markdown",
   "id": "06252572",
   "metadata": {
    "slideshow": {
     "slide_type": "subslide"
    }
   },
   "source": [
    "# Google Scholar"
   ]
  },
  {
   "cell_type": "code",
   "execution_count": 57,
   "id": "dad50fab",
   "metadata": {
    "ExecuteTime": {
     "end_time": "2024-10-11T07:19:01.881979Z",
     "start_time": "2024-10-11T07:18:58.350269Z"
    }
   },
   "outputs": [
    {
     "data": {
      "text/plain": [
       "['Distributed Computing', 'Computer Networks', 'Algorithms & Theory']"
      ]
     },
     "execution_count": 57,
     "metadata": {},
     "output_type": "execute_result"
    }
   ],
   "source": [
    "from scholarly import scholarly\n",
    "searcher = next(scholarly.search_author(\"Sebastien Tixeuil\"))\n",
    "searcher['interests']"
   ]
  },
  {
   "cell_type": "code",
   "execution_count": 58,
   "id": "63e8d29c",
   "metadata": {
    "ExecuteTime": {
     "end_time": "2024-10-11T07:19:04.941130Z",
     "start_time": "2024-10-11T07:19:03.039138Z"
    }
   },
   "outputs": [
    {
     "data": {
      "text/plain": [
       "['Graphs', 'P2P networks', 'queuing systems', 'ranking algorithms']"
      ]
     },
     "execution_count": 58,
     "metadata": {},
     "output_type": "execute_result"
    }
   ],
   "source": [
    "searcher = next(scholarly.search_author(\"Fabien Mathieu\"))\n",
    "searcher['interests']"
   ]
  },
  {
   "cell_type": "markdown",
   "id": "ce2f8c47",
   "metadata": {
    "slideshow": {
     "slide_type": "slide"
    }
   },
   "source": [
    "## Server Side... next week!"
   ]
  }
 ],
 "metadata": {
  "celltoolbar": "Slideshow",
  "kernelspec": {
   "display_name": "Python 3 (ipykernel)",
   "language": "python",
   "name": "python3"
  },
  "language_info": {
   "codemirror_mode": {
    "name": "ipython",
    "version": 3
   },
   "file_extension": ".py",
   "mimetype": "text/x-python",
   "name": "python",
   "nbconvert_exporter": "python",
   "pygments_lexer": "ipython3",
   "version": "3.11.4"
  },
  "toc": {
   "base_numbering": 1,
   "nav_menu": {},
   "number_sections": true,
   "sideBar": true,
   "skip_h1_title": true,
   "title_cell": "Table of Contents",
   "title_sidebar": "Contents",
   "toc_cell": false,
   "toc_position": {
    "height": "calc(100% - 180px)",
    "left": "10px",
    "top": "150px",
    "width": "323.797px"
   },
   "toc_section_display": true,
   "toc_window_display": false
  }
 },
 "nbformat": 4,
 "nbformat_minor": 5
}

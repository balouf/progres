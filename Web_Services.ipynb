{
 "cells": [
  {
   "cell_type": "code",
   "execution_count": 1,
   "id": "c83a57c9",
   "metadata": {
    "ExecuteTime": {
     "end_time": "2023-10-09T13:54:45.673069Z",
     "start_time": "2023-10-09T13:54:45.665222Z"
    },
    "init_cell": true,
    "slideshow": {
     "slide_type": "skip"
    }
   },
   "outputs": [
    {
     "data": {
      "text/html": [
       "<style>\n",
       ".prompt_container { display: none !important; }\n",
       ".prompt { display: none !important; }\n",
       ".run_this_cell { display: none !important; }\n",
       "\n",
       ".rise-enabled .reveal .slides,\n",
       ".rise-enabled .reveal .slides h1,\n",
       ".rise-enabled .reveal .slides h2,\n",
       ".rise-enabled .reveal .slides h3,\n",
       ".rise-enabled .reveal .slides h4,\n",
       ".rise-enabled .reveal .slides h5,\n",
       ".rise-enabled .reveal .slides h6\n",
       "\n",
       "{\n",
       "\n",
       "  \n",
       "    font-family: \"Domestic Manners\", sans-serif !important;\n",
       "}\n",
       "\n",
       ".slides {\n",
       "    position: absolute;\n",
       "    top: 0;\n",
       "    left: 0;\n",
       "}\n",
       "\n",
       "</style>\n"
      ],
      "text/plain": [
       "<IPython.core.display.HTML object>"
      ]
     },
     "metadata": {},
     "output_type": "display_data"
    }
   ],
   "source": [
    "%%html\n",
    "<style>\n",
    ".prompt_container { display: none !important; }\n",
    ".prompt { display: none !important; }\n",
    ".run_this_cell { display: none !important; }\n",
    "\n",
    ".rise-enabled .reveal .slides,\n",
    ".rise-enabled .reveal .slides h1,\n",
    ".rise-enabled .reveal .slides h2,\n",
    ".rise-enabled .reveal .slides h3,\n",
    ".rise-enabled .reveal .slides h4,\n",
    ".rise-enabled .reveal .slides h5,\n",
    ".rise-enabled .reveal .slides h6\n",
    "\n",
    "{\n",
    "\n",
    "  \n",
    "    font-family: \"Domestic Manners\", sans-serif !important;\n",
    "}\n",
    "\n",
    ".slides {\n",
    "    position: absolute;\n",
    "    top: 0;\n",
    "    left: 0;\n",
    "}\n",
    "\n",
    "</style>"
   ]
  },
  {
   "cell_type": "markdown",
   "id": "13980f54",
   "metadata": {
    "slideshow": {
     "slide_type": "slide"
    }
   },
   "source": [
    "# ProgRes, Part II\n",
    "\n",
    "# Web services"
   ]
  },
  {
   "cell_type": "markdown",
   "id": "99c42851",
   "metadata": {},
   "source": [
    "Fabien Mathieu - fabien.mathieu@normalesup.org\n",
    "\n",
    "Sébastien Tixeuil - Sebastien.Tixeuil@lip6.fr"
   ]
  },
  {
   "cell_type": "markdown",
   "id": "21153e1f",
   "metadata": {
    "slideshow": {
     "slide_type": "subslide"
    }
   },
   "source": [
    "# Roadmap"
   ]
  },
  {
   "cell_type": "markdown",
   "id": "c42a2846",
   "metadata": {},
   "source": [
    "- Part I: done\n",
    "- Part II (Web services)\n",
    "  - This week:\n",
    "    - Definitions / Reminders (OSI, HTTP, REST...)\n",
    "    - Client side\n",
    "       - Retrieve content\n",
    "       - Manipulate content\n",
    "  - Next week: Server side\n",
    "- Part III: P2P"
   ]
  },
  {
   "cell_type": "markdown",
   "id": "9bae4ca4",
   "metadata": {
    "slideshow": {
     "slide_type": "subslide"
    }
   },
   "source": [
    "# Methodology"
   ]
  },
  {
   "cell_type": "markdown",
   "id": "7192002c",
   "metadata": {},
   "source": [
    "- Course and practicals are made on notebooks (jupyter or jupyterlab)\n",
    "- This means you will send your practical notebooks. \n",
    "- Please put your name(s) **on the filename AND inside** as well!\n",
    "- Practicals: for some advanced optional questions, you may add some traditional `.py` files (companion packages) -> `zip`\n",
    "- Mini-projects: `zip` with a mix of notebooks and `.py` files is expected."
   ]
  },
  {
   "cell_type": "markdown",
   "id": "3d46cfd8",
   "metadata": {
    "slideshow": {
     "slide_type": "subslide"
    }
   },
   "source": [
    "# Deontology"
   ]
  },
  {
   "cell_type": "markdown",
   "id": "fcfd22ff",
   "metadata": {
    "cell_style": "split"
   },
   "source": [
    "One unique rule: quote your sources!\n",
    "- You can Google your answers (wikipedia, stackoverflow, ...)\n",
    "- You can chat-GPT you answers (at your own risks)\n",
    "- You are encouraged to discuss with other students during **practicals**"
   ]
  },
  {
   "cell_type": "markdown",
   "id": "05e249af",
   "metadata": {
    "cell_style": "split"
   },
   "source": [
    "BUT:\n",
    "- If you quote but obviously didn't understand what you quoted don't expect full marks.\n",
    "- Not quoting is called *plagiarism*. Don't complain if you get caught.\n",
    "- Mini-Projects: cross-groups \"*cooperation*\" will be sanctioned"
   ]
  },
  {
   "cell_type": "markdown",
   "id": "b47274e2",
   "metadata": {
    "slideshow": {
     "slide_type": "subslide"
    }
   },
   "source": [
    "# Jupyter notebook?"
   ]
  },
  {
   "cell_type": "markdown",
   "id": "717b3a8c",
   "metadata": {},
   "source": [
    "A notebook is just a text file with extension `.ipynb` that contains cells.\n",
    "- Two main types of cells:\n",
    "  - Markdown cells to write formatted text. You can itemize or write maths like $\\frac{\\sqrt{\\pi}}{2}$\n",
    "  - Code cell to execute Python code\n",
    "- This is a markdown cell"
   ]
  },
  {
   "cell_type": "code",
   "execution_count": null,
   "id": "94198080",
   "metadata": {
    "ExecuteTime": {
     "end_time": "2023-10-09T13:37:52.708405Z",
     "start_time": "2023-10-09T13:37:52.704150Z"
    },
    "cell_style": "split"
   },
   "outputs": [],
   "source": [
    "# This is a code cell\n",
    "x = 1+1"
   ]
  },
  {
   "cell_type": "code",
   "execution_count": null,
   "id": "02f70845",
   "metadata": {
    "ExecuteTime": {
     "end_time": "2023-10-09T13:37:54.586510Z",
     "start_time": "2023-10-09T13:37:54.578490Z"
    },
    "cell_style": "split"
   },
   "outputs": [],
   "source": [
    "# Cell codes share the same workspace\n",
    "x"
   ]
  },
  {
   "cell_type": "markdown",
   "id": "3ddc58ea",
   "metadata": {
    "slideshow": {
     "slide_type": "subslide"
    }
   },
   "source": [
    "# Using Jupyter Notebook"
   ]
  },
  {
   "cell_type": "markdown",
   "id": "b29e9e7f",
   "metadata": {},
   "source": [
    "Two modes:\n",
    "- Command mode (blue). Hit `esc` to enter it\n",
    "- Edit mode (green). Hit `enter` on a cell to edit\n",
    "- There are many shortcuts (hit `H` on command mode to see them)"
   ]
  },
  {
   "cell_type": "markdown",
   "id": "ffc9633e",
   "metadata": {
    "slideshow": {
     "slide_type": "slide"
    }
   },
   "source": [
    "## What is a Web Service?"
   ]
  },
  {
   "cell_type": "markdown",
   "id": "94f33156",
   "metadata": {
    "slideshow": {
     "slide_type": "slide"
    }
   },
   "source": [
    "# Reminder: the OSI model"
   ]
  },
  {
   "cell_type": "markdown",
   "id": "dfcb0f34",
   "metadata": {},
   "source": [
    "| Layer | Protocol Data Unit (PDU) | Function |\n",
    "| :-- | --- | :-: |\n",
    "| 7 (Application) | Data | High-level protocols such as for resource sharing or remote file access, e.g. HTTP. |\n",
    "| 6 (Presentation) | Data | Translation of data between a networking service and an application;<br>including character encoding, data compression and encryption/decryption. |\n",
    "| 5 (Session) | Data | Managing communication sessions, i.e.,<br>continuous exchange of information in the form of multiple back-and-forth transmissions between two nodes. |\n",
    "| 4 (Transport) | Segment, datagram | Reliable transmission of data segments between points on a network,<br>including segmentation, acknowledgement and multiplexing. |\n",
    "| 3 (Network) | Packet | Structuring and managing a multi-node network, including addressing, routing and traffic control. |\n",
    "| 2 (Data link) | Frame, PRB | Transmission of data frames between two nodes connected by a physical layer. |\n",
    "| 1 (Physical) | Bit, Symbol | Transmission and reception of raw bit streams over a physical medium. |\n",
    "\n",
    "From wikipedia"
   ]
  },
  {
   "cell_type": "markdown",
   "id": "ade510b0",
   "metadata": {
    "slideshow": {
     "slide_type": "subslide"
    }
   },
   "source": [
    "# Reminder: the OSI model"
   ]
  },
  {
   "cell_type": "markdown",
   "id": "08167040",
   "metadata": {},
   "source": [
    "- OSI should be seen as a guideline more than strict frontiers\n",
    "- 1 & 2 (physical layers): depend on the physical medium you use\n",
    "- 3 & 4 (Internet layers): IP (3), UDP (\"3.5\"), TCP (4)\n",
    "- Data layers: HTTP(S), SSH, SMTP, (S)FTP... (some see 5/6/7 distinction as artificial)"
   ]
  },
  {
   "cell_type": "markdown",
   "id": "e205c332",
   "metadata": {
    "slideshow": {
     "slide_type": "subslide"
    }
   },
   "source": [
    "# The OSI hourglass"
   ]
  },
  {
   "cell_type": "markdown",
   "id": "a5ffce05",
   "metadata": {
    "cell_style": "split"
   },
   "source": [
    "Just for Internet culture\n",
    "\n",
    "- Many physical implementations\n",
    "- Many data applications\n",
    "- One waist: IP"
   ]
  },
  {
   "cell_type": "markdown",
   "id": "cfdfcc33",
   "metadata": {
    "cell_style": "split"
   },
   "source": [
    "<img src = \"https://scx2.b-cdn.net/gfx/news/hires/2011/howtheintern.jpg\">"
   ]
  },
  {
   "cell_type": "markdown",
   "id": "1140c84d",
   "metadata": {
    "slideshow": {
     "slide_type": "subslide"
    }
   },
   "source": [
    "# OSI model and PROGRES"
   ]
  },
  {
   "cell_type": "markdown",
   "id": "974be838",
   "metadata": {},
   "source": [
    "- Part I (past sessions) was making your own data layers out of sockets\n",
    "- Part II is about directly using L7 protocols\n",
    "- Part III will be about overlay networks (\"L8\")"
   ]
  },
  {
   "cell_type": "markdown",
   "id": "d20767ab",
   "metadata": {
    "slideshow": {
     "slide_type": "subslide"
    }
   },
   "source": [
    "# HTTP in the old days (Web 1.0)"
   ]
  },
  {
   "cell_type": "markdown",
   "id": "71b9311c",
   "metadata": {
    "cell_style": "split"
   },
   "source": [
    "- Goal: serve a (static) web page\n",
    "- Client (user on a navigator) requests a URL\n",
    "- Server serves a physical file (or a view of a directory)\n",
    "- Navigator displays the page\n",
    "\n",
    "- https://files.data.gouv.fr/anssi/ascadv2/\n",
    "- http://test-debit.free.fr/"
   ]
  },
  {
   "cell_type": "markdown",
   "id": "4b0d7f63",
   "metadata": {
    "cell_style": "split"
   },
   "source": [
    "- HTTP: HyperText Transfert Protocol\n",
    "- URL: Uniform Resource Locator"
   ]
  },
  {
   "cell_type": "markdown",
   "id": "d1bae6d5",
   "metadata": {
    "slideshow": {
     "slide_type": "subslide"
    }
   },
   "source": [
    "# HTTPS today (Web X.Y)"
   ]
  },
  {
   "cell_type": "markdown",
   "id": "f4b7934e",
   "metadata": {
    "cell_style": "split"
   },
   "source": [
    "- Goal: C asks R to S using a URI\n",
    "- C is anything\n",
    "- R is anything\n",
    "- S is a server\n",
    "- https://pokeapi.co/api/v2/pokemon-form/25/\n",
    "- https://api.archives-ouvertes.fr/search/?q=authIdHal_s:fabien-mathieu"
   ]
  },
  {
   "cell_type": "markdown",
   "id": "4f13010a",
   "metadata": {
    "cell_style": "split"
   },
   "source": [
    "- HTTPS: HyperText Transfert Protocol Secure\n",
    "- URI: Uniform Resource Identifier"
   ]
  },
  {
   "cell_type": "markdown",
   "id": "a705aa6a",
   "metadata": {
    "slideshow": {
     "slide_type": "subslide"
    }
   },
   "source": [
    "# Web services"
   ]
  },
  {
   "cell_type": "markdown",
   "id": "44b0c101",
   "metadata": {},
   "source": [
    "- Client is typically a program executed to access content\n",
    " - On client side (JS of a webpage)\n",
    " - On server side (to *build* the webpage to return)\n",
    "- Request is a HTTP(S) method on a URI\n",
    "- Result is anything (None, html, xml, json, image...)"
   ]
  },
  {
   "cell_type": "markdown",
   "id": "a5ca595a",
   "metadata": {
    "slideshow": {
     "slide_type": "subslide"
    }
   },
   "source": [
    "# HTTP methods"
   ]
  },
  {
   "cell_type": "markdown",
   "id": "e1b381bf",
   "metadata": {},
   "source": [
    "Any HTTP method is like this:\n",
    "- A request is sent by the client, with some headers (type of request, ...) and possibly a body (input data)\n",
    "- A response is sent by the server, with some headers (status code, metadata) and possibly a body (output data)"
   ]
  },
  {
   "cell_type": "markdown",
   "id": "6e43cdc8",
   "metadata": {
    "slideshow": {
     "slide_type": "subslide"
    }
   },
   "source": [
    "# HTTP methods: theory"
   ]
  },
  {
   "cell_type": "markdown",
   "id": "6b6781af",
   "metadata": {},
   "source": [
    "From wikipedia:\n",
    "- **GET**: requests data from the target resource. GET requests should only retrieve data. All data is in the URI (useful for caching).\n",
    "- **HEAD**: like GET, but don't actually send the data. Uses include checking whether a page is available through the status code and quickly finding the size of a file (Content-Length).\n",
    "- **POST**: requests the target to process some resources (data) sent by the client. Posted data is not on the URI. For example, it is used for posting a message to an Internet forum, subscribing to a mailing list, or completing an online shopping transaction.\n",
    "- **PUT**: requests to create or update using the data enclosed in the request. A distinction from POST is that the client specifies the target location on the server.\n",
    "- **DELETE**: requests suppression of entry.\n",
    "- **CONNECT**: establishes a TCP/IP tunnel. It is often used to secure connections through one or more HTTP proxies with TLS.\n",
    "- **OPTIONS**: requests that the supported HTTP methods that it supports. This can be used to check the functionality of a web server.\n",
    "- **TRACE**: transfers the received request in the response body. That way a client can see what (if any) changes or additions have been made by intermediaries.\n",
    "- **PATCH**: modifies part(s) of entry. This can save bandwidth by updating a part of a file or document without having to transfer it entirely."
   ]
  },
  {
   "cell_type": "markdown",
   "id": "8a9df789",
   "metadata": {
    "slideshow": {
     "slide_type": "subslide"
    }
   },
   "source": [
    "# HTTP methods in practice: GET or POST?"
   ]
  },
  {
   "cell_type": "markdown",
   "id": "3fa56c7b",
   "metadata": {},
   "source": [
    "- **GET** can perform all methods (e.g. \"http://my.server.co/uri?method=POST&data=...\")\n",
    "- Same for **POST** (which is a GET with hidden data)\n",
    "- 99% of methods used in the real world are GET or POST"
   ]
  },
  {
   "cell_type": "markdown",
   "id": "5110c924",
   "metadata": {
    "slideshow": {
     "slide_type": "subslide"
    }
   },
   "source": [
    "# HTTP methods: GET?"
   ]
  },
  {
   "cell_type": "markdown",
   "id": "69702f5c",
   "metadata": {
    "cell_style": "center"
   },
   "source": [
    "- All request information is visible in the URI\n",
    "- Human can write a GET in the browser\n",
    "- Useful for caching / bookmarking\n",
    "- Good practice: use get to read"
   ]
  },
  {
   "cell_type": "markdown",
   "id": "aa64cace",
   "metadata": {
    "slideshow": {
     "slide_type": "subslide"
    }
   },
   "source": [
    "# HTTP methods: POST?"
   ]
  },
  {
   "cell_type": "markdown",
   "id": "d6211537",
   "metadata": {
    "cell_style": "center"
   },
   "source": [
    "- Hide some request information inside the sent message\n",
    "- Usually performed by forms / javascript\n",
    "- Useful for sending login / password\n",
    "- Good practice: use post to write (and password)"
   ]
  },
  {
   "cell_type": "markdown",
   "id": "13b3dd1d",
   "metadata": {
    "slideshow": {
     "slide_type": "subslide"
    }
   },
   "source": [
    "# Anatomy of a GET method: inspect"
   ]
  },
  {
   "cell_type": "markdown",
   "id": "b139faf3",
   "metadata": {},
   "source": [
    "The browser way: Inspect\n",
    "\n",
    "https://pokeapi.co/api/v2/pokemon-form/25/"
   ]
  },
  {
   "cell_type": "markdown",
   "id": "8fd8b3cb",
   "metadata": {
    "slideshow": {
     "slide_type": "subslide"
    }
   },
   "source": [
    "# Anatomy of a GET method: within Python"
   ]
  },
  {
   "cell_type": "markdown",
   "id": "30f72509",
   "metadata": {},
   "source": [
    "The requests package (that we will use intensively) gives you all."
   ]
  },
  {
   "cell_type": "code",
   "execution_count": null,
   "id": "b340a2e0",
   "metadata": {
    "ExecuteTime": {
     "end_time": "2023-10-09T13:38:09.562419Z",
     "start_time": "2023-10-09T13:38:09.145914Z"
    },
    "slideshow": {
     "slide_type": ""
    }
   },
   "outputs": [],
   "source": [
    "from requests import get\n",
    "request = get(\"https://pokeapi.co/api/v2/pokemon-form/25/\")\n",
    "print(f\"Request headers: {request.request.headers}\")\n",
    "print(f\"Response headers: {request.headers}\")"
   ]
  },
  {
   "cell_type": "markdown",
   "id": "95742ed8",
   "metadata": {
    "slideshow": {
     "slide_type": "subslide"
    }
   },
   "source": [
    "# Anatomy of a GET method: within Python"
   ]
  },
  {
   "cell_type": "code",
   "execution_count": null,
   "id": "29058d5e",
   "metadata": {
    "ExecuteTime": {
     "end_time": "2023-10-09T13:38:11.464571Z",
     "start_time": "2023-10-09T13:38:11.459624Z"
    }
   },
   "outputs": [],
   "source": [
    "print(f\"Status code: {request.status_code}\")\n",
    "print(f\"Method: {request.request.method}\")"
   ]
  },
  {
   "cell_type": "code",
   "execution_count": null,
   "id": "02b2e057",
   "metadata": {
    "ExecuteTime": {
     "end_time": "2023-10-09T13:38:12.240372Z",
     "start_time": "2023-10-09T13:38:12.234206Z"
    }
   },
   "outputs": [],
   "source": [
    "{k: v for k, v in request.json().items() if k != 'sprites'}"
   ]
  },
  {
   "cell_type": "markdown",
   "id": "ad202e59",
   "metadata": {
    "slideshow": {
     "slide_type": "subslide"
    }
   },
   "source": [
    "# Anatomy of a POST method: within Python"
   ]
  },
  {
   "cell_type": "markdown",
   "id": "1a318e81",
   "metadata": {},
   "source": [
    "We will use http://ptsv3.com, a website to test post.\n",
    "\n",
    "http://ptsv3.com/t/progres"
   ]
  },
  {
   "cell_type": "code",
   "execution_count": null,
   "id": "141c1d7a",
   "metadata": {
    "ExecuteTime": {
     "end_time": "2023-10-09T13:38:14.928109Z",
     "start_time": "2023-10-09T13:38:14.180629Z"
    }
   },
   "outputs": [],
   "source": [
    "from requests import post\n",
    "request = post(\"http://ptsv3.com/t/progres/post\", json={'Hello': 'world', 'ansWer': 42, 'password': 'MyPrivatePassword'})"
   ]
  },
  {
   "cell_type": "markdown",
   "id": "b117adb0",
   "metadata": {
    "slideshow": {
     "slide_type": "subslide"
    }
   },
   "source": [
    "# Anatomy of a POST method: within Python"
   ]
  },
  {
   "cell_type": "markdown",
   "id": "c20a1bd2",
   "metadata": {},
   "source": [
    "http://ptsv3.com/t/progres"
   ]
  },
  {
   "cell_type": "code",
   "execution_count": null,
   "id": "388c62a1",
   "metadata": {
    "ExecuteTime": {
     "end_time": "2023-10-09T13:38:16.516221Z",
     "start_time": "2023-10-09T13:38:16.511484Z"
    }
   },
   "outputs": [],
   "source": [
    "print(f\"Status code: {request.status_code}\")\n",
    "print(f\"Method: {request.request.method}\")\n",
    "print(f\"Request headers: {request.request.headers}\")\n",
    "print(f\"Response headers: {request.headers}\")\n",
    "print(request.text)"
   ]
  },
  {
   "cell_type": "markdown",
   "id": "7397a481",
   "metadata": {
    "slideshow": {
     "slide_type": "subslide"
    }
   },
   "source": [
    "# REST API"
   ]
  },
  {
   "cell_type": "markdown",
   "id": "e6fe7981",
   "metadata": {},
   "source": [
    "- REpresentational State Transfert Application Programming Interface is a simple, realtively normalized, way of performing web services.\n",
    "- Response is typically json or xml."
   ]
  },
  {
   "cell_type": "markdown",
   "id": "ec7cf814",
   "metadata": {},
   "source": [
    "https://pokeapi.co/api/v2/pokemon-form/25/\n",
    "\n",
    "- Method is GET (implicit)\n",
    "- https://pokeapi.co/api/ is the base URL of the URI\n",
    "- v2 is the API version\n",
    "- pokemon-form/25/ is the actual request (fetch Pikachu!)"
   ]
  },
  {
   "cell_type": "markdown",
   "id": "02f560b6",
   "metadata": {
    "slideshow": {
     "slide_type": "slide"
    }
   },
   "source": [
    "## Client Side"
   ]
  },
  {
   "cell_type": "markdown",
   "id": "650da95a",
   "metadata": {
    "slideshow": {
     "slide_type": "slide"
    }
   },
   "source": [
    "### Retrieve data"
   ]
  },
  {
   "cell_type": "markdown",
   "id": "a53b8cd4",
   "metadata": {
    "slideshow": {
     "slide_type": "subslide"
    }
   },
   "source": [
    "# Retrieve data"
   ]
  },
  {
   "cell_type": "markdown",
   "id": "4e26f96a",
   "metadata": {},
   "source": [
    "Data can be:\n",
    "- Arbitrary bytes (image, pdf, binary...)\n",
    "- Text\n",
    "- Structured text (html, json, ...)\n",
    "\n",
    "You need to adapt:\n",
    "- Load in memory or save to file?\n",
    "- Don't load a text as bytes or a json as text!"
   ]
  },
  {
   "cell_type": "markdown",
   "id": "32bb4c84",
   "metadata": {
    "slideshow": {
     "slide_type": "subslide"
    }
   },
   "source": [
    "# Retrieve with requests"
   ]
  },
  {
   "cell_type": "code",
   "execution_count": null,
   "id": "fa6e64e8",
   "metadata": {
    "ExecuteTime": {
     "end_time": "2023-10-09T13:38:22.266566Z",
     "start_time": "2023-10-09T13:38:21.860270Z"
    }
   },
   "outputs": [],
   "source": [
    "from requests import Session\n",
    "manga = \"https://lelscans.net\"\n",
    "s = Session() # Sessions make better performance\n",
    "r = s.get(manga)\n",
    "print(f\"Request status is {r.status_code},\\n\"\n",
    " f\"Content length is {len(r.content)} bytes,\\n\"\n",
    " f\"Request encoding is {r.encoding},\\n\"\n",
    " f\"Text size is {len(r.text)} chars.\")\n",
    "print(f\"Response headers: {r.headers}\")"
   ]
  },
  {
   "cell_type": "markdown",
   "id": "0833c3d4",
   "metadata": {
    "slideshow": {
     "slide_type": "subslide"
    }
   },
   "source": [
    "# Retrieve with requests"
   ]
  },
  {
   "cell_type": "code",
   "execution_count": null,
   "id": "84d25420",
   "metadata": {
    "ExecuteTime": {
     "end_time": "2023-10-09T13:38:27.870650Z",
     "start_time": "2023-10-09T13:38:27.865137Z"
    }
   },
   "outputs": [],
   "source": [
    "r.text[:1000]"
   ]
  },
  {
   "cell_type": "markdown",
   "id": "f8624221",
   "metadata": {
    "slideshow": {
     "slide_type": "subslide"
    }
   },
   "source": [
    "# Retrieve with requests"
   ]
  },
  {
   "cell_type": "code",
   "execution_count": null,
   "id": "1f9283ef",
   "metadata": {
    "ExecuteTime": {
     "end_time": "2023-10-09T13:38:29.396251Z",
     "start_time": "2023-10-09T13:38:29.389950Z"
    }
   },
   "outputs": [],
   "source": [
    "r.content[:1000]"
   ]
  },
  {
   "cell_type": "markdown",
   "id": "659a86ca",
   "metadata": {
    "slideshow": {
     "slide_type": "subslide"
    }
   },
   "source": [
    "# Example: remote file size"
   ]
  },
  {
   "cell_type": "code",
   "execution_count": null,
   "id": "3cf2f1df",
   "metadata": {
    "ExecuteTime": {
     "end_time": "2023-10-09T13:38:31.214002Z",
     "start_time": "2023-10-09T13:38:31.209358Z"
    }
   },
   "outputs": [],
   "source": [
    "def get_size(url):\n",
    "    s = Session()\n",
    "    r = s.head(url)\n",
    "    return int(r.headers['Content-Length'])"
   ]
  },
  {
   "cell_type": "code",
   "execution_count": null,
   "id": "56f75454",
   "metadata": {
    "ExecuteTime": {
     "end_time": "2023-10-09T13:38:33.141055Z",
     "start_time": "2023-10-09T13:38:33.049106Z"
    }
   },
   "outputs": [],
   "source": [
    "url = \"http://ftp.crifo.org/debian-cd/current/amd64/iso-dvd/debian-12.2.0-amd64-DVD-1.iso\"\n",
    "get_size(url)"
   ]
  },
  {
   "cell_type": "markdown",
   "id": "a84b3660",
   "metadata": {
    "slideshow": {
     "slide_type": "subslide"
    }
   },
   "source": [
    "# Example: stream downloading"
   ]
  },
  {
   "cell_type": "code",
   "execution_count": null,
   "id": "b139eb57",
   "metadata": {
    "ExecuteTime": {
     "end_time": "2023-10-09T13:38:36.375672Z",
     "start_time": "2023-10-09T13:38:36.369714Z"
    }
   },
   "outputs": [],
   "source": [
    "from pathlib import Path\n",
    "def download(source_url, dest_file):\n",
    "    s = Session()\n",
    "    s.verify = False\n",
    "    r = s.get(source_url, stream=True)\n",
    "    dest_file = Path(dest_file)\n",
    "    with open(dest_file, \"wb\") as f:\n",
    "        for chunk in r.iter_content(chunk_size=8192):\n",
    "            if chunk: \n",
    "                f.write(chunk)"
   ]
  },
  {
   "cell_type": "code",
   "execution_count": null,
   "id": "fbbc0961",
   "metadata": {
    "ExecuteTime": {
     "end_time": "2023-10-09T13:38:37.126025Z",
     "start_time": "2023-10-09T13:38:37.002002Z"
    }
   },
   "outputs": [],
   "source": [
    "url = \"https://www-npa.lip6.fr/~tixeuil/m2r/uploads/Main/PROGRES2022_2.pdf\"\n",
    "download(url, 'python.pdf')"
   ]
  },
  {
   "cell_type": "markdown",
   "id": "12b5ffcf",
   "metadata": {},
   "source": [
    "<a href=\"./python.pdf\">python.pdf (local file)</a>"
   ]
  },
  {
   "cell_type": "markdown",
   "id": "6802ccd5",
   "metadata": {
    "slideshow": {
     "slide_type": "slide"
    }
   },
   "source": [
    "### Manipulate data"
   ]
  },
  {
   "cell_type": "markdown",
   "id": "764627da",
   "metadata": {
    "slideshow": {
     "slide_type": "slide"
    }
   },
   "source": [
    "#### Basic string manipulation"
   ]
  },
  {
   "cell_type": "markdown",
   "id": "6a557009",
   "metadata": {
    "slideshow": {
     "slide_type": "subslide"
    }
   },
   "source": [
    "# String manipulation"
   ]
  },
  {
   "cell_type": "markdown",
   "id": "ec955154",
   "metadata": {},
   "source": [
    "Even if you have structured data, you need to master basic string manipulations."
   ]
  },
  {
   "cell_type": "code",
   "execution_count": null,
   "id": "d28ef01e",
   "metadata": {
    "ExecuteTime": {
     "end_time": "2023-10-09T13:38:44.534045Z",
     "start_time": "2023-10-09T13:38:44.528866Z"
    }
   },
   "outputs": [],
   "source": [
    "txt = \" Python is a great language\\n but Erlang is pretty cool too!  \"\n",
    "print(txt)"
   ]
  },
  {
   "cell_type": "markdown",
   "id": "0d9cd2ae",
   "metadata": {
    "slideshow": {
     "slide_type": "subslide"
    }
   },
   "source": [
    "# Split"
   ]
  },
  {
   "cell_type": "code",
   "execution_count": null,
   "id": "5964a2ea",
   "metadata": {
    "ExecuteTime": {
     "end_time": "2023-10-09T13:38:45.795708Z",
     "start_time": "2023-10-09T13:38:45.788987Z"
    }
   },
   "outputs": [],
   "source": [
    "print(l1:=txt.split())\n",
    "print(l2:=txt.split('a'))\n",
    "print(l3:=txt.split('\\n'))\n",
    "print(l4:=txt.split('an'))"
   ]
  },
  {
   "cell_type": "markdown",
   "id": "c5ebc169",
   "metadata": {
    "slideshow": {
     "slide_type": "subslide"
    }
   },
   "source": [
    "# Join"
   ]
  },
  {
   "cell_type": "code",
   "execution_count": null,
   "id": "f8152943",
   "metadata": {
    "ExecuteTime": {
     "end_time": "2023-10-09T13:38:46.823916Z",
     "start_time": "2023-10-09T13:38:46.817915Z"
    }
   },
   "outputs": [],
   "source": [
    "print(' '.join(l1))\n",
    "print('a'.join(l2))\n",
    "print('\\n'.join(l3))\n",
    "print('AN'.join(l4))"
   ]
  },
  {
   "cell_type": "markdown",
   "id": "c266c85e",
   "metadata": {
    "slideshow": {
     "slide_type": "subslide"
    }
   },
   "source": [
    "# Other methods"
   ]
  },
  {
   "cell_type": "markdown",
   "id": "576fef08",
   "metadata": {},
   "source": [
    "By default, `str` in Python have many powerful methods... Try them!"
   ]
  },
  {
   "cell_type": "code",
   "execution_count": null,
   "id": "a087664a",
   "metadata": {
    "ExecuteTime": {
     "end_time": "2023-10-09T13:38:47.914194Z",
     "start_time": "2023-10-09T13:38:47.907026Z"
    }
   },
   "outputs": [],
   "source": [
    "print(', '.join([method_name for method_name in dir(txt) \n",
    "                 if callable(getattr(txt, method_name)) and not method_name.startswith('_')]))"
   ]
  },
  {
   "cell_type": "markdown",
   "id": "351e4b0e",
   "metadata": {
    "slideshow": {
     "slide_type": "slide"
    }
   },
   "source": [
    "#### Regular Expression"
   ]
  },
  {
   "cell_type": "markdown",
   "id": "34f23a2f",
   "metadata": {
    "slideshow": {
     "slide_type": "subslide"
    }
   },
   "source": [
    "# Regular Expressions"
   ]
  },
  {
   "cell_type": "markdown",
   "id": "3921a2a1",
   "metadata": {},
   "source": [
    "- More powerful\n",
    "- More complex that basic methods\n",
    "- Personal advice: don't use RegEx if you can avoid it\n",
    "- Personal advice #2: sometimes, you cannot avoid it, so you need to learn"
   ]
  },
  {
   "cell_type": "markdown",
   "id": "fb057c10",
   "metadata": {
    "slideshow": {
     "slide_type": "subslide"
    }
   },
   "source": [
    "# Regular Expressions"
   ]
  },
  {
   "cell_type": "markdown",
   "id": "55bca62d",
   "metadata": {},
   "source": [
    "Recipe:\n",
    "- define a *pattern*\n",
    "- apply pattern to a string\n",
    "- you can:\n",
    "  - find all pattern occurrences (`findall`)\n",
    "  - substitute with another string (`sub`)\n",
    "  - check if the pattern matches the string (`match`/`fullmatch`)\n",
    "  - extract parts of the pattern (`group`)"
   ]
  },
  {
   "cell_type": "markdown",
   "id": "9d6c9bae",
   "metadata": {
    "slideshow": {
     "slide_type": "subslide"
    }
   },
   "source": [
    "# Defining a pattern"
   ]
  },
  {
   "cell_type": "markdown",
   "id": "5b24db62",
   "metadata": {},
   "source": [
    "- a, X, 9, < -- ordinary characters just match themselves exactly.\n",
    "- Some characters have special meanings: . ^ \\$ * + ? { [ ] \\ | ( ) (details below)\n",
    "- . (a period) -- matches any single character except newline '\\n'\n",
    "- \\w -- (lowercase w) matches a \"word\" character: a letter or digit or underscore [a-zA-Z0-9_]. \\W matches any non-word character. \n",
    "- \\b -- boundary between word and non-word \n",
    "- \\s -- (lowercase s) matches a single whitespace character -- space, newline, return, \n",
    "tab, form [ \\n\\r\\t\\f]. \\S (upper case S) matches any non-whitespace \n",
    "character."
   ]
  },
  {
   "cell_type": "markdown",
   "id": "030f912e",
   "metadata": {
    "slideshow": {
     "slide_type": "subslide"
    }
   },
   "source": [
    "# Defining a pattern"
   ]
  },
  {
   "cell_type": "markdown",
   "id": "65fd30ae",
   "metadata": {},
   "source": [
    "- \\t, \\n, \\r -- tab, newline, return \n",
    "- \\d -- decimal digit [0-9]\n",
    "- \\$=end—match the end of the string. ^ matches the start of the string but also means not\n",
    "- \\ -- inhibit the \"specialness\" of a character. So, for example, use \\\\. to match a \n",
    "period or \\\\\\\\ to match a backslash. If you are unsure if a character has special meaning, \n",
    "such as '@', you can put a slash in front of it, \\@, to make sure it is treated just as a \n",
    "character"
   ]
  },
  {
   "cell_type": "markdown",
   "id": "c027cb75",
   "metadata": {
    "slideshow": {
     "slide_type": "subslide"
    }
   },
   "source": [
    "# Defining a pattern"
   ]
  },
  {
   "cell_type": "markdown",
   "id": "d96c53a5",
   "metadata": {},
   "source": [
    "- [] - set of possible characters\n",
    "- | - or\n",
    "- {n} - exactly n occurrences.\n",
    "- () - create group \n",
    "- \\+ - at least one occurrence.\n",
    "- \\* - zero or more occurrence.\n",
    "- ? - zero or one occurrence. Also mean greedy match (`.*` vs `.*?`)."
   ]
  },
  {
   "cell_type": "markdown",
   "id": "cb405e82",
   "metadata": {
    "slideshow": {
     "slide_type": "subslide"
    }
   },
   "source": [
    "# Example: extract Email Information"
   ]
  },
  {
   "cell_type": "code",
   "execution_count": null,
   "id": "1b3cac9d",
   "metadata": {
    "ExecuteTime": {
     "end_time": "2023-10-09T13:38:54.204219Z",
     "start_time": "2023-10-09T13:38:54.199678Z"
    }
   },
   "outputs": [],
   "source": [
    "import re\n",
    "txt = 'fabien.mathieu@normalesup.org'\n",
    "pattern = '([^@]+)@([^@]+)'\n",
    "m = re.fullmatch(pattern, txt)\n",
    "print(m.groups())"
   ]
  },
  {
   "cell_type": "markdown",
   "id": "8d592670",
   "metadata": {
    "slideshow": {
     "slide_type": "subslide"
    }
   },
   "source": [
    "# Example: *manual* html parsing"
   ]
  },
  {
   "cell_type": "markdown",
   "id": "bf4cc60b",
   "metadata": {},
   "source": [
    "https://www.lip6.fr/recherche/team_membres.php?acronyme=NPA"
   ]
  },
  {
   "cell_type": "code",
   "execution_count": null,
   "id": "b3f9d30a",
   "metadata": {
    "ExecuteTime": {
     "end_time": "2023-10-09T13:38:55.789050Z",
     "start_time": "2023-10-09T13:38:55.458922Z"
    }
   },
   "outputs": [],
   "source": [
    "url = \"https://www.lip6.fr/recherche/team_membres.php?acronyme=NPA\"\n",
    "r = s.get(url)\n",
    "txt = r.text"
   ]
  },
  {
   "cell_type": "markdown",
   "id": "9009d33a",
   "metadata": {
    "slideshow": {
     "slide_type": "subslide"
    }
   },
   "source": [
    "# Example: *manual* html parsing"
   ]
  },
  {
   "cell_type": "code",
   "execution_count": null,
   "id": "f73d7d62",
   "metadata": {
    "ExecuteTime": {
     "end_time": "2023-10-09T13:38:57.473873Z",
     "start_time": "2023-10-09T13:38:57.467120Z"
    }
   },
   "outputs": [],
   "source": [
    "pattern1 = r\"<table class='annuaire'>(.*?)</table>\"\n",
    "permanents = re.findall(pattern1, txt, re.DOTALL)[0]\n",
    "permanents"
   ]
  },
  {
   "cell_type": "markdown",
   "id": "8a9790ff",
   "metadata": {
    "slideshow": {
     "slide_type": "subslide"
    }
   },
   "source": [
    "# Example: *manual* html parsing"
   ]
  },
  {
   "cell_type": "code",
   "execution_count": null,
   "id": "f865838b",
   "metadata": {
    "ExecuteTime": {
     "end_time": "2023-10-09T13:38:59.082304Z",
     "start_time": "2023-10-09T13:38:59.074937Z"
    }
   },
   "outputs": [],
   "source": [
    "pattern = r\"<a href=.*?>([^<]*?)</a>.*?([0-9]{2}-[0-9]{2})/([0-9]{3})\"\n",
    "print(\"\\n\".join(f\"{p[0].replace('&nbsp;', ' ')}: corridor {p[1]}, room {p[2]}\" \n",
    "                for p in re.findall(pattern, permanents, re.DOTALL)))"
   ]
  },
  {
   "cell_type": "markdown",
   "id": "4a125b17",
   "metadata": {
    "slideshow": {
     "slide_type": "slide"
    }
   },
   "source": [
    "#### HTML parsing with BeautifulSoup"
   ]
  },
  {
   "cell_type": "markdown",
   "id": "12034b2b",
   "metadata": {
    "slideshow": {
     "slide_type": "subslide"
    }
   },
   "source": [
    "# BeautifulSoup"
   ]
  },
  {
   "cell_type": "markdown",
   "id": "c568c130",
   "metadata": {},
   "source": [
    "A much easier way to manipulate html!\n",
    "- Make a soup (a navigable version of a string)\n",
    "- Browse a soup \n",
    "- soup.find(\"tag\") / soup.tag (returns soup)\n",
    "- soup.find_all(\"tag\") / soup(\"tag\") (returns list)\n",
    "- soup.find(\"tag\", {'attr_name': 'attr_value'})\n",
    "- soup.contents (list of children)\n",
    "- soup.attrs: attributes"
   ]
  },
  {
   "cell_type": "markdown",
   "id": "16033c36",
   "metadata": {
    "slideshow": {
     "slide_type": "subslide"
    }
   },
   "source": [
    "# BeautifulSoup"
   ]
  },
  {
   "cell_type": "markdown",
   "id": "24acd5c8",
   "metadata": {},
   "source": [
    "Extract text:\n",
    "- soup.decode_contents(): returns soup as string\n",
    "- soup.encode_contents(): returns soup as bytes\n",
    "- soup.text: return soup as tagless string\n",
    "- soup['attr_name']: return attribute value\n",
    "- soup.name: tag name"
   ]
  },
  {
   "cell_type": "markdown",
   "id": "1f839b25",
   "metadata": {
    "slideshow": {
     "slide_type": "subslide"
    }
   },
   "source": [
    "# Back to RE example"
   ]
  },
  {
   "cell_type": "code",
   "execution_count": null,
   "id": "a8985deb",
   "metadata": {
    "ExecuteTime": {
     "end_time": "2023-10-09T13:39:04.539585Z",
     "start_time": "2023-10-09T13:39:04.457269Z"
    }
   },
   "outputs": [],
   "source": [
    "from bs4 import BeautifulSoup as Soup\n",
    "soup = Soup(r.text)\n",
    "nbsp = '\\xa0'\n",
    "entries = soup.table('tr')\n",
    "names = [ p('a')[1].text.replace(nbsp, ' ') for p in entries ]\n",
    "locations = [p.find('td', {'class': 'bureau'}).text.split()[-1].split('/') for p in entries]\n",
    "print('\\n'.join(f\"{n}: corridor {l[0]}, room {l[1]} \" for n, l in zip(names, locations)))"
   ]
  },
  {
   "cell_type": "markdown",
   "id": "c72235e8",
   "metadata": {
    "slideshow": {
     "slide_type": "subslide"
    }
   },
   "source": [
    "# Another example"
   ]
  },
  {
   "cell_type": "markdown",
   "id": "cba2d3b1",
   "metadata": {},
   "source": [
    "https://www.lip6.fr/production/publications-type.php?id=-1&annee=2022&type_pub=ART"
   ]
  },
  {
   "cell_type": "code",
   "execution_count": null,
   "id": "98192f67",
   "metadata": {
    "ExecuteTime": {
     "end_time": "2023-10-09T13:39:07.199823Z",
     "start_time": "2023-10-09T13:39:06.898587Z"
    }
   },
   "outputs": [],
   "source": [
    "news = \"https://www.lip6.fr/production/publications-type.php?id=-1&annee=2022&type_pub=ART\"\n",
    "soup = Soup(s.get(news).text)"
   ]
  },
  {
   "cell_type": "markdown",
   "id": "36f51a84",
   "metadata": {
    "slideshow": {
     "slide_type": "subslide"
    }
   },
   "source": [
    "# Another example"
   ]
  },
  {
   "cell_type": "code",
   "execution_count": null,
   "id": "107f38d1",
   "metadata": {
    "ExecuteTime": {
     "end_time": "2023-10-09T13:39:08.617788Z",
     "start_time": "2023-10-09T13:39:08.611062Z"
    }
   },
   "outputs": [],
   "source": [
    "# First article\n",
    "soup.find('li', {'class': 'D700'})"
   ]
  },
  {
   "cell_type": "markdown",
   "id": "a3ad1d63",
   "metadata": {
    "slideshow": {
     "slide_type": "subslide"
    }
   },
   "source": [
    "# Another example"
   ]
  },
  {
   "cell_type": "code",
   "execution_count": null,
   "id": "a265369b",
   "metadata": {
    "ExecuteTime": {
     "end_time": "2023-10-09T13:39:10.263835Z",
     "start_time": "2023-10-09T13:39:10.256889Z"
    }
   },
   "outputs": [],
   "source": [
    "# The 5 first articles: names and URL\n",
    "for p in soup.find_all('li', {'class': 'D700'})[:5]:\n",
    "    a = p.a\n",
    "    print(a.text)\n",
    "    print(a['href'])"
   ]
  },
  {
   "cell_type": "markdown",
   "id": "76f890ce",
   "metadata": {
    "slideshow": {
     "slide_type": "slide"
    }
   },
   "source": [
    "#### XML"
   ]
  },
  {
   "cell_type": "markdown",
   "id": "1916c663",
   "metadata": {
    "slideshow": {
     "slide_type": "subslide"
    }
   },
   "source": [
    "# XML"
   ]
  },
  {
   "cell_type": "markdown",
   "id": "edd7e37c",
   "metadata": {},
   "source": [
    "- A human-readable way to represent data\n",
    "- Introduced as a generalization / normalization of HTML\n",
    "- Extensible Markup Language (XML) \n",
    "- Serializable (can be directly loaded/dumped from string)\n",
    "- Used by many langages"
   ]
  },
  {
   "cell_type": "markdown",
   "id": "96c4f78d",
   "metadata": {
    "slideshow": {
     "slide_type": "subslide"
    }
   },
   "source": [
    "# XML specification"
   ]
  },
  {
   "cell_type": "markdown",
   "id": "d4a08614",
   "metadata": {},
   "source": [
    "XML is made of markups similar to HTML:\n",
    "- tag: something that starts with < and ends with >.\n",
    "  - start-tag, such as `<section>`\n",
    "  - end-tag, such as `</section>`\n",
    "  - empty-element tag, such as `<line-break />\n",
    "- element: empty-element tag or anything between a start and matching tags (included)\n",
    "- content: anything between a start and matching tags (excluded). Can contain text and/or element(s)\n",
    "- attribute: key-value pairs stored inside a start or empty tag."
   ]
  },
  {
   "cell_type": "markdown",
   "id": "2a637e8c",
   "metadata": {
    "slideshow": {
     "slide_type": "subslide"
    }
   },
   "source": [
    "# Example #1"
   ]
  },
  {
   "cell_type": "code",
   "execution_count": null,
   "id": "4249009b",
   "metadata": {
    "ExecuteTime": {
     "end_time": "2023-10-09T13:39:17.190237Z",
     "start_time": "2023-10-09T13:39:17.185363Z"
    }
   },
   "outputs": [],
   "source": [
    "xml = \"\"\"\n",
    "<?xml version=\"1.0\" encoding=\"UTF-8\"?> \n",
    "<note> \n",
    "<to>Tove</to>\n",
    "<from>Jani</from> \n",
    "<heading>Reminder</heading>\n",
    "<body>Don't forget me this weekend!</body> \n",
    "</note>\n",
    "\"\"\""
   ]
  },
  {
   "cell_type": "markdown",
   "id": "96b8a704",
   "metadata": {
    "slideshow": {
     "slide_type": "subslide"
    }
   },
   "source": [
    "# Example #2"
   ]
  },
  {
   "cell_type": "code",
   "execution_count": null,
   "id": "25f9cdcf",
   "metadata": {
    "ExecuteTime": {
     "end_time": "2023-10-09T13:39:19.063507Z",
     "start_time": "2023-10-09T13:39:19.056860Z"
    }
   },
   "outputs": [],
   "source": [
    "xml = \"\"\"<?xml version=\"1.0\"?> <data> \n",
    "<country name=\"Liechtenstein\"> <rank>1</rank>\n",
    "<year>2008</year> <gdppc>141100</gdppc>\n",
    "<neighbor name=\"Austria\" direction=\"E\"/> \n",
    "<neighbor name=\"Switzerland\" direction=\"W\"/> \n",
    "</country>\n",
    "<country name=\"Singapore\"> \n",
    "<rank>4</rank>\n",
    "<year>2011</year> <gdppc>59900</gdppc>\n",
    "<neighbor name=\"Malaysia\" direction=\"N\"/> \n",
    "</country>\n",
    "<country name=\"Panama\"> \n",
    "<rank>68</rank>\n",
    "<year>2011</year> <gdppc>13600</gdppc>\n",
    "<neighbor name=\"Costa Rica\" direction=\"W\"/> \n",
    "<neighbor name=\"Colombia\" direction=\"E\"/> \n",
    "</country> </data> \n",
    "\"\"\"\n",
    "with open('data.xml', 'wt') as f:\n",
    "    f.write(xml)"
   ]
  },
  {
   "cell_type": "markdown",
   "id": "c2b7eb4e",
   "metadata": {
    "slideshow": {
     "slide_type": "subslide"
    }
   },
   "source": [
    "# Parsing XML with the xml package"
   ]
  },
  {
   "cell_type": "markdown",
   "id": "bb08b0df",
   "metadata": {},
   "source": [
    "xml.etree.ElementTree loads the whole file, you can then navigate in the tree structure."
   ]
  },
  {
   "cell_type": "code",
   "execution_count": null,
   "id": "dd2669db",
   "metadata": {
    "ExecuteTime": {
     "end_time": "2023-10-09T13:39:20.557609Z",
     "start_time": "2023-10-09T13:39:20.545248Z"
    }
   },
   "outputs": [],
   "source": [
    "import xml.etree.ElementTree as ET\n",
    "root = ET.parse('data.xml').getroot()\n",
    "print(f\"Main tag: {root.tag}; main attributes: {root.attrib}\")\n",
    "print(f\"Text of second element of first element: {root[0][1].text}\")\n",
    "for child in root:\n",
    "    print(child.tag, child.attrib)\n",
    "for n in root.iter('neighbor'):\n",
    "    print(n.attrib)"
   ]
  },
  {
   "cell_type": "markdown",
   "id": "f91d3343",
   "metadata": {
    "slideshow": {
     "slide_type": "subslide"
    }
   },
   "source": [
    "# Parsing XML with the xml package"
   ]
  },
  {
   "cell_type": "markdown",
   "id": "891c7927",
   "metadata": {},
   "source": [
    "You can also load from string (instead of from file)"
   ]
  },
  {
   "cell_type": "code",
   "execution_count": null,
   "id": "aa18d206",
   "metadata": {
    "ExecuteTime": {
     "end_time": "2023-10-09T13:39:22.108883Z",
     "start_time": "2023-10-09T13:39:22.103856Z"
    }
   },
   "outputs": [],
   "source": [
    "root = ET.fromstring(xml) \n",
    "print(f\"Main tag: {root.tag}; main attributes: {root.attrib}\")"
   ]
  },
  {
   "cell_type": "markdown",
   "id": "982c9f76",
   "metadata": {},
   "source": [
    "For very large files, you may want to iterate from file instead of loading the full content"
   ]
  },
  {
   "cell_type": "markdown",
   "id": "10fdb77b",
   "metadata": {
    "slideshow": {
     "slide_type": "subslide"
    }
   },
   "source": [
    "# Parsing XML with BeautifulSoup"
   ]
  },
  {
   "cell_type": "code",
   "execution_count": null,
   "id": "6e85e79f",
   "metadata": {
    "ExecuteTime": {
     "end_time": "2023-10-09T13:39:26.960056Z",
     "start_time": "2023-10-09T13:39:26.953035Z"
    }
   },
   "outputs": [],
   "source": [
    "soup = Soup(xml, features='xml')\n",
    "soup"
   ]
  },
  {
   "cell_type": "markdown",
   "id": "af1b6909",
   "metadata": {
    "slideshow": {
     "slide_type": "subslide"
    }
   },
   "source": [
    "# Parsing XML with BeautifulSoup"
   ]
  },
  {
   "cell_type": "code",
   "execution_count": null,
   "id": "51ca1267",
   "metadata": {
    "ExecuteTime": {
     "end_time": "2023-10-09T13:39:28.262275Z",
     "start_time": "2023-10-09T13:39:28.255454Z"
    }
   },
   "outputs": [],
   "source": [
    "print(\"\\n\".join( c.name+\" \"+str(c.attrs) for c in soup.data.contents if c.name))"
   ]
  },
  {
   "cell_type": "code",
   "execution_count": null,
   "id": "1c6e8f92",
   "metadata": {
    "ExecuteTime": {
     "end_time": "2023-10-09T13:39:31.655781Z",
     "start_time": "2023-10-09T13:39:31.649581Z"
    }
   },
   "outputs": [],
   "source": [
    "\n",
    "print(\"\\n\".join( str(c.attrs) for c in soup('neighbor')))"
   ]
  },
  {
   "cell_type": "markdown",
   "id": "85138046",
   "metadata": {
    "slideshow": {
     "slide_type": "slide"
    }
   },
   "source": [
    "#### JSON"
   ]
  },
  {
   "cell_type": "markdown",
   "id": "f42bdc88",
   "metadata": {
    "slideshow": {
     "slide_type": "subslide"
    }
   },
   "source": [
    "# JSON"
   ]
  },
  {
   "cell_type": "markdown",
   "id": "2d46bb92",
   "metadata": {},
   "source": [
    "- A simple way to represent data\n",
    "- Introduced for Javascript (JavaScript Object Notation)\n",
    "- More compact than HTML/XML, but still easy to read by humans\n",
    "- Anything that can be represented in XML can be represented in JSON\n",
    "- Serializable (can be directly dumped into a string)\n",
    "- Widely used by many langages"
   ]
  },
  {
   "cell_type": "markdown",
   "id": "61cdfc83",
   "metadata": {
    "slideshow": {
     "slide_type": "subslide"
    }
   },
   "source": [
    "# JSON specification"
   ]
  },
  {
   "cell_type": "markdown",
   "id": "836547fa",
   "metadata": {},
   "source": [
    "JSON data can be:\n",
    "- A number\n",
    "- A string\n",
    "- A boolean, `true` or `false` (-> `True` or `False` in Python)\n",
    "- An ordered list of elements (-> Python `list`)\n",
    "- A collection of key–value pairs where the keys are strings (-> Python `dict`)\n",
    "- null: an empty value, using the word `null` (-> `None`)"
   ]
  },
  {
   "cell_type": "markdown",
   "id": "9d5e0388",
   "metadata": {
    "slideshow": {
     "slide_type": "subslide"
    }
   },
   "source": [
    "# Example: from/to string"
   ]
  },
  {
   "cell_type": "code",
   "execution_count": null,
   "id": "fea3737b",
   "metadata": {
    "ExecuteTime": {
     "end_time": "2023-10-09T13:39:35.522082Z",
     "start_time": "2023-10-09T13:39:35.515589Z"
    }
   },
   "outputs": [],
   "source": [
    "from json import loads, dumps\n",
    "dumps(['aéçèà',1234,[4,5,6], {'key1': None, 'key2': True}])"
   ]
  },
  {
   "cell_type": "code",
   "execution_count": null,
   "id": "557834c7",
   "metadata": {
    "ExecuteTime": {
     "end_time": "2023-10-09T13:39:36.678338Z",
     "start_time": "2023-10-09T13:39:36.671790Z"
    }
   },
   "outputs": [],
   "source": [
    "loads('[\"a\\\\u00e9\\\\u00e7\\\\u00e8\\\\u00e0\", 1234, [4, 5, 6], {\"key1\": null, \"key2\": true}]')"
   ]
  },
  {
   "cell_type": "markdown",
   "id": "7cd11696",
   "metadata": {
    "slideshow": {
     "slide_type": "subslide"
    }
   },
   "source": [
    "# Example: from/to file"
   ]
  },
  {
   "cell_type": "code",
   "execution_count": null,
   "id": "b7b10650",
   "metadata": {
    "ExecuteTime": {
     "end_time": "2023-10-09T13:39:38.434075Z",
     "start_time": "2023-10-09T13:39:38.426027Z"
    }
   },
   "outputs": [],
   "source": [
    "from json import load, dump\n",
    "data = {}\n",
    "data['people'] = []\n",
    "data['people'].append({'name': 'Mark', 'website': 'facebook.com'})\n",
    "data['people'].append({'name': 'Larry', 'website': 'google.com'})\n",
    "data['people'].append({'name': 'Tim', 'website': 'apple.com',})\n",
    "with open('data.json', 'wt') as f:\n",
    "    dump(data, f)"
   ]
  },
  {
   "cell_type": "markdown",
   "id": "b1a658ae",
   "metadata": {
    "slideshow": {
     "slide_type": "subslide"
    }
   },
   "source": [
    "# Example: from/to file"
   ]
  },
  {
   "cell_type": "code",
   "execution_count": null,
   "id": "68b1394d",
   "metadata": {
    "ExecuteTime": {
     "end_time": "2023-10-09T13:39:40.449519Z",
     "start_time": "2023-10-09T13:39:40.439215Z"
    }
   },
   "outputs": [],
   "source": [
    "with open('data.json', 'rt') as f:\n",
    "    raw = f.read()\n",
    "raw"
   ]
  },
  {
   "cell_type": "code",
   "execution_count": null,
   "id": "6995a9dc",
   "metadata": {
    "ExecuteTime": {
     "end_time": "2023-10-09T13:39:41.584559Z",
     "start_time": "2023-10-09T13:39:41.577619Z"
    },
    "scrolled": true
   },
   "outputs": [],
   "source": [
    "with open('data.json', 'rt') as f:\n",
    "    data = load(f)\n",
    "print('\\n'.join( f\"Name: {p['name']}; Website: {p['website']}\" for p in data['people']))"
   ]
  },
  {
   "cell_type": "markdown",
   "id": "39c1d7ed",
   "metadata": {
    "slideshow": {
     "slide_type": "subslide"
    }
   },
   "source": [
    "# Fun fact: Jupyter Notebooks are... json"
   ]
  },
  {
   "cell_type": "code",
   "execution_count": null,
   "id": "0617e165",
   "metadata": {
    "ExecuteTime": {
     "end_time": "2023-10-09T13:39:45.581950Z",
     "start_time": "2023-10-09T13:39:45.576806Z"
    }
   },
   "outputs": [],
   "source": [
    "with open('Web_services.ipynb', encoding='utf8') as f:\n",
    "    this_notebook = load(f)"
   ]
  },
  {
   "cell_type": "code",
   "execution_count": null,
   "id": "120c4e20",
   "metadata": {
    "ExecuteTime": {
     "end_time": "2023-10-09T13:39:46.965324Z",
     "start_time": "2023-10-09T13:39:46.953763Z"
    }
   },
   "outputs": [],
   "source": [
    "this_notebook['cells'][:5]"
   ]
  },
  {
   "cell_type": "markdown",
   "id": "bed22d31",
   "metadata": {
    "slideshow": {
     "slide_type": "slide"
    }
   },
   "source": [
    "#### CSV"
   ]
  },
  {
   "cell_type": "markdown",
   "id": "b22b0576",
   "metadata": {
    "slideshow": {
     "slide_type": "subslide"
    }
   },
   "source": [
    "# CSV"
   ]
  },
  {
   "cell_type": "markdown",
   "id": "95338f17",
   "metadata": {},
   "source": [
    "- CSV: Comma Separated Values\n",
    "- Cheap format for tables\n",
    "- Each line is a row\n",
    "- Column are separated by a separator (usually but not necessarily comma)\n",
    "- First row may contain header names"
   ]
  },
  {
   "cell_type": "markdown",
   "id": "165fe709",
   "metadata": {
    "slideshow": {
     "slide_type": "subslide"
    }
   },
   "source": [
    "# Example: the Big Mac index"
   ]
  },
  {
   "cell_type": "markdown",
   "id": "68c4ecae",
   "metadata": {},
   "source": [
    "https://github.com/TheEconomist/big-mac-data"
   ]
  },
  {
   "cell_type": "code",
   "execution_count": null,
   "id": "24b1c2f2",
   "metadata": {
    "ExecuteTime": {
     "end_time": "2023-10-09T13:40:08.799548Z",
     "start_time": "2023-10-09T13:40:07.723813Z"
    }
   },
   "outputs": [],
   "source": [
    "url = \"https://github.com/TheEconomist/big-mac-data/raw/master/source-data/big-mac-source-data.csv\"\n",
    "big_mac = s.get(url).text\n",
    "print(big_mac[:300])"
   ]
  },
  {
   "cell_type": "markdown",
   "id": "43c7762a",
   "metadata": {
    "slideshow": {
     "slide_type": "subslide"
    }
   },
   "source": [
    "# Using the csv module"
   ]
  },
  {
   "cell_type": "code",
   "execution_count": null,
   "id": "67fe3321",
   "metadata": {
    "ExecuteTime": {
     "end_time": "2023-10-09T13:40:10.993625Z",
     "start_time": "2023-10-09T13:40:10.986013Z"
    }
   },
   "outputs": [],
   "source": [
    "from io import StringIO # Make a string look like a file\n",
    "import csv\n",
    "with StringIO(big_mac) as csvfile:\n",
    "    r = csv.reader(csvfile)\n",
    "    for row in r:\n",
    "        if(row[0] == \"France\"):\n",
    "            print(str(row[0]) + ',' + str(row[3]) + ',' + str(row[6]))"
   ]
  },
  {
   "cell_type": "markdown",
   "id": "b0a0af89",
   "metadata": {
    "slideshow": {
     "slide_type": "subslide"
    }
   },
   "source": [
    "# Using the csv module"
   ]
  },
  {
   "cell_type": "code",
   "execution_count": null,
   "id": "22072bd6",
   "metadata": {
    "ExecuteTime": {
     "end_time": "2023-10-09T13:40:13.580892Z",
     "start_time": "2023-10-09T13:40:13.574094Z"
    }
   },
   "outputs": [],
   "source": [
    "with StringIO(big_mac) as csvfile:\n",
    "    r = csv.reader(csvfile)\n",
    "    for i, row in enumerate(r):\n",
    "        print(str(row[0]) + ',' + str(row[3]) + ',' + str(row[6]))\n",
    "        if i>6:\n",
    "            break"
   ]
  },
  {
   "cell_type": "markdown",
   "id": "5ca35b62",
   "metadata": {
    "slideshow": {
     "slide_type": "subslide"
    }
   },
   "source": [
    "# Using the csv module"
   ]
  },
  {
   "cell_type": "code",
   "execution_count": null,
   "id": "4f800c4a",
   "metadata": {
    "ExecuteTime": {
     "end_time": "2023-10-09T13:40:16.981012Z",
     "start_time": "2023-10-09T13:40:16.963762Z"
    }
   },
   "outputs": [],
   "source": [
    "with StringIO(big_mac) as csvfile:\n",
    "    r = csv.DictReader(csvfile)\n",
    "    for row in r:\n",
    "        if row['currency_code'] == 'EUR' and '2022-07' in row['date']:\n",
    "            print(row['name'], row['local_price'])"
   ]
  },
  {
   "cell_type": "markdown",
   "id": "ea6d3ce9",
   "metadata": {
    "slideshow": {
     "slide_type": "subslide"
    }
   },
   "source": [
    "# Pandas"
   ]
  },
  {
   "cell_type": "code",
   "execution_count": null,
   "id": "921ddcb7",
   "metadata": {
    "ExecuteTime": {
     "end_time": "2023-10-09T13:40:19.247707Z",
     "start_time": "2023-10-09T13:40:18.955716Z"
    }
   },
   "outputs": [],
   "source": [
    "import pandas as pd\n",
    "with StringIO(big_mac) as csvfile:\n",
    "    df = pd.read_csv(csvfile)\n",
    "df"
   ]
  },
  {
   "cell_type": "markdown",
   "id": "4faefa7c",
   "metadata": {
    "slideshow": {
     "slide_type": "subslide"
    }
   },
   "source": [
    "# Pandas"
   ]
  },
  {
   "cell_type": "markdown",
   "id": "1da624a9",
   "metadata": {
    "cell_style": "split"
   },
   "source": [
    "Method `describe` lists the statistical properties of each attribute."
   ]
  },
  {
   "cell_type": "code",
   "execution_count": null,
   "id": "761b3cb5",
   "metadata": {
    "ExecuteTime": {
     "end_time": "2023-10-09T13:40:21.754016Z",
     "start_time": "2023-10-09T13:40:21.736901Z"
    },
    "cell_style": "split"
   },
   "outputs": [],
   "source": [
    "df.describe()"
   ]
  },
  {
   "cell_type": "markdown",
   "id": "7b5e01d2",
   "metadata": {
    "slideshow": {
     "slide_type": "subslide"
    }
   },
   "source": [
    "# Pandas"
   ]
  },
  {
   "cell_type": "markdown",
   "id": "b78a96e6",
   "metadata": {
    "cell_style": "split"
   },
   "source": [
    "Method `apply` allows to apply a formula. Example: compute prices in dollars."
   ]
  },
  {
   "cell_type": "code",
   "execution_count": null,
   "id": "a4dc3dd2",
   "metadata": {
    "ExecuteTime": {
     "end_time": "2023-10-09T13:40:24.132715Z",
     "start_time": "2023-10-09T13:40:24.115025Z"
    },
    "cell_style": "split"
   },
   "outputs": [],
   "source": [
    "import numpy as np\n",
    "df['dollar_price'] = df.apply(lambda r: r['local_price']/r['dollar_ex']\n",
    "                                              if r['dollar_ex'] else np.nan, axis=1)"
   ]
  },
  {
   "cell_type": "markdown",
   "id": "b5748d59",
   "metadata": {
    "slideshow": {
     "slide_type": "subslide"
    }
   },
   "source": [
    "# Pandas"
   ]
  },
  {
   "cell_type": "code",
   "execution_count": null,
   "id": "2b608a20",
   "metadata": {
    "ExecuteTime": {
     "end_time": "2023-10-09T13:40:26.506665Z",
     "start_time": "2023-10-09T13:40:26.497011Z"
    }
   },
   "outputs": [],
   "source": [
    "df['dollar_price'].describe()"
   ]
  },
  {
   "cell_type": "markdown",
   "id": "845b7516",
   "metadata": {
    "slideshow": {
     "slide_type": "subslide"
    }
   },
   "source": [
    "# Pandas"
   ]
  },
  {
   "cell_type": "code",
   "execution_count": null,
   "id": "790704c1",
   "metadata": {
    "ExecuteTime": {
     "end_time": "2023-10-09T13:40:28.397707Z",
     "start_time": "2023-10-09T13:40:28.392154Z"
    },
    "cell_style": "split"
   },
   "outputs": [],
   "source": [
    "df.iloc[df['dollar_price'].idxmax()]"
   ]
  },
  {
   "cell_type": "code",
   "execution_count": null,
   "id": "44907691",
   "metadata": {
    "ExecuteTime": {
     "end_time": "2023-10-09T13:40:35.821803Z",
     "start_time": "2023-10-09T13:40:35.813949Z"
    },
    "cell_style": "split"
   },
   "outputs": [],
   "source": [
    "df.iloc[df['dollar_price'].idxmin()]"
   ]
  },
  {
   "cell_type": "markdown",
   "id": "cf0667a2",
   "metadata": {
    "slideshow": {
     "slide_type": "subslide"
    }
   },
   "source": [
    "# Pandas"
   ]
  },
  {
   "cell_type": "code",
   "execution_count": null,
   "id": "16e12fdc",
   "metadata": {
    "ExecuteTime": {
     "end_time": "2023-10-09T13:40:38.515186Z",
     "start_time": "2023-10-09T13:40:37.869682Z"
    }
   },
   "outputs": [],
   "source": [
    "from matplotlib import pyplot as plt\n",
    "f, a = plt.subplots(figsize=(15, 5))\n",
    "df.boxplot(column=['dollar_price'], by='date', figsize=(15, 5), rot=45, ax=a)\n",
    "a.set_xticklabels(labels=a.get_xticklabels(), ha='right')\n",
    "plt.ylim([0, 10])\n",
    "plt.show()"
   ]
  },
  {
   "cell_type": "markdown",
   "id": "d5ccfbc6",
   "metadata": {
    "slideshow": {
     "slide_type": "slide"
    }
   },
   "source": [
    "#### Other formats"
   ]
  },
  {
   "cell_type": "markdown",
   "id": "6730c5e9",
   "metadata": {
    "slideshow": {
     "slide_type": "subslide"
    }
   },
   "source": [
    "# Other formats"
   ]
  },
  {
   "cell_type": "markdown",
   "id": "4cff8005",
   "metadata": {},
   "source": [
    "- All widely used formats have a Python package to manipulate them\n",
    "- xls, xlsx -> pandas, xlswriter\n",
    "- pdf -> pdfminer.six\n",
    "- ... (look for it when you need it)"
   ]
  },
  {
   "cell_type": "markdown",
   "id": "ec661c0f",
   "metadata": {
    "slideshow": {
     "slide_type": "slide"
    }
   },
   "source": [
    "#### Python packages dedicated to a website"
   ]
  },
  {
   "cell_type": "markdown",
   "id": "197d9616",
   "metadata": {
    "slideshow": {
     "slide_type": "subslide"
    }
   },
   "source": [
    "# Wikipedia"
   ]
  },
  {
   "cell_type": "code",
   "execution_count": null,
   "id": "9511be4a",
   "metadata": {
    "ExecuteTime": {
     "end_time": "2023-10-09T13:40:44.618748Z",
     "start_time": "2023-10-09T13:40:42.954457Z"
    }
   },
   "outputs": [],
   "source": [
    "from wikipedia import page\n",
    "r = page(\"Python (programming language)\")\n",
    "print(r.summary)"
   ]
  },
  {
   "cell_type": "markdown",
   "id": "06252572",
   "metadata": {
    "slideshow": {
     "slide_type": "subslide"
    }
   },
   "source": [
    "# Google Scholar"
   ]
  },
  {
   "cell_type": "code",
   "execution_count": null,
   "id": "dad50fab",
   "metadata": {
    "ExecuteTime": {
     "end_time": "2023-10-09T13:40:49.258419Z",
     "start_time": "2023-10-09T13:40:46.183904Z"
    }
   },
   "outputs": [],
   "source": [
    "from scholarly import scholarly\n",
    "searcher = next(scholarly.search_author(\"Sebastien Tixeuil\"))\n",
    "searcher['interests']"
   ]
  },
  {
   "cell_type": "code",
   "execution_count": null,
   "id": "63e8d29c",
   "metadata": {
    "ExecuteTime": {
     "end_time": "2023-10-09T13:40:52.531894Z",
     "start_time": "2023-10-09T13:40:50.688154Z"
    }
   },
   "outputs": [],
   "source": [
    "searcher = next(scholarly.search_author(\"Fabien Mathieu\"))\n",
    "searcher['interests']"
   ]
  },
  {
   "cell_type": "markdown",
   "id": "ce2f8c47",
   "metadata": {
    "slideshow": {
     "slide_type": "slide"
    }
   },
   "source": [
    "## Server Side... next week!"
   ]
  }
 ],
 "metadata": {
  "celltoolbar": "Diaporama",
  "kernelspec": {
   "display_name": "Python 3 (ipykernel)",
   "language": "python",
   "name": "python3"
  },
  "language_info": {
   "codemirror_mode": {
    "name": "ipython",
    "version": 3
   },
   "file_extension": ".py",
   "mimetype": "text/x-python",
   "name": "python",
   "nbconvert_exporter": "python",
   "pygments_lexer": "ipython3",
   "version": "3.11.5"
  },
  "toc": {
   "base_numbering": 1,
   "nav_menu": {},
   "number_sections": true,
   "sideBar": true,
   "skip_h1_title": true,
   "title_cell": "Table of Contents",
   "title_sidebar": "Contents",
   "toc_cell": false,
   "toc_position": {
    "height": "calc(100% - 180px)",
    "left": "10px",
    "top": "150px",
    "width": "323.797px"
   },
   "toc_section_display": true,
   "toc_window_display": false
  }
 },
 "nbformat": 4,
 "nbformat_minor": 5
}

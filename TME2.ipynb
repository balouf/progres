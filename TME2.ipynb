{
 "cells": [
  {
   "cell_type": "markdown",
   "id": "294988a5",
   "metadata": {},
   "source": [
    "# PROGRES - TME2\n",
    "\n",
    "Fabien Mathieu - fabien.mathieu@normalesup.org\n",
    "\n",
    "Sébastien Tixeuil - Sebastien.Tixeuil@lip6.fr"
   ]
  },
  {
   "cell_type": "markdown",
   "id": "f9046b32",
   "metadata": {},
   "source": [
    "**Note**: \n",
    "- Star exercises (indicated by *) should only be done if all other exercises have been completed. You \n",
    "don't have to do them if you do not want."
   ]
  },
  {
   "cell_type": "markdown",
   "id": "495b0fc5",
   "metadata": {},
   "source": [
    "# Rules"
   ]
  },
  {
   "cell_type": "markdown",
   "id": "17f73082",
   "metadata": {},
   "source": [
    "1. Cite your sources\n",
    "2. One file to rule them all\n",
    "3. Explain\n",
    "4. Execute your code\n",
    "\n",
    "\n",
    "https://github.com/balouf/progres/blob/main/rules.ipynb"
   ]
  },
  {
   "cell_type": "markdown",
   "id": "a01a42a0",
   "metadata": {},
   "source": [
    "# Exercice 1 - Regular Expressions"
   ]
  },
  {
   "cell_type": "markdown",
   "id": "e777c51e",
   "metadata": {},
   "source": [
    "Consider the following list:"
   ]
  },
  {
   "cell_type": "code",
   "execution_count": 1,
   "id": "cd42208b",
   "metadata": {
    "ExecuteTime": {
     "end_time": "2024-10-11T07:03:31.166734Z",
     "start_time": "2024-10-11T07:03:31.162693Z"
    }
   },
   "outputs": [],
   "source": [
    "L = ['marie.Dupond@gmail.com', 'lucie.Durand@wanadoo.fr', \n",
    "'Sophie.Parmentier @@ gmail.com', 'franck.Dupres.gmail.com', \n",
    "'pierre.Martin@lip6 .fr ',' eric.Deschamps@gmail.com '] "
   ]
  },
  {
   "cell_type": "markdown",
   "id": "d522f37b",
   "metadata": {},
   "source": [
    "- Which of these entries are valid?\n",
    "- Use regular expressions to identify valid *gmail* addresses and display them. "
   ]
  },
  {
   "cell_type": "markdown",
   "id": "8031d815",
   "metadata": {},
   "source": [
    "Answer"
   ]
  },
  {
   "cell_type": "markdown",
   "id": "c7f803bc",
   "metadata": {},
   "source": [
    "The valid entries are..."
   ]
  },
  {
   "cell_type": "code",
   "execution_count": 2,
   "id": "e58857cd",
   "metadata": {
    "ExecuteTime": {
     "end_time": "2024-10-11T07:03:31.182237Z",
     "start_time": "2024-10-11T07:03:31.167743Z"
    }
   },
   "outputs": [],
   "source": [
    "import re \n",
    "def true_gmail(mail_list):\n",
    "    ..."
   ]
  },
  {
   "cell_type": "code",
   "execution_count": 4,
   "id": "816fd798",
   "metadata": {
    "ExecuteTime": {
     "end_time": "2024-10-11T07:03:31.210273Z",
     "start_time": "2024-10-11T07:03:31.196497Z"
    }
   },
   "outputs": [
    {
     "data": {
      "text/plain": [
       "['marie.Dupond@gmail.com', 'eric.Deschamps@gmail.com']"
      ]
     },
     "execution_count": 4,
     "metadata": {},
     "output_type": "execute_result"
    }
   ],
   "source": [
    "true_gmail(L)"
   ]
  },
  {
   "cell_type": "markdown",
   "id": "5375b8f3",
   "metadata": {},
   "source": [
    "- Use regular expressions to check if a string ends with a number. "
   ]
  },
  {
   "cell_type": "markdown",
   "id": "c64c3615",
   "metadata": {},
   "source": [
    "Answer"
   ]
  },
  {
   "cell_type": "code",
   "execution_count": 5,
   "id": "13acfb67",
   "metadata": {
    "ExecuteTime": {
     "end_time": "2024-10-11T07:03:31.221802Z",
     "start_time": "2024-10-11T07:03:31.211282Z"
    }
   },
   "outputs": [],
   "source": [
    "def ends_with_number(txt):\n",
    "    ..."
   ]
  },
  {
   "cell_type": "code",
   "execution_count": 7,
   "id": "ce9da640",
   "metadata": {
    "ExecuteTime": {
     "end_time": "2024-10-11T07:03:31.246076Z",
     "start_time": "2024-10-11T07:03:31.235381Z"
    }
   },
   "outputs": [
    {
     "data": {
      "text/plain": [
       "False"
      ]
     },
     "execution_count": 7,
     "metadata": {},
     "output_type": "execute_result"
    }
   ],
   "source": [
    "ends_with_number('to42to')"
   ]
  },
  {
   "cell_type": "code",
   "execution_count": 8,
   "id": "6aa5f293",
   "metadata": {
    "ExecuteTime": {
     "end_time": "2024-10-11T07:03:31.257782Z",
     "start_time": "2024-10-11T07:03:31.248084Z"
    }
   },
   "outputs": [
    {
     "data": {
      "text/plain": [
       "True"
      ]
     },
     "execution_count": 8,
     "metadata": {},
     "output_type": "execute_result"
    }
   ],
   "source": [
    "ends_with_number('to42to666')"
   ]
  },
  {
   "cell_type": "markdown",
   "id": "50bde5d7",
   "metadata": {},
   "source": [
    "- Use regular expressions to remove problematic zeros from an IPv4 address expressed as a \n",
    "string. (example: \"216.08.094.196\" should become \"216.8.94.196\", but \"216.80.140.196\" \n",
    "should remain \"216.80.140.196\"). "
   ]
  },
  {
   "cell_type": "markdown",
   "id": "27f606b5",
   "metadata": {},
   "source": [
    "Answer"
   ]
  },
  {
   "cell_type": "code",
   "execution_count": 9,
   "id": "8d2f77ce",
   "metadata": {
    "ExecuteTime": {
     "end_time": "2024-10-11T07:03:31.271323Z",
     "start_time": "2024-10-11T07:03:31.261798Z"
    }
   },
   "outputs": [],
   "source": [
    "def normalize_ip(txt):\n",
    "    ..."
   ]
  },
  {
   "cell_type": "code",
   "execution_count": 11,
   "id": "088d349e",
   "metadata": {
    "ExecuteTime": {
     "end_time": "2024-10-11T07:03:31.295246Z",
     "start_time": "2024-10-11T07:03:31.284633Z"
    }
   },
   "outputs": [
    {
     "data": {
      "text/plain": [
       "'216.0.94.196'"
      ]
     },
     "execution_count": 11,
     "metadata": {},
     "output_type": "execute_result"
    }
   ],
   "source": [
    "normalize_ip(\"216.0.094.196\")"
   ]
  },
  {
   "cell_type": "code",
   "execution_count": 12,
   "id": "57c2cb4b",
   "metadata": {
    "ExecuteTime": {
     "end_time": "2024-10-11T07:03:31.309262Z",
     "start_time": "2024-10-11T07:03:31.296255Z"
    }
   },
   "outputs": [
    {
     "data": {
      "text/plain": [
       "'216.8.94.196'"
      ]
     },
     "execution_count": 12,
     "metadata": {},
     "output_type": "execute_result"
    }
   ],
   "source": [
    "normalize_ip(\"216.08.094.196\")"
   ]
  },
  {
   "cell_type": "code",
   "execution_count": 13,
   "id": "b4b6be3f",
   "metadata": {
    "ExecuteTime": {
     "end_time": "2024-10-11T07:03:31.350525Z",
     "start_time": "2024-10-11T07:03:31.313271Z"
    }
   },
   "outputs": [
    {
     "data": {
      "text/plain": [
       "'216.80.140.196'"
      ]
     },
     "execution_count": 13,
     "metadata": {},
     "output_type": "execute_result"
    }
   ],
   "source": [
    "normalize_ip(\"216.80.140.196\")"
   ]
  },
  {
   "cell_type": "markdown",
   "id": "defac980",
   "metadata": {},
   "source": [
    "- Use regular expressions to transform a date from MM-DD-YYYY format to DD-MM-YYYY \n",
    "format. (example \"11-06-2020\" should become \"06-11-2020\"). Optionally*, do the same thing using the `datetime` package."
   ]
  },
  {
   "cell_type": "markdown",
   "id": "284c7974",
   "metadata": {},
   "source": [
    "Answer"
   ]
  },
  {
   "cell_type": "code",
   "execution_count": 14,
   "id": "01892f64",
   "metadata": {
    "ExecuteTime": {
     "end_time": "2024-10-11T07:03:31.360858Z",
     "start_time": "2024-10-11T07:03:31.356546Z"
    }
   },
   "outputs": [],
   "source": [
    "def switch_md(txt):\n",
    "    ..."
   ]
  },
  {
   "cell_type": "code",
   "execution_count": 17,
   "id": "0f731cbc",
   "metadata": {
    "ExecuteTime": {
     "end_time": "2024-10-11T07:03:31.399470Z",
     "start_time": "2024-10-11T07:03:31.386752Z"
    }
   },
   "outputs": [
    {
     "data": {
      "text/plain": [
       "'06-11-2020'"
      ]
     },
     "execution_count": 17,
     "metadata": {},
     "output_type": "execute_result"
    }
   ],
   "source": [
    "switch_md(\"11-06-2020\")"
   ]
  },
  {
   "cell_type": "markdown",
   "id": "4de1a107",
   "metadata": {},
   "source": [
    "# Exercice 2 - Analyze XML"
   ]
  },
  {
   "cell_type": "markdown",
   "id": "b1a77fec",
   "metadata": {},
   "source": [
    "- Write a Python code that retrieves the content of the page at:"
   ]
  },
  {
   "cell_type": "code",
   "execution_count": 18,
   "id": "a640a342",
   "metadata": {
    "ExecuteTime": {
     "end_time": "2024-10-11T07:03:31.410291Z",
     "start_time": "2024-10-11T07:03:31.400475Z"
    }
   },
   "outputs": [],
   "source": [
    "url = \"https://www.w3schools.com/xml/cd_catalog.xml\""
   ]
  },
  {
   "cell_type": "markdown",
   "id": "c371f1f2",
   "metadata": {},
   "source": [
    "- Look at the text content and load as xml."
   ]
  },
  {
   "cell_type": "markdown",
   "id": "cf4d26eb",
   "metadata": {},
   "source": [
    "Answer"
   ]
  },
  {
   "cell_type": "markdown",
   "id": "e22ed90b",
   "metadata": {},
   "source": [
    "- Write a `display_cd` function that displays (i.e. `print`), for a CD: title, artist, country, company, year.\n",
    "- Display all CDs."
   ]
  },
  {
   "cell_type": "markdown",
   "id": "e5c1c3b4",
   "metadata": {},
   "source": [
    "Answer"
   ]
  },
  {
   "cell_type": "code",
   "execution_count": 21,
   "id": "0ee85351",
   "metadata": {
    "ExecuteTime": {
     "end_time": "2024-10-11T07:03:31.730469Z",
     "start_time": "2024-10-11T07:03:31.712761Z"
    },
    "slideshow": {
     "slide_type": ""
    }
   },
   "outputs": [],
   "source": [
    "def display_cd(entry):\n",
    "    ..."
   ]
  },
  {
   "cell_type": "markdown",
   "id": "3c94c7d5",
   "metadata": {},
   "source": [
    "- Display all 1980s CDs. "
   ]
  },
  {
   "cell_type": "markdown",
   "id": "8d207ba3",
   "metadata": {},
   "source": [
    "Answer"
   ]
  },
  {
   "cell_type": "markdown",
   "id": "d395138d",
   "metadata": {},
   "source": [
    "- Display all British CDs."
   ]
  },
  {
   "cell_type": "markdown",
   "id": "ae63660b",
   "metadata": {},
   "source": [
    "Answer"
   ]
  },
  {
   "cell_type": "markdown",
   "id": "4dda5235",
   "metadata": {},
   "source": [
    "# Exercice 3 - Analyze JSON"
   ]
  },
  {
   "cell_type": "markdown",
   "id": "23b24d30",
   "metadata": {
    "slideshow": {
     "slide_type": ""
    }
   },
   "source": [
    "- Write a Python program that gets the file of filming locations in Paris at: "
   ]
  },
  {
   "cell_type": "code",
   "execution_count": 25,
   "id": "de719209",
   "metadata": {
    "ExecuteTime": {
     "end_time": "2024-10-11T07:03:31.786738Z",
     "start_time": "2024-10-11T07:03:31.778307Z"
    }
   },
   "outputs": [],
   "source": [
    "url = \"https://opendata.paris.fr/explore/dataset/lieux-de-tournage-a-paris/download/?format=json&timezone=Europe/Berlin&lang=fr\""
   ]
  },
  {
   "cell_type": "markdown",
   "id": "343174e2",
   "metadata": {},
   "source": [
    "- How many entries have you got?"
   ]
  },
  {
   "cell_type": "markdown",
   "id": "9aa1eca6",
   "metadata": {},
   "source": [
    "Answer"
   ]
  },
  {
   "cell_type": "markdown",
   "id": "4b6d23f6",
   "metadata": {},
   "source": [
    "- Analyze the JSON file: what is its structure?\n",
    "- Write a function that converts an entry in a string that shows director, title, district, start date, end date, and geographic coordinates.\n",
    "- Convert all entries in strings (warning: some entries may have issues).\n",
    "- Display the first 20 entries."
   ]
  },
  {
   "cell_type": "markdown",
   "id": "9f051f79",
   "metadata": {},
   "source": [
    "Answer"
   ]
  },
  {
   "cell_type": "code",
   "execution_count": 27,
   "id": "f48e3fd8",
   "metadata": {
    "ExecuteTime": {
     "end_time": "2024-10-11T07:03:35.576923Z",
     "start_time": "2024-10-11T07:03:35.572252Z"
    },
    "slideshow": {
     "slide_type": ""
    }
   },
   "outputs": [],
   "source": [
    "def display_loc(entry):\n",
    "    ..."
   ]
  },
  {
   "cell_type": "code",
   "execution_count": 29,
   "id": "f86ee18d",
   "metadata": {
    "ExecuteTime": {
     "end_time": "2024-10-11T07:03:35.670903Z",
     "start_time": "2024-10-11T07:03:35.614408Z"
    }
   },
   "outputs": [
    {
     "name": "stdout",
     "output_type": "stream",
     "text": [
      "\"Police\", by Anne Fontaine, from 2019-03-08 to 2019-03-09, in 75012 ([2.3993407414840595, 48.83798025216695])\n",
      "\"L'Attaché\", by Eli Ben-David, from 2019-03-14 to 2019-03-14, in 75018 ([2.3444346117556014, 48.88730126357826])\n",
      "\"En Attendant Qui ? Mai\", by Marc Recuenco, from 2019-06-11 to 2019-06-11, in 75017 ([2.3059527844268386, 48.883564598239715])\n",
      "\"Tout Simplement Noir\", by Jean Pascal Zadi Et John Waxxx, from 2019-05-23 to 2019-05-23, in 75005 ([2.350245473422228, 48.84859141991906])\n",
      "\"Une Famille Formidable\", by Nicolas Herdt, from 2018-08-06 to 2018-08-06, in 75003 ([2.363650294215209, 48.860250402104214])\n",
      "\"Une Famille Formidable\", by Nicolas Herdt, from 2018-08-06 to 2018-08-06, in 75003 ([2.362155495714307, 48.86295435066187])\n",
      "\"Les Mignonnes\", by Maïmouna Doucouré, from 2018-08-07 to 2018-08-07, in 75019 ([2.3820880704061613, 48.88213499024688])\n",
      "\"Lebowitz Contre Lebowitz/9 A 12\", by Christophe Barraud, from 2016-11-09 to 2016-11-09, in 75013 ([2.3593549995397, 48.8387789995482])\n",
      "\"Leo Mattei/14 Et 15\", by Nicolas Herdt, from 2016-10-06 to 2016-10-06, in 75004 ([2.36566899993831, 48.84726000024456])\n",
      "\"10%/Saison 2\", by Jeanne Herry, from 2016-09-14 to 2016-09-14, in 75019 ([2.3846879994691474, 48.87377700000735])\n",
      "\"War Machine\", by David Michod, from 2016-01-30 to 2016-01-30, in 75001 ([2.338080999447199, 48.86186300028194])\n",
      "\"Stella Est Amoureuse\", by Sylvie Verheyde, from 2020-12-22 to 2020-12-22, in 75013 ([2.3507621803435717, 48.828828099592])\n",
      "\"Stella Est Amoureuse\", by Sylvie Verheyde, from 2020-12-22 to 2020-12-22, in 75013 ([2.3513781872736765, 48.82793217601982])\n",
      "\"Stella Est Amoureuse\", by Sylvie Verheyde, from 2020-12-22 to 2020-12-22, in 75013 ([2.3513781872736765, 48.82793217601982])\n",
      "\"Stella Est Amoureuse\", by Sylvie Verheyde, from 2020-12-22 to 2020-12-22, in 75001 ([2.3474874555972582, 48.86046194822874])\n",
      "\"Stella Est Amoureuse\", by Sylvie Verheyde, from 2020-12-22 to 2020-12-22, in 75001 ([2.3477222716177035, 48.86094046750017])\n",
      "\"J'Accuse\", by Roman Polanski, from 2019-02-25 to 2019-02-25, in 75015 ([2.3099660729815525, 48.84698000789973])\n",
      "\"Le Bazar De La Charité\", by Alexandre Laurent, from 2019-03-14 to 2019-03-15, in 75008 ([2.3124555080176545, 48.87963776953965])\n",
      "\"Le Bazar De La Charité\", by Alexandre Laurent, from 2019-03-18 to 2019-03-18, in 75008 ([2.311239089679555, 48.88051651542833])\n",
      "\"Les Heroiques\", by Maxime Roy, from 2019-03-11 to 2019-03-12, in 75010 ([2.361435072157541, 48.88235203765779])\n"
     ]
    }
   ],
   "source": [
    "all_entries = [display_loc(e) for e in locs]\n",
    "print('\\n'.join(all_entries[:20]))"
   ]
  },
  {
   "cell_type": "markdown",
   "id": "c31bb085",
   "metadata": {},
   "source": [
    "- A same movie can have multiple shooting locations. Make a list of movies, where each entry contains the movie title, its director, and shootings locations (district, start date, end date).\n",
    "- How many movies do you have?\n",
    "- Write a function that converts a movie into a string that shows director, title, and shootings.\n",
    "- Convert all movies in strings.\n",
    "- Display the first 20 entries."
   ]
  },
  {
   "cell_type": "markdown",
   "id": "1023a234",
   "metadata": {},
   "source": [
    "Answer"
   ]
  },
  {
   "cell_type": "code",
   "execution_count": 30,
   "id": "f65854ff",
   "metadata": {
    "ExecuteTime": {
     "end_time": "2024-10-11T07:03:35.675898Z",
     "start_time": "2024-10-11T07:03:35.672816Z"
    },
    "slideshow": {
     "slide_type": "-"
    }
   },
   "outputs": [],
   "source": [
    "movies = dict()\n",
    "# Regroup locations per movie\n",
    "movies = [m for m in movies.values()]"
   ]
  },
  {
   "cell_type": "code",
   "execution_count": 32,
   "id": "5cb17c8b",
   "metadata": {
    "ExecuteTime": {
     "end_time": "2024-10-11T07:03:35.728960Z",
     "start_time": "2024-10-11T07:03:35.721811Z"
    }
   },
   "outputs": [
    {
     "data": {
      "text/plain": [
       "1389"
      ]
     },
     "execution_count": 32,
     "metadata": {},
     "output_type": "execute_result"
    }
   ],
   "source": [
    "len(movies)"
   ]
  },
  {
   "cell_type": "code",
   "execution_count": 33,
   "id": "c07db010",
   "metadata": {
    "ExecuteTime": {
     "end_time": "2024-10-11T07:03:35.740289Z",
     "start_time": "2024-10-11T07:03:35.730968Z"
    },
    "slideshow": {
     "slide_type": "-"
    }
   },
   "outputs": [],
   "source": [
    "def display_movie(movie):\n",
    "    ..."
   ]
  },
  {
   "cell_type": "code",
   "execution_count": 35,
   "id": "b5e8374d",
   "metadata": {
    "ExecuteTime": {
     "end_time": "2024-10-11T07:03:35.773580Z",
     "start_time": "2024-10-11T07:03:35.753086Z"
    }
   },
   "outputs": [
    {
     "name": "stdout",
     "output_type": "stream",
     "text": [
      "\"Police\", by Anne Fontaine. Shootings: 75012 from 2019-03-08 to 2019-03-09; 75012 from 2019-03-08 to 2019-03-09; 75012 from 2019-03-11 to 2019-03-12; 75012 from 2019-04-10 to 2019-04-11; 75011 from 2019-03-27 to 2019-03-27; 75019 from 2019-04-08 to 2019-04-09; 75020 from 2019-03-27 to 2019-03-27; 75012 from 2019-03-07 to 2019-03-08; 75012 from 2019-03-28 to 2019-03-28; 75019 from 2019-03-28 to 2019-03-28; 75012 from 2019-03-25 to 2019-03-25.\n",
      "\"L'Attaché\", by Eli Ben-David. Shootings: 75018 from 2019-03-14 to 2019-03-14; 75018 from 2019-03-14 to 2019-03-14; 75012 from 2019-03-12 to 2019-03-12; 75009 from 2019-03-12 to 2019-03-12; 75001 from 2019-03-12 to 2019-03-12; 75005 from 2019-03-15 to 2019-03-15; 75004 from 2019-03-20 to 2019-03-20; 75004 from 2019-03-16 to 2019-03-16; 75018 from 2019-03-14 to 2019-03-15; 75007 from 2019-03-13 to 2019-03-13; 75010 from 2019-03-12 to 2019-03-12; 75018 from 2019-03-14 to 2019-03-14; 75003 from 2019-03-16 to 2019-03-16; 75001 from 2019-03-21 to 2019-03-22; 75004 from 2019-03-22 to 2019-03-23; 75005 from 2019-03-12 to 2019-03-12; 75010 from 2019-03-12 to 2019-03-12; 75001 from 2019-03-15 to 2019-03-16; 75004 from 2019-03-16 to 2019-03-16.\n",
      "\"En Attendant Qui ? Mai\", by Marc Recuenco. Shootings: 75017 from 2019-06-11 to 2019-06-11; 75017 from 2019-06-10 to 2019-06-10; 75017 from 2019-06-15 to 2019-06-15; 75017 from 2019-06-22 to 2019-06-23; 75005 from 2019-06-17 to 2019-06-18; 75005 from 2019-06-23 to 2019-06-23; 75017 from 2019-06-13 to 2019-06-13; 75017 from 2019-06-06 to 2019-06-07; 75017 from 2019-06-15 to 2019-06-15; 75013 from 2019-06-22 to 2019-06-22; 75017 from 2019-06-22 to 2019-06-23; 75005 from 2019-06-17 to 2019-06-17; 75017 from 2019-06-07 to 2019-06-07; 75017 from 2019-06-11 to 2019-06-11; 75017 from 2019-06-22 to 2019-06-23; 75017 from 2019-06-11 to 2019-06-11.\n",
      "\"Tout Simplement Noir\", by Jean Pascal Zadi Et John Waxxx. Shootings: 75005 from 2019-05-23 to 2019-05-23; 75008 from 2019-06-12 to 2019-06-12; 75010 from 2019-05-30 to 2019-05-30; 75019 from 2019-06-26 to 2019-06-26; 75008 from 2019-06-13 to 2019-06-13; 75020 from 2019-06-04 to 2019-06-04; 75001 from 2019-06-28 to 2019-06-28; 75015 from 2019-07-05 to 2019-07-05; 75007 from 2019-07-05 to 2019-07-05; 75002 from 2019-06-16 to 2019-06-17; 75020 from 2019-06-04 to 2019-06-04; 75007 from 2019-05-30 to 2019-05-31; 75002 from 2019-06-26 to 2019-06-26; 75009 from 2019-06-24 to 2019-06-24; 75011 from 2019-07-10 to 2019-07-10; 75004 from 2019-05-23 to 2019-05-23; 75002 from 2019-06-24 to 2019-06-24; 75116 from 2019-06-28 to 2019-06-28; 75010 from 2019-05-29 to 2019-05-30; 75005 from 2019-05-23 to 2019-05-23; 75009 from 2019-05-22 to 2019-05-23; 75008 from 2019-06-28 to 2019-06-28; 75015 from 2019-07-05 to 2019-07-05; 75002 from 2019-06-12 to 2019-06-12; 75017 from 2019-06-25 to 2019-06-25; 75009 from 2019-06-12 to 2019-06-12; 75015 from 2019-06-03 to 2019-06-03; 75006 from 2019-07-10 to 2019-07-11; 75007 from 2019-07-05 to 2019-07-05; 75002 from 2019-06-12 to 2019-06-12; 75002 from 2019-06-24 to 2019-06-24; 75001 from 2019-06-24 to 2019-06-24; 75007 from 2019-05-31 to 2019-05-31; 75001 from 2019-06-26 to 2019-06-26; 75007 from 2019-05-31 to 2019-05-31; 75004 from 2019-05-20 to 2019-05-20; 75007 from 2019-07-05 to 2019-07-05.\n",
      "\"Une Famille Formidable\", by Nicolas Herdt. Shootings: 75003 from 2018-08-06 to 2018-08-06; 75003 from 2018-08-06 to 2018-08-06; 75006 from 2018-08-31 to 2018-08-31; 75010 from 2018-08-14 to 2018-08-14; 75013 from 2018-08-24 to 2018-08-24; 75006 from 2018-08-09 to 2018-08-09; 75006 from 2018-08-09 to 2018-08-09; 75007 from 2018-08-13 to 2018-08-13; 75010 from 2018-08-21 to 2018-08-21; 75010 from 2018-08-20 to 2018-08-20; 75006 from 2018-08-31 to 2018-08-31; 75010 from 2018-08-17 to 2018-08-17; 75018 from 2018-08-10 to 2018-08-10; 75015 from 2018-08-09 to 2018-08-09; 75010 from 2018-08-16 to 2018-08-16; 75007 from 2018-08-13 to 2018-08-13; 75020 from 2018-08-28 to 2018-08-29; 75015 from 2018-08-08 to 2018-08-09; 75007 from 2018-07-27 to 2018-07-27; 75003 from 2018-08-07 to 2018-08-08.\n",
      "\"Les Mignonnes\", by Maïmouna Doucouré. Shootings: 75019 from 2018-08-07 to 2018-08-07; 75019 from 2018-08-06 to 2018-08-06; 75019 from 2018-08-22 to 2018-08-27; 75019 from 2018-08-09 to 2018-08-10; 75019 from 2018-08-06 to 2018-08-06; 75019 from 2018-08-22 to 2018-08-27; 75019 from 2018-08-08 to 2018-08-08; 75019 from 2018-08-08 to 2018-08-08; 75019 from 2018-08-06 to 2018-08-06.\n",
      "\"Lebowitz Contre Lebowitz/9 A 12\", by Christophe Barraud. Shootings: 75013 from 2016-11-09 to 2016-11-09; 75018 from 2016-11-04 to 2016-11-04; 75011 from 2016-10-31 to 2016-10-31; 75002 from 2016-11-01 to 2016-11-01; 75011 from 2016-10-31 to 2016-10-31; 75011 from 2016-11-02 to 2016-11-02; 75013 from 2016-11-09 to 2016-11-09; 75018 from 2016-11-04 to 2016-11-04; 75004 from 2016-10-24 to 2016-10-24; 75018 from 2016-11-04 to 2016-11-04; 75016 from 2016-10-25 to 2016-10-26; 75010 from 2016-10-27 to 2016-10-27; 75010 from 2016-10-27 to 2016-10-27; 75018 from 2016-11-04 to 2016-11-04; 75010 from 2016-10-27 to 2016-10-27.\n",
      "\"Leo Mattei/14 Et 15\", by Nicolas Herdt. Shootings: 75004 from 2016-10-06 to 2016-10-06; 75003 from 2016-10-05 to 2016-10-05; 75004 from 2016-10-06 to 2016-10-06; 75003 from 2016-10-05 to 2016-10-05; 75003 from 2016-10-05 to 2016-10-05; 75004 from 2016-10-06 to 2016-10-06; 75009 from 2016-10-01 to 2016-10-01; 75012 from 2016-10-07 to 2016-10-07; 75010 from 2016-10-18 to 2016-10-18; 75010 from 2016-10-18 to 2016-10-18.\n",
      "\"10%/Saison 2\", by Jeanne Herry. Shootings: 75019 from 2016-09-14 to 2016-09-14; 75001 from 2016-09-05 to 2016-09-05; 75019 from 2016-10-03 to 2016-10-03; 75019 from 2016-10-03 to 2016-10-03; 75007 from 2016-10-10 to 2016-10-10; 75001 from 2016-09-05 to 2016-09-05; 75007 from 2016-10-10 to 2016-10-10; 75008 from 2016-09-13 to 2016-09-13; 75008 from 2016-10-17 to 2016-10-18; 75001 from 2016-09-05 to 2016-09-05; 75007 from 2016-10-10 to 2016-10-10; 75016 from 2016-10-13 to 2016-10-13; 75007 from 2016-10-10 to 2016-10-10; 75009 from 2016-09-06 to 2016-09-06; 75001 from 2016-09-05 to 2016-09-05; 75009 from 2016-09-29 to 2016-09-29; 75008 from 2016-09-12 to 2016-09-12; 75019 from 2016-10-03 to 2016-10-03; 75020 from 2016-09-30 to 2016-09-30; 75009 from 2016-09-29 to 2016-09-29; 75019 from 2016-10-03 to 2016-10-03; 75020 from 2016-09-30 to 2016-09-30; 75008 from 2016-10-14 to 2016-10-14; 75009 from 2016-09-06 to 2016-09-06; 75016 from 2016-09-15 to 2016-09-15; 75016 from 2016-09-15 to 2016-09-15; 75002 from 2016-10-03 to 2016-10-03; 75016 from 2016-09-15 to 2016-09-15; 75016 from 2016-09-15 to 2016-09-15; 75016 from 2016-10-13 to 2016-10-13; 75002 from 2016-09-19 to 2016-09-19; 75020 from 2016-09-30 to 2016-09-30; 75009 from 2016-09-29 to 2016-09-29; 75016 from 2016-09-15 to 2016-09-15; 75001 from 2016-09-05 to 2016-09-05; 75020 from 2016-09-30 to 2016-09-30; 75019 from 2016-09-16 to 2016-09-16; 75008 from 2016-10-11 to 2016-10-11; 75009 from 2016-09-29 to 2016-09-29; 75019 from 2016-10-03 to 2016-10-03; 75016 from 2016-10-06 to 2016-10-06; 75007 from 2016-10-10 to 2016-10-10; 75016 from 2016-09-15 to 2016-09-15; 75009 from 2016-09-29 to 2016-09-29; 75019 from 2016-09-16 to 2016-09-16; 75007 from 2016-10-10 to 2016-10-10; 75009 from 2016-09-06 to 2016-09-06; 75020 from 2016-09-30 to 2016-09-30; 75020 from 2016-09-30 to 2016-09-30; 75020 from 2016-09-30 to 2016-09-30; 75016 from 2016-09-15 to 2016-09-15; 75007 from 2016-10-10 to 2016-10-10; 75007 from 2016-10-10 to 2016-10-10; 75007 from 2016-10-10 to 2016-10-10; 75009 from 2016-09-29 to 2016-09-29; 75016 from 2016-10-13 to 2016-10-13; 75016 from 2016-10-13 to 2016-10-13; 75001 from 2016-09-05 to 2016-09-05; 75016 from 2016-10-13 to 2016-10-13; 75009 from 2016-09-06 to 2016-09-06; 75016 from 2016-09-15 to 2016-09-15; 75009 from 2016-09-06 to 2016-09-06; 75020 from 2016-09-14 to 2016-09-14; 75009 from 2016-09-29 to 2016-09-29; 75016 from 2016-10-10 to 2016-10-10; 75009 from 2016-09-29 to 2016-09-29; 75016 from 2016-10-05 to 2016-10-05; 75008 from 2016-09-13 to 2016-09-13; 75020 from 2016-09-30 to 2016-09-30.\n",
      "\"War Machine\", by David Michod. Shootings: 75001 from 2016-01-30 to 2016-01-30; 75009 from 2016-01-30 to 2016-01-30; 75001 from 2016-01-31 to 2016-01-31; 75009 from 2016-01-31 to 2016-01-31; 75008 from 2016-01-31 to 2016-01-31; 75001 from 2016-01-31 to 2016-01-31; 75007 from 2016-01-30 to 2016-01-30; 75009 from 2016-01-31 to 2016-01-31; 75001 from 2016-01-31 to 2016-01-31.\n",
      "\"Stella Est Amoureuse\", by Sylvie Verheyde. Shootings: 75013 from 2020-12-22 to 2020-12-22; 75013 from 2020-12-22 to 2020-12-22; 75013 from 2020-12-22 to 2020-12-22; 75001 from 2020-12-22 to 2020-12-22; 75001 from 2020-12-22 to 2020-12-22; 75005 from 2021-02-24 to 2021-02-24; 75013 from 2021-02-23 to 2021-02-23; 75003 from 2020-12-22 to 2020-12-22; 75013 from 2020-12-22 to 2020-12-22; 75013 from 2020-12-22 to 2020-12-22; 75013 from 2020-12-22 to 2020-12-22; 75001 from 2020-12-22 to 2020-12-22; 75013 from 2021-02-18 to 2021-02-18; 75013 from 2021-02-22 to 2021-02-22; 75013 from 2021-02-16 to 2021-02-16; 75013 from 2021-02-16 to 2021-02-16; 75003 from 2021-02-09 to 2021-02-10; 75013 from 2021-02-23 to 2021-02-23; 75012 from 2021-02-25 to 2021-02-25; 75013 from 2020-12-22 to 2020-12-22; 75013 from 2020-12-22 to 2020-12-22; 75013 from 2020-12-22 to 2020-12-22; 75013 from 2020-12-22 to 2020-12-22; 75003 from 2021-02-11 to 2021-02-12; 75005 from 2021-02-08 to 2021-02-08; 75001 from 2021-02-15 to 2021-02-15; 75005 from 2021-02-24 to 2021-02-24; 75013 from 2021-02-25 to 2021-02-26; 75013 from 2020-12-22 to 2020-12-22; 75005 from 2020-12-22 to 2020-12-22; 75003 from 2021-02-11 to 2021-02-12; 75013 from 2020-12-22 to 2020-12-22; 75013 from 2021-02-23 to 2021-02-23; 75003 from 2020-12-22 to 2020-12-22; 75003 from 2020-12-22 to 2020-12-22; 75013 from 2020-12-22 to 2020-12-22; 75013 from 2020-12-22 to 2020-12-22; 75013 from 2020-12-22 to 2020-12-22; 75013 from 2020-12-22 to 2020-12-22; 75005 from 2021-02-08 to 2021-02-08; 75013 from 2021-02-16 to 2021-02-16; 75013 from 2021-02-23 to 2021-02-23; 75013 from 2021-02-23 to 2021-02-23; 75013 from 2020-12-22 to 2020-12-22; 75013 from 2020-12-22 to 2020-12-22; 75013 from 2020-12-22 to 2020-12-22; 75013 from 2020-12-22 to 2020-12-22; 75013 from 2021-02-18 to 2021-02-18; 75005 from 2021-02-24 to 2021-02-24; 75005 from 2020-12-22 to 2020-12-22; 75013 from 2020-12-22 to 2020-12-22; 75013 from 2020-12-22 to 2020-12-22; 75013 from 2020-12-22 to 2020-12-22; 75013 from 2020-12-22 to 2020-12-22; 75005 from 2021-02-08 to 2021-02-08; 75013 from 2020-12-22 to 2020-12-22; 75013 from 2020-12-22 to 2020-12-22; 75001 from 2020-12-22 to 2020-12-22; 75003 from 2021-02-12 to 2021-02-13; 75013 from 2021-02-16 to 2021-02-16; 75001 from 2021-02-15 to 2021-02-15; 75013 from 2020-12-22 to 2020-12-22; 75001 from 2020-12-22 to 2020-12-22; 75013 from 2021-02-23 to 2021-02-23; 75013 from 2020-12-22 to 2020-12-22; 75005 from 2020-12-22 to 2020-12-22; 75003 from 2020-12-22 to 2020-12-22; 75013 from 2020-12-22 to 2020-12-22; 75013 from 2020-12-22 to 2020-12-22; 75013 from 2020-12-22 to 2020-12-22; 75001 from 2020-12-22 to 2020-12-22; 75013 from 2021-02-23 to 2021-02-23; 75013 from 2020-12-22 to 2020-12-22; 75013 from 2020-12-22 to 2020-12-22; 75013 from 2020-12-22 to 2020-12-22; 75005 from 2021-02-08 to 2021-02-08; 75001 from 2021-02-26 to 2021-02-26; 75013 from 2020-12-22 to 2020-12-22; 75013 from 2020-12-22 to 2020-12-22; 75013 from 2020-12-22 to 2020-12-22; 75003 from 2021-02-10 to 2021-02-11; 75005 from 2021-02-08 to 2021-02-08; 75013 from 2021-02-16 to 2021-02-16; 75013 from 2020-12-22 to 2020-12-22; 75013 from 2021-02-22 to 2021-02-22; 75013 from 2021-02-23 to 2021-02-23; 75005 from 2021-02-24 to 2021-02-24; 75013 from 2020-12-22 to 2020-12-22; 75013 from 2020-12-22 to 2020-12-22; 75001 from 2020-12-22 to 2020-12-22; 75013 from 2020-12-22 to 2020-12-22; 75001 from 2020-12-22 to 2020-12-22; 75013 from 2021-02-23 to 2021-02-23; 75013 from 2020-12-22 to 2020-12-22; 75005 from 2020-12-22 to 2020-12-22; 75013 from 2021-02-16 to 2021-02-16; 75001 from 2021-02-26 to 2021-02-26; 75013 from 2020-12-22 to 2020-12-22; 75013 from 2020-12-22 to 2020-12-22; 75013 from 2020-12-22 to 2020-12-22; 75013 from 2020-12-22 to 2020-12-22; 75005 from 2020-12-22 to 2020-12-22; 75013 from 2021-02-23 to 2021-02-23; 75013 from 2021-02-23 to 2021-02-23; 75013 from 2020-12-22 to 2020-12-22; 75013 from 2020-12-22 to 2020-12-22; 75013 from 2020-12-22 to 2020-12-22; 75001 from 2020-12-22 to 2020-12-22; 75013 from 2020-12-22 to 2020-12-22.\n",
      "\"J'Accuse\", by Roman Polanski. Shootings: 75015 from 2019-02-25 to 2019-02-25; 75002 from 2019-04-25 to 2019-04-25; 75009 from 2019-01-31 to 2019-02-01; 75009 from 2019-02-13 to 2019-02-15; 75009 from 2019-02-13 to 2019-02-15; 75007 from 2018-11-26 to 2018-11-26; 75006 from 2019-03-04 to 2019-03-04; 75015 from 2019-02-22 to 2019-02-22; 75001 from 2019-01-29 to 2019-01-29; 75007 from 2018-11-26 to 2018-11-26; 75016 from 2019-02-20 to 2019-02-21; 75015 from 2019-02-21 to 2019-02-22; 75007 from 2018-11-26 to 2018-11-26; 75015 from 2019-02-26 to 2019-02-27.\n",
      "\"Le Bazar De La Charité\", by Alexandre Laurent. Shootings: 75008 from 2019-03-14 to 2019-03-15; 75008 from 2019-03-18 to 2019-03-18; 75016 from 2019-02-18 to 2019-02-24; 75004 from 2019-03-07 to 2019-03-07; 75008 from 2019-03-19 to 2019-03-19; 75004 from 2019-03-08 to 2019-03-08; 75016 from 2019-02-23 to 2019-02-27; 75004 from 2019-03-04 to 2019-03-05; 75008 from 2019-03-14 to 2019-03-16; 75016 from 2019-02-11 to 2019-02-19; 75004 from 2019-03-07 to 2019-03-07; 75008 from 2019-03-11 to 2019-03-12; 75005 from 2019-03-05 to 2019-03-06; 75004 from 2019-03-06 to 2019-03-06; 75008 from 2019-03-13 to 2019-03-13; 75005 from 2019-03-05 to 2019-03-05; 75005 from 2019-03-04 to 2019-03-04; 75008 from 2019-03-11 to 2019-03-16; 75008 from 2019-03-15 to 2019-03-16.\n",
      "\"Les Heroiques\", by Maxime Roy. Shootings: 75010 from 2019-03-11 to 2019-03-12.\n",
      "\"Paris Brest\", by Philippe Lioret. Shootings: 75006 from 2019-03-15 to 2019-03-15; 75006 from 2019-03-15 to 2019-03-15.\n",
      "\"The Eddy\", by Damien Chazelle. Shootings: 75013 from 2019-05-28 to 2019-05-28; 75012 from 2019-05-28 to 2019-05-28; 75013 from 2019-05-15 to 2019-05-16; 75012 from 2019-05-28 to 2019-05-28; 75020 from 2019-10-11 to 2019-10-12; 75011 from 2019-08-20 to 2019-08-21; 75014 from 2019-05-22 to 2019-05-22; 75016 from 2019-05-24 to 2019-05-24; 75020 from 2019-05-16 to 2019-05-17; 75020 from 2019-09-30 to 2019-10-02; 75020 from 2019-08-14 to 2019-08-14; 75004 from 2019-08-19 to 2019-08-19; 75013 from 2019-05-28 to 2019-05-29; 75012 from 2019-05-31 to 2019-06-01; 75016 from 2019-05-24 to 2019-05-24; 75016 from 2019-09-02 to 2019-09-02; 75020 from 2019-04-11 to 2019-04-11; 75012 from 2019-06-17 to 2019-06-20; 75012 from 2019-08-21 to 2019-08-31; 75020 from 2019-08-20 to 2019-08-20; 75012 from 2019-10-03 to 2019-10-04; 75012 from 2019-09-13 to 2019-09-13; 75013 from 2019-05-28 to 2019-05-28; 75016 from 2019-08-09 to 2019-08-09; 75012 from 2019-06-11 to 2019-06-11; 75020 from 2019-05-07 to 2019-05-07; 75012 from 2019-09-18 to 2019-09-20; 75020 from 2019-09-30 to 2019-10-01; 75013 from 2019-05-28 to 2019-05-28; 75012 from 2019-09-12 to 2019-09-12; 75012 from 2019-09-17 to 2019-09-17; 75116 from 2019-09-24 to 2019-09-24; 75019 from 2019-08-20 to 2019-08-20; 75012 from 2019-09-17 to 2019-09-17; 75014 from 2019-05-23 to 2019-05-23; 75012 from 2019-06-26 to 2019-06-26; 75002 from 2019-07-01 to 2019-07-02; 75012 from 2019-05-29 to 2019-05-29; 75016 from 2019-09-24 to 2019-09-24; 75014 from 2019-05-22 to 2019-05-24; 75019 from 2019-04-11 to 2019-04-11; 75012 from 2019-06-05 to 2019-06-05; 75010 from 2019-07-04 to 2019-07-04; 75116 from 2019-09-02 to 2019-09-03; 75014 from 2019-07-16 to 2019-07-17; 75013 from 2019-05-27 to 2019-05-29; 75012 from 2019-05-28 to 2019-05-28; 75012 from 2019-06-04 to 2019-06-04; 75014 from 2019-08-06 to 2019-08-08; 75012 from 2019-07-15 to 2019-07-16; 75014 from 2019-05-23 to 2019-05-24; 75018 from 2019-06-28 to 2019-06-28; 75013 from 2019-05-27 to 2019-05-28; 75012 from 2019-05-30 to 2019-05-30; 75007 from 2019-04-30 to 2019-05-01; 75020 from 2019-05-07 to 2019-05-08; 75019 from 2019-05-07 to 2019-05-08; 75010 from 2019-08-20 to 2019-08-22; 75019 from 2019-06-24 to 2019-06-25.\n",
      "\"La Sage Femme\", by Martin Provost. Shootings: 75008 from 2016-04-11 to 2016-04-11; 75008 from 2016-04-05 to 2016-04-06; 75018 from 2016-03-31 to 2016-03-31; 75005 from 2016-04-13 to 2016-04-13; 75008 from 2016-04-11 to 2016-04-11; 75018 from 2016-05-24 to 2016-05-24; 75008 from 2016-04-11 to 2016-04-11; 75005 from 2016-04-13 to 2016-04-13; 75018 from 2016-05-24 to 2016-05-24; 75018 from 2016-05-24 to 2016-05-24; 75005 from 2016-04-12 to 2016-04-12; 75008 from 2016-04-11 to 2016-04-11; 75016 from 2016-05-04 to 2016-05-04; 75008 from 2016-04-07 to 2016-04-07; 75018 from 2016-03-31 to 2016-03-31; 75018 from 2016-05-24 to 2016-05-24; 75016 from 2016-05-20 to 2016-05-20.\n",
      "\"Modern Family 11\", by Jim Bagdonas. Shootings: 75005 from 2019-11-15 to 2019-11-15; 75004 from 2019-11-15 to 2019-11-15; 75004 from 2019-11-15 to 2019-11-15; 75004 from 2019-11-15 to 2019-11-15; 75005 from 2019-11-15 to 2019-11-15.\n",
      "\"Alice Nevers\", by Julien Zidi. Shootings: 75116 from 2019-11-19 to 2019-11-19; 75116 from 2019-11-21 to 2019-11-21; 75001 from 2019-11-16 to 2019-11-16; 75009 from 2018-11-20 to 2018-11-21; 75016 from 2018-04-12 to 2018-04-12; 75009 from 2017-01-23 to 2017-01-23; 75001 from 2017-10-16 to 2017-10-16; 75001 from 2017-10-09 to 2017-10-09; 75116 from 2019-11-22 to 2019-11-23; 75014 from 2017-10-18 to 2017-10-18; 75001 from 2018-04-19 to 2018-04-19; 75004 from 2018-04-19 to 2018-04-20; 75014 from 2017-02-06 to 2017-02-06; 75007 from 2018-11-26 to 2018-11-26; 75007 from 2017-01-19 to 2017-01-19; 75007 from 2019-11-25 to 2019-11-25; 75006 from 2018-11-19 to 2018-11-20; 75002 from 2017-10-16 to 2017-10-16; 75013 from 2017-02-06 to 2017-02-06; 75013 from 2017-10-18 to 2017-10-19; 75001 from 2019-11-13 to 2019-11-13; 75007 from 2018-11-26 to 2018-11-26; 75019 from 2019-11-29 to 2019-11-29; 75019 from 2019-11-28 to 2019-11-28; 75009 from 2018-04-04 to 2018-04-05; 75001 from 2019-11-16 to 2019-11-16; 75016 from 2018-04-12 to 2018-04-12; 75014 from 2017-10-18 to 2017-10-18; 75116 from 2019-11-18 to 2019-11-21; 75116 from 2018-11-16 to 2018-11-16; 75014 from 2017-10-18 to 2017-10-19; 75019 from 2017-01-26 to 2017-01-27; 75001 from 2019-11-16 to 2019-11-17; 75013 from 2017-10-19 to 2017-10-19; 75014 from 2017-10-18 to 2017-10-18; 75011 from 2018-04-06 to 2018-04-07; 75001 from 2018-04-19 to 2018-04-19; 75018 from 2017-01-25 to 2017-01-25; 75001 from 2017-02-04 to 2017-02-04; 75001 from 2017-10-09 to 2017-10-09; 75019 from 2019-11-29 to 2019-11-29; 75019 from 2019-11-28 to 2019-11-28; 75001 from 2017-01-19 to 2017-01-19.\n",
      "\"Forte\", by Katia Lewkowicz. Shootings: 75018 from 2018-12-07 to 2018-12-08; 75019 from 2018-12-05 to 2018-12-06; 75018 from 2018-11-08 to 2018-11-08; 75008 from 2018-11-13 to 2018-11-13; 75009 from 2018-12-20 to 2018-12-21; 75019 from 2018-11-08 to 2018-11-08; 75008 from 2018-11-09 to 2018-11-16; 75020 from 2018-11-29 to 2018-11-29; 75001 from 2018-11-28 to 2018-11-28; 75018 from 2018-12-07 to 2018-12-07; 75019 from 2018-11-22 to 2018-11-22; 75116 from 2018-12-06 to 2018-12-08; 75001 from 2018-11-28 to 2018-11-28; 75116 from 2018-12-06 to 2018-12-08; 75018 from 2018-12-10 to 2018-12-10; 75018 from 2018-12-11 to 2018-12-11; 75008 from 2018-11-14 to 2018-11-14; 75008 from 2018-11-09 to 2018-11-09; 75020 from 2018-12-20 to 2018-12-20; 75020 from 2018-11-29 to 2018-11-29; 75020 from 2018-11-29 to 2018-11-29; 75009 from 2018-12-20 to 2018-12-20; 75019 from 2018-12-05 to 2018-12-05; 75019 from 2018-11-20 to 2018-11-26; 75018 from 2018-12-13 to 2018-12-20; 75013 from 2018-12-03 to 2018-12-04; 75001 from 2018-11-28 to 2018-11-28; 75020 from 2018-12-20 to 2018-12-20; 75018 from 2018-12-10 to 2018-12-12; 75020 from 2018-11-30 to 2018-11-30; 75020 from 2018-11-30 to 2018-11-30; 75008 from 2018-11-16 to 2018-11-16; 75009 from 2018-11-27 to 2018-11-27.\n"
     ]
    }
   ],
   "source": [
    "all_movie_displays = [display_movie(m) for m in movies]\n",
    "print('\\n'.join(all_movie_displays[:20]))"
   ]
  },
  {
   "cell_type": "markdown",
   "id": "6188458f",
   "metadata": {},
   "source": [
    "- Display for each district its number of shootings. "
   ]
  },
  {
   "cell_type": "markdown",
   "id": "1f25c863",
   "metadata": {},
   "source": [
    "Answer"
   ]
  },
  {
   "cell_type": "code",
   "execution_count": 37,
   "id": "bbf057c8",
   "metadata": {
    "ExecuteTime": {
     "end_time": "2024-10-11T07:03:35.806608Z",
     "start_time": "2024-10-11T07:03:35.793705Z"
    }
   },
   "outputs": [
    {
     "data": {
      "text/plain": [
       "{'75018': 1043,\n",
       " '75008': 798,\n",
       " '75010': 749,\n",
       " '75019': 745,\n",
       " '75001': 722,\n",
       " '75004': 670,\n",
       " '75013': 658,\n",
       " '75007': 657,\n",
       " '75009': 642,\n",
       " '75011': 641,\n",
       " '75005': 640,\n",
       " '75016': 614,\n",
       " '75012': 596,\n",
       " '75020': 587,\n",
       " '75006': 471,\n",
       " '75116': 421,\n",
       " '75017': 378,\n",
       " '75015': 363,\n",
       " '75014': 321,\n",
       " '75002': 297,\n",
       " '75003': 236,\n",
       " '93500': 6,\n",
       " '94320': 4,\n",
       " '???': 1,\n",
       " '93320': 1,\n",
       " '92220': 1,\n",
       " '92170': 1,\n",
       " '93200': 1,\n",
       " '93000': 1}"
      ]
     },
     "execution_count": 37,
     "metadata": {},
     "output_type": "execute_result"
    }
   ],
   "source": [
    "stats"
   ]
  },
  {
   "cell_type": "markdown",
   "id": "31b58306",
   "metadata": {},
   "source": [
    "# Exercice 4 - Analyze CSV"
   ]
  },
  {
   "cell_type": "markdown",
   "id": "bf2fe268",
   "metadata": {},
   "source": [
    "- Write a Python code retrieves the file of the most loaned titles in libraries in Paris at: "
   ]
  },
  {
   "cell_type": "code",
   "execution_count": 38,
   "id": "663845ac",
   "metadata": {
    "ExecuteTime": {
     "end_time": "2024-10-11T07:03:35.818501Z",
     "start_time": "2024-10-11T07:03:35.808870Z"
    }
   },
   "outputs": [],
   "source": [
    "url = \"https://opendata.paris.fr/explore/dataset/les-titres-les-plus-pretes/download/?format=csv&timezone=Europe/Berlin&lang=en&use_labels_for_header=true&csv_separator=%3B\""
   ]
  },
  {
   "cell_type": "markdown",
   "id": "d3296ee1",
   "metadata": {},
   "source": [
    "Answer"
   ]
  },
  {
   "cell_type": "markdown",
   "id": "8d665083",
   "metadata": {},
   "source": [
    "- Analyze the resulting CSV file to display, for all entries: title, author, and total number of loans."
   ]
  },
  {
   "cell_type": "markdown",
   "id": "7d6c39b1",
   "metadata": {},
   "source": [
    "Answer"
   ]
  },
  {
   "cell_type": "code",
   "execution_count": 40,
   "id": "22877be1",
   "metadata": {
    "ExecuteTime": {
     "end_time": "2024-10-11T07:03:36.078350Z",
     "start_time": "2024-10-11T07:03:36.075015Z"
    },
    "slideshow": {
     "slide_type": "-"
    }
   },
   "outputs": [],
   "source": [
    "def disp_book(book):\n",
    "    ..."
   ]
  },
  {
   "cell_type": "code",
   "execution_count": 42,
   "id": "e1b29eaf",
   "metadata": {
    "ExecuteTime": {
     "end_time": "2024-10-11T07:03:36.115744Z",
     "start_time": "2024-10-11T07:03:36.103623Z"
    }
   },
   "outputs": [
    {
     "name": "stdout",
     "output_type": "stream",
     "text": [
      "\"Razzia\", by Sobral,  Patrick (2938 loans)\n",
      "\"Touche pas à mon veau\", by Guibert,  Emmanuel (2296 loans)\n",
      "\"Max et Lili vont chez papy et mamie\", by Saint-Mars,  Dominique de (5554 loans)\n",
      "\"Lili veut un petit chat\", by Saint-Mars,  Dominique de (5789 loans)\n",
      "\"Max et Lili font du camping\", by Saint-Mars,  Dominique de (5658 loans)\n",
      "\"Lili trouve sa maîtresse méchante\", by Saint-Mars,  Dominique de (4694 loans)\n",
      "\"J'irai où tu iras\", by Lyfoung,  Patricia (4707 loans)\n",
      "\"Les nerfs à vif\", by Nob (2837 loans)\n",
      "\"Je crois que je t'aime\", by Lyfoung,  Patricia (3878 loans)\n",
      "\"Attention tornade\", by Cazenove,  Christophe (2366 loans)\n",
      "\"Max et Lili se posent des questions sur Dieu\", by Saint-Mars,  Dominique de (4823 loans)\n",
      "\"Game over. 13. Toxic affair\", by Midam (2652 loans)\n",
      "\"Les Schtroumpfs et la tempête blanche\", by Jost,  Alain (975 loans)\n",
      "\"On a marché sur la lune\", by Hergé (5674 loans)\n",
      "\"Astérix chez les Bretons\", by Goscinny,  René (3014 loans)\n",
      "\"Parvati\", by Ogaki,  Philippe (2616 loans)\n",
      "\"Les Schtroumpfs et l'arbre d'or\", by Culliford,  Thierry (3460 loans)\n",
      "\"La décision : roman\", by Tuil,  Karine (976 loans)\n",
      "\"Les cahiers d'Esther. 4. Histoires de mes 13 ans\", by Sattouf,  Riad (2171 loans)\n",
      "\"Salut, les zinzins !\", by Cohen,  Jacqueline (4565 loans)\n"
     ]
    }
   ],
   "source": [
    "print('\\n'.join( [disp_book(b) for b in books[:20]]))"
   ]
  },
  {
   "cell_type": "markdown",
   "id": "f1043a24",
   "metadata": {},
   "source": [
    "- Display for each type of document (there can be several entries for the same type of document), the total number of loans for this type. "
   ]
  },
  {
   "cell_type": "markdown",
   "id": "5c6077c6",
   "metadata": {},
   "source": [
    "Answer"
   ]
  },
  {
   "cell_type": "code",
   "execution_count": 44,
   "id": "48b92fb6",
   "metadata": {
    "ExecuteTime": {
     "end_time": "2024-10-11T07:03:36.142096Z",
     "start_time": "2024-10-11T07:03:36.130485Z"
    }
   },
   "outputs": [
    {
     "data": {
      "text/plain": [
       "{'Bande dessinée jeunesse': 2300143,\n",
       " 'Livre jeunesse': 104067,\n",
       " 'Bande dessinée adulte': 59726,\n",
       " 'Livre adulte': 41731,\n",
       " 'Bande dessinée ado': 29819,\n",
       " 'Livre sonore jeunesse': 10630,\n",
       " 'Jeux de société prêtable': 10057,\n",
       " 'Musique jeunesse': 4792,\n",
       " 'Jeux vidéos tous publics Non prêtables': 4235,\n",
       " 'DVD jeunesse': 2471,\n",
       " 'Jeux de société': 1753}"
      ]
     },
     "execution_count": 44,
     "metadata": {},
     "output_type": "execute_result"
    }
   ],
   "source": [
    "stats"
   ]
  },
  {
   "cell_type": "markdown",
   "id": "e2853229",
   "metadata": {},
   "source": [
    "- Display titles in order of profitability (in descending order of the number of loans per copy)."
   ]
  },
  {
   "cell_type": "code",
   "execution_count": 46,
   "id": "26d95669",
   "metadata": {
    "ExecuteTime": {
     "end_time": "2024-10-11T07:03:36.167624Z",
     "start_time": "2024-10-11T07:03:36.158896Z"
    }
   },
   "outputs": [
    {
     "name": "stdout",
     "output_type": "stream",
     "text": [
      "\"Console Nintendo Switch\" (1648 loans, 2 copies)\n",
      "\"Console PlayStation 4\" (2587 loans, 6 copies)\n",
      "\"SOS ouistiti :\" (1868 loans, 5 copies)\n",
      "\"Quatre en ligne :\" (1753 loans, 5 copies)\n",
      "\"Perplexus : : original\" (2254 loans, 8 copies)\n",
      "\"Un enfant chez les schtroumpfs\", by Díaz Vizoso,  Miguel (4504 loans, 43 copies)\n",
      "\"Mon meilleur ami\", by Verron,  Laurent (4662 loans, 47 copies)\n",
      "\"Les vacances infernales\", by Cohen,  Jacqueline (5014 loans, 51 copies)\n",
      "\"Bande de sauvages !\", by Cohen,  Jacqueline (5761 loans, 60 copies)\n",
      "\"Trop, c'est trop !\", by Cohen,  Jacqueline (4504 loans, 47 copies)\n",
      "\"Les fous du mercredi\", by Cohen,  Jacqueline (5169 loans, 54 copies)\n",
      "\"Ca va chauffer !\", by Cohen,  Jacqueline (4071 loans, 44 copies)\n",
      "\"Uno :\" (3136 loans, 34 copies)\n",
      "\"Ca roule !\", by Cohen,  Jacqueline (5763 loans, 63 copies)\n",
      "\"Salut, les zinzins !\", by Cohen,  Jacqueline (4565 loans, 50 copies)\n",
      "\"Les deux terreurs\", by Cohen,  Jacqueline (3999 loans, 44 copies)\n",
      "\"Subliiiimes !\", by Cohen,  Jacqueline (5007 loans, 56 copies)\n",
      "\"Un copieur sachant copier\", by Godi,  Bernard (3481 loans, 39 copies)\n",
      "\"A l'attaque !\", by Cohen,  Jacqueline (4353 loans, 49 copies)\n",
      "\"Tom-Tom et l'impossible Nana\", by Cohen,  Jacqueline (5832 loans, 66 copies)\n"
     ]
    }
   ],
   "source": [
    "print('\\n'.join( [disp_book(b) for b in sorted_books[:20]]))"
   ]
  },
  {
   "cell_type": "markdown",
   "id": "0cf5668b",
   "metadata": {},
   "source": [
    "# Exercice 5 * - Analyze HTML"
   ]
  },
  {
   "cell_type": "markdown",
   "id": "85237162",
   "metadata": {},
   "source": [
    "- Write a Python program that gets the content of the Wikipedia page at: "
   ]
  },
  {
   "cell_type": "code",
   "execution_count": 47,
   "id": "57dc6b89",
   "metadata": {
    "ExecuteTime": {
     "end_time": "2024-10-11T07:03:36.180211Z",
     "start_time": "2024-10-11T07:03:36.168632Z"
    }
   },
   "outputs": [],
   "source": [
    "url = \"https://en.wikipedia.org/wiki/List_of_countries_and_dependencies_by_population_density\""
   ]
  },
  {
   "cell_type": "markdown",
   "id": "61e7e866",
   "metadata": {},
   "source": [
    "Answer"
   ]
  },
  {
   "cell_type": "markdown",
   "id": "f271cbfd",
   "metadata": {},
   "source": [
    "- Display all the countries mentioned in the table. "
   ]
  },
  {
   "cell_type": "markdown",
   "id": "497ff5df",
   "metadata": {},
   "source": [
    "Answer"
   ]
  },
  {
   "cell_type": "code",
   "execution_count": 50,
   "id": "ff7ad3f0",
   "metadata": {
    "ExecuteTime": {
     "end_time": "2024-10-11T07:03:36.660044Z",
     "start_time": "2024-10-11T07:03:36.649884Z"
    }
   },
   "outputs": [
    {
     "data": {
      "text/plain": [
       "['Monaco',\n",
       " 'Singapore',\n",
       " 'Bahrain',\n",
       " 'Maldives',\n",
       " 'Malta',\n",
       " 'Vatican City',\n",
       " 'Bangladesh',\n",
       " 'Taiwan',\n",
       " 'Mauritius',\n",
       " 'Barbados',\n",
       " 'Nauru',\n",
       " 'San Marino',\n",
       " 'Rwanda',\n",
       " 'South Korea',\n",
       " 'Lebanon',\n",
       " 'Burundi',\n",
       " 'Tuvalu',\n",
       " 'India',\n",
       " 'Netherlands',\n",
       " 'Haiti',\n",
       " 'Israel',\n",
       " 'Philippines',\n",
       " 'Belgium',\n",
       " 'Comoros',\n",
       " 'Grenada',\n",
       " 'Sri Lanka',\n",
       " 'Japan',\n",
       " 'El Salvador',\n",
       " 'Pakistan',\n",
       " 'Trinidad and Tobago',\n",
       " 'Vietnam',\n",
       " 'Saint Lucia',\n",
       " 'United Kingdom',\n",
       " 'Saint Vincent and the Grenadines',\n",
       " 'Jamaica',\n",
       " 'Luxembourg',\n",
       " 'Liechtenstein',\n",
       " 'Gambia',\n",
       " 'Nigeria',\n",
       " 'Kuwait',\n",
       " 'São Tomé and Príncipe',\n",
       " 'Seychelles',\n",
       " 'Qatar',\n",
       " 'Germany',\n",
       " 'Dominican Republic',\n",
       " 'Marshall Islands',\n",
       " 'Malawi',\n",
       " 'North Korea',\n",
       " 'Antigua and Barbuda',\n",
       " 'Switzerland',\n",
       " 'Nepal',\n",
       " 'Uganda',\n",
       " 'Italy',\n",
       " 'Kiribati',\n",
       " 'Saint Kitts and Nevis',\n",
       " 'Andorra',\n",
       " 'Guatemala',\n",
       " 'Micronesia',\n",
       " 'Togo',\n",
       " 'Kosovo',\n",
       " 'China',\n",
       " 'Cape Verde',\n",
       " 'Isle of Man',\n",
       " 'Indonesia',\n",
       " 'Tonga',\n",
       " 'Ghana',\n",
       " 'Thailand',\n",
       " 'Denmark',\n",
       " 'Cyprus',\n",
       " 'United Arab Emirates',\n",
       " 'Transnistria',\n",
       " 'Czech Republic',\n",
       " 'Jordan',\n",
       " 'Syria',\n",
       " 'Sierra Leone',\n",
       " 'Poland',\n",
       " 'Azerbaijan',\n",
       " 'Benin',\n",
       " 'Slovakia',\n",
       " 'Ethiopia',\n",
       " 'Northern Cyprus',\n",
       " 'Egypt',\n",
       " 'Portugal',\n",
       " 'Turkey',\n",
       " 'Hungary',\n",
       " 'Austria',\n",
       " 'Iraq',\n",
       " 'Slovenia',\n",
       " 'Malaysia',\n",
       " 'Costa Rica',\n",
       " 'Cuba',\n",
       " 'Moldova',\n",
       " 'Albania',\n",
       " 'Dominica',\n",
       " 'Spain',\n",
       " 'Honduras',\n",
       " 'Cambodia',\n",
       " 'Armenia',\n",
       " 'Kenya',\n",
       " 'East Timor',\n",
       " 'Senegal',\n",
       " 'Ivory Coast',\n",
       " 'Burkina Faso',\n",
       " 'Romania',\n",
       " 'North Macedonia',\n",
       " 'Serbia',\n",
       " 'Myanmar',\n",
       " 'Samoa',\n",
       " 'Brunei',\n",
       " 'Greece',\n",
       " 'Uzbekistan',\n",
       " 'Lesotho',\n",
       " 'Tunisia',\n",
       " 'Ireland',\n",
       " 'Cook Islands',\n",
       " 'Tajikistan',\n",
       " 'Tanzania',\n",
       " 'Croatia',\n",
       " 'Ecuador',\n",
       " 'Eswatini',\n",
       " 'Mexico',\n",
       " 'Yemen',\n",
       " 'Afghanistan',\n",
       " 'Bosnia and Herzegovina',\n",
       " 'Equatorial Guinea',\n",
       " 'Ukraine',\n",
       " 'Bulgaria',\n",
       " 'Cameroon',\n",
       " 'Guinea-Bissau',\n",
       " 'Panama',\n",
       " 'Guinea',\n",
       " 'Iran',\n",
       " 'Nicaragua',\n",
       " 'Georgia',\n",
       " 'Morocco',\n",
       " 'Madagascar',\n",
       " 'Fiji',\n",
       " 'South Africa',\n",
       " 'Djibouti',\n",
       " 'Liberia',\n",
       " 'Easter Island',\n",
       " 'Belarus',\n",
       " 'Colombia',\n",
       " 'Montenegro',\n",
       " 'DR Congo',\n",
       " 'Zimbabwe',\n",
       " 'Mozambique',\n",
       " 'Lithuania',\n",
       " 'Palau',\n",
       " 'United States',\n",
       " 'Kyrgyzstan',\n",
       " 'Laos',\n",
       " 'Venezuela',\n",
       " 'Eritrea',\n",
       " 'Bahamas',\n",
       " 'Angola',\n",
       " 'Somaliland',\n",
       " 'Estonia',\n",
       " 'Somalia',\n",
       " 'Latvia',\n",
       " 'Abkhazia',\n",
       " 'Vanuatu',\n",
       " 'Zambia',\n",
       " 'Sudan',\n",
       " 'Peru',\n",
       " 'Chile',\n",
       " 'Solomon Islands',\n",
       " 'Brazil',\n",
       " 'Sweden',\n",
       " 'Papua New Guinea',\n",
       " 'Niger',\n",
       " 'Bhutan',\n",
       " 'Uruguay',\n",
       " 'New Zealand',\n",
       " 'Algeria',\n",
       " 'Mali',\n",
       " 'Belize',\n",
       " 'Congo',\n",
       " 'South Sudan',\n",
       " 'Saudi Arabia',\n",
       " 'Finland',\n",
       " 'Argentina',\n",
       " 'South Ossetia',\n",
       " 'Paraguay',\n",
       " 'Oman',\n",
       " 'Chad',\n",
       " 'Norway',\n",
       " 'Turkmenistan',\n",
       " 'Bolivia',\n",
       " 'Central African Republic',\n",
       " 'Gabon',\n",
       " 'Russia',\n",
       " 'Niue',\n",
       " 'Kazakhstan',\n",
       " 'Mauritania',\n",
       " 'Botswana',\n",
       " 'Libya',\n",
       " 'Canada',\n",
       " 'Suriname',\n",
       " 'Guyana',\n",
       " 'Iceland',\n",
       " 'Australia',\n",
       " 'Namibia',\n",
       " 'Mongolia']"
      ]
     },
     "execution_count": 50,
     "metadata": {},
     "output_type": "execute_result"
    }
   ],
   "source": [
    "countries"
   ]
  },
  {
   "cell_type": "markdown",
   "id": "32678327",
   "metadata": {},
   "source": [
    "- Display for each country its rank, density, population, area. "
   ]
  },
  {
   "cell_type": "markdown",
   "id": "831a9623",
   "metadata": {},
   "source": [
    "Answer"
   ]
  },
  {
   "cell_type": "markdown",
   "id": "ae3525d8",
   "metadata": {},
   "source": [
    "- Save the information obtained in a Python dictionary. "
   ]
  },
  {
   "cell_type": "markdown",
   "id": "08b00cbf",
   "metadata": {},
   "source": [
    "Answer"
   ]
  },
  {
   "cell_type": "markdown",
   "id": "28c31344",
   "metadata": {},
   "source": [
    "- Using the previously saved Python dictionary, ask the user for a country, display the \n",
    "corresponding information."
   ]
  },
  {
   "cell_type": "markdown",
   "id": "f0d58996",
   "metadata": {},
   "source": [
    "Answer"
   ]
  },
  {
   "cell_type": "markdown",
   "id": "53de123f",
   "metadata": {},
   "source": [
    "# Exercice 6 * - API Web"
   ]
  },
  {
   "cell_type": "markdown",
   "id": "e62855a4",
   "metadata": {},
   "source": [
    "- Write a Python program that will make available a Web API allowing elementary calculations on \n",
    "integers.\n",
    "\n",
    "The APIs are accessible by GET and in the form: \n",
    "- /add/{integer1}/{integer2}: add integer1 and integer2\n",
    "- /sub/{integer1}/{integer2}: perform the subtraction of integer1 and integer2\n",
    "- /mul/{integer1}/{integer2}: carry out the multiplication of integer1 and integer2\n",
    "- /div/{integer1}/{integer2}: perform the integer division of integer1 by integer2\n",
    "- /mod/{integer1}/{integer2}: perform the remainder of the integer division of integer1\n",
    "by integer2"
   ]
  },
  {
   "cell_type": "markdown",
   "id": "dad95976",
   "metadata": {},
   "source": [
    "Answer"
   ]
  },
  {
   "cell_type": "code",
   "execution_count": 52,
   "id": "bcc6b6ee",
   "metadata": {
    "ExecuteTime": {
     "end_time": "2024-10-11T07:03:46.583700Z",
     "start_time": "2024-10-11T07:03:36.825290Z"
    }
   },
   "outputs": [
    {
     "name": "stdout",
     "output_type": "stream",
     "text": [
      " * Serving Flask app '__main__'\n",
      " * Debug mode: off\n"
     ]
    },
    {
     "name": "stderr",
     "output_type": "stream",
     "text": [
      "WARNING: This is a development server. Do not use it in a production deployment. Use a production WSGI server instead.\n",
      " * Running on http://localhost:8080\n",
      "Press CTRL+C to quit\n",
      "127.0.0.1 - - [11/Oct/2024 09:03:41] \"GET /mod/42/8 HTTP/1.1\" 200 -\n"
     ]
    }
   ],
   "source": [
    "app.run(host='localhost', port=8080)"
   ]
  },
  {
   "cell_type": "markdown",
   "id": "6b3aae71",
   "metadata": {},
   "source": [
    "http://localhost:8080/mul/6/7\n",
    "\n",
    "http://localhost:8080/div/42/8\n",
    "\n",
    "http://localhost:8080/mod/42/8"
   ]
  },
  {
   "cell_type": "markdown",
   "id": "71ba86e6",
   "metadata": {},
   "source": [
    "- Write a Python program that will test the web API made available through the requests\n",
    "library. "
   ]
  },
  {
   "cell_type": "markdown",
   "id": "4cb9fd5f",
   "metadata": {},
   "source": [
    "Answer"
   ]
  }
 ],
 "metadata": {
  "celltoolbar": "Slideshow",
  "kernelspec": {
   "display_name": "Python 3 (ipykernel)",
   "language": "python",
   "name": "python3"
  },
  "language_info": {
   "codemirror_mode": {
    "name": "ipython",
    "version": 3
   },
   "file_extension": ".py",
   "mimetype": "text/x-python",
   "name": "python",
   "nbconvert_exporter": "python",
   "pygments_lexer": "ipython3",
   "version": "3.11.4"
  },
  "toc": {
   "base_numbering": 1,
   "nav_menu": {},
   "number_sections": true,
   "sideBar": true,
   "skip_h1_title": true,
   "title_cell": "Table of Contents",
   "title_sidebar": "Contents",
   "toc_cell": false,
   "toc_position": {},
   "toc_section_display": true,
   "toc_window_display": false
  }
 },
 "nbformat": 4,
 "nbformat_minor": 5
}

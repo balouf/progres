{
 "cells": [
  {
   "cell_type": "markdown",
   "id": "5dc7ada9",
   "metadata": {
    "slideshow": {
     "slide_type": "slide"
    }
   },
   "source": [
    "# ProgRes, part II & III: rules"
   ]
  },
  {
   "cell_type": "markdown",
   "id": "2e806a78",
   "metadata": {},
   "source": [
    "Dear students,\n",
    "\n",
    "I hope you will enjoy the ProGres course. There will be a lot of things to learn and experiment.\n",
    "\n",
    "If you want to pass this module, I strongly encourage you to read the rules below. They drive my notation."
   ]
  },
  {
   "cell_type": "markdown",
   "id": "ba1f2870",
   "metadata": {
    "slideshow": {
     "slide_type": "slide"
    }
   },
   "source": [
    "# Rule #1: Cite your sources"
   ]
  },
  {
   "cell_type": "markdown",
   "id": "12fc97df",
   "metadata": {},
   "source": [
    "Apart from cross-team work, discussed below, you can use any source you want. Including `stackoverflow`, `chatGPT`, `wikipedia`...\n",
    "\n",
    "**BUT** you must quote your source, e.g. *I asked chatGPT how to write a for loop in Python, it gave me the code below. I realized that it did what I wanted so I integrated it to the project.*"
   ]
  },
  {
   "cell_type": "markdown",
   "id": "35ae72ea",
   "metadata": {
    "slideshow": {
     "slide_type": "subslide"
    }
   },
   "source": [
    "# Quoting is the most important rule."
   ]
  },
  {
   "cell_type": "markdown",
   "id": "bb5df052",
   "metadata": {},
   "source": [
    "- Using a source without telling will be interpreted as **cheating**, or **plagiarism**, and make you **fail the project**.\n",
    "- **Actively trying to hide** the fact that you borrowed your results from someone/somewhere else will make you **fail the entire module**. \n",
    "\n",
    "On the other hand, telling that you used a source will not impact your grade negatively, so there is no reason not to **quote your sources**."
   ]
  },
  {
   "cell_type": "markdown",
   "id": "84c99cee",
   "metadata": {
    "slideshow": {
     "slide_type": "subslide"
    }
   },
   "source": [
    "# Cross-team work"
   ]
  },
  {
   "cell_type": "markdown",
   "id": "94a67d0b",
   "metadata": {},
   "source": [
    "You work with your team, not with the entire class. Can you use work from a student outside your team?\n",
    "\n",
    "- **Yes for TME** It is encouraged that you discuss and exchange ideas, and exchanging code is also authorized. Don't forget to quote!\n",
    "- **No for Mini-Projects** You can still discuss with others about general ideas, tricks and such. However, for mini-projects, re-using the work done by other teams, e.g. code, is strictly off-limit."
   ]
  },
  {
   "cell_type": "markdown",
   "id": "c45c0a30",
   "metadata": {
    "slideshow": {
     "slide_type": "subslide"
    }
   },
   "source": [
    "# Cross-team work: remarks"
   ]
  },
  {
   "cell_type": "markdown",
   "id": "8eb6447e",
   "metadata": {},
   "source": [
    "- Using the work of another team in TME will be penalized if you did not quote.\n",
    "- When two teams (or more) submit the same work, it not easy to determine who made the actual work, so all teams will be penalized."
   ]
  },
  {
   "cell_type": "markdown",
   "id": "b1784354",
   "metadata": {
    "slideshow": {
     "slide_type": "slide"
    }
   },
   "source": [
    "# Rule #2: One file to rule them all"
   ]
  },
  {
   "cell_type": "markdown",
   "id": "56984586",
   "metadata": {},
   "source": [
    "For ProgRes part II & III, each TME and Mini-Project must be submitted as one single Jupyter Notebook file (extension `.ipynb`). That's it.\n",
    "\n",
    "- Write your name(s) both in the file name and inside the notebook.\n",
    "- Some exercices require other files. Use your notebook to download/write them (`with open(...`, `%%writefile ...`, ...).\n",
    "- If you have experience in coding and prefer a more advanced UI to work, like PyCharm or VS Code, it's OK. Just integrate your work in a notebook before you submit it!\n",
    "- Any file that is not a the notebook will be ignored. If there are multiple notebooks, I'll decide which one to use."
   ]
  },
  {
   "cell_type": "markdown",
   "id": "dcdc1491",
   "metadata": {
    "slideshow": {
     "slide_type": "slide"
    }
   },
   "source": [
    "# Rule #3: Explain"
   ]
  },
  {
   "cell_type": "markdown",
   "id": "a1e58c5b",
   "metadata": {},
   "source": [
    "To pass this module, it is important that you understand what you do. Explanations are expected in your notebook. You should use markdown cells in the notebook to tell what you do and explain your code.\n",
    "\n",
    "- As a rule of thumb, aim in average for one markdown cell for each code cell.\n",
    "- Adapt the quantity of the explanations to the complexity of the code.\n",
    "- You can put comments in your code if you think it makes easier to understand the code. However, comments inside the code do not count as proper explanations."
   ]
  },
  {
   "cell_type": "markdown",
   "id": "a26c5c93",
   "metadata": {
    "slideshow": {
     "slide_type": ""
    }
   },
   "source": [
    "Explaining is not translating the code from Python to French/English. It is about telling what you do."
   ]
  },
  {
   "cell_type": "markdown",
   "id": "17877904",
   "metadata": {
    "slideshow": {
     "slide_type": "subslide"
    }
   },
   "source": [
    "# Example (code part)"
   ]
  },
  {
   "cell_type": "code",
   "execution_count": 3,
   "id": "6168352f",
   "metadata": {
    "ExecuteTime": {
     "end_time": "2024-10-10T18:18:02.495451Z",
     "start_time": "2024-10-10T18:18:01.539828Z"
    },
    "slideshow": {
     "slide_type": "-"
    }
   },
   "outputs": [
    {
     "data": {
      "text/plain": [
       "5702887"
      ]
     },
     "execution_count": 3,
     "metadata": {},
     "output_type": "execute_result"
    }
   ],
   "source": [
    "def fibo(n):\n",
    "    \"\"\"\n",
    "    This is a nice docstrings. Too bad it doesn't count!\n",
    "    \n",
    "    Parameters\n",
    "    ----------\n",
    "    n: int\n",
    "        Index of the sequence\n",
    "        \n",
    "    Returns\n",
    "    -------\n",
    "    int\n",
    "        Fibonnacci number\n",
    "    \"\"\"\n",
    "    return 1 if n < 3 else fibo(n-1) + fibo(n-2)\n",
    "fibo(34)"
   ]
  },
  {
   "cell_type": "markdown",
   "id": "78f78c01",
   "metadata": {
    "slideshow": {
     "slide_type": "subslide"
    }
   },
   "source": [
    "# Example (worthless explanation)"
   ]
  },
  {
   "cell_type": "markdown",
   "id": "7513f027",
   "metadata": {
    "slideshow": {
     "slide_type": "-"
    }
   },
   "source": [
    "I defined the function fibo. It returns 1 if n is smaller than 2, else it returns fibo(n-1)+fibo(n-2)"
   ]
  },
  {
   "cell_type": "markdown",
   "id": "92c9cf9c",
   "metadata": {
    "slideshow": {
     "slide_type": "subslide"
    }
   },
   "source": [
    "# Example (Good explanation)"
   ]
  },
  {
   "cell_type": "markdown",
   "id": "44304862",
   "metadata": {},
   "source": [
    "The function above computes the $n$^th element of the Fibonacci sequence 1, 1, 2, 3, 5, 8, ...\n",
    "\n",
    "The computation is made recursively:\n",
    "- The recursion is initiated by setting the first two elements to 1 (case $n<3$ in the code).\n",
    "- For elements of index greater than 2, the recursive definition $f(n)=f(n-1)+f(n-2)$ is used.\n",
    "\n",
    "I tried the function for large values of $n$. Starting from $30$ it's very slow (in the cell above, it took more than one second to compute $f(34)$). If I need larger values I will need to optimize it. I asked chatGPT about it. It suggested to use memoization or de-recursion to accelerate my code but I didn't investigate it any further."
   ]
  },
  {
   "cell_type": "markdown",
   "id": "cfee23c4",
   "metadata": {
    "slideshow": {
     "slide_type": "slide"
    }
   },
   "source": [
    "# Rule #4: Execute your code"
   ]
  },
  {
   "cell_type": "markdown",
   "id": "f43a22db",
   "metadata": {},
   "source": [
    "I will read your markdown. I will not read your code. I will execute it.\n",
    "- Check that your notebook works before you send it.\n",
    "  - Restart your kernel\n",
    "  - Execute your code cells in order (from top to down)\n",
    "- If a cell doesn't work, I expect a markdown cell that:\n",
    "  - States that the cell doesn't execute\n",
    "  - Reports what you tried to do to make it work"
   ]
  },
  {
   "cell_type": "markdown",
   "id": "9ad468ad",
   "metadata": {
    "slideshow": {
     "slide_type": "subslide"
    }
   },
   "source": [
    "# About dependencies (packages):"
   ]
  },
  {
   "cell_type": "markdown",
   "id": "d4736085",
   "metadata": {},
   "source": [
    "- You can assume I have all the packages seen in the course\n",
    "- You can use a third-party package that has not been seen in course. Just tell me."
   ]
  },
  {
   "cell_type": "markdown",
   "id": "181fa46d",
   "metadata": {
    "slideshow": {
     "slide_type": "slide"
    }
   },
   "source": [
    "# Advices"
   ]
  },
  {
   "cell_type": "markdown",
   "id": "7ea5406d",
   "metadata": {},
   "source": [
    "- Take time to read the exercises, many explanations are just there.\n",
    "- If you don't understand something, do the following in order:\n",
    "  - Read it again.\n",
    "  - Read what was written before.\n",
    "  - Look the slides of the course.\n",
    "  - Discuss the issue with your team.\n",
    "  - Contact me on Zulip (I'll try to answer within a working day).\n",
    "- TMEs and mini-projects take time (especially mini-projects). Almost every year, I have a student that writes to me by mail the evening before the deadline. Usually, it goes like this: *I don't understand the first question of the mini-project*. Spoiler alert: it never ends well.\n",
    "- Reminder: There are actual questions in the TMEs / mini-projects. Answers are expected."
   ]
  }
 ],
 "metadata": {
  "celltoolbar": "Slideshow",
  "kernelspec": {
   "display_name": "Python 3 (ipykernel)",
   "language": "python",
   "name": "python3"
  },
  "language_info": {
   "codemirror_mode": {
    "name": "ipython",
    "version": 3
   },
   "file_extension": ".py",
   "mimetype": "text/x-python",
   "name": "python",
   "nbconvert_exporter": "python",
   "pygments_lexer": "ipython3",
   "version": "3.11.4"
  },
  "toc": {
   "base_numbering": 1,
   "nav_menu": {},
   "number_sections": true,
   "sideBar": true,
   "skip_h1_title": true,
   "title_cell": "Table of Contents",
   "title_sidebar": "Contents",
   "toc_cell": false,
   "toc_position": {},
   "toc_section_display": true,
   "toc_window_display": false
  }
 },
 "nbformat": 4,
 "nbformat_minor": 5
}

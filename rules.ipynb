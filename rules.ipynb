{
 "cells": [
  {
   "cell_type": "markdown",
   "id": "5dc7ada9",
   "metadata": {
    "slideshow": {
     "slide_type": "slide"
    }
   },
   "source": [
    "# ProgRes, part II & III: rules"
   ]
  },
  {
   "cell_type": "markdown",
   "id": "2e806a78",
   "metadata": {},
   "source": [
    "Dear students,\n",
    "\n",
    "I hope you will enjoy the ProGres course. There will be a lot of things to learn and experiment.\n",
    "\n",
    "If you want to pass this module, I strongly encourage you to read the rules below. They drive my notation."
   ]
  },
  {
   "cell_type": "markdown",
   "id": "ba1f2870",
   "metadata": {
    "slideshow": {
     "slide_type": "slide"
    }
   },
   "source": [
    "# Rule #1: Cite your sources"
   ]
  },
  {
   "cell_type": "markdown",
   "id": "12fc97df",
   "metadata": {},
   "source": [
    "Apart from cross-team work, discussed below, you can use any source you want. Including `stackoverflow`, `chatGPT`, `wikipedia`...\n",
    "\n",
    "**BUT** you must quote your source, e.g. *I saw on Reddit how to write a for loop in Python (_url_), and I got the code the code below. I realized that it did what I wanted so I integrated it to the project.*"
   ]
  },
  {
   "cell_type": "markdown",
   "id": "35ae72ea",
   "metadata": {
    "slideshow": {
     "slide_type": "subslide"
    }
   },
   "source": [
    "# Quoting is the most important rule."
   ]
  },
  {
   "cell_type": "markdown",
   "id": "bb5df052",
   "metadata": {},
   "source": [
    "- Using a source without telling will be interpreted as **cheating**, or **plagiarism**, and make you **fail the project**.\n",
    "- **Actively trying to hide** the fact that you borrowed your results from someone/somewhere else will make you **fail the entire module**. \n",
    "\n",
    "On the other hand, telling that you used a source will not impact your grade negatively, so there is no reason not to **quote your sources**."
   ]
  },
  {
   "cell_type": "markdown",
   "id": "a93854a6",
   "metadata": {
    "slideshow": {
     "slide_type": "subslide"
    }
   },
   "source": [
    "# Quoting is the most important rule."
   ]
  },
  {
   "cell_type": "markdown",
   "id": "bacca831",
   "metadata": {},
   "source": [
    "There are things you can use without quoting\n",
    "\n",
    "- The course\n",
    "- Official Python documentation\n",
    "\n",
    "Examples:\n",
    "\n",
    "- Looking in the `re` documentation for the meaning of special characters: **no need to quote!**\n",
    "- Looking on stackoverflow for a regex to parse emails: **quote!**"
   ]
  },
  {
   "cell_type": "markdown",
   "id": "84c99cee",
   "metadata": {
    "slideshow": {
     "slide_type": "subslide"
    }
   },
   "source": [
    "# Cross-team work"
   ]
  },
  {
   "cell_type": "markdown",
   "id": "94a67d0b",
   "metadata": {},
   "source": [
    "You work with your team, not with the entire class. Can you use work from a student outside your team?\n",
    "\n",
    "- **Yes for TME** It is encouraged that you discuss and exchange ideas, and exchanging code is also authorized. Don't forget to quote!\n",
    "- **No for Mini-Projects** You can still discuss with others about general ideas, tricks and such. However, for mini-projects, re-using the work done by other teams, e.g. code, is strictly off-limit."
   ]
  },
  {
   "cell_type": "markdown",
   "id": "c45c0a30",
   "metadata": {
    "slideshow": {
     "slide_type": "subslide"
    }
   },
   "source": [
    "# Cross-team work: remarks"
   ]
  },
  {
   "cell_type": "markdown",
   "id": "8eb6447e",
   "metadata": {},
   "source": [
    "- Using the work of another team in TME will be penalized if you did not quote.\n",
    "- When two teams (or more) submit the same work, it not easy to determine who made the actual work, so all teams will be penalized."
   ]
  },
  {
   "cell_type": "markdown",
   "id": "c2cb81c2",
   "metadata": {
    "slideshow": {
     "slide_type": "subslide"
    }
   },
   "source": [
    "# Quoting LLMs"
   ]
  },
  {
   "cell_type": "markdown",
   "id": "8c8d7a7b",
   "metadata": {},
   "source": [
    "LLMs are a source with addtional rules:\n",
    "\n",
    "- TME/MP will have a question \"Which LLM(s) did you use for this work?\"\n",
    "- **No answer will get you 1/20, without parole.**\n",
    "- Can declare multiple LLMs.\n",
    "- You can claim \"We did not use any LLM for this project/work\". **Any caught lie will be sanctionned by 1/20.**\n",
    "- You can amend your claim on specific questions. e.g. \"For this question, I also used Gemini\" or \"I didn't use any LLM for that exercise\""
   ]
  },
  {
   "cell_type": "markdown",
   "id": "7a3938af",
   "metadata": {
    "slideshow": {
     "slide_type": "subslide"
    }
   },
   "source": [
    "# Quoting LLMs"
   ]
  },
  {
   "cell_type": "markdown",
   "id": "4766ee54",
   "metadata": {},
   "source": [
    "When you use a LLM, you must give your prompt. Use the markwdown sign \">\" to make the prompts clearly visible. Example:\n",
    "\n",
    "To get the Fibanocci code, I asked Perplexity the following:\n",
    "\n",
    "> Code: Fibonacci in Python\n",
    "\n",
    "If you use many messages to work on a question, you can give all your prompts, or you can provide a summary of the discussion + one significant prompt. You are allowed to ask the LLM to give you the summary and the prompt."
   ]
  },
  {
   "cell_type": "markdown",
   "id": "b1784354",
   "metadata": {
    "slideshow": {
     "slide_type": "slide"
    }
   },
   "source": [
    "# Rule #2: One file to rule them all"
   ]
  },
  {
   "cell_type": "markdown",
   "id": "56984586",
   "metadata": {},
   "source": [
    "For ProgRes part II & III, each TME and the Mini-Project must be submitted as one single Jupyter Notebook file (extension `.ipynb`) compressed in a `zip` file. That's it.\n",
    "\n",
    "- Write your name(s) both in the file name and inside the notebook.\n",
    "- Some exercices require other files. Use your notebook to download/write them (`with open(...`, `%%writefile ...`, ...).\n",
    "- If you have experience in coding and prefer a more advanced UI to work, like PyCharm or VS Code, it's OK. Just integrate your work in a notebook before you submit it!\n",
    "- Any file that is not a the notebook will be ignored. If there are multiple notebooks, I'll decide which one to use."
   ]
  },
  {
   "cell_type": "markdown",
   "id": "dcdc1491",
   "metadata": {
    "slideshow": {
     "slide_type": "slide"
    }
   },
   "source": [
    "# Rule #3: Explain"
   ]
  },
  {
   "cell_type": "markdown",
   "id": "a1e58c5b",
   "metadata": {},
   "source": [
    "To pass this module, it is important that you understand what you do. Explanations are expected in your notebook. You should use markdown cells in the notebook to tell what you do and explain your code.\n",
    "\n",
    "- As a rule of thumb, aim in average for one markdown cell for each code cell.\n",
    "- Adapt the quantity of the explanations to the complexity of the code.\n",
    "- You can put comments in your code if you think it makes easier to understand the code. However, comments inside the code do not count as proper explanations.\n",
    "- You ask a LLM to write the explanations for you, but: That must be clearly indicated (prompt/summary); You will need a good prompt for the explanation to be validated."
   ]
  },
  {
   "cell_type": "markdown",
   "id": "a26c5c93",
   "metadata": {
    "slideshow": {
     "slide_type": ""
    }
   },
   "source": [
    "Explaining is not translating the code from Python to French/English. It is about telling what you do."
   ]
  },
  {
   "cell_type": "markdown",
   "id": "17877904",
   "metadata": {
    "slideshow": {
     "slide_type": "subslide"
    }
   },
   "source": [
    "# Example (code part)"
   ]
  },
  {
   "cell_type": "code",
   "execution_count": 2,
   "id": "6168352f",
   "metadata": {
    "ExecuteTime": {
     "end_time": "2025-10-16T17:03:36.396755Z",
     "start_time": "2025-10-16T17:03:36.055844Z"
    },
    "slideshow": {
     "slide_type": "-"
    }
   },
   "outputs": [
    {
     "data": {
      "text/plain": [
       "5702887"
      ]
     },
     "execution_count": 2,
     "metadata": {},
     "output_type": "execute_result"
    }
   ],
   "source": [
    "def fibo(n):\n",
    "    \"\"\"\n",
    "    This is a nice docstrings. Too bad it doesn't count!\n",
    "    \n",
    "    Parameters\n",
    "    ----------\n",
    "    n: int\n",
    "        Index of the sequence\n",
    "        \n",
    "    Returns\n",
    "    -------\n",
    "    int\n",
    "        Fibonnacci number\n",
    "    \"\"\"\n",
    "    return 1 if n < 3 else fibo(n-1) + fibo(n-2)\n",
    "fibo(34)"
   ]
  },
  {
   "cell_type": "markdown",
   "id": "78f78c01",
   "metadata": {
    "slideshow": {
     "slide_type": "subslide"
    }
   },
   "source": [
    "# Example (worthless explanation)"
   ]
  },
  {
   "cell_type": "markdown",
   "id": "7513f027",
   "metadata": {
    "slideshow": {
     "slide_type": "-"
    }
   },
   "source": [
    "I defined the function fibo. It returns 1 if n is smaller than 2, else it returns fibo(n-1)+fibo(n-2)"
   ]
  },
  {
   "cell_type": "markdown",
   "id": "92c9cf9c",
   "metadata": {
    "slideshow": {
     "slide_type": "subslide"
    }
   },
   "source": [
    "# Example (Good explanation)"
   ]
  },
  {
   "cell_type": "markdown",
   "id": "44304862",
   "metadata": {},
   "source": [
    "My prompt:\n",
    "\n",
    "> Give me a basic Fibonacci function in Python, with grade student-level explanations.\n",
    "\n",
    "\n",
    "The function above computes the $n$^th element of the Fibonacci sequence 1, 1, 2, 3, 5, 8, ...\n",
    "\n",
    "From the ouput of Perplexity, I see that the computation is made recursively:\n",
    "- The recursion is initiated by setting the first two elements to 1 (case $n<3$ in the code).\n",
    "- For elements of index greater than 2, the recursive definition $f(n)=f(n-1)+f(n-2)$ is used."
   ]
  },
  {
   "cell_type": "markdown",
   "id": "7d13aa57",
   "metadata": {
    "slideshow": {
     "slide_type": "subslide"
    }
   },
   "source": [
    "# Example (Good explanation cont.)"
   ]
  },
  {
   "cell_type": "markdown",
   "id": "33e97d74",
   "metadata": {},
   "source": [
    "Perplexity warned me about possible efficiency issues with that version. I tried the function for large values of $n$. Starting from $30$ it's very slow, as you can see here (I used the `timeit` magic):"
   ]
  },
  {
   "cell_type": "code",
   "execution_count": 5,
   "id": "a0c47262",
   "metadata": {
    "ExecuteTime": {
     "end_time": "2025-10-16T17:05:41.205745Z",
     "start_time": "2025-10-16T17:05:38.526667Z"
    }
   },
   "outputs": [
    {
     "name": "stdout",
     "output_type": "stream",
     "text": [
      "333 ms ± 4.33 ms per loop (mean ± std. dev. of 7 runs, 1 loop each)\n"
     ]
    }
   ],
   "source": [
    "%timeit fibo(34)"
   ]
  },
  {
   "cell_type": "markdown",
   "id": "efd7a20a",
   "metadata": {},
   "source": [
    "If I need larger values I will need to optimize it. Perplexity suggests to replace the recursion by a loop but I didn't investigate it any further."
   ]
  },
  {
   "cell_type": "markdown",
   "id": "cfee23c4",
   "metadata": {
    "slideshow": {
     "slide_type": "slide"
    }
   },
   "source": [
    "# Rule #4: Execute your code"
   ]
  },
  {
   "cell_type": "markdown",
   "id": "f43a22db",
   "metadata": {},
   "source": [
    "I will read your markdown. I will not read your code. I will execute it.\n",
    "- Check that your notebook works before you send it.\n",
    "  - Restart your kernel\n",
    "  - Execute your code cells in order (from top to down)\n",
    "- If a cell doesn't work, I expect a markdown cell that:\n",
    "  - States that the cell doesn't execute\n",
    "  - Reports what you tried to do to make it work\n",
    "- **Don't clean the outputs of your cells when you submit your work**\n",
    "  - Zero trace of code execution: 1/20\n",
    "  - It's OK to have errors but they must be discussed"
   ]
  },
  {
   "cell_type": "markdown",
   "id": "9ad468ad",
   "metadata": {
    "slideshow": {
     "slide_type": "subslide"
    }
   },
   "source": [
    "# About dependencies (packages):"
   ]
  },
  {
   "cell_type": "markdown",
   "id": "d4736085",
   "metadata": {},
   "source": [
    "- You can assume I have all the packages seen in the course\n",
    "- You can use a third-party package that has not been seen in course. Just tell me."
   ]
  },
  {
   "cell_type": "markdown",
   "id": "181fa46d",
   "metadata": {
    "slideshow": {
     "slide_type": "slide"
    }
   },
   "source": [
    "# Advices"
   ]
  },
  {
   "cell_type": "markdown",
   "id": "7ea5406d",
   "metadata": {},
   "source": [
    "- Take time to read the exercises, many explanations are just there.\n",
    "- If you don't understand something, do the following in order:\n",
    "  - Read it again.\n",
    "  - Read what was written before.\n",
    "  - Look the slides of the course.\n",
    "  - Discuss the issue with your team.\n",
    "  - Contact me on Zulip (I'll try to answer within a working day).\n",
    "- TMEs and mini-projects take time (especially mini-projects). Almost every year, I have a student that writes to me by mail the evening before the deadline. Usually, it goes like this: *I don't understand the first question of the mini-project*. Spoiler alert: it never ends well.\n",
    "- Reminder: There are actual questions in the TMEs / mini-projects. Answers are expected."
   ]
  }
 ],
 "metadata": {
  "celltoolbar": "Diaporama",
  "kernelspec": {
   "display_name": "Python 3 (ipykernel)",
   "language": "python",
   "name": "python3"
  },
  "language_info": {
   "codemirror_mode": {
    "name": "ipython",
    "version": 3
   },
   "file_extension": ".py",
   "mimetype": "text/x-python",
   "name": "python",
   "nbconvert_exporter": "python",
   "pygments_lexer": "ipython3",
   "version": "3.12.8"
  },
  "toc": {
   "base_numbering": 1,
   "nav_menu": {},
   "number_sections": true,
   "sideBar": true,
   "skip_h1_title": true,
   "title_cell": "Table of Contents",
   "title_sidebar": "Contents",
   "toc_cell": false,
   "toc_position": {},
   "toc_section_display": true,
   "toc_window_display": false
  }
 },
 "nbformat": 4,
 "nbformat_minor": 5
}

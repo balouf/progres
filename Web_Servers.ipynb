{
 "cells": [
  {
   "cell_type": "code",
   "execution_count": null,
   "id": "c4c0ab8b",
   "metadata": {
    "ExecuteTime": {
     "end_time": "2022-10-28T02:25:52.368944Z",
     "start_time": "2022-10-28T02:25:52.355383Z"
    },
    "slideshow": {
     "slide_type": "skip"
    }
   },
   "outputs": [],
   "source": [
    "%%html\n",
    "<style>\n",
    ".prompt_container { display: none !important; }\n",
    ".prompt { display: none !important; }\n",
    ".run_this_cell { display: none !important; }\n",
    "\n",
    ".slides {\n",
    "    position: absolute;\n",
    "    top: 0;\n",
    "    left: 0;\n",
    "}\n",
    "</style>"
   ]
  },
  {
   "cell_type": "markdown",
   "id": "13980f54",
   "metadata": {
    "slideshow": {
     "slide_type": "slide"
    }
   },
   "source": [
    "# ProgRes, Part IIb\n",
    "\n",
    "# Web servers"
   ]
  },
  {
   "cell_type": "markdown",
   "id": "99c42851",
   "metadata": {},
   "source": [
    "Fabien Mathieu - fabien.mathieu@normalesup.org\n",
    "\n",
    "Sébastien Tixeuil - Sebastien.Tixeuil@lip6.fr"
   ]
  },
  {
   "cell_type": "markdown",
   "id": "acd973dd",
   "metadata": {
    "slideshow": {
     "slide_type": "subslide"
    }
   },
   "source": [
    "# Roadmap"
   ]
  },
  {
   "cell_type": "markdown",
   "id": "f441ff90",
   "metadata": {},
   "source": [
    "- Part I: done\n",
    "- Part II (Web services)\n",
    "  - Last week: Client side\n",
    "  - This week: Server side\n",
    "    - Bottle\n",
    "    - Testing\n",
    "    - Web Server + API\n",
    "- Part III: P2P"
   ]
  },
  {
   "cell_type": "markdown",
   "id": "19a03710",
   "metadata": {
    "slideshow": {
     "slide_type": "subslide"
    }
   },
   "source": [
    "# Methodology"
   ]
  },
  {
   "cell_type": "markdown",
   "id": "db9e2e71",
   "metadata": {},
   "source": [
    "- Course and practicals are made on notebooks (jupyter or jupyterlab)\n",
    "- This means you will send your practical notebooks. Please put your name on the file and inside as well!\n",
    "- Practicals: for some advanced optional questions, you may add some traditional `.py` files (companion packages) -> `zip`\n",
    "- Mini-projects: `zip` with a mix of notebooks and `.py` files is expected. Report can be integrated inside a notebook (preferred) or a PDF, limited to 10 pages."
   ]
  },
  {
   "cell_type": "markdown",
   "id": "2bfb6233",
   "metadata": {
    "slideshow": {
     "slide_type": "subslide"
    }
   },
   "source": [
    "# Jupyter notebook?"
   ]
  },
  {
   "cell_type": "markdown",
   "id": "dbf909f7",
   "metadata": {},
   "source": [
    "A notebook is just a text file with extension `.ipynb` that contains cells.\n",
    "- Two main types of cells:\n",
    "  - Markdown cells to write formatted text. You can itemize or write maths like $\\frac{\\sqrt{\\pi}}{2}$\n",
    "  - Code cell to execute Python code\n",
    "- This is a markdown cell"
   ]
  },
  {
   "cell_type": "code",
   "execution_count": null,
   "id": "eb2d1671",
   "metadata": {
    "ExecuteTime": {
     "end_time": "2022-10-28T01:10:42.494370Z",
     "start_time": "2022-10-28T01:10:42.475699Z"
    },
    "cell_style": "split"
   },
   "outputs": [],
   "source": [
    "# This is a code cell\n",
    "x = 1+1"
   ]
  },
  {
   "cell_type": "code",
   "execution_count": null,
   "id": "66b08e31",
   "metadata": {
    "ExecuteTime": {
     "end_time": "2022-10-28T01:10:43.445927Z",
     "start_time": "2022-10-28T01:10:43.426046Z"
    },
    "cell_style": "split"
   },
   "outputs": [],
   "source": [
    "# Cell codes share the same workspace\n",
    "x"
   ]
  },
  {
   "cell_type": "markdown",
   "id": "2599a52e",
   "metadata": {
    "slideshow": {
     "slide_type": "subslide"
    }
   },
   "source": [
    "# Using Jupyter Notebook"
   ]
  },
  {
   "cell_type": "markdown",
   "id": "1dc67636",
   "metadata": {},
   "source": [
    "Two modes:\n",
    "- Command mode (blue). Hit `esc` to enter it\n",
    "- Edit mode (green). Hit `enter` on a cell to edit\n",
    "- There are many shortcuts (hit `H` on command mode to see them)"
   ]
  },
  {
   "cell_type": "markdown",
   "id": "ffaa95a0",
   "metadata": {
    "slideshow": {
     "slide_type": "slide"
    }
   },
   "source": [
    "## Create an API in Python"
   ]
  },
  {
   "cell_type": "markdown",
   "id": "3a5972fc",
   "metadata": {
    "slideshow": {
     "slide_type": "slide"
    }
   },
   "source": [
    "# Reminder"
   ]
  },
  {
   "cell_type": "markdown",
   "id": "9080499a",
   "metadata": {},
   "source": [
    "HTTP can be used to communicate:\n",
    "- Between the server and the user (frontend)\n",
    "- Internally, between the server and other services (backend)\n",
    "\n",
    "API (Application Programming Interface) is a set of exposed methods for interaction between programms.\n",
    "\n",
    "REST is a *code of conduct* for http-based API."
   ]
  },
  {
   "cell_type": "markdown",
   "id": "07abf372",
   "metadata": {
    "slideshow": {
     "slide_type": "subslide"
    }
   },
   "source": [
    "# Web libraries"
   ]
  },
  {
   "cell_type": "markdown",
   "id": "bffe049a",
   "metadata": {},
   "source": [
    "Many libraries / framework exist in Python.\n",
    "From https://www.educative.io/blog/top-python-web-frameworks\n",
    "\n",
    "1. Flask: light, yet powerful. Adapted to middle-complexity websites.\n",
    "2. Django: ultra-powerful, ultra-complete. Adapted to production-ready complex websites.\n",
    "3. FastAPI: light, robust, easy-to-learn, production-ready.\n",
    "4. CherryPy: Flask simpler and more pythonic. Adapted to professors.\n",
    "5. Bottle: very light, standalone. Adapted to courses and mini-projects.\n"
   ]
  },
  {
   "cell_type": "markdown",
   "id": "ff1e7879",
   "metadata": {
    "slideshow": {
     "slide_type": "subslide"
    }
   },
   "source": [
    "# The bottle framework"
   ]
  },
  {
   "cell_type": "markdown",
   "id": "a6b76333",
   "metadata": {},
   "source": [
    "- **Routing**: Requests to function-call mapping with support for clean and dynamic URLs.\n",
    "- **Templates**: Fast and pythonic built-in template engine.\n",
    "- **Utilities**: Convenient access to form data, file uploads, cookies, headers and other HTTP-related metadata.\n",
    "- **Server**: Built-in HTTP development server and support for other WSGI capable HTTP server.\n",
    "\n",
    "WSGI is the Web Server Gateway Interface (allows to combine multiple frameworks together)."
   ]
  },
  {
   "cell_type": "markdown",
   "id": "b936616d",
   "metadata": {
    "slideshow": {
     "slide_type": "subslide"
    }
   },
   "source": [
    "# Hello world example"
   ]
  },
  {
   "cell_type": "code",
   "execution_count": null,
   "id": "1934404b",
   "metadata": {
    "ExecuteTime": {
     "start_time": "2022-10-28T01:10:56.812Z"
    }
   },
   "outputs": [],
   "source": [
    "from bottle import route, run\n",
    "@route('/hello/<name>')\n",
    "def index(name):\n",
    "    return 'Hello '+name\n",
    "run(host='localhost', port=8080)"
   ]
  },
  {
   "cell_type": "markdown",
   "id": "23a2d616",
   "metadata": {
    "slideshow": {
     "slide_type": "subslide"
    }
   },
   "source": [
    "# Intermezzo: Jupyter/IPython magics "
   ]
  },
  {
   "cell_type": "markdown",
   "id": "241134f5",
   "metadata": {},
   "source": [
    "- IPython Magics are powerful commands that change the behavior of a code cell.\n",
    "- Here we will use some to avoid switching back and forth between the notebook and command line.\n",
    "- Using magics is never mandatory but often helpful\n",
    "- If you want to learn more about magics: https://ipython.readthedocs.io/en/stable/interactive/magics.html"
   ]
  },
  {
   "cell_type": "markdown",
   "id": "5bcb3a8e",
   "metadata": {
    "slideshow": {
     "slide_type": "subslide"
    }
   },
   "source": [
    "# Hello world example with magics"
   ]
  },
  {
   "cell_type": "code",
   "execution_count": null,
   "id": "72eed71c",
   "metadata": {
    "ExecuteTime": {
     "end_time": "2022-10-28T02:17:53.245984Z",
     "start_time": "2022-10-28T02:17:53.223268Z"
    },
    "cell_style": "split"
   },
   "outputs": [],
   "source": [
    "%%writefile run.py\n",
    "from bottle import route, run\n",
    "@route('/hello/<name>')\n",
    "def index(name):\n",
    "    return f'Hello {name}'\n",
    "run(host='localhost', port=8080)"
   ]
  },
  {
   "cell_type": "code",
   "execution_count": null,
   "id": "9b9ae45b",
   "metadata": {
    "ExecuteTime": {
     "end_time": "2022-10-28T02:17:57.776164Z",
     "start_time": "2022-10-28T02:17:57.611285Z"
    },
    "cell_style": "split"
   },
   "outputs": [],
   "source": [
    "!wt python run.py"
   ]
  },
  {
   "cell_type": "markdown",
   "id": "3d23db12",
   "metadata": {
    "cell_style": "center"
   },
   "source": [
    "Check that the server works: http://localhost:8080/hello/Students"
   ]
  },
  {
   "cell_type": "markdown",
   "id": "4d87cac7",
   "metadata": {
    "slideshow": {
     "slide_type": "subslide"
    }
   },
   "source": [
    "# Hello world example a bit cleaner"
   ]
  },
  {
   "cell_type": "code",
   "execution_count": null,
   "id": "b2c5ce89",
   "metadata": {
    "ExecuteTime": {
     "end_time": "2022-10-28T02:14:48.182739Z",
     "start_time": "2022-10-28T02:14:48.171239Z"
    },
    "cell_style": "split"
   },
   "outputs": [],
   "source": [
    "%%writefile app.py\n",
    "from bottle import Bottle\n",
    "app = Bottle()\n",
    "@app.route('/')\n",
    "def alive():\n",
    "    res = [\"Server running. Available routes:<br>\"]\n",
    "    return res+[(f\"<a href='http://localhost:8080{r.rule}'>\"\n",
    "                 f\"{r.rule}</a><br>\") for r in app.routes]"
   ]
  },
  {
   "cell_type": "code",
   "execution_count": null,
   "id": "b9e3473a",
   "metadata": {
    "ExecuteTime": {
     "end_time": "2022-10-28T02:18:18.004970Z",
     "start_time": "2022-10-28T02:18:17.994019Z"
    },
    "cell_style": "split"
   },
   "outputs": [],
   "source": [
    "%%writefile run.py\n",
    "from app import app\n",
    "@app.route('/hello/<name>')\n",
    "def index(name):\n",
    "    return f'Hello {name}'\n",
    "app.run()"
   ]
  },
  {
   "cell_type": "code",
   "execution_count": null,
   "id": "3c959f13",
   "metadata": {
    "ExecuteTime": {
     "end_time": "2022-10-27T21:19:52.657226Z",
     "start_time": "2022-10-27T21:19:52.539294Z"
    },
    "cell_style": "split"
   },
   "outputs": [],
   "source": [
    "!wt python run.py"
   ]
  },
  {
   "cell_type": "markdown",
   "id": "2e4d374b",
   "metadata": {
    "slideshow": {
     "slide_type": "subslide"
    }
   },
   "source": [
    "# Filters: :int, :float, :path, :re"
   ]
  },
  {
   "cell_type": "code",
   "execution_count": null,
   "id": "4cf174cf",
   "metadata": {
    "ExecuteTime": {
     "end_time": "2022-10-28T02:18:26.222006Z",
     "start_time": "2022-10-28T02:18:26.209549Z"
    },
    "cell_style": "split"
   },
   "outputs": [],
   "source": [
    "%%writefile run.py\n",
    "from app import app\n",
    "from bottle import static_file\n",
    "@app.route('/square/<i:int>')\n",
    "def square(i):\n",
    "    return f'The square of {i} is {i**2}.'\n",
    "@app.route('/open/<filepath:path>')\n",
    "def open_file(filepath):\n",
    "    return static_file(filepath, root='.')\n",
    "@app.route('/slug/<id_slug:re:[0-9]+-.*>')\n",
    "def slug(id_slug):\n",
    "    id_slug = id_slug.split('-', 1)\n",
    "    return f'Slug {id_slug[1]} has id {id_slug[0]}.'\n",
    "app.run()"
   ]
  },
  {
   "cell_type": "code",
   "execution_count": null,
   "id": "c345b9c9",
   "metadata": {
    "ExecuteTime": {
     "end_time": "2022-10-27T21:19:52.657226Z",
     "start_time": "2022-10-27T21:19:52.539294Z"
    },
    "cell_style": "split"
   },
   "outputs": [],
   "source": [
    "!wt python run.py"
   ]
  },
  {
   "cell_type": "markdown",
   "id": "41ea690a",
   "metadata": {
    "slideshow": {
     "slide_type": "subslide"
    }
   },
   "source": [
    "# Specify the method (GET, POST, ...)"
   ]
  },
  {
   "cell_type": "code",
   "execution_count": null,
   "id": "9d6b5bb5",
   "metadata": {
    "ExecuteTime": {
     "end_time": "2022-10-28T02:18:40.458333Z",
     "start_time": "2022-10-28T02:18:40.442215Z"
    },
    "cell_style": "split"
   },
   "outputs": [],
   "source": [
    "%%writefile run.py\n",
    "from app import app\n",
    "from bottle import static_file\n",
    "@app.route('/square/<i:int>', method='get')\n",
    "def square(i):\n",
    "    return f'The square of {i} is {i**2}.'\n",
    "@app.get('/open/<filepath:path>') # Equivalent\n",
    "def open_file(filepath):\n",
    "    return static_file(filepath, root='.')\n",
    "@app.get('/slug/<id_slug:re:[0-9]+-.*>')\n",
    "def slug(id_slug):\n",
    "    id_slug = id_slug.split('-', 1)\n",
    "    return f'Slug {id_slug[1]} has id {id_slug[0]}.'\n",
    "app.run()"
   ]
  },
  {
   "cell_type": "code",
   "execution_count": null,
   "id": "cfbf5649",
   "metadata": {
    "ExecuteTime": {
     "end_time": "2022-10-27T21:19:52.657226Z",
     "start_time": "2022-10-27T21:19:52.539294Z"
    },
    "cell_style": "split"
   },
   "outputs": [],
   "source": [
    "!wt python run.py"
   ]
  },
  {
   "cell_type": "markdown",
   "id": "1ae76513",
   "metadata": {
    "slideshow": {
     "slide_type": "subslide"
    }
   },
   "source": [
    "# A route can return..."
   ]
  },
  {
   "cell_type": "code",
   "execution_count": null,
   "id": "177c93bd",
   "metadata": {
    "ExecuteTime": {
     "end_time": "2022-10-28T02:19:04.048400Z",
     "start_time": "2022-10-28T02:19:04.023830Z"
    },
    "cell_style": "split"
   },
   "outputs": [],
   "source": [
    "%%writefile run.py\n",
    "from app import app\n",
    "import json\n",
    "from bottle import static_file\n",
    "@app.get('/nothing')\n",
    "def nothing():\n",
    "    return None\n",
    "@app.get('/string')\n",
    "def string():\n",
    "    return json.dumps({'a': 42, 'b': None})\n",
    "@app.get('/file')\n",
    "def file():\n",
    "    return static_file('run.py', root='.')\n",
    "@app.get('/iterator')\n",
    "def iterator():\n",
    "    return ['Line 1\\n', 'Line 2 \\n']\n",
    "app.run()"
   ]
  },
  {
   "cell_type": "code",
   "execution_count": null,
   "id": "d8bf9a86",
   "metadata": {
    "ExecuteTime": {
     "end_time": "2022-10-27T21:19:52.657226Z",
     "start_time": "2022-10-27T21:19:52.539294Z"
    },
    "cell_style": "split"
   },
   "outputs": [],
   "source": [
    "!wt python run.py"
   ]
  },
  {
   "cell_type": "markdown",
   "id": "0ed2a7cf",
   "metadata": {
    "slideshow": {
     "slide_type": "subslide"
    }
   },
   "source": [
    "# The response object"
   ]
  },
  {
   "cell_type": "code",
   "execution_count": null,
   "id": "7531f674",
   "metadata": {
    "ExecuteTime": {
     "end_time": "2022-10-27T21:19:51.723780Z",
     "start_time": "2022-10-27T21:19:51.705348Z"
    },
    "cell_style": "split"
   },
   "outputs": [],
   "source": [
    "%%writefile run.py\n",
    "from app import app\n",
    "import json\n",
    "from bottle import response\n",
    "@app.route('/powers/<i:int>')\n",
    "def powers(i):\n",
    "    response.content_type = 'application/json; charset=utf-8'\n",
    "    return json.dumps({'i':i, 'square': i**2, 'cube': i**3})\n",
    "app.run()"
   ]
  },
  {
   "cell_type": "code",
   "execution_count": null,
   "id": "be1c9098",
   "metadata": {
    "ExecuteTime": {
     "end_time": "2022-10-27T21:19:52.657226Z",
     "start_time": "2022-10-27T21:19:52.539294Z"
    },
    "cell_style": "split"
   },
   "outputs": [],
   "source": [
    "!wt python run.py"
   ]
  },
  {
   "cell_type": "markdown",
   "id": "f4874fe4",
   "metadata": {
    "cell_style": "split"
   },
   "source": [
    "- When returning a string, it is encoded with respect to the given content-type (only bytes are sent back to the client)\n",
    "- Here, the server sends a byte array encoded in utf-8, that represents an object formatted in JSON."
   ]
  },
  {
   "cell_type": "markdown",
   "id": "e95e48ad",
   "metadata": {
    "slideshow": {
     "slide_type": "subslide"
    }
   },
   "source": [
    "# Sending Errors, Redirects"
   ]
  },
  {
   "cell_type": "code",
   "execution_count": null,
   "id": "359eb569",
   "metadata": {
    "ExecuteTime": {
     "end_time": "2022-10-27T21:33:16.189587Z",
     "start_time": "2022-10-27T21:33:16.175659Z"
    },
    "cell_style": "split"
   },
   "outputs": [],
   "source": [
    "%%writefile run.py\n",
    "from app import app\n",
    "from bottle import abort, redirect, static_file\n",
    "@app.route('/private/<id:int>')\n",
    "def private(id):\n",
    "    abort(401, \"Sorry, access denied.\")\n",
    "@app.route('/open/<filepath:path>')\n",
    "def open_file(filepath):\n",
    "    return static_file(filepath, root='.')\n",
    "@app.route('/json/<stem>')\n",
    "def getjson(stem):\n",
    "    redirect(f\"/open/{stem}.json\")\n",
    "app.run()"
   ]
  },
  {
   "cell_type": "code",
   "execution_count": null,
   "id": "0dcbbada",
   "metadata": {
    "ExecuteTime": {
     "end_time": "2022-10-27T21:33:17.630140Z",
     "start_time": "2022-10-27T21:33:17.510071Z"
    },
    "cell_style": "split"
   },
   "outputs": [],
   "source": [
    "!wt python run.py"
   ]
  },
  {
   "cell_type": "markdown",
   "id": "f86f19be",
   "metadata": {
    "slideshow": {
     "slide_type": "slide"
    }
   },
   "source": [
    "## Testing your code"
   ]
  },
  {
   "cell_type": "markdown",
   "id": "e4277a37",
   "metadata": {
    "slideshow": {
     "slide_type": "slide"
    }
   },
   "source": [
    "# Why testing is important?"
   ]
  },
  {
   "cell_type": "markdown",
   "id": "4216e4b8",
   "metadata": {},
   "source": [
    "- Domino error\n",
    "  - A function `two` returns 3 instead of 2\n",
    "  - In a far, far away submodule, lies `4**two()`\n",
    "- Coverage:\n",
    "  - Are you sure you don't have dead code lying?\n",
    "  - https://balouf.github.io/stochastic_matching/readme.html\n",
    "- Quick reaction:\n",
    "  - When you break things\n",
    "  - When another dev breaks things\n",
    "  - When the new release of an obscure package breaks things "
   ]
  },
  {
   "cell_type": "markdown",
   "id": "1cfde6b4",
   "metadata": {
    "slideshow": {
     "slide_type": "subslide"
    }
   },
   "source": [
    "# How to test?"
   ]
  },
  {
   "cell_type": "markdown",
   "id": "fff8f362",
   "metadata": {},
   "source": [
    "- unittest\n",
    "  - The original testing framework\n",
    "  - You should not use it (too heavy!)\n",
    "- pytest\n",
    "  - like unittest but simpler\n",
    "  - You should use it!\n",
    "- doctests (not covered here but nice!)\n",
    "  \n",
    " https://www.lincs.fr/events/testing-in-python/"
   ]
  },
  {
   "cell_type": "markdown",
   "id": "85be541a",
   "metadata": {
    "slideshow": {
     "slide_type": "subslide"
    }
   },
   "source": [
    "# pytest syntax"
   ]
  },
  {
   "cell_type": "markdown",
   "id": "1671a48e",
   "metadata": {},
   "source": [
    "If it starts with `test`, it's a test."
   ]
  },
  {
   "cell_type": "code",
   "execution_count": null,
   "id": "ecbe0b01",
   "metadata": {
    "ExecuteTime": {
     "end_time": "2022-10-28T08:16:36.129425Z",
     "start_time": "2022-10-28T08:16:36.095682Z"
    },
    "cell_style": "split"
   },
   "outputs": [],
   "source": [
    "%%writefile test_file.py\n",
    "\n",
    "def square(x):\n",
    "    return x**2\n",
    "\n",
    "def test_square():\n",
    "    assert square(2)==4"
   ]
  },
  {
   "cell_type": "code",
   "execution_count": null,
   "id": "e6cd8e33",
   "metadata": {
    "ExecuteTime": {
     "end_time": "2022-10-28T08:16:38.319456Z",
     "start_time": "2022-10-28T08:16:37.359341Z"
    },
    "cell_style": "split"
   },
   "outputs": [],
   "source": [
    "!pytest"
   ]
  },
  {
   "cell_type": "markdown",
   "id": "c9ebd491",
   "metadata": {
    "slideshow": {
     "slide_type": "subslide"
    }
   },
   "source": [
    "# Example: arithmetic testing"
   ]
  },
  {
   "cell_type": "code",
   "execution_count": null,
   "id": "3a8566d9",
   "metadata": {
    "ExecuteTime": {
     "end_time": "2022-10-28T01:14:25.372299Z",
     "start_time": "2022-10-28T01:14:25.357444Z"
    },
    "cell_style": "split"
   },
   "outputs": [],
   "source": [
    "%%writefile run_maths.py\n",
    "from app import app\n",
    "from json import dumps\n",
    "@app.route(\"/add/<i:int>/<j:int>\")\n",
    "def add(i,j):\n",
    "    return dumps([i+j])\n",
    "@app.route(\"/sub/<i:int>/<j:int>\")\n",
    "def sub(i,j):\n",
    "    return dumps([i-j])\n",
    "@app.route(\"/mul/<i:int>/<j:int>\")\n",
    "def mul(i,j):\n",
    "    return dumps([i*j])\n",
    "@app.route(\"/div/<i:int>/<j:int>\")\n",
    "def div(i,j):\n",
    "    return dumps([i//j,i%j])\n",
    "app.run(host='localhost', port=8070)"
   ]
  },
  {
   "cell_type": "code",
   "execution_count": null,
   "id": "2368e877",
   "metadata": {
    "ExecuteTime": {
     "end_time": "2022-10-28T01:14:28.528466Z",
     "start_time": "2022-10-28T01:14:28.396896Z"
    },
    "cell_style": "split"
   },
   "outputs": [],
   "source": [
    "!wt python run_maths.py"
   ]
  },
  {
   "cell_type": "markdown",
   "id": "f6999ebe",
   "metadata": {
    "slideshow": {
     "slide_type": "subslide"
    }
   },
   "source": [
    "# Example: arithmetic testing"
   ]
  },
  {
   "cell_type": "code",
   "execution_count": null,
   "id": "e2f012c7",
   "metadata": {
    "ExecuteTime": {
     "end_time": "2022-10-28T01:14:39.097515Z",
     "start_time": "2022-10-28T01:14:38.817025Z"
    }
   },
   "outputs": [],
   "source": [
    "from requests import get\n",
    "server_ip = \"127.0.0.1\"\n",
    "server_port = 8070\n",
    "r1 = get(f\"http://{server_ip}:{server_port}/add/4/5\")\n",
    "print(r1.text)\n",
    "r2 = get(f\"http://{server_ip}:{server_port}/add/7/14\")\n",
    "print(r2.text)"
   ]
  },
  {
   "cell_type": "markdown",
   "id": "e2d190b2",
   "metadata": {
    "slideshow": {
     "slide_type": "subslide"
    }
   },
   "source": [
    "# Example: arithmetic testing"
   ]
  },
  {
   "cell_type": "code",
   "execution_count": null,
   "id": "8f936f24",
   "metadata": {
    "ExecuteTime": {
     "end_time": "2022-10-28T01:14:42.665116Z",
     "start_time": "2022-10-28T01:14:42.642837Z"
    },
    "cell_style": "split"
   },
   "outputs": [],
   "source": [
    "%%writefile test_file.py\n",
    "from requests import get\n",
    "from json import loads\n",
    "server_ip = \"127.0.0.1\"\n",
    "server_port = 8070\n",
    "def test_add():\n",
    "    r1 = get(f\"http://{server_ip}:{server_port}/add/4/5\")\n",
    "    assert loads(r1.text) == [ 9 ]\n",
    "    r2 = get(f\"http://{server_ip}:{server_port}/add/7/14\")\n",
    "    assert loads(r2.text) == [21]"
   ]
  },
  {
   "cell_type": "code",
   "execution_count": null,
   "id": "f165da9a",
   "metadata": {
    "ExecuteTime": {
     "end_time": "2022-10-28T01:14:47.464760Z",
     "start_time": "2022-10-28T01:14:46.506340Z"
    },
    "cell_style": "split"
   },
   "outputs": [],
   "source": [
    "!pytest"
   ]
  },
  {
   "cell_type": "markdown",
   "id": "02b6949e",
   "metadata": {
    "slideshow": {
     "slide_type": "subslide"
    }
   },
   "source": [
    "# Example: arithmetic testing"
   ]
  },
  {
   "cell_type": "code",
   "execution_count": null,
   "id": "299c2176",
   "metadata": {
    "ExecuteTime": {
     "end_time": "2022-10-28T01:14:52.206243Z",
     "start_time": "2022-10-28T01:14:52.180517Z"
    },
    "cell_style": "split"
   },
   "outputs": [],
   "source": [
    "%%writefile test_file.py\n",
    "from requests import get\n",
    "from json import loads\n",
    "server_ip = \"127.0.0.1\"\n",
    "server_port = 8070\n",
    "def test_add():\n",
    "    r1 = get(f\"http://{server_ip}:{server_port}/add/4/5\")\n",
    "    assert loads(r1.text) == [ 9 ]\n",
    "    r2 = get(f\"http://{server_ip}:{server_port}/add/7/14\")\n",
    "    assert loads(r2.text) == [21]\n",
    "def test_sub():\n",
    "    r1 = get(f\"http://{server_ip}:{server_port}/sub/4/5\")\n",
    "    assert loads(r1.text) == [ 1 ]\n",
    "    r2 = get(f\"http://{server_ip}:{server_port}/sub/2/2\")\n",
    "    assert loads(r2.text) == [0]"
   ]
  },
  {
   "cell_type": "code",
   "execution_count": null,
   "id": "1ba42c60",
   "metadata": {
    "ExecuteTime": {
     "end_time": "2022-10-28T01:14:55.513816Z",
     "start_time": "2022-10-28T01:14:54.406873Z"
    },
    "cell_style": "split"
   },
   "outputs": [],
   "source": [
    "!pytest"
   ]
  },
  {
   "cell_type": "markdown",
   "id": "5d020d3d",
   "metadata": {
    "slideshow": {
     "slide_type": "subslide"
    }
   },
   "source": [
    "# Example: strings"
   ]
  },
  {
   "cell_type": "code",
   "execution_count": null,
   "id": "a2170982",
   "metadata": {
    "ExecuteTime": {
     "end_time": "2022-10-28T01:15:00.566135Z",
     "start_time": "2022-10-28T01:15:00.552134Z"
    },
    "cell_style": "split"
   },
   "outputs": [],
   "source": [
    "%%writefile run_string.py\n",
    "from app import app\n",
    "@app.route(\"/to_upper/<s>\")\n",
    "def to_upper(s):\n",
    "    return s.upper()\n",
    "app.run(host='localhost', port=8060)"
   ]
  },
  {
   "cell_type": "code",
   "execution_count": null,
   "id": "bf7bf7eb",
   "metadata": {
    "ExecuteTime": {
     "end_time": "2022-10-28T01:15:02.782713Z",
     "start_time": "2022-10-28T01:15:02.618239Z"
    },
    "cell_style": "split"
   },
   "outputs": [],
   "source": [
    "!wt python run_string.py"
   ]
  },
  {
   "cell_type": "markdown",
   "id": "c94d6512",
   "metadata": {
    "slideshow": {
     "slide_type": "subslide"
    }
   },
   "source": [
    "# Example: strings"
   ]
  },
  {
   "cell_type": "code",
   "execution_count": null,
   "id": "92cee4e0",
   "metadata": {
    "ExecuteTime": {
     "end_time": "2022-10-28T01:15:07.075420Z",
     "start_time": "2022-10-28T01:15:07.057288Z"
    },
    "cell_style": "split"
   },
   "outputs": [],
   "source": [
    "%%writefile test_file.py\n",
    "from requests import get\n",
    "server_ip = \"127.0.0.1\"\n",
    "server_port = 8060\n",
    "def test_upper():\n",
    "    r1 = get(f\"http://{server_ip}:{server_port}/to_upper/LaTeX\")\n",
    "    assert r1.text == 'LATEX'\n",
    "    r2 = get(f\"http://{server_ip}:{server_port}/to_upper/Été\")\n",
    "    assert r2.text == 'ÉTÉ'"
   ]
  },
  {
   "cell_type": "code",
   "execution_count": null,
   "id": "75a7b454",
   "metadata": {
    "ExecuteTime": {
     "end_time": "2022-10-28T01:15:09.310290Z",
     "start_time": "2022-10-28T01:15:08.379688Z"
    },
    "cell_style": "split"
   },
   "outputs": [],
   "source": [
    "!pytest"
   ]
  },
  {
   "cell_type": "markdown",
   "id": "3689cc57",
   "metadata": {
    "slideshow": {
     "slide_type": "slide"
    }
   },
   "source": [
    "## API Hour\n"
   ]
  },
  {
   "cell_type": "markdown",
   "id": "19131c67",
   "metadata": {
    "slideshow": {
     "slide_type": "slide"
    }
   },
   "source": [
    "# A First micro-service"
   ]
  },
  {
   "cell_type": "code",
   "execution_count": null,
   "id": "c8743c1a",
   "metadata": {
    "ExecuteTime": {
     "end_time": "2022-10-28T01:15:18.860215Z",
     "start_time": "2022-10-28T01:15:18.838919Z"
    },
    "cell_style": "split"
   },
   "outputs": [],
   "source": [
    "%%writefile run.py\n",
    "ip=\"127.0.0.1\"\n",
    "math_port=8070\n",
    "from app import app\n",
    "from bottle import request\n",
    "from requests import get\n",
    "from json import loads\n",
    "form = \"\"\"<form action=\"/\" method=\"post\">\n",
    " i: <input name=\"i\" type=\"text\" />\n",
    " j: <input name=\"j\" type=\"text\" />\n",
    "<input value=\"Add\" type=\"submit\" />\n",
    "</form>\"\"\"\n",
    "@app.get(\"/\")\n",
    "def input_form():\n",
    "    return form\n",
    "@app.post(\"/\")\n",
    "def process_form():\n",
    "    i = request.forms['i']\n",
    "    j = request.forms['j']\n",
    "    r = get(f\"http://{ip}:{math_port}/add/{i}/{j}\")\n",
    "    l = loads(r.text)\n",
    "    return f\"<h1>{i}+{j}={l[0]}</h1>\"    \n",
    "app.run()"
   ]
  },
  {
   "cell_type": "code",
   "execution_count": null,
   "id": "e89fb499",
   "metadata": {
    "ExecuteTime": {
     "end_time": "2022-10-28T01:15:20.343001Z",
     "start_time": "2022-10-28T01:15:20.169244Z"
    },
    "cell_style": "split"
   },
   "outputs": [],
   "source": [
    "!wt python run.py"
   ]
  },
  {
   "cell_type": "markdown",
   "id": "e76f7341",
   "metadata": {
    "slideshow": {
     "slide_type": "subslide"
    }
   },
   "source": [
    "# What happened?"
   ]
  },
  {
   "cell_type": "markdown",
   "id": "7d5d43f0",
   "metadata": {},
   "source": [
    "- User sends a get method to 8080\n",
    "- 8080 sends a html form to user\n",
    "- User sends a post method to 8080\n",
    "- 8080 sends a get method to 8070\n",
    "- 8070 sends a json to 8080\n",
    "- 8080 sends a html title to user"
   ]
  },
  {
   "cell_type": "markdown",
   "id": "196ebfa4",
   "metadata": {
    "slideshow": {
     "slide_type": "subslide"
    }
   },
   "source": [
    "# Another one?"
   ]
  },
  {
   "cell_type": "code",
   "execution_count": null,
   "id": "b69558df",
   "metadata": {
    "ExecuteTime": {
     "end_time": "2022-10-28T01:16:55.932166Z",
     "start_time": "2022-10-28T01:16:55.908751Z"
    },
    "cell_style": "split"
   },
   "outputs": [],
   "source": [
    "%%writefile run.py\n",
    "ip=\"127.0.0.1\"\n",
    "string_port=8060\n",
    "from bottle import request, Bottle\n",
    "from requests import get\n",
    "app = Bottle()\n",
    "form = \"\"\"<form action=\"/\" method=\"post\">\n",
    " Word: <input name=\"s\" type=\"text\" />\n",
    " <input value=\"To Uppercase\" type=\"submit\" />\n",
    " </form>\"\"\"\n",
    "@app.get(\"/\")\n",
    "def input_form():\n",
    "    return form\n",
    "@app.post(\"/\")\n",
    "def process_form():\n",
    "    s = request.forms['s'] # unicode is universal?\n",
    "    r = get(f\"http://{ip}:{string_port}/to_upper/{s}\")\n",
    "    l = r.text\n",
    "    return f\"<h1>{s}.upper()={l}</h1>\"    \n",
    "app.run()"
   ]
  },
  {
   "cell_type": "code",
   "execution_count": null,
   "id": "db67f8f7",
   "metadata": {
    "ExecuteTime": {
     "end_time": "2022-10-28T01:16:57.506086Z",
     "start_time": "2022-10-28T01:16:57.404693Z"
    },
    "cell_style": "split"
   },
   "outputs": [],
   "source": [
    "!wt python run.py"
   ]
  },
  {
   "cell_type": "markdown",
   "id": "475e23ad",
   "metadata": {
    "slideshow": {
     "slide_type": "subslide"
    }
   },
   "source": [
    "# Getting parameters:"
   ]
  },
  {
   "cell_type": "markdown",
   "id": "0c455775",
   "metadata": {},
   "source": [
    "- from the URL, e.g. `/entry?order=name`: `request.query['order']`\n",
    "- from the post data, e.g. a posted form: `request.forms['order']`\n",
    "- from URL or post data: `request.params['order']`\n",
    "- Retrieve a posted file:\n",
    "  - `image = request.files['image']`\n",
    "  - `image.save('images/uploaded')`"
   ]
  },
  {
   "cell_type": "markdown",
   "id": "89d0999b",
   "metadata": {
    "slideshow": {
     "slide_type": "subslide"
    }
   },
   "source": [
    "# A bit of practice"
   ]
  },
  {
   "cell_type": "markdown",
   "id": "f9550e1a",
   "metadata": {},
   "source": [
    "- Here we used different port numbers to demonstrate interactions between several machine\n",
    "- In practice, if the machines are distinct, you use the same port\n",
    "- Multiple services can run on the same machine\n",
    "  - One developper writes the maths routes\n",
    "  - One developper writes the form routes\n",
    "  - One developper writes the server\n",
    "- Good practice: don't use http for internal calls\n",
    "- But sometimes, it's better than running X servers"
   ]
  },
  {
   "cell_type": "markdown",
   "id": "b0b0f138",
   "metadata": {
    "slideshow": {
     "slide_type": "subslide"
    }
   },
   "source": [
    "# First example revisited: the backend"
   ]
  },
  {
   "cell_type": "code",
   "execution_count": null,
   "id": "6ecfd7e7",
   "metadata": {
    "ExecuteTime": {
     "end_time": "2022-10-28T08:18:11.523073Z",
     "start_time": "2022-10-28T08:18:11.512583Z"
    },
    "cell_style": "center"
   },
   "outputs": [],
   "source": [
    "%%writefile app_maths.py\n",
    "from bottle import Bottle\n",
    "from json import dumps\n",
    "app = Bottle()\n",
    "@app.route(\"/add/<i:int>/<j:int>\")\n",
    "def add(i,j):\n",
    "    return dumps([i+j])\n",
    "@app.route(\"/sub/<i:int>/<j:int>\")\n",
    "def sub(i,j):\n",
    "    return dumps([i-j])\n",
    "@app.route(\"/mul/<i:int>/<j:int>\")\n",
    "def mul(i,j):\n",
    "    return dumps([i*j])\n",
    "@app.route(\"/div/<i:int>/<j:int>\")\n",
    "def div(i,j):\n",
    "    return dumps([i//j,i%j])"
   ]
  },
  {
   "cell_type": "markdown",
   "id": "003b87ab",
   "metadata": {
    "slideshow": {
     "slide_type": "subslide"
    }
   },
   "source": [
    "# First example revisited: the frontend"
   ]
  },
  {
   "cell_type": "code",
   "execution_count": null,
   "id": "dbec707c",
   "metadata": {
    "ExecuteTime": {
     "end_time": "2022-10-28T08:18:12.931237Z",
     "start_time": "2022-10-28T08:18:12.904233Z"
    }
   },
   "outputs": [],
   "source": [
    "%%writefile app_user.py\n",
    "from bottle import Bottle, request\n",
    "from json import loads\n",
    "import requests\n",
    "app = Bottle()\n",
    "form = \"\"\"<form action=\"/\" method=\"post\">\n",
    " i: <input name=\"i\" type=\"text\" />\n",
    " j: <input name=\"j\" type=\"text\" />\n",
    "<input value=\"Add\" type=\"submit\" />\n",
    "</form>\"\"\"\n",
    "@app.get(\"/\")\n",
    "def input_form():\n",
    "    return form\n",
    "@app.post(\"/\")\n",
    "def process_form():\n",
    "    i = request.params['i']\n",
    "    j = request.params['j']\n",
    "    r = requests.get(f\"http://127.0.0.1:8080/maths/add/{i}/{j}\")\n",
    "    l = loads(r.text)\n",
    "    return f\"<h1>{i}+{j}={l[0]}</h1>\""
   ]
  },
  {
   "cell_type": "markdown",
   "id": "739a1df9",
   "metadata": {
    "slideshow": {
     "slide_type": "subslide"
    }
   },
   "source": [
    "# First example revisited: the server"
   ]
  },
  {
   "cell_type": "code",
   "execution_count": null,
   "id": "01a303e4",
   "metadata": {
    "ExecuteTime": {
     "end_time": "2022-10-28T08:18:32.467564Z",
     "start_time": "2022-10-28T08:18:32.452703Z"
    },
    "cell_style": "split"
   },
   "outputs": [],
   "source": [
    "%%writefile run.py\n",
    "from gevent import monkey; monkey.patch_all()\n",
    "from bottle import Bottle\n",
    "from app_user import app as app_user\n",
    "from app_maths import app as app_maths\n",
    "app = Bottle()\n",
    "app.mount('/maths', app_maths)\n",
    "app.merge(app_user)\n",
    "app.run(server='gevent')"
   ]
  },
  {
   "cell_type": "code",
   "execution_count": null,
   "id": "96d2c57f",
   "metadata": {
    "ExecuteTime": {
     "end_time": "2022-10-28T08:18:33.957146Z",
     "start_time": "2022-10-28T08:18:33.770852Z"
    },
    "cell_style": "split"
   },
   "outputs": [],
   "source": [
    "!wt python run.py"
   ]
  },
  {
   "cell_type": "markdown",
   "id": "6d6b801b",
   "metadata": {
    "slideshow": {
     "slide_type": "slide"
    }
   },
   "source": [
    "## Templates"
   ]
  },
  {
   "cell_type": "markdown",
   "id": "0a6a5a52",
   "metadata": {
    "slideshow": {
     "slide_type": "slide"
    }
   },
   "source": [
    "# Templates"
   ]
  },
  {
   "cell_type": "markdown",
   "id": "c1fbc09a",
   "metadata": {},
   "source": [
    "- Writing nice html requires lot of boring text (tags, etc...)\n",
    "- With templates, you can prepare skeletons with placeholders to save times\n",
    "- Many possibilities:\n",
    "  - Native Python: f-strings, % substitution, string.Template\n",
    "  - bottle provides its own template factory"
   ]
  },
  {
   "cell_type": "markdown",
   "id": "508b19d0",
   "metadata": {
    "slideshow": {
     "slide_type": "subslide"
    }
   },
   "source": [
    "# Basic templates"
   ]
  },
  {
   "cell_type": "code",
   "execution_count": null,
   "id": "c9e287a3",
   "metadata": {
    "ExecuteTime": {
     "end_time": "2022-10-28T08:19:22.058872Z",
     "start_time": "2022-10-28T08:19:22.003539Z"
    }
   },
   "outputs": [],
   "source": [
    "from bottle import SimpleTemplate, template\n",
    "tpl = SimpleTemplate('Hello {{name}}!')\n",
    "s = tpl.render(name='World')\n",
    "print(s)\n",
    "my_dict={'number': '123', 'street': 'Fake St.', 'city': 'Fakeville'}\n",
    "s = template('The address is at {{number}} {{street}}, {{city}}', my_dict)\n",
    "print(s)"
   ]
  },
  {
   "cell_type": "markdown",
   "id": "b9c5a8f8",
   "metadata": {
    "slideshow": {
     "slide_type": "subslide"
    }
   },
   "source": [
    "# If condition"
   ]
  },
  {
   "cell_type": "code",
   "execution_count": null,
   "id": "57791316",
   "metadata": {
    "ExecuteTime": {
     "end_time": "2022-10-28T08:19:25.236848Z",
     "start_time": "2022-10-28T08:19:25.221996Z"
    }
   },
   "outputs": [],
   "source": [
    "tpl = 'Hello {{name if name != \"World\" else \"Planet\"}}!'\n",
    "s = template(tpl, name='World')\n",
    "print(s)\n",
    "s = template(tpl, name='Sébastien')\n",
    "print(s)"
   ]
  },
  {
   "cell_type": "markdown",
   "id": "ae0b8a19",
   "metadata": {
    "slideshow": {
     "slide_type": "subslide"
    }
   },
   "source": [
    "# Warning: HTML entities"
   ]
  },
  {
   "cell_type": "code",
   "execution_count": null,
   "id": "57b3b51f",
   "metadata": {
    "ExecuteTime": {
     "end_time": "2022-10-28T08:19:28.219257Z",
     "start_time": "2022-10-28T08:19:28.192315Z"
    }
   },
   "outputs": [],
   "source": [
    "tpl = 'Hello {{name}}!'\n",
    "s = template(tpl, name='<b>World</b>')\n",
    "print(s)\n",
    "tpl = 'Hello {{!name}}!'\n",
    "s = template(tpl, name='<b>World</b>')\n",
    "print(s)"
   ]
  },
  {
   "cell_type": "markdown",
   "id": "ec6c6f1e",
   "metadata": {
    "slideshow": {
     "slide_type": "subslide"
    }
   },
   "source": [
    "# Template files"
   ]
  },
  {
   "cell_type": "code",
   "execution_count": null,
   "id": "663e4a63",
   "metadata": {
    "ExecuteTime": {
     "end_time": "2022-10-28T02:25:15.643300Z",
     "start_time": "2022-10-28T02:25:15.630534Z"
    }
   },
   "outputs": [],
   "source": [
    "%%writefile simple.tpl\n",
    "<html>\n",
    " <head><title>{{title}}</title></head>\n",
    " <body>\n",
    " <h1>{{title}}</h1>\n",
    " {{content}}\n",
    " </body>\n",
    "</html"
   ]
  },
  {
   "cell_type": "markdown",
   "id": "6fbc4fe4",
   "metadata": {
    "slideshow": {
     "slide_type": "subslide"
    }
   },
   "source": [
    "# Template files"
   ]
  },
  {
   "cell_type": "code",
   "execution_count": null,
   "id": "014096f9",
   "metadata": {
    "ExecuteTime": {
     "end_time": "2022-10-28T08:19:57.982494Z",
     "start_time": "2022-10-28T08:19:57.966977Z"
    }
   },
   "outputs": [],
   "source": [
    "from IPython.display import HTML\n",
    "site = { 'title': 'This is the title', \n",
    "'content': 'This is the content'}\n",
    "s = template('simple.tpl',site)\n",
    "print(s)\n",
    "HTML(s)"
   ]
  },
  {
   "cell_type": "markdown",
   "id": "4431ddeb",
   "metadata": {
    "slideshow": {
     "slide_type": "subslide"
    }
   },
   "source": [
    "# Conditions in template files"
   ]
  },
  {
   "cell_type": "code",
   "execution_count": null,
   "id": "befb1daf",
   "metadata": {
    "ExecuteTime": {
     "end_time": "2022-10-28T08:19:47.854249Z",
     "start_time": "2022-10-28T08:19:47.838994Z"
    },
    "cell_style": "split"
   },
   "outputs": [],
   "source": [
    "%%writefile simple_if.tpl\n",
    "<html>\n",
    " <head><title>{{title}}</title></head>\n",
    " <body>\n",
    " <h1>{{title}}</h1>\n",
    " % if bold_content:\n",
    " <b>\n",
    " % end\n",
    " {{content}}\n",
    " % if bold_content:\n",
    " </b>\n",
    " % end\n",
    " </body>\n",
    "</html>"
   ]
  },
  {
   "cell_type": "code",
   "execution_count": null,
   "id": "b17bb005",
   "metadata": {
    "ExecuteTime": {
     "end_time": "2022-10-28T08:20:01.027143Z",
     "start_time": "2022-10-28T08:20:01.001973Z"
    },
    "cell_style": "split"
   },
   "outputs": [],
   "source": [
    "site = { 'title': 'This is the title', \n",
    "'content': 'This is the content'}\n",
    "s = template('simple_if.tpl',site, bold_content=True)\n",
    "HTML(s)"
   ]
  },
  {
   "cell_type": "markdown",
   "id": "a7bdb99d",
   "metadata": {
    "slideshow": {
     "slide_type": "subslide"
    }
   },
   "source": [
    "# Template files loops"
   ]
  },
  {
   "cell_type": "code",
   "execution_count": null,
   "id": "40efcd3b",
   "metadata": {
    "ExecuteTime": {
     "end_time": "2022-10-28T08:20:02.999934Z",
     "start_time": "2022-10-28T08:20:02.985397Z"
    },
    "cell_style": "split"
   },
   "outputs": [],
   "source": [
    "%%writefile simple_for.tpl\n",
    "<html>\n",
    " <head><title>{{title}}</title></head>\n",
    " <body>\n",
    " <h1>{{title}}</h1><ul>\n",
    " % for content in contents:\n",
    " % if bold:\n",
    " <li><b>{{content}}</b></li>\n",
    " % else:\n",
    " <li>{{content}}</li>\n",
    " % end\n",
    " %end\n",
    " </ul></body>\n",
    "</html>"
   ]
  },
  {
   "cell_type": "code",
   "execution_count": null,
   "id": "3fe358ce",
   "metadata": {
    "ExecuteTime": {
     "end_time": "2022-10-28T08:20:04.360208Z",
     "start_time": "2022-10-28T08:20:04.341714Z"
    },
    "cell_style": "split"
   },
   "outputs": [],
   "source": [
    "site = { 'title': 'This is the title', 'contents': \n",
    "        ['This is the first line of content', 'second line', 'third line']}\n",
    "s = template('simple_for.tpl', site, bold=False)\n",
    "HTML(s)"
   ]
  },
  {
   "cell_type": "markdown",
   "id": "0827d834",
   "metadata": {
    "slideshow": {
     "slide_type": "slide"
    }
   },
   "source": [
    "# The end!"
   ]
  }
 ],
 "metadata": {
  "celltoolbar": "Slideshow",
  "kernelspec": {
   "display_name": "Python 3 (ipykernel)",
   "language": "python",
   "name": "python3"
  },
  "language_info": {
   "codemirror_mode": {
    "name": "ipython",
    "version": 3
   },
   "file_extension": ".py",
   "mimetype": "text/x-python",
   "name": "python",
   "nbconvert_exporter": "python",
   "pygments_lexer": "ipython3",
   "version": "3.9.13"
  },
  "toc": {
   "base_numbering": 1,
   "nav_menu": {},
   "number_sections": true,
   "sideBar": true,
   "skip_h1_title": true,
   "title_cell": "Table of Contents",
   "title_sidebar": "Contents",
   "toc_cell": false,
   "toc_position": {},
   "toc_section_display": true,
   "toc_window_display": false
  }
 },
 "nbformat": 4,
 "nbformat_minor": 5
}

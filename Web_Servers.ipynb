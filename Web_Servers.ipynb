{
 "cells": [
  {
   "cell_type": "code",
   "execution_count": 1,
   "id": "c4c0ab8b",
   "metadata": {
    "ExecuteTime": {
     "end_time": "2024-10-17T20:02:16.625748Z",
     "start_time": "2024-10-17T20:02:16.611329Z"
    },
    "init_cell": true,
    "slideshow": {
     "slide_type": "skip"
    }
   },
   "outputs": [
    {
     "data": {
      "text/html": [
       "<style>\n",
       ".prompt_container { display: none !important; }\n",
       ".prompt { display: none !important; }\n",
       ".run_this_cell { display: none !important; }\n",
       "\n",
       ".slides {\n",
       "    position: absolute;\n",
       "    top: 0;\n",
       "    left: 0;\n",
       "}\n",
       "</style>\n"
      ],
      "text/plain": [
       "<IPython.core.display.HTML object>"
      ]
     },
     "metadata": {},
     "output_type": "display_data"
    }
   ],
   "source": [
    "%%html\n",
    "<style>\n",
    ".prompt_container { display: none !important; }\n",
    ".prompt { display: none !important; }\n",
    ".run_this_cell { display: none !important; }\n",
    "\n",
    ".slides {\n",
    "    position: absolute;\n",
    "    top: 0;\n",
    "    left: 0;\n",
    "}\n",
    "</style>"
   ]
  },
  {
   "cell_type": "markdown",
   "id": "13980f54",
   "metadata": {
    "slideshow": {
     "slide_type": "slide"
    }
   },
   "source": [
    "# ProgRes, Part IIb\n",
    "\n",
    "# Web servers"
   ]
  },
  {
   "cell_type": "markdown",
   "id": "99c42851",
   "metadata": {},
   "source": [
    "Fabien Mathieu - fabien.mathieu@normalesup.org\n",
    "\n",
    "Sébastien Tixeuil - Sebastien.Tixeuil@lip6.fr"
   ]
  },
  {
   "cell_type": "markdown",
   "id": "409c52f1",
   "metadata": {
    "slideshow": {
     "slide_type": "subslide"
    }
   },
   "source": [
    "# Methodology"
   ]
  },
  {
   "cell_type": "markdown",
   "id": "b78b1230",
   "metadata": {},
   "source": [
    "- Course, practicals, and mini-projects are made on notebooks (jupyter or jupyterlab)\n",
    "- Available on Github: https://github.com/balouf/progres\n",
    "- This means you will send your practical notebooks. \n",
    "- Please put your name(s) **on the filename AND inside** as well!"
   ]
  },
  {
   "cell_type": "markdown",
   "id": "7407be8b",
   "metadata": {
    "slideshow": {
     "slide_type": "subslide"
    }
   },
   "source": [
    "# The rules"
   ]
  },
  {
   "cell_type": "markdown",
   "id": "3873137b",
   "metadata": {},
   "source": [
    "https://github.com/balouf/progres/blob/main/rules.ipynb"
   ]
  },
  {
   "cell_type": "markdown",
   "id": "acd973dd",
   "metadata": {
    "slideshow": {
     "slide_type": "subslide"
    }
   },
   "source": [
    "# Roadmap"
   ]
  },
  {
   "cell_type": "markdown",
   "id": "f441ff90",
   "metadata": {},
   "source": [
    "- Part I: done\n",
    "- Part II (Web services)\n",
    "  - Last week: Client side\n",
    "  - This week: Server side\n",
    "    - Bottle\n",
    "    - Testing\n",
    "    - Web Server + API\n",
    "- Part III: P2P"
   ]
  },
  {
   "cell_type": "markdown",
   "id": "ffaa95a0",
   "metadata": {
    "slideshow": {
     "slide_type": "slide"
    }
   },
   "source": [
    "## Create an API in Python"
   ]
  },
  {
   "cell_type": "markdown",
   "id": "3a5972fc",
   "metadata": {
    "slideshow": {
     "slide_type": "slide"
    }
   },
   "source": [
    "# Reminder"
   ]
  },
  {
   "cell_type": "markdown",
   "id": "9080499a",
   "metadata": {},
   "source": [
    "HTTP can be used to communicate:\n",
    "- Between the server and the user (frontend)\n",
    "- Internally, between the server and other services (backend)\n",
    "\n",
    "API (Application Programming Interface) is a set of exposed methods for interaction between programms.\n",
    "\n",
    "REST is a *code of conduct* for http-based API."
   ]
  },
  {
   "cell_type": "markdown",
   "id": "95155012",
   "metadata": {
    "slideshow": {
     "slide_type": "subslide"
    }
   },
   "source": [
    "# Anatomy of a Web server"
   ]
  },
  {
   "cell_type": "markdown",
   "id": "671f5028",
   "metadata": {},
   "source": [
    "A web server can be made of multiple parts:"
   ]
  },
  {
   "cell_type": "markdown",
   "id": "f247c823",
   "metadata": {
    "cell_style": "split"
   },
   "source": [
    "HTTP Server:\n",
    "- Listen to incoming HTTP requests\n",
    "- Dispatch them:\n",
    "  - Fetch local files\n",
    "  - Send to application"
   ]
  },
  {
   "cell_type": "markdown",
   "id": "a1540542",
   "metadata": {
    "cell_style": "split"
   },
   "source": [
    "Application server:\n",
    "- Process the requests\n",
    "  - At frontend\n",
    "  - At backend"
   ]
  },
  {
   "cell_type": "markdown",
   "id": "07abf372",
   "metadata": {
    "slideshow": {
     "slide_type": "subslide"
    }
   },
   "source": [
    "# Web libraries"
   ]
  },
  {
   "cell_type": "markdown",
   "id": "bffe049a",
   "metadata": {},
   "source": [
    "Many libraries / framework exist in Python.\n",
    "\n",
    "From https://www.educative.io/blog/top-python-web-frameworks\n",
    "\n",
    "1. Flask: light, yet powerful. Adapted to middle-complexity websites.\n",
    "2. Django: ultra-powerful, ultra-complete. Adapted to production-ready complex websites.\n",
    "3. FastAPI: light, robust, easy-to-learn, production-ready.\n",
    "4. CherryPy: Flask simpler and more pythonic. Adapted to professors.\n",
    "5. Bottle: very light, standalone. Adapted to courses and mini-projects.\n"
   ]
  },
  {
   "cell_type": "markdown",
   "id": "ff1e7879",
   "metadata": {
    "slideshow": {
     "slide_type": "subslide"
    }
   },
   "source": [
    "# The bottle framework"
   ]
  },
  {
   "cell_type": "markdown",
   "id": "a6b76333",
   "metadata": {},
   "source": [
    "- **Routing**: Requests to function-call mapping with support for clean and dynamic URLs.\n",
    "- **Templates**: Fast and pythonic built-in template engine.\n",
    "- **Utilities**: Convenient access to form data, file uploads, cookies, headers and other HTTP-related metadata.\n",
    "- **Server**: \n",
    "  - Built-in HTTP development server (mono-thread, easy to block...)\n",
    "  - Support for other WSGI capable HTTP server.\n",
    "\n",
    "WSGI is the Web Server Gateway Interface (allows to combine multiple frameworks together)."
   ]
  },
  {
   "cell_type": "markdown",
   "id": "b936616d",
   "metadata": {
    "slideshow": {
     "slide_type": "subslide"
    }
   },
   "source": [
    "# Hello world example"
   ]
  },
  {
   "cell_type": "code",
   "execution_count": 2,
   "id": "1934404b",
   "metadata": {
    "ExecuteTime": {
     "end_time": "2024-10-17T20:04:28.294708Z",
     "start_time": "2024-10-17T20:03:36.639062Z"
    },
    "cell_style": "split"
   },
   "outputs": [
    {
     "name": "stderr",
     "output_type": "stream",
     "text": [
      "Bottle v0.12.25 server starting up (using WSGIRefServer())...\n",
      "Listening on http://localhost:8080/\n",
      "Hit Ctrl-C to quit.\n",
      "\n",
      "127.0.0.1 - - [17/Oct/2024 22:03:39] \"GET /hello/World HTTP/1.1\" 200 12\n",
      "127.0.0.1 - - [17/Oct/2024 22:03:49] \"GET /hello/you HTTP/1.1\" 200 10\n"
     ]
    }
   ],
   "source": [
    "from bottle import route, run\n",
    "@route('/hello/<name>')\n",
    "def index(name):\n",
    "    return 'Hello '+name+'!'\n",
    "run(host='localhost', port=8080)"
   ]
  },
  {
   "cell_type": "markdown",
   "id": "3eb3b66e",
   "metadata": {
    "cell_style": "split"
   },
   "source": [
    "Check that the server works: http://localhost:8080/hello/World"
   ]
  },
  {
   "cell_type": "markdown",
   "id": "837a6b0f",
   "metadata": {
    "slideshow": {
     "slide_type": "subslide"
    }
   },
   "source": [
    "# Hello world example explained"
   ]
  },
  {
   "cell_type": "markdown",
   "id": "6315a751",
   "metadata": {},
   "source": [
    "- `route` is a Python decorator.\n",
    "  - Decorators are used to modify the behavior of a method\n",
    "  - Here `@route` links the method `index(name)` to the route `/hello/<name>`\n",
    "- `run` starts the Web server\n",
    "  - ``host=`localhost` ``: listen local incoming connections\n",
    "  - `port`: listening port"
   ]
  },
  {
   "cell_type": "markdown",
   "id": "23a2d616",
   "metadata": {
    "slideshow": {
     "slide_type": "subslide"
    }
   },
   "source": [
    "# Intermezzo: Jupyter/IPython magics "
   ]
  },
  {
   "cell_type": "markdown",
   "id": "241134f5",
   "metadata": {},
   "source": [
    "- IPython Magics are powerful commands that change the behavior of a code cell.\n",
    "- Here we will use some to avoid switching back and forth between the notebook and command line.\n",
    "- Using magics is never mandatory but often helpful\n",
    "- If you want to learn more about magics: https://ipython.readthedocs.io/en/stable/interactive/magics.html"
   ]
  },
  {
   "cell_type": "markdown",
   "id": "5bcb3a8e",
   "metadata": {
    "slideshow": {
     "slide_type": "subslide"
    }
   },
   "source": [
    "# Hello world example with magics"
   ]
  },
  {
   "cell_type": "code",
   "execution_count": 3,
   "id": "72eed71c",
   "metadata": {
    "ExecuteTime": {
     "end_time": "2024-10-17T20:04:52.950177Z",
     "start_time": "2024-10-17T20:04:52.939355Z"
    },
    "cell_style": "split"
   },
   "outputs": [
    {
     "name": "stdout",
     "output_type": "stream",
     "text": [
      "Writing run.py\n"
     ]
    }
   ],
   "source": [
    "%%writefile run.py\n",
    "from bottle import route, run\n",
    "@route('/hello/<name>')\n",
    "def index(name):\n",
    "    return f'Hello {name}!'\n",
    "run(host='localhost', port=8080)"
   ]
  },
  {
   "cell_type": "code",
   "execution_count": 4,
   "id": "9b9ae45b",
   "metadata": {
    "ExecuteTime": {
     "end_time": "2024-10-17T20:04:55.655048Z",
     "start_time": "2024-10-17T20:04:55.521163Z"
    },
    "cell_style": "split"
   },
   "outputs": [],
   "source": [
    "!wt python run.py"
   ]
  },
  {
   "cell_type": "markdown",
   "id": "3d23db12",
   "metadata": {
    "cell_style": "center"
   },
   "source": [
    "Check that the server works: http://localhost:8080/hello/Students"
   ]
  },
  {
   "cell_type": "markdown",
   "id": "4d87cac7",
   "metadata": {
    "slideshow": {
     "slide_type": "subslide"
    }
   },
   "source": [
    "# Hello world example a bit cleaner"
   ]
  },
  {
   "cell_type": "code",
   "execution_count": 5,
   "id": "b2c5ce89",
   "metadata": {
    "ExecuteTime": {
     "end_time": "2024-10-17T20:05:37.584877Z",
     "start_time": "2024-10-17T20:05:37.579365Z"
    },
    "cell_style": "split"
   },
   "outputs": [
    {
     "name": "stdout",
     "output_type": "stream",
     "text": [
      "Writing app.py\n"
     ]
    }
   ],
   "source": [
    "%%writefile app.py\n",
    "from bottle import Bottle\n",
    "from html import escape\n",
    "from gevent import monkey\n",
    "monkey.patch_all()\n",
    "app = Bottle()\n",
    "@app.route('/')\n",
    "def alive():\n",
    "    start = [\"Server running. Available routes:<br><ul>\"]\n",
    "    return start+[f\"<li><a href='{r.rule}'>{escape(r.rule)}</a></li>\" \n",
    "                  for r in app.routes]+['</ul>']"
   ]
  },
  {
   "cell_type": "code",
   "execution_count": 6,
   "id": "b9e3473a",
   "metadata": {
    "ExecuteTime": {
     "end_time": "2024-10-17T20:05:44.213947Z",
     "start_time": "2024-10-17T20:05:44.204374Z"
    },
    "cell_style": "split"
   },
   "outputs": [
    {
     "name": "stdout",
     "output_type": "stream",
     "text": [
      "Overwriting run.py\n"
     ]
    }
   ],
   "source": [
    "%%writefile run.py\n",
    "from app import app\n",
    "@app.route('/hello/<name>')\n",
    "def index(name):\n",
    "    return f'Hello {name}!'\n",
    "app.run(server='gevent')"
   ]
  },
  {
   "cell_type": "code",
   "execution_count": 7,
   "id": "3c959f13",
   "metadata": {
    "ExecuteTime": {
     "end_time": "2024-10-17T20:05:54.051373Z",
     "start_time": "2024-10-17T20:05:53.929126Z"
    },
    "cell_style": "split"
   },
   "outputs": [],
   "source": [
    "!wt python run.py"
   ]
  },
  {
   "cell_type": "markdown",
   "id": "2296a9c1",
   "metadata": {},
   "source": [
    "http://localhost:8080"
   ]
  },
  {
   "cell_type": "markdown",
   "id": "2e4d374b",
   "metadata": {
    "slideshow": {
     "slide_type": "subslide"
    }
   },
   "source": [
    "# Filters: :int, :float, :path, :re"
   ]
  },
  {
   "cell_type": "code",
   "execution_count": 8,
   "id": "4cf174cf",
   "metadata": {
    "ExecuteTime": {
     "end_time": "2024-10-17T20:06:36.728961Z",
     "start_time": "2024-10-17T20:06:36.716726Z"
    },
    "cell_style": "split"
   },
   "outputs": [
    {
     "name": "stdout",
     "output_type": "stream",
     "text": [
      "Overwriting run.py\n"
     ]
    }
   ],
   "source": [
    "%%writefile run.py\n",
    "from app import app\n",
    "from bottle import static_file\n",
    "@app.route('/square/<i:int>')\n",
    "def square(i):\n",
    "    return f'The square of {i} is {i**2}.'\n",
    "@app.route('/open/<filepath:path>')\n",
    "def open_file(filepath):\n",
    "    return static_file(filepath, root='.')\n",
    "@app.route('/slug/<id_slug:re:[0-9]+-.*>')\n",
    "def slug(id_slug):\n",
    "    id_slug = id_slug.split('-', 1)\n",
    "    return f'Slug {id_slug[1]} has id {id_slug[0]}.'\n",
    "app.run(server='gevent')"
   ]
  },
  {
   "cell_type": "code",
   "execution_count": 9,
   "id": "c345b9c9",
   "metadata": {
    "ExecuteTime": {
     "end_time": "2024-10-17T20:06:39.459323Z",
     "start_time": "2024-10-17T20:06:39.350387Z"
    },
    "cell_style": "split"
   },
   "outputs": [],
   "source": [
    "!wt python run.py"
   ]
  },
  {
   "cell_type": "markdown",
   "id": "1a1c0980",
   "metadata": {
    "cell_style": "split"
   },
   "source": [
    "http://localhost:8080"
   ]
  },
  {
   "cell_type": "markdown",
   "id": "41ea690a",
   "metadata": {
    "slideshow": {
     "slide_type": "subslide"
    }
   },
   "source": [
    "# Specify the method (GET, POST, ...)"
   ]
  },
  {
   "cell_type": "code",
   "execution_count": 10,
   "id": "9d6b5bb5",
   "metadata": {
    "ExecuteTime": {
     "end_time": "2024-10-17T20:07:50.899190Z",
     "start_time": "2024-10-17T20:07:50.888228Z"
    },
    "cell_style": "split"
   },
   "outputs": [
    {
     "name": "stdout",
     "output_type": "stream",
     "text": [
      "Overwriting run.py\n"
     ]
    }
   ],
   "source": [
    "%%writefile run.py\n",
    "from app import app\n",
    "from bottle import static_file\n",
    "@app.route('/square/<i:int>', method='get')\n",
    "def square(i):\n",
    "    return f'The square of {i} is {i**2}.'\n",
    "@app.get('/open/<filepath:path>') # Equivalent\n",
    "def open_file(filepath):\n",
    "    return static_file(filepath, root='.')\n",
    "@app.get('/slug/<id_slug:re:[0-9]+-.*>')\n",
    "def slug(id_slug):\n",
    "    id_slug = id_slug.split('-', 1)\n",
    "    return f'Slug {id_slug[1]} has id {id_slug[0]}.'\n",
    "app.run(server='gevent')"
   ]
  },
  {
   "cell_type": "code",
   "execution_count": 11,
   "id": "cfbf5649",
   "metadata": {
    "ExecuteTime": {
     "end_time": "2024-10-17T20:07:52.927524Z",
     "start_time": "2024-10-17T20:07:52.817060Z"
    },
    "cell_style": "split"
   },
   "outputs": [],
   "source": [
    "!wt python run.py"
   ]
  },
  {
   "cell_type": "markdown",
   "id": "9911af7c",
   "metadata": {
    "cell_style": "split"
   },
   "source": [
    "http://localhost:8080"
   ]
  },
  {
   "cell_type": "markdown",
   "id": "1ae76513",
   "metadata": {
    "slideshow": {
     "slide_type": "subslide"
    }
   },
   "source": [
    "# A route can return..."
   ]
  },
  {
   "cell_type": "code",
   "execution_count": 12,
   "id": "177c93bd",
   "metadata": {
    "ExecuteTime": {
     "end_time": "2024-10-17T20:09:26.018698Z",
     "start_time": "2024-10-17T20:09:26.008420Z"
    },
    "cell_style": "split"
   },
   "outputs": [
    {
     "name": "stdout",
     "output_type": "stream",
     "text": [
      "Overwriting run.py\n"
     ]
    }
   ],
   "source": [
    "%%writefile run.py\n",
    "from app import app\n",
    "import json\n",
    "from bottle import static_file\n",
    "@app.get('/nothing')\n",
    "def nothing():\n",
    "    return None\n",
    "@app.get('/string')\n",
    "def string():\n",
    "    return json.dumps({'a': 42, 'b': None})\n",
    "@app.get('/file')\n",
    "def file():\n",
    "    return static_file('run.py', root='.')\n",
    "@app.get('/iterator')\n",
    "def iterator():\n",
    "    return ['Line 1\\n', 'Line 2 \\n']\n",
    "app.run(server='gevent')"
   ]
  },
  {
   "cell_type": "code",
   "execution_count": 13,
   "id": "d8bf9a86",
   "metadata": {
    "ExecuteTime": {
     "end_time": "2024-10-17T20:09:33.563210Z",
     "start_time": "2024-10-17T20:09:33.457683Z"
    },
    "cell_style": "split"
   },
   "outputs": [],
   "source": [
    "!wt python run.py"
   ]
  },
  {
   "cell_type": "markdown",
   "id": "5eb33340",
   "metadata": {
    "cell_style": "split"
   },
   "source": [
    "http://localhost:8080"
   ]
  },
  {
   "cell_type": "markdown",
   "id": "0ed2a7cf",
   "metadata": {
    "slideshow": {
     "slide_type": "subslide"
    }
   },
   "source": [
    "# The response object"
   ]
  },
  {
   "cell_type": "code",
   "execution_count": 14,
   "id": "7531f674",
   "metadata": {
    "ExecuteTime": {
     "end_time": "2024-10-17T20:11:09.351839Z",
     "start_time": "2024-10-17T20:11:09.341551Z"
    },
    "cell_style": "split"
   },
   "outputs": [
    {
     "name": "stdout",
     "output_type": "stream",
     "text": [
      "Overwriting run.py\n"
     ]
    }
   ],
   "source": [
    "%%writefile run.py\n",
    "from app import app\n",
    "import json\n",
    "from bottle import response\n",
    "@app.route('/powers/<i:int>')\n",
    "def powers_json(i):\n",
    "    response.content_type = 'application/json; charset=utf-8'\n",
    "    return json.dumps({'i':i, 'square': i**2, 'cube': i**3})\n",
    "@app.route('/powers_txt/<i:int>')\n",
    "def powers_txt(i):\n",
    "    return json.dumps({'i':i, 'square': i**2, 'cube': i**3})\n",
    "app.run(server='gevent')"
   ]
  },
  {
   "cell_type": "code",
   "execution_count": 15,
   "id": "be1c9098",
   "metadata": {
    "ExecuteTime": {
     "end_time": "2024-10-17T20:11:18.831451Z",
     "start_time": "2024-10-17T20:11:18.736606Z"
    },
    "cell_style": "split"
   },
   "outputs": [],
   "source": [
    "!wt python run.py"
   ]
  },
  {
   "cell_type": "markdown",
   "id": "c283d2b5",
   "metadata": {
    "cell_style": "split"
   },
   "source": [
    "http://localhost:8080"
   ]
  },
  {
   "cell_type": "markdown",
   "id": "f4874fe4",
   "metadata": {
    "cell_style": "split"
   },
   "source": [
    "- When returning a string, it is encoded with respect to the given content-type (only bytes are sent back to the client)\n",
    "- Here, the server sends a byte array encoded in utf-8, that represents an object formatted in JSON."
   ]
  },
  {
   "cell_type": "markdown",
   "id": "e95e48ad",
   "metadata": {
    "slideshow": {
     "slide_type": "subslide"
    }
   },
   "source": [
    "# Sending Errors, Redirects"
   ]
  },
  {
   "cell_type": "code",
   "execution_count": 16,
   "id": "359eb569",
   "metadata": {
    "ExecuteTime": {
     "end_time": "2024-10-17T20:12:54.295221Z",
     "start_time": "2024-10-17T20:12:54.285414Z"
    },
    "cell_style": "split"
   },
   "outputs": [
    {
     "name": "stdout",
     "output_type": "stream",
     "text": [
      "Overwriting run.py\n"
     ]
    }
   ],
   "source": [
    "%%writefile run.py\n",
    "from app import app\n",
    "from bottle import abort, redirect, static_file\n",
    "@app.route('/private/<id:int>')\n",
    "def private(id):\n",
    "    abort(401, \"Sorry, access denied.\")\n",
    "@app.route('/open/<filepath:path>')\n",
    "def open_file(filepath):\n",
    "    return static_file(filepath, root='.')\n",
    "@app.route('/json/<stem>')\n",
    "def getjson(stem):\n",
    "    redirect(f\"/open/{stem}.json\")\n",
    "app.run(server='gevent')"
   ]
  },
  {
   "cell_type": "code",
   "execution_count": 17,
   "id": "0dcbbada",
   "metadata": {
    "ExecuteTime": {
     "end_time": "2024-10-17T20:12:57.032114Z",
     "start_time": "2024-10-17T20:12:56.920365Z"
    },
    "cell_style": "split"
   },
   "outputs": [],
   "source": [
    "!wt python run.py"
   ]
  },
  {
   "cell_type": "markdown",
   "id": "0c9df015",
   "metadata": {
    "cell_style": "split"
   },
   "source": [
    "http://localhost:8080"
   ]
  },
  {
   "cell_type": "markdown",
   "id": "f86f19be",
   "metadata": {
    "slideshow": {
     "slide_type": "slide"
    }
   },
   "source": [
    "## Testing your code"
   ]
  },
  {
   "cell_type": "markdown",
   "id": "e4277a37",
   "metadata": {
    "slideshow": {
     "slide_type": "slide"
    }
   },
   "source": [
    "# Why testing is important?"
   ]
  },
  {
   "cell_type": "markdown",
   "id": "4216e4b8",
   "metadata": {},
   "source": [
    "- Domino error\n",
    "  - A function `two` returns 3 instead of 2\n",
    "  - In a far, far away submodule, lies `4**two()`\n",
    "- Coverage:\n",
    "  - Are you sure you don't have dead code lying?\n",
    "  - https://balouf.github.io/stochastic_matching/readme.html\n",
    "- Quick reaction:\n",
    "  - When you break things\n",
    "  - When another dev breaks things\n",
    "  - When the new release of an obscure package breaks things "
   ]
  },
  {
   "cell_type": "markdown",
   "id": "1cfde6b4",
   "metadata": {
    "slideshow": {
     "slide_type": "subslide"
    }
   },
   "source": [
    "# How to test?"
   ]
  },
  {
   "cell_type": "markdown",
   "id": "fff8f362",
   "metadata": {},
   "source": [
    "- unittest\n",
    "  - The original testing framework\n",
    "  - You should not use it (too heavy!)\n",
    "- pytest\n",
    "  - like unittest but simpler\n",
    "  - You should use it!\n",
    "- doctests (not covered here but nice!)\n",
    "  \n",
    " https://www.lincs.fr/events/testing-in-python/"
   ]
  },
  {
   "cell_type": "markdown",
   "id": "85be541a",
   "metadata": {
    "slideshow": {
     "slide_type": "subslide"
    }
   },
   "source": [
    "# pytest syntax"
   ]
  },
  {
   "cell_type": "markdown",
   "id": "1671a48e",
   "metadata": {},
   "source": [
    "If it starts with `test`, it's a test."
   ]
  },
  {
   "cell_type": "code",
   "execution_count": 18,
   "id": "085709cd",
   "metadata": {
    "ExecuteTime": {
     "end_time": "2024-10-17T20:16:03.610971Z",
     "start_time": "2024-10-17T20:16:03.569005Z"
    }
   },
   "outputs": [
    {
     "name": "stderr",
     "output_type": "stream",
     "text": [
      "Impossible de trouver C:\\Users\\fabienma\\git\\courses\\progres\\test_*.py\n"
     ]
    }
   ],
   "source": [
    "!del test_*.py"
   ]
  },
  {
   "cell_type": "code",
   "execution_count": 19,
   "id": "ecbe0b01",
   "metadata": {
    "ExecuteTime": {
     "end_time": "2024-10-17T20:16:07.693996Z",
     "start_time": "2024-10-17T20:16:07.684115Z"
    },
    "cell_style": "split"
   },
   "outputs": [
    {
     "name": "stdout",
     "output_type": "stream",
     "text": [
      "Writing test_file.py\n"
     ]
    }
   ],
   "source": [
    "%%writefile test_file.py\n",
    "\n",
    "def square(x):\n",
    "    return x**2\n",
    "\n",
    "def test_square():\n",
    "    assert square(2)==4"
   ]
  },
  {
   "cell_type": "code",
   "execution_count": 20,
   "id": "e6cd8e33",
   "metadata": {
    "ExecuteTime": {
     "end_time": "2024-10-17T20:16:11.548222Z",
     "start_time": "2024-10-17T20:16:09.219710Z"
    },
    "cell_style": "split"
   },
   "outputs": [
    {
     "name": "stdout",
     "output_type": "stream",
     "text": [
      "\u001b[1m============================= test session starts =============================\u001b[0m\n",
      "platform win32 -- Python 3.11.4, pytest-7.4.2, pluggy-1.3.0\n",
      "rootdir: C:\\Users\\fabienma\\git\\courses\\progres\n",
      "plugins: anyio-4.3.0, Faker-30.3.0\n",
      "collected 1 item\n",
      "\n",
      "test_file.py \u001b[32m.\u001b[0m\u001b[32m                                                           [100%]\u001b[0m\n",
      "\n",
      "\u001b[32m============================== \u001b[32m\u001b[1m1 passed\u001b[0m\u001b[32m in 0.24s\u001b[0m\u001b[32m ==============================\u001b[0m\n"
     ]
    }
   ],
   "source": [
    "!pytest"
   ]
  },
  {
   "cell_type": "markdown",
   "id": "c9ebd491",
   "metadata": {
    "slideshow": {
     "slide_type": "subslide"
    }
   },
   "source": [
    "# Example: arithmetic testing"
   ]
  },
  {
   "cell_type": "code",
   "execution_count": 21,
   "id": "3a8566d9",
   "metadata": {
    "ExecuteTime": {
     "end_time": "2024-10-17T20:16:26.141639Z",
     "start_time": "2024-10-17T20:16:26.130406Z"
    },
    "cell_style": "split"
   },
   "outputs": [
    {
     "name": "stdout",
     "output_type": "stream",
     "text": [
      "Writing run_maths.py\n"
     ]
    }
   ],
   "source": [
    "%%writefile run_maths.py\n",
    "from app import app\n",
    "from json import dumps\n",
    "@app.route(\"/add/<i:int>/<j:int>\")\n",
    "def add(i,j):\n",
    "    return dumps([i+j])\n",
    "@app.route(\"/sub/<i:int>/<j:int>\")\n",
    "def sub(i,j):\n",
    "    return dumps([j-i])\n",
    "\n",
    "@app.route(\"/mul/<i:int>/<j:int>\")\n",
    "def mul(i,j):\n",
    "    return dumps([i*j])\n",
    "@app.route(\"/div/<i:int>/<j:int>\")\n",
    "def div(i,j):\n",
    "    return dumps([i//j,i%j])\n",
    "app.run(host='localhost', port=8070, server='gevent')"
   ]
  },
  {
   "cell_type": "code",
   "execution_count": 22,
   "id": "2368e877",
   "metadata": {
    "ExecuteTime": {
     "end_time": "2024-10-17T20:16:33.930332Z",
     "start_time": "2024-10-17T20:16:33.762376Z"
    },
    "cell_style": "split"
   },
   "outputs": [],
   "source": [
    "!wt python run_maths.py"
   ]
  },
  {
   "cell_type": "markdown",
   "id": "cffe23c1",
   "metadata": {
    "cell_style": "split"
   },
   "source": [
    "http://localhost:8070"
   ]
  },
  {
   "cell_type": "markdown",
   "id": "f6999ebe",
   "metadata": {
    "slideshow": {
     "slide_type": "subslide"
    }
   },
   "source": [
    "# Example: arithmetic testing"
   ]
  },
  {
   "cell_type": "code",
   "execution_count": 23,
   "id": "e2f012c7",
   "metadata": {
    "ExecuteTime": {
     "end_time": "2024-10-17T20:17:04.158020Z",
     "start_time": "2024-10-17T20:17:03.905047Z"
    }
   },
   "outputs": [
    {
     "name": "stdout",
     "output_type": "stream",
     "text": [
      "[9]\n",
      "[21]\n"
     ]
    }
   ],
   "source": [
    "from requests import get\n",
    "server_ip = \"127.0.0.1\"\n",
    "server_port = 8070\n",
    "r1 = get(f\"http://{server_ip}:{server_port}/add/4/5\")\n",
    "print(r1.text)\n",
    "r2 = get(f\"http://{server_ip}:{server_port}/add/7/14\")\n",
    "print(r2.text)"
   ]
  },
  {
   "cell_type": "markdown",
   "id": "e2d190b2",
   "metadata": {
    "slideshow": {
     "slide_type": "subslide"
    }
   },
   "source": [
    "# Example: arithmetic testing"
   ]
  },
  {
   "cell_type": "code",
   "execution_count": 24,
   "id": "8f936f24",
   "metadata": {
    "ExecuteTime": {
     "end_time": "2024-10-17T20:17:09.286072Z",
     "start_time": "2024-10-17T20:17:09.280201Z"
    },
    "cell_style": "split"
   },
   "outputs": [
    {
     "name": "stdout",
     "output_type": "stream",
     "text": [
      "Writing test_maths.py\n"
     ]
    }
   ],
   "source": [
    "%%writefile test_maths.py\n",
    "from requests import get\n",
    "from json import loads\n",
    "server_ip = \"127.0.0.1\"\n",
    "server_port = 8070\n",
    "def test_add():\n",
    "    r1 = get(f\"http://{server_ip}:{server_port}/add/4/5\")\n",
    "    assert loads(r1.text) == [ 9 ]\n",
    "    r2 = get(f\"http://{server_ip}:{server_port}/add/7/14\")\n",
    "    assert loads(r2.text) == [21]"
   ]
  },
  {
   "cell_type": "code",
   "execution_count": 25,
   "id": "f165da9a",
   "metadata": {
    "ExecuteTime": {
     "end_time": "2024-10-17T20:17:12.187416Z",
     "start_time": "2024-10-17T20:17:10.921295Z"
    },
    "cell_style": "split"
   },
   "outputs": [
    {
     "name": "stdout",
     "output_type": "stream",
     "text": [
      "\u001b[1m============================= test session starts =============================\u001b[0m\n",
      "platform win32 -- Python 3.11.4, pytest-7.4.2, pluggy-1.3.0\n",
      "rootdir: C:\\Users\\fabienma\\git\\courses\\progres\n",
      "plugins: anyio-4.3.0, Faker-30.3.0\n",
      "collected 2 items\n",
      "\n",
      "test_file.py \u001b[32m.\u001b[0m\u001b[32m                                                           [ 50%]\u001b[0m\n",
      "test_maths.py \u001b[32m.\u001b[0m\u001b[32m                                                          [100%]\u001b[0m\n",
      "\n",
      "\u001b[32m============================== \u001b[32m\u001b[1m2 passed\u001b[0m\u001b[32m in 0.32s\u001b[0m\u001b[32m ==============================\u001b[0m\n"
     ]
    }
   ],
   "source": [
    "!pytest"
   ]
  },
  {
   "cell_type": "markdown",
   "id": "02b6949e",
   "metadata": {
    "slideshow": {
     "slide_type": "subslide"
    }
   },
   "source": [
    "# Example: arithmetic testing"
   ]
  },
  {
   "cell_type": "code",
   "execution_count": 26,
   "id": "299c2176",
   "metadata": {
    "ExecuteTime": {
     "end_time": "2024-10-17T20:17:19.375321Z",
     "start_time": "2024-10-17T20:17:19.363629Z"
    },
    "cell_style": "split"
   },
   "outputs": [
    {
     "name": "stdout",
     "output_type": "stream",
     "text": [
      "Overwriting test_maths.py\n"
     ]
    }
   ],
   "source": [
    "%%writefile test_maths.py\n",
    "from requests import get\n",
    "from json import loads\n",
    "server_ip = \"127.0.0.1\"\n",
    "server_port = 8070\n",
    "def test_add():\n",
    "    r1 = get(f\"http://{server_ip}:{server_port}/add/4/5\")\n",
    "    assert loads(r1.text) == [ 9 ]\n",
    "    r2 = get(f\"http://{server_ip}:{server_port}/add/7/14\")\n",
    "    assert loads(r2.text) == [21]\n",
    "def test_sub():\n",
    "    r1 = get(f\"http://{server_ip}:{server_port}/sub/4/5\")\n",
    "    assert loads(r1.text) == [ -1 ]\n",
    "    r2 = get(f\"http://{server_ip}:{server_port}/sub/2/2\")\n",
    "    assert loads(r2.text) == [0]"
   ]
  },
  {
   "cell_type": "code",
   "execution_count": 27,
   "id": "1ba42c60",
   "metadata": {
    "ExecuteTime": {
     "end_time": "2024-10-17T20:17:23.810204Z",
     "start_time": "2024-10-17T20:17:22.362700Z"
    },
    "cell_style": "split"
   },
   "outputs": [
    {
     "name": "stdout",
     "output_type": "stream",
     "text": [
      "\u001b[1m============================= test session starts =============================\u001b[0m\n",
      "platform win32 -- Python 3.11.4, pytest-7.4.2, pluggy-1.3.0\n",
      "rootdir: C:\\Users\\fabienma\\git\\courses\\progres\n",
      "plugins: anyio-4.3.0, Faker-30.3.0\n",
      "collected 3 items\n",
      "\n",
      "test_file.py \u001b[32m.\u001b[0m\u001b[32m                                                           [ 33%]\u001b[0m\n",
      "test_maths.py \u001b[32m.\u001b[0m\u001b[31mF\u001b[0m\u001b[31m                                                         [100%]\u001b[0m\n",
      "\n",
      "================================== FAILURES ===================================\n",
      "\u001b[31m\u001b[1m__________________________________ test_sub ___________________________________\u001b[0m\n",
      "\n",
      "    \u001b[94mdef\u001b[39;49;00m \u001b[92mtest_sub\u001b[39;49;00m():\u001b[90m\u001b[39;49;00m\n",
      "        r1 = get(\u001b[33mf\u001b[39;49;00m\u001b[33m\"\u001b[39;49;00m\u001b[33mhttp://\u001b[39;49;00m\u001b[33m{\u001b[39;49;00mserver_ip\u001b[33m}\u001b[39;49;00m\u001b[33m:\u001b[39;49;00m\u001b[33m{\u001b[39;49;00mserver_port\u001b[33m}\u001b[39;49;00m\u001b[33m/sub/4/5\u001b[39;49;00m\u001b[33m\"\u001b[39;49;00m)\u001b[90m\u001b[39;49;00m\n",
      ">       \u001b[94massert\u001b[39;49;00m loads(r1.text) == [ -\u001b[94m1\u001b[39;49;00m ]\u001b[90m\u001b[39;49;00m\n",
      "\u001b[1m\u001b[31mE       assert [1] == [-1]\u001b[0m\n",
      "\u001b[1m\u001b[31mE         At index 0 diff: 1 != -1\u001b[0m\n",
      "\u001b[1m\u001b[31mE         Use -v to get more diff\u001b[0m\n",
      "\n",
      "\u001b[1m\u001b[31mtest_maths.py\u001b[0m:12: AssertionError\n",
      "\u001b[36m\u001b[1m=========================== short test summary info ===========================\u001b[0m\n",
      "\u001b[31mFAILED\u001b[0m test_maths.py::\u001b[1mtest_sub\u001b[0m - assert [1] == [-1]\n",
      "\u001b[31m========================= \u001b[31m\u001b[1m1 failed\u001b[0m, \u001b[32m2 passed\u001b[0m\u001b[31m in 0.45s\u001b[0m\u001b[31m =========================\u001b[0m\n"
     ]
    }
   ],
   "source": [
    "!pytest"
   ]
  },
  {
   "cell_type": "markdown",
   "id": "5d020d3d",
   "metadata": {
    "slideshow": {
     "slide_type": "subslide"
    }
   },
   "source": [
    "# Example: strings"
   ]
  },
  {
   "cell_type": "code",
   "execution_count": 28,
   "id": "a2170982",
   "metadata": {
    "ExecuteTime": {
     "end_time": "2024-10-17T20:17:33.514733Z",
     "start_time": "2024-10-17T20:17:33.507716Z"
    },
    "cell_style": "split"
   },
   "outputs": [
    {
     "name": "stdout",
     "output_type": "stream",
     "text": [
      "Writing run_string.py\n"
     ]
    }
   ],
   "source": [
    "%%writefile run_string.py\n",
    "from app import app\n",
    "@app.route(\"/to_upper/<s>\")\n",
    "def to_upper(s):\n",
    "    return s.upper()\n",
    "app.run(host='localhost', port=8060, server='gevent')"
   ]
  },
  {
   "cell_type": "code",
   "execution_count": 29,
   "id": "bf7bf7eb",
   "metadata": {
    "ExecuteTime": {
     "end_time": "2024-10-17T20:17:35.794099Z",
     "start_time": "2024-10-17T20:17:35.653845Z"
    },
    "cell_style": "split"
   },
   "outputs": [],
   "source": [
    "!wt python run_string.py"
   ]
  },
  {
   "cell_type": "markdown",
   "id": "cf613a44",
   "metadata": {
    "cell_style": "split"
   },
   "source": [
    "http://localhost:8060"
   ]
  },
  {
   "cell_type": "markdown",
   "id": "c94d6512",
   "metadata": {
    "slideshow": {
     "slide_type": "subslide"
    }
   },
   "source": [
    "# Example: strings"
   ]
  },
  {
   "cell_type": "code",
   "execution_count": 30,
   "id": "92cee4e0",
   "metadata": {
    "ExecuteTime": {
     "end_time": "2024-10-17T20:17:50.075450Z",
     "start_time": "2024-10-17T20:17:50.065442Z"
    },
    "cell_style": "split"
   },
   "outputs": [
    {
     "name": "stdout",
     "output_type": "stream",
     "text": [
      "Writing test_strings.py\n"
     ]
    }
   ],
   "source": [
    "%%writefile test_strings.py\n",
    "from requests import get\n",
    "server_ip = \"127.0.0.1\"\n",
    "server_port = 8060\n",
    "def test_upper():\n",
    "    r1 = get(f\"http://{server_ip}:{server_port}/to_upper/LaTeX\")\n",
    "    assert r1.text == 'LATEX'\n",
    "    r2 = get(f\"http://{server_ip}:{server_port}/to_upper/Été\")\n",
    "    assert r2.text == 'ÉTÉ'"
   ]
  },
  {
   "cell_type": "code",
   "execution_count": 31,
   "id": "75a7b454",
   "metadata": {
    "ExecuteTime": {
     "end_time": "2024-10-17T20:17:53.256999Z",
     "start_time": "2024-10-17T20:17:51.720694Z"
    },
    "cell_style": "split"
   },
   "outputs": [
    {
     "name": "stdout",
     "output_type": "stream",
     "text": [
      "\u001b[1m============================= test session starts =============================\u001b[0m\n",
      "platform win32 -- Python 3.11.4, pytest-7.4.2, pluggy-1.3.0\n",
      "rootdir: C:\\Users\\fabienma\\git\\courses\\progres\n",
      "plugins: anyio-4.3.0, Faker-30.3.0\n",
      "collected 4 items\n",
      "\n",
      "test_file.py \u001b[32m.\u001b[0m\u001b[32m                                                           [ 25%]\u001b[0m\n",
      "test_maths.py \u001b[32m.\u001b[0m\u001b[31mF\u001b[0m\u001b[31m                                                         [ 75%]\u001b[0m\n",
      "test_strings.py \u001b[32m.\u001b[0m\u001b[31m                                                        [100%]\u001b[0m\n",
      "\n",
      "================================== FAILURES ===================================\n",
      "\u001b[31m\u001b[1m__________________________________ test_sub ___________________________________\u001b[0m\n",
      "\n",
      "    \u001b[94mdef\u001b[39;49;00m \u001b[92mtest_sub\u001b[39;49;00m():\u001b[90m\u001b[39;49;00m\n",
      "        r1 = get(\u001b[33mf\u001b[39;49;00m\u001b[33m\"\u001b[39;49;00m\u001b[33mhttp://\u001b[39;49;00m\u001b[33m{\u001b[39;49;00mserver_ip\u001b[33m}\u001b[39;49;00m\u001b[33m:\u001b[39;49;00m\u001b[33m{\u001b[39;49;00mserver_port\u001b[33m}\u001b[39;49;00m\u001b[33m/sub/4/5\u001b[39;49;00m\u001b[33m\"\u001b[39;49;00m)\u001b[90m\u001b[39;49;00m\n",
      ">       \u001b[94massert\u001b[39;49;00m loads(r1.text) == [ -\u001b[94m1\u001b[39;49;00m ]\u001b[90m\u001b[39;49;00m\n",
      "\u001b[1m\u001b[31mE       assert [1] == [-1]\u001b[0m\n",
      "\u001b[1m\u001b[31mE         At index 0 diff: 1 != -1\u001b[0m\n",
      "\u001b[1m\u001b[31mE         Use -v to get more diff\u001b[0m\n",
      "\n",
      "\u001b[1m\u001b[31mtest_maths.py\u001b[0m:12: AssertionError\n",
      "\u001b[36m\u001b[1m=========================== short test summary info ===========================\u001b[0m\n",
      "\u001b[31mFAILED\u001b[0m test_maths.py::\u001b[1mtest_sub\u001b[0m - assert [1] == [-1]\n",
      "\u001b[31m========================= \u001b[31m\u001b[1m1 failed\u001b[0m, \u001b[32m3 passed\u001b[0m\u001b[31m in 0.51s\u001b[0m\u001b[31m =========================\u001b[0m\n"
     ]
    }
   ],
   "source": [
    "!pytest"
   ]
  },
  {
   "cell_type": "markdown",
   "id": "3689cc57",
   "metadata": {
    "slideshow": {
     "slide_type": "slide"
    }
   },
   "source": [
    "## API Hour\n"
   ]
  },
  {
   "cell_type": "markdown",
   "id": "19131c67",
   "metadata": {
    "slideshow": {
     "slide_type": "slide"
    }
   },
   "source": [
    "# A First micro-service example"
   ]
  },
  {
   "cell_type": "code",
   "execution_count": 32,
   "id": "c8743c1a",
   "metadata": {
    "ExecuteTime": {
     "end_time": "2024-10-17T20:18:59.548147Z",
     "start_time": "2024-10-17T20:18:59.541137Z"
    },
    "cell_style": "split"
   },
   "outputs": [
    {
     "name": "stdout",
     "output_type": "stream",
     "text": [
      "Overwriting run.py\n"
     ]
    }
   ],
   "source": [
    "%%writefile run.py\n",
    "ip=\"127.0.0.1\"\n",
    "math_port=8070\n",
    "from app import app\n",
    "from bottle import request\n",
    "from requests import get\n",
    "from json import loads\n",
    "form = \"\"\"<form action=\"/\" method=\"post\">\n",
    " i: <input name=\"i\" type=\"text\" />\n",
    " j: <input name=\"j\" type=\"text\" />\n",
    "<input value=\"Add\" type=\"submit\" />\n",
    "</form>\"\"\"\n",
    "@app.get(\"/\")\n",
    "def input_form():\n",
    "    return form\n",
    "@app.post(\"/\")\n",
    "def process_form():\n",
    "    i = request.forms['i']\n",
    "    j = request.forms['j']\n",
    "    r = get(f\"http://{ip}:{math_port}/add/{i}/{j}\")\n",
    "    l = loads(r.text)\n",
    "    return f\"<h1>{i}+{j}={l[0]}</h1>\"    \n",
    "app.run(server='gevent')"
   ]
  },
  {
   "cell_type": "code",
   "execution_count": 33,
   "id": "e89fb499",
   "metadata": {
    "ExecuteTime": {
     "end_time": "2024-10-17T20:19:02.511868Z",
     "start_time": "2024-10-17T20:19:02.411833Z"
    },
    "cell_style": "split"
   },
   "outputs": [],
   "source": [
    "!wt python run.py"
   ]
  },
  {
   "cell_type": "markdown",
   "id": "2b6fccc7",
   "metadata": {
    "cell_style": "split"
   },
   "source": [
    "http://localhost:8080"
   ]
  },
  {
   "cell_type": "markdown",
   "id": "e76f7341",
   "metadata": {
    "slideshow": {
     "slide_type": "subslide"
    }
   },
   "source": [
    "# What happened?"
   ]
  },
  {
   "cell_type": "markdown",
   "id": "7d5d43f0",
   "metadata": {},
   "source": [
    "- Client (browser) requests a get method to 8080\n",
    "- 8080 responds to get a html form to client\n",
    "- Client requests a post method to 8080\n",
    "- 8080 requests a get method to 8070\n",
    "- 8070 responds to get a json to 8080\n",
    "- 8080 responds to post a html result to client"
   ]
  },
  {
   "cell_type": "markdown",
   "id": "196ebfa4",
   "metadata": {
    "slideshow": {
     "slide_type": "subslide"
    }
   },
   "source": [
    "# Another one?"
   ]
  },
  {
   "cell_type": "code",
   "execution_count": 34,
   "id": "b69558df",
   "metadata": {
    "ExecuteTime": {
     "end_time": "2024-10-17T20:21:45.856070Z",
     "start_time": "2024-10-17T20:21:45.845168Z"
    },
    "cell_style": "split"
   },
   "outputs": [
    {
     "name": "stdout",
     "output_type": "stream",
     "text": [
      "Overwriting run.py\n"
     ]
    }
   ],
   "source": [
    "%%writefile run.py\n",
    "ip=\"127.0.0.1\"\n",
    "string_port=8060\n",
    "from app import app\n",
    "from bottle import request\n",
    "from requests import get\n",
    "form = \"\"\"<form action=\"/\" method=\"post\">\n",
    " Word: <input name=\"s\" type=\"text\" />\n",
    " <input value=\"To Uppercase\" type=\"submit\" />\n",
    " </form>\"\"\"\n",
    "@app.get(\"/\")\n",
    "def input_form():\n",
    "    return form\n",
    "@app.post(\"/\")\n",
    "def process_form():\n",
    "    s = request.forms['s'] # unicode is universal?\n",
    "    r = get(f\"http://{ip}:{string_port}/to_upper/{s}\")\n",
    "    l = r.text\n",
    "    return f\"<h1>{s}.upper()={l}</h1>\"    \n",
    "app.run(server='gevent')"
   ]
  },
  {
   "cell_type": "code",
   "execution_count": 35,
   "id": "db67f8f7",
   "metadata": {
    "ExecuteTime": {
     "end_time": "2024-10-17T20:21:48.425363Z",
     "start_time": "2024-10-17T20:21:48.293867Z"
    },
    "cell_style": "split"
   },
   "outputs": [],
   "source": [
    "!wt python run.py"
   ]
  },
  {
   "cell_type": "markdown",
   "id": "7a0d48ef",
   "metadata": {
    "cell_style": "split"
   },
   "source": [
    "http://localhost:8080"
   ]
  },
  {
   "cell_type": "markdown",
   "id": "475e23ad",
   "metadata": {
    "slideshow": {
     "slide_type": "subslide"
    }
   },
   "source": [
    "# Getting parameters:"
   ]
  },
  {
   "cell_type": "markdown",
   "id": "0c455775",
   "metadata": {},
   "source": [
    "- from the URL, e.g. `/entry?order=name`: `request.query['order']`\n",
    "- from the post data, e.g. a posted form: `request.forms['order']`\n",
    "- from URL or post data: `request.params['order']`\n",
    "- `request.params.order`: variant with auto-encoding management\n",
    "- Retrieve a posted file:\n",
    "  - `image = request.files['image']`\n",
    "  - `image.save('images/uploaded')`"
   ]
  },
  {
   "cell_type": "markdown",
   "id": "89d0999b",
   "metadata": {
    "slideshow": {
     "slide_type": "subslide"
    }
   },
   "source": [
    "# A bit of practice"
   ]
  },
  {
   "cell_type": "markdown",
   "id": "f9550e1a",
   "metadata": {},
   "source": [
    "- Here we used different port numbers to demonstrate interactions between several machine\n",
    "- In practice, if the machines are distinct, you use the same port\n",
    "- Multiple services can run on the same machine\n",
    "  - One developper writes the maths routes\n",
    "  - One developper writes the form routes\n",
    "  - One developper writes the server\n",
    "- Good practice: don't use http for internal calls (inside the same service)\n",
    "- But sometimes, it's better than running X servers"
   ]
  },
  {
   "cell_type": "markdown",
   "id": "b0b0f138",
   "metadata": {
    "slideshow": {
     "slide_type": "subslide"
    }
   },
   "source": [
    "# First example revisited: the backend"
   ]
  },
  {
   "cell_type": "code",
   "execution_count": 36,
   "id": "6ecfd7e7",
   "metadata": {
    "ExecuteTime": {
     "end_time": "2024-10-17T20:24:16.904140Z",
     "start_time": "2024-10-17T20:24:16.893091Z"
    },
    "cell_style": "split"
   },
   "outputs": [
    {
     "name": "stdout",
     "output_type": "stream",
     "text": [
      "Writing app_maths.py\n"
     ]
    }
   ],
   "source": [
    "%%writefile app_maths.py\n",
    "from json import dumps\n",
    "from app import app\n",
    "@app.route(\"/add/<i:int>/<j:int>\")\n",
    "def add(i,j):\n",
    "    return dumps([i+j])\n",
    "@app.route(\"/sub/<i:int>/<j:int>\")\n",
    "def sub(i,j):\n",
    "    return dumps([i-j])\n",
    "@app.route(\"/mul/<i:int>/<j:int>\")\n",
    "def mul(i,j):\n",
    "    return dumps([i*j])\n",
    "@app.route(\"/div/<i:int>/<j:int>\")\n",
    "def div(i,j):\n",
    "    return dumps([i//j,i%j])"
   ]
  },
  {
   "cell_type": "code",
   "execution_count": 37,
   "id": "56a853f2",
   "metadata": {
    "ExecuteTime": {
     "end_time": "2024-10-17T20:24:18.448170Z",
     "start_time": "2024-10-17T20:24:18.437210Z"
    },
    "cell_style": "split"
   },
   "outputs": [
    {
     "name": "stdout",
     "output_type": "stream",
     "text": [
      "Writing app_strings.py\n"
     ]
    }
   ],
   "source": [
    "%%writefile app_strings.py\n",
    "from app import app\n",
    "@app.route(\"/to_upper/<s>\")\n",
    "def to_upper(s):\n",
    "    return s.upper()"
   ]
  },
  {
   "cell_type": "markdown",
   "id": "003b87ab",
   "metadata": {
    "slideshow": {
     "slide_type": "subslide"
    }
   },
   "source": [
    "# First example revisited: the frontend"
   ]
  },
  {
   "cell_type": "code",
   "execution_count": 38,
   "id": "dbec707c",
   "metadata": {
    "ExecuteTime": {
     "end_time": "2024-10-17T20:24:47.510507Z",
     "start_time": "2024-10-17T20:24:47.500700Z"
    }
   },
   "outputs": [
    {
     "name": "stdout",
     "output_type": "stream",
     "text": [
      "Writing app_user.py\n"
     ]
    }
   ],
   "source": [
    "%%writefile app_user.py\n",
    "from bottle import Bottle, request\n",
    "from json import loads\n",
    "import requests\n",
    "app = Bottle()\n",
    "@app.get(\"/\")\n",
    "def input_form():\n",
    "    return \"\"\"<form action=\"/\" method=\"post\"> i: <input name=\"i\" type=\"text\" /> j: <input name=\"j\" type=\"text\" />\n",
    "<input type=\"hidden\" name=\"action\" value=\"add\" /> <input value=\"Add\" type=\"submit\" /></form>\n",
    "<br>\n",
    "<form action=\"/\" method=\"post\"> Word: <input name=\"s\" type=\"text\" /> <input value=\"To Uppercase\" type=\"submit\" />\n",
    " <input type=\"hidden\" name=\"action\" value=\"up\" /> </form>\"\"\"\n",
    "@app.post(\"/\")\n",
    "def process_form():\n",
    "    action = request.params['action']\n",
    "    if action == 'add':\n",
    "        i = request.params['i']\n",
    "        j = request.params['j']\n",
    "        r = requests.get(f\"http://127.0.0.1:8080/maths/add/{i}/{j}\")\n",
    "        l = loads(r.text)\n",
    "        return f\"<h1>{i}+{j}={l[0]}</h1>\"\n",
    "    else:\n",
    "        r = requests.get(f\"http://127.0.0.1:8080/strings/to_upper/{request.forms['s']}\")\n",
    "        l = r.text\n",
    "        return f'<h1>\"{request.forms.s}\".upper()={l}</h1>'    "
   ]
  },
  {
   "cell_type": "markdown",
   "id": "739a1df9",
   "metadata": {
    "slideshow": {
     "slide_type": "subslide"
    }
   },
   "source": [
    "# First example revisited: the server"
   ]
  },
  {
   "cell_type": "code",
   "execution_count": 39,
   "id": "01a303e4",
   "metadata": {
    "ExecuteTime": {
     "end_time": "2024-10-17T20:25:05.400695Z",
     "start_time": "2024-10-17T20:25:05.390530Z"
    },
    "cell_style": "split"
   },
   "outputs": [
    {
     "name": "stdout",
     "output_type": "stream",
     "text": [
      "Overwriting run.py\n"
     ]
    }
   ],
   "source": [
    "%%writefile run.py\n",
    "from gevent import monkey; monkey.patch_all()\n",
    "from bottle import Bottle\n",
    "from app_user import app as app_user\n",
    "from app_maths import app as app_maths\n",
    "from app_strings import app as app_strings\n",
    "app = Bottle()\n",
    "app.mount('/maths', app_maths)\n",
    "app.mount('/strings', app_strings)\n",
    "app.merge(app_user)\n",
    "app.run(server='gevent')"
   ]
  },
  {
   "cell_type": "code",
   "execution_count": 40,
   "id": "96d2c57f",
   "metadata": {
    "ExecuteTime": {
     "end_time": "2024-10-17T20:25:07.232399Z",
     "start_time": "2024-10-17T20:25:07.089862Z"
    },
    "cell_style": "split"
   },
   "outputs": [],
   "source": [
    "!wt python run.py"
   ]
  },
  {
   "cell_type": "markdown",
   "id": "e190f3cf",
   "metadata": {
    "cell_style": "split"
   },
   "source": [
    "http://localhost:8080"
   ]
  },
  {
   "cell_type": "markdown",
   "id": "6d6b801b",
   "metadata": {
    "slideshow": {
     "slide_type": "slide"
    }
   },
   "source": [
    "## Templates"
   ]
  },
  {
   "cell_type": "markdown",
   "id": "0a6a5a52",
   "metadata": {
    "slideshow": {
     "slide_type": "slide"
    }
   },
   "source": [
    "# Templates"
   ]
  },
  {
   "cell_type": "markdown",
   "id": "c1fbc09a",
   "metadata": {},
   "source": [
    "- Writing nice html requires lot of boring text (tags, etc...)\n",
    "- With templates, you can prepare skeletons with placeholders to save times\n",
    "- Many possibilities:\n",
    "  - Native Python: f-strings, % substitution, string.Template\n",
    "  - Some frameworks offer very complex templates (e.g. [Jinja](https://jinja.palletsprojects.com/en/latest/templates))\n",
    "  - bottle provides its own template factory"
   ]
  },
  {
   "cell_type": "markdown",
   "id": "508b19d0",
   "metadata": {
    "slideshow": {
     "slide_type": "subslide"
    }
   },
   "source": [
    "# Basic templates"
   ]
  },
  {
   "cell_type": "code",
   "execution_count": 41,
   "id": "c9e287a3",
   "metadata": {
    "ExecuteTime": {
     "end_time": "2024-10-17T20:27:19.167615Z",
     "start_time": "2024-10-17T20:27:19.149536Z"
    }
   },
   "outputs": [
    {
     "name": "stdout",
     "output_type": "stream",
     "text": [
      "Hello World!\n",
      "The address is at 123 Fake St., Fakeville\n"
     ]
    }
   ],
   "source": [
    "from bottle import SimpleTemplate, template\n",
    "tpl = SimpleTemplate('Hello {{name}}!')\n",
    "s = tpl.render(name='World')\n",
    "print(s)\n",
    "my_dict={'number': '123', 'street': 'Fake St.', 'city': 'Fakeville'}\n",
    "s = template('The address is at {{number}} {{street}}, {{city}}', my_dict)\n",
    "print(s)"
   ]
  },
  {
   "cell_type": "markdown",
   "id": "b9c5a8f8",
   "metadata": {
    "slideshow": {
     "slide_type": "subslide"
    }
   },
   "source": [
    "# If condition"
   ]
  },
  {
   "cell_type": "code",
   "execution_count": 42,
   "id": "57791316",
   "metadata": {
    "ExecuteTime": {
     "end_time": "2024-10-17T20:27:22.890210Z",
     "start_time": "2024-10-17T20:27:22.879439Z"
    }
   },
   "outputs": [
    {
     "name": "stdout",
     "output_type": "stream",
     "text": [
      "Hello Planet!\n",
      "Hello Sébastien!\n"
     ]
    }
   ],
   "source": [
    "tpl = 'Hello {{name if name != \"World\" else \"Planet\"}}!'\n",
    "s = template(tpl, name='World')\n",
    "print(s)\n",
    "s = template(tpl, name='Sébastien')\n",
    "print(s)"
   ]
  },
  {
   "cell_type": "markdown",
   "id": "ae0b8a19",
   "metadata": {
    "slideshow": {
     "slide_type": "subslide"
    }
   },
   "source": [
    "# Warning: HTML entities"
   ]
  },
  {
   "cell_type": "code",
   "execution_count": 43,
   "id": "57b3b51f",
   "metadata": {
    "ExecuteTime": {
     "end_time": "2024-10-17T20:27:26.511150Z",
     "start_time": "2024-10-17T20:27:26.500924Z"
    }
   },
   "outputs": [
    {
     "name": "stdout",
     "output_type": "stream",
     "text": [
      "Hello &lt;b&gt;World&lt;/b&gt;!\n",
      "Hello <b>World</b>!\n"
     ]
    }
   ],
   "source": [
    "tpl = 'Hello {{name}}!'\n",
    "s = template(tpl, name='<b>World</b>')\n",
    "print(s)\n",
    "tpl = 'Hello {{!name}}!'\n",
    "s = template(tpl, name='<b>World</b>')\n",
    "print(s)"
   ]
  },
  {
   "cell_type": "markdown",
   "id": "ec6c6f1e",
   "metadata": {
    "slideshow": {
     "slide_type": "subslide"
    }
   },
   "source": [
    "# Template files"
   ]
  },
  {
   "cell_type": "code",
   "execution_count": 44,
   "id": "663e4a63",
   "metadata": {
    "ExecuteTime": {
     "end_time": "2024-10-17T20:27:29.614478Z",
     "start_time": "2024-10-17T20:27:29.607346Z"
    }
   },
   "outputs": [
    {
     "name": "stdout",
     "output_type": "stream",
     "text": [
      "Writing simple.tpl\n"
     ]
    }
   ],
   "source": [
    "%%writefile simple.tpl\n",
    "<html>\n",
    " <head><title>{{title}}</title></head>\n",
    " <body>\n",
    " <h1>{{title}}</h1>\n",
    " {{content}}\n",
    " </body>\n",
    "</html"
   ]
  },
  {
   "cell_type": "markdown",
   "id": "6fbc4fe4",
   "metadata": {
    "slideshow": {
     "slide_type": "subslide"
    }
   },
   "source": [
    "# Template files"
   ]
  },
  {
   "cell_type": "code",
   "execution_count": 45,
   "id": "014096f9",
   "metadata": {
    "ExecuteTime": {
     "end_time": "2024-10-17T20:27:37.325863Z",
     "start_time": "2024-10-17T20:27:37.312000Z"
    }
   },
   "outputs": [
    {
     "name": "stdout",
     "output_type": "stream",
     "text": [
      "<html>\r\n",
      " <head><title>This is the title</title></head>\r\n",
      " <body>\r\n",
      " <h1>This is the title</h1>\r\n",
      " This is the content\r\n",
      " </body>\r\n",
      "</html\r\n",
      "\n"
     ]
    },
    {
     "data": {
      "text/html": [
       "<html>\r\n",
       " <head><title>This is the title</title></head>\r\n",
       " <body>\r\n",
       " <h1>This is the title</h1>\r\n",
       " This is the content\r\n",
       " </body>\r\n",
       "</html\r\n"
      ],
      "text/plain": [
       "<IPython.core.display.HTML object>"
      ]
     },
     "execution_count": 45,
     "metadata": {},
     "output_type": "execute_result"
    }
   ],
   "source": [
    "from IPython.display import HTML\n",
    "site = { 'title': 'This is the title', \n",
    "'content': 'This is the content'}\n",
    "s = template('simple.tpl',site)\n",
    "print(s)\n",
    "HTML(s)"
   ]
  },
  {
   "cell_type": "markdown",
   "id": "4431ddeb",
   "metadata": {
    "slideshow": {
     "slide_type": "subslide"
    }
   },
   "source": [
    "# Conditions in template files"
   ]
  },
  {
   "cell_type": "code",
   "execution_count": 46,
   "id": "befb1daf",
   "metadata": {
    "ExecuteTime": {
     "end_time": "2024-10-17T20:27:44.109863Z",
     "start_time": "2024-10-17T20:27:44.099944Z"
    },
    "cell_style": "split"
   },
   "outputs": [
    {
     "name": "stdout",
     "output_type": "stream",
     "text": [
      "Writing simple_if.tpl\n"
     ]
    }
   ],
   "source": [
    "%%writefile simple_if.tpl\n",
    "<html>\n",
    " <head><title>{{title}}</title></head>\n",
    " <body>\n",
    " <h1>{{title}}</h1>\n",
    " % if bold_content:\n",
    " <b>\n",
    " % end\n",
    " {{content}}\n",
    " % if bold_content:\n",
    " </b>\n",
    " % end\n",
    " </body>\n",
    "</html>"
   ]
  },
  {
   "cell_type": "code",
   "execution_count": 48,
   "id": "b17bb005",
   "metadata": {
    "ExecuteTime": {
     "end_time": "2024-10-17T20:27:52.813964Z",
     "start_time": "2024-10-17T20:27:52.801151Z"
    },
    "cell_style": "split"
   },
   "outputs": [
    {
     "data": {
      "text/html": [
       "<html>\r\n",
       " <head><title>This is the title</title></head>\r\n",
       " <body>\r\n",
       " <h1>This is the title</h1>\r\n",
       " This is the content\r\n",
       " </body>\r\n",
       "</html>\r\n"
      ],
      "text/plain": [
       "<IPython.core.display.HTML object>"
      ]
     },
     "execution_count": 48,
     "metadata": {},
     "output_type": "execute_result"
    }
   ],
   "source": [
    "site = { 'title': 'This is the title', \n",
    "'content': 'This is the content'}\n",
    "s = template('simple_if.tpl',site, bold_content=False)\n",
    "HTML(s)"
   ]
  },
  {
   "cell_type": "markdown",
   "id": "a7bdb99d",
   "metadata": {
    "slideshow": {
     "slide_type": "subslide"
    }
   },
   "source": [
    "# Template files loops"
   ]
  },
  {
   "cell_type": "code",
   "execution_count": 49,
   "id": "40efcd3b",
   "metadata": {
    "ExecuteTime": {
     "end_time": "2024-10-17T20:28:01.316465Z",
     "start_time": "2024-10-17T20:28:01.310447Z"
    },
    "cell_style": "split"
   },
   "outputs": [
    {
     "name": "stdout",
     "output_type": "stream",
     "text": [
      "Writing simple_for.tpl\n"
     ]
    }
   ],
   "source": [
    "%%writefile simple_for.tpl\n",
    "<html>\n",
    " <head><title>{{title}}</title></head>\n",
    " <body>\n",
    " <h1>{{title}}</h1><ul>\n",
    " % for content in contents:\n",
    " % if bold:\n",
    " <li><b>{{content}}</b></li>\n",
    " % else:\n",
    " <li>{{content}}</li>\n",
    " % end\n",
    " %end\n",
    " </ul></body>\n",
    "</html>"
   ]
  },
  {
   "cell_type": "code",
   "execution_count": 50,
   "id": "3fe358ce",
   "metadata": {
    "ExecuteTime": {
     "end_time": "2024-10-17T20:28:02.464887Z",
     "start_time": "2024-10-17T20:28:02.452596Z"
    },
    "cell_style": "split"
   },
   "outputs": [
    {
     "data": {
      "text/html": [
       "<html>\r\n",
       " <head><title>This is the title</title></head>\r\n",
       " <body>\r\n",
       " <h1>This is the title</h1><ul>\r\n",
       " <li>This is the first line of content</li>\r\n",
       " <li>second line</li>\r\n",
       " <li>third line</li>\r\n",
       " </ul></body>\r\n",
       "</html>\r\n"
      ],
      "text/plain": [
       "<IPython.core.display.HTML object>"
      ]
     },
     "execution_count": 50,
     "metadata": {},
     "output_type": "execute_result"
    }
   ],
   "source": [
    "site = { 'title': 'This is the title', 'contents': \n",
    "        ['This is the first line of content', 'second line', 'third line']}\n",
    "s = template('simple_for.tpl', site, bold=False)\n",
    "HTML(s)"
   ]
  },
  {
   "cell_type": "markdown",
   "id": "0827d834",
   "metadata": {
    "slideshow": {
     "slide_type": "slide"
    }
   },
   "source": [
    "# The end!"
   ]
  }
 ],
 "metadata": {
  "celltoolbar": "Slideshow",
  "kernelspec": {
   "display_name": "Python 3 (ipykernel)",
   "language": "python",
   "name": "python3"
  },
  "language_info": {
   "codemirror_mode": {
    "name": "ipython",
    "version": 3
   },
   "file_extension": ".py",
   "mimetype": "text/x-python",
   "name": "python",
   "nbconvert_exporter": "python",
   "pygments_lexer": "ipython3",
   "version": "3.11.4"
  },
  "toc": {
   "base_numbering": 1,
   "nav_menu": {},
   "number_sections": true,
   "sideBar": true,
   "skip_h1_title": true,
   "title_cell": "Table of Contents",
   "title_sidebar": "Contents",
   "toc_cell": false,
   "toc_position": {},
   "toc_section_display": true,
   "toc_window_display": false
  }
 },
 "nbformat": 4,
 "nbformat_minor": 5
}

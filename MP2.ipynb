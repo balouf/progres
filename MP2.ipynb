{
 "cells": [
  {
   "cell_type": "markdown",
   "id": "a787f2ab-8fd8-4cfb-ab15-38ef01eb6107",
   "metadata": {},
   "source": [
    "# PROGRES 2023 - Mini-Projet 2 \n",
    "# API Web \n",
    "\n",
    "Fabien Mathieu - fabien.mathieu@normalesup.org\n",
    "\n",
    "Sébastien Tixeuil - Sebastien.Tixeuil@lip6.fr"
   ]
  },
  {
   "cell_type": "markdown",
   "id": "0531b03a",
   "metadata": {},
   "source": [
    "The purpose of this mini-project is to use (among other things) the Python library Bottle to provide, on one hand, a specific API for the website http://dblp.uni-trier.de/, which aggregates all scientific publications in computer science, and on the other hand, a website that allows the use of the aforementioned API."
   ]
  },
  {
   "cell_type": "markdown",
   "id": "6d58da2d-ccb7-47be-a7df-a491e096631c",
   "metadata": {},
   "source": [
    "You will need to download a copy of DBLP's data to perform the project. The DBLP website provides all publications in the form of an XML file, but XML can be difficult to parse on large files.  \n",
    "\n",
    "Therefore, you will use the following file instead: https://zenodo.org/records/7069915/files/2022-08-30-papers.jsonl.gz?download=1\n",
    "\n",
    "This file is in compressed [json lines](https://jsonlines.org/) format:\n",
    "\n",
    "- A [gzip compression](https://docs.python.org/3/library/gzip.html) is used to reduce the size of the data on the hard drive;\n",
    "- The data itself is made of lines, and each line represents the json of a paper.\n",
    "\n",
    "Typically, you will access the content of the file by doing something like this:\n",
    "\n",
    "```python\n",
    "import gzip\n",
    "from json import loads\n",
    "\n",
    "with gzip.open('2022-08-30-papers.jsonl.gz') as f: # open the file in default mode (read-only, text)\n",
    "    while l := f.readline(): # iterate through the lines\n",
    "        paper = loads(l) # load the paper as a dictionnary\n",
    "        # You can work on the current paper here\n",
    "```\n",
    "\n",
    "Hint: You should never uncompress the content of a gz file in your hard drive. The Python [gzip module](https://docs.python.org/3/library/gzip.html) is designed so you can open a compressed file as if it was already uncompressed."
   ]
  },
  {
   "cell_type": "markdown",
   "id": "f5d82890-f586-4091-aca7-fe882f88a381",
   "metadata": {},
   "source": [
    "**REMINDER:** stackoverflow is your friend... **But** if you use something found on the Internet you must **cite the source** and **explain what that something does**. Copy/paste with no evidence of understanding will be sanctioned. Copy/paste without quoting your source will be heavily sanctioned."
   ]
  },
  {
   "cell_type": "markdown",
   "id": "20427310-e712-4676-b98a-ef1bf4ec3a4e",
   "metadata": {},
   "source": [
    "# Exercise 1: Small is beautiful"
   ]
  },
  {
   "cell_type": "markdown",
   "id": "a9d5892f-243b-4d52-9bcf-ba16f31cf543",
   "metadata": {},
   "source": [
    "Before working on your API, you need to understand and adapt you dataset.\n",
    "\n",
    "- What is the size of the dataset (the file `2022-08-30-papers.jsonl.gz`)?\n",
    "- How many papers are there?\n",
    "- What is the typical structure of a papers?"
   ]
  },
  {
   "cell_type": "markdown",
   "id": "4f1b1762-e16e-4beb-ac65-e1593afd7414",
   "metadata": {},
   "source": [
    "OK, maybe there are too much information. Write a Python program to transform the dataset in something more compact. The new file, that you can call `papers.jsonl.gz` should have the following spec:\n",
    "\n",
    "- It should be in compressed json-lines format;\n",
    "- Each line should have the following fields:\n",
    "  - `title`\n",
    "  - `venue`\n",
    "  - `year` (as an integer)\n",
    "  - `authors`, which should contain a list of `authorId` as integers\n",
    "- You can discard the authors without `authorId`\n",
    "- If an input paper misses a field (e.g. it is empty or `None`), discard the paper\n",
    "\n",
    "While you build the new file, you should also construct a *dictionary of authors* that associates to each `authorId` the name of the author and the list of her publications. Each publication should be referenced by an integer that gives its position inside `papers.json.gz`. How you code position is yours to decide. For example, it could be the line number of the publication or its actual position in the file (which you can obtain with the Python `tell` method).\n",
    "\n",
    "Depending on how you decided to reference publications, you may build additional structures to facilitate the access to publications."
   ]
  },
  {
   "cell_type": "markdown",
   "id": "dace8ab5-83cc-49f7-805d-6b15de40d737",
   "metadata": {},
   "source": [
    "- What is the size of `papers.jsonl.gz`?\n",
    "- How many publications are there?"
   ]
  },
  {
   "cell_type": "markdown",
   "id": "3d7875b9-b696-45f6-af5b-dcb8346476d5",
   "metadata": {},
   "source": [
    "In order to learn and test to use your new file(s), write the following methods:\n",
    "- A `search_author(name: str) -> list` method that returns the list of `authorId` of authors whose name contains `name`.\n",
    "- A `get_paper(position: int) -> dict` method that returns the json of a publication.\n",
    "- A `get_author_papers(author_id:int) -> list` that returns the list of publications of one author."
   ]
  },
  {
   "cell_type": "markdown",
   "id": "8dc481ff",
   "metadata": {},
   "source": [
    "# Exercise 2. Providing a Web API "
   ]
  },
  {
   "cell_type": "markdown",
   "id": "e4781467-74ea-4954-acfc-6766d46a1997",
   "metadata": {},
   "source": [
    "Using Python and the Bottle package, build a web server that implements the following API:\n",
    "- `/publications/{id}` : where `id` is the position of a publication, returns the corresponding publication.\n",
    "- `/publications` : returns by default the first 100 publications. The value 100 can be modified by sending a URL parameter `limit`.\n",
    "- `/authors/{author_id}` : where `author_id` is the `authorId` of an author, returns the following informations about an author: name, number of publications that she co-authored, number of co-authors.\n",
    "- `/authors/{author_id}/publications` : returns the publications of an authors (list of dictionaries).\n",
    "- `/authors/{author_id}/coauthors` : returns the co-authors of one author (name and authorId).\n",
    "- `/search/authors/{searchString}` : where `searchString` is a string to lookup one author. This route should return the authors whose name contains `searchString` (for example, `/search/authors/w` returns the authors whose name contains `w` or `W`). \n",
    "- `/search/publications/{searchString}`: where `searchString` is a string, returns the list of publications whose title contains `searchString`. The route should accept a URL parameter `filter` formatted like `key1:value1,key2:value2,...`  to restrain the search to the publications where key `keyi` contains `valuei`. For example, `/search/publications/robots?filter=author:Jean,venue:acm` \n",
    "should return the list of publications where the title contains `robots`, one of the author contains `Jean`, published in a venue that contains `acm`.\n",
    "- `/authors/{id_origin}/distance/{id_destination}` : where `id_origin` \n",
    "and `id_destination` are two `authorId`, returns the collaboration distance between the two authors. That distance is given as the length of the shortest path `(id_origin, auth1, auth2, ..., authX, id_destination)`, where \n",
    "`id_origin` and `auth1` are co-authors, `auth1` and `auth2` are co-authors, ... and \n",
    "`authX` and `id_destination` are co-authors. In particular, one author is at distance 0 from herself and two co-authors are at distance 1. In addition to the distance, the response should include one shortest path between the two authors.sent."
   ]
  },
  {
   "cell_type": "markdown",
   "id": "ba559bad-da30-4081-adb1-996022a82d69",
   "metadata": {},
   "source": [
    "The developed API should have the following characteristics:\n",
    "\n",
    "- All errors should have the same format.\n",
    "- Each route must be documented with the return format, possible errors, and an explanation of parameters.\n",
    "- Each route that returns a list should return a maximum of 100 elements and should accept URL parameters `start` and `count` to display `count` elements starting from the `start`-th element. For example: `/search/authors/*` should return the first 100 authors, `/search/authors/*?start=100` displays the next 100, and `/search/authors/*?start=200&count=2` displays the next 2 elements.\n",
    "- For each route that returns a list, the returned elements should be sortable based on a given field using a URL parameter order. For example: `/search/publications/*?order=venue` displays the first 100 publications sorted in alphabetical order by the name of the journal in which they appear."
   ]
  },
  {
   "cell_type": "markdown",
   "id": "e1e29ad3",
   "metadata": {},
   "source": [
    "# Exercise 3. Testing a Web API"
   ]
  },
  {
   "cell_type": "markdown",
   "id": "a7110e2c",
   "metadata": {},
   "source": [
    "Using `pytest`, write a program that checks that the API made in the previous exercise works as expected."
   ]
  },
  {
   "cell_type": "markdown",
   "id": "2aa006cb",
   "metadata": {},
   "source": [
    "# Exercise 4. Website using a Web API"
   ]
  },
  {
   "cell_type": "markdown",
   "id": "2243ef46",
   "metadata": {},
   "source": [
    "Create a Python web server using the Bottle library that utilizes the Web API developed in exercise 2 to offer the user a graphical Web interface. This interface allows the user to obtain, by entering relevant information into a Web form:\n",
    "\n",
    "- The complete list of publications and the complete list of co-authors of an author, possibly sorted alphabetically. This author can be searched beforehand using a substring of characters appearing in her name.\n",
    "- The distance between two authors. As above, the authors can be searched beforehand using a substring of characters appearing in their names."
   ]
  }
 ],
 "metadata": {
  "kernelspec": {
   "display_name": "Python 3 (ipykernel)",
   "language": "python",
   "name": "python3"
  },
  "language_info": {
   "codemirror_mode": {
    "name": "ipython",
    "version": 3
   },
   "file_extension": ".py",
   "mimetype": "text/x-python",
   "name": "python",
   "nbconvert_exporter": "python",
   "pygments_lexer": "ipython3",
   "version": "3.11.4"
  },
  "toc": {
   "base_numbering": 1,
   "nav_menu": {},
   "number_sections": true,
   "sideBar": true,
   "skip_h1_title": true,
   "title_cell": "Table of Contents",
   "title_sidebar": "Contents",
   "toc_cell": false,
   "toc_position": {},
   "toc_section_display": true,
   "toc_window_display": false
  }
 },
 "nbformat": 4,
 "nbformat_minor": 5
}

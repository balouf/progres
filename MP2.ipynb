{
 "cells": [
  {
   "cell_type": "markdown",
   "id": "a787f2ab-8fd8-4cfb-ab15-38ef01eb6107",
   "metadata": {
    "id": "a787f2ab-8fd8-4cfb-ab15-38ef01eb6107"
   },
   "source": [
    "# PROGRES 2023 - Mini-Projet 2\n",
    "# API Web\n",
    "\n",
    "Fabien Mathieu - fabien.mathieu@normalesup.org\n",
    "\n",
    "Sébastien Tixeuil - Sebastien.Tixeuil@lip6.fr"
   ]
  },
  {
   "cell_type": "markdown",
   "id": "dcd6dc16",
   "metadata": {
    "id": "dcd6dc16"
   },
   "source": [
    "The purpose of this mini-project is to work with the *Internet Movie DataBase* (IMDB) and the Python package bottle. It will involve:\n",
    "\n",
    "- Retrieve and manipulate datasets\n",
    "- Build an API to perform various tasks on the data\n",
    "- Build a website that will use the API above"
   ]
  },
  {
   "cell_type": "markdown",
   "id": "51474257",
   "metadata": {},
   "source": [
    "# Rules"
   ]
  },
  {
   "cell_type": "markdown",
   "id": "9a94a271",
   "metadata": {},
   "source": [
    "1. Cite your sources\n",
    "2. One file to rule them all\n",
    "3. Explain\n",
    "4. Execute your code\n",
    "\n",
    "\n",
    "https://github.com/balouf/progres/blob/main/rules.ipynb"
   ]
  },
  {
   "cell_type": "markdown",
   "id": "efa9293e",
   "metadata": {},
   "source": [
    "# The IMDB dataset"
   ]
  },
  {
   "cell_type": "markdown",
   "id": "a24ca9a8",
   "metadata": {},
   "source": [
    "[IMDB](https://www.imdb.com) allows to retrieve a part of its dataset for any non-commercial purpose. The available data and the formatting convention is described here: https://developer.imdb.com/non-commercial-datasets/\n",
    "\n",
    "We are especially interested in the data from the following files:\n",
    "- https://datasets.imdbws.com/title.principals.tsv.gz\n",
    "- https://datasets.imdbws.com/name.basics.tsv.gz\n",
    "- https://datasets.imdbws.com/title.basics.tsv.gz\n",
    "\n",
    "**Important notes**:\n",
    "- If you see *Your answer here*, that means something is expected from you.\n",
    "- To help you, the start and/or the end of a possible solution is sometimes given.\n",
    "- The content of IMDB is refreshed regularly. That means that some of the results you will compute, like the number of movies, will vary with time. This should not surprise you."
   ]
  },
  {
   "cell_type": "markdown",
   "id": "ff9d4109",
   "metadata": {},
   "source": [
    "## Exercise 1: Download"
   ]
  },
  {
   "cell_type": "markdown",
   "id": "6fb20ea6",
   "metadata": {},
   "source": [
    "Write a `download_imdb` function inspired by the `download` function seen in course, with the following modifications:\n",
    "- `download_imdb` will have one single argument, the name of the file to retrieve. Location is assumed to be https://datasets.imdbws.com/\n",
    "- If the file already exists, print a message telling that it exists and do nothing. You can use the `pathlib` module for that."
   ]
  },
  {
   "cell_type": "markdown",
   "id": "628c6300",
   "metadata": {},
   "source": [
    "Your answer here."
   ]
  },
  {
   "cell_type": "code",
   "execution_count": 1,
   "id": "1198a03f",
   "metadata": {
    "ExecuteTime": {
     "end_time": "2024-10-17T19:38:38.300155Z",
     "start_time": "2024-10-17T19:38:37.718511Z"
    },
    "id": "ed159520"
   },
   "outputs": [],
   "source": [
    "from pathlib import Path\n",
    "from requests import Session\n",
    "\n",
    "base_url = \"https://datasets.imdbws.com/\"\n",
    "\n",
    "def download_imdb(file):\n",
    "    ..."
   ]
  },
  {
   "cell_type": "code",
   "execution_count": 3,
   "id": "ce042418",
   "metadata": {
    "ExecuteTime": {
     "end_time": "2024-10-17T19:38:38.334234Z",
     "start_time": "2024-10-17T19:38:38.312955Z"
    },
    "colab": {
     "base_uri": "https://localhost:8080/"
    },
    "id": "ce042418",
    "outputId": "5c7dd0be-825a-4895-c96f-6c99cd733f4b"
   },
   "outputs": [
    {
     "name": "stdout",
     "output_type": "stream",
     "text": [
      "title.principals.tsv.gz already exists\n",
      "name.basics.tsv.gz already exists\n",
      "title.basics.tsv.gz already exists\n"
     ]
    }
   ],
   "source": [
    "files = ['title.principals.tsv.gz', 'name.basics.tsv.gz', 'title.basics.tsv.gz']\n",
    "for file in files:\n",
    "    download_imdb(file)"
   ]
  },
  {
   "cell_type": "markdown",
   "id": "216c4b71",
   "metadata": {},
   "source": [
    "## Exercise 2: Explore"
   ]
  },
  {
   "cell_type": "markdown",
   "id": "0cf0a274",
   "metadata": {},
   "source": [
    "- What is the size of the different files you retrieved? You can use Python or a file explorer, as you prefer."
   ]
  },
  {
   "cell_type": "markdown",
   "id": "93fec8b9",
   "metadata": {},
   "source": [
    "Your answer here."
   ]
  },
  {
   "cell_type": "markdown",
   "id": "7cb096d5",
   "metadata": {},
   "source": [
    "As explained in https://developer.imdb.com/non-commercial-datasets/:\n",
    "- the data is stored as `tsv`, which means each text line represents a row.\n",
    "- A [gzip compression](https://docs.python.org/3/library/gzip.html) is used to reduce the size of the data on the hard drive.\n",
    "\n",
    "Large compressed files should not be uncompressed on your hard drive or fully loaded in memory.\n",
    "\n",
    "The Python [gzip module](https://docs.python.org/3/library/gzip.html) is designed so you can open a compressed file as if it was already uncompressed. For example, the following code reads 666 lines from `title.basics` and print the last line read."
   ]
  },
  {
   "cell_type": "code",
   "execution_count": 4,
   "id": "4da56b1f",
   "metadata": {
    "ExecuteTime": {
     "end_time": "2024-10-17T19:38:38.348990Z",
     "start_time": "2024-10-17T19:38:38.339737Z"
    }
   },
   "outputs": [
    {
     "name": "stdout",
     "output_type": "stream",
     "text": [
      "tt0000671\tshort\tDesdemona\tDesdemona\t0\t1908\t\\N\t\\N\tDrama,Short\n",
      "\n"
     ]
    }
   ],
   "source": [
    "import gzip\n",
    "with gzip.open('title.basics.tsv.gz', 'rt', encoding='utf8') as f:\n",
    "    for _ in range(666):\n",
    "        l = f.readline()\n",
    "print(l)"
   ]
  },
  {
   "cell_type": "markdown",
   "id": "bcf2ffad",
   "metadata": {},
   "source": [
    "- Write a function that read the 4 first lines of a compressed tsv file. Each line read should be converted into a list of elements and printed."
   ]
  },
  {
   "cell_type": "markdown",
   "id": "a011838d",
   "metadata": {},
   "source": [
    "Your answer here."
   ]
  },
  {
   "cell_type": "code",
   "execution_count": 5,
   "id": "7362cb0e",
   "metadata": {
    "ExecuteTime": {
     "end_time": "2024-10-17T19:38:38.358560Z",
     "start_time": "2024-10-17T19:38:38.351001Z"
    },
    "id": "d743066b"
   },
   "outputs": [],
   "source": [
    "def explore(name):\n",
    "    ..."
   ]
  },
  {
   "cell_type": "code",
   "execution_count": 7,
   "id": "cf9a6d3e",
   "metadata": {
    "ExecuteTime": {
     "end_time": "2024-10-17T19:38:38.400704Z",
     "start_time": "2024-10-17T19:38:38.376163Z"
    }
   },
   "outputs": [
    {
     "name": "stdout",
     "output_type": "stream",
     "text": [
      "First lines of title.principals.tsv.gz:\n",
      "['tconst', 'ordering', 'nconst', 'category', 'job', 'characters']\n",
      "['tt0000001', '1', 'nm1588970', 'self', '\\\\N', '[\"Self\"]']\n",
      "['tt0000001', '2', 'nm0005690', 'director', '\\\\N', '\\\\N']\n",
      "['tt0000001', '3', 'nm0005690', 'producer', 'producer', '\\\\N']\n",
      "First lines of name.basics.tsv.gz:\n",
      "['nconst', 'primaryName', 'birthYear', 'deathYear', 'primaryProfession', 'knownForTitles']\n",
      "['nm0000001', 'Fred Astaire', '1899', '1987', 'actor,miscellaneous,producer', 'tt0072308,tt0050419,tt0053137,tt0027125']\n",
      "['nm0000002', 'Lauren Bacall', '1924', '2014', 'actress,soundtrack,archive_footage', 'tt0037382,tt0075213,tt0117057,tt0038355']\n",
      "['nm0000003', 'Brigitte Bardot', '1934', '\\\\N', 'actress,music_department,producer', 'tt0057345,tt0049189,tt0056404,tt0054452']\n",
      "First lines of title.basics.tsv.gz:\n",
      "['tconst', 'titleType', 'primaryTitle', 'originalTitle', 'isAdult', 'startYear', 'endYear', 'runtimeMinutes', 'genres']\n",
      "['tt0000001', 'short', 'Carmencita', 'Carmencita', '0', '1894', '\\\\N', '1', 'Documentary,Short']\n",
      "['tt0000002', 'short', 'Le clown et ses chiens', 'Le clown et ses chiens', '0', '1892', '\\\\N', '5', 'Animation,Short']\n",
      "['tt0000003', 'short', 'Poor Pierrot', 'Pauvre Pierrot', '0', '1892', '\\\\N', '5', 'Animation,Comedy,Romance']\n"
     ]
    }
   ],
   "source": [
    "for file in files:\n",
    "    print(f\"First lines of {file}:\")\n",
    "    explore(file)"
   ]
  },
  {
   "cell_type": "markdown",
   "id": "f838cd31",
   "metadata": {},
   "source": [
    "- How many movie entries are present in the retrieved database?\n",
    "- How many people entries?"
   ]
  },
  {
   "cell_type": "markdown",
   "id": "057c1a01",
   "metadata": {},
   "source": [
    "Your answer here."
   ]
  },
  {
   "cell_type": "markdown",
   "id": "95a1834e",
   "metadata": {},
   "source": [
    "## Exercise 3: Extract"
   ]
  },
  {
   "cell_type": "markdown",
   "id": "c0baa525",
   "metadata": {},
   "source": [
    "We want to study the relations between actors and movies. In particular, we focus on:\n",
    "- Actual movies (e.g. not TV shows or short movies), where the movie year is known and at least one actor/actress is credited.\n",
    "- Actors that are credited in at least one actual movie."
   ]
  },
  {
   "cell_type": "markdown",
   "id": "04e4f501",
   "metadata": {},
   "source": [
    "To start with, build a [Python set](https://docs.python.org/3/tutorial/datastructures.html#sets) that contains all movie ids (`tconst`) such that:\n",
    "- The type of movie (`titleType`) is `movie`;\n",
    "- The year (`startYear`) exists, i.e. is an integer.\n",
    "\n",
    "How many movies have you referenced in the set?"
   ]
  },
  {
   "cell_type": "markdown",
   "id": "088f7448",
   "metadata": {},
   "source": [
    "Your answer here."
   ]
  },
  {
   "cell_type": "code",
   "execution_count": 8,
   "id": "bc3b14be",
   "metadata": {
    "ExecuteTime": {
     "end_time": "2024-10-17T19:38:38.409679Z",
     "start_time": "2024-10-17T19:38:38.406709Z"
    }
   },
   "outputs": [],
   "source": [
    "true_movies = set()\n",
    "..."
   ]
  },
  {
   "cell_type": "code",
   "execution_count": 11,
   "id": "c04fc45e",
   "metadata": {
    "ExecuteTime": {
     "end_time": "2024-10-17T19:38:56.966996Z",
     "start_time": "2024-10-17T19:38:56.955330Z"
    },
    "colab": {
     "base_uri": "https://localhost:8080/"
    },
    "id": "c04fc45e",
    "outputId": "0afd8c75-eb3b-4071-b26e-6db6e909a696"
   },
   "outputs": [
    {
     "data": {
      "text/plain": [
       "593625"
      ]
     },
     "execution_count": 11,
     "metadata": {},
     "output_type": "execute_result"
    }
   ],
   "source": [
    "len(true_movies)"
   ]
  },
  {
   "cell_type": "markdown",
   "id": "0214f16f",
   "metadata": {},
   "source": [
    "Now we want to build two lists, `movies` and `actors`:\n",
    "\n",
    "- Each element of `movies` should represent a movie, each element of `actors` an actor or actress;\n",
    "- A movie is represented by a list of three elements:\n",
    "  - The original name of the movie (`str`),\n",
    "  - The principal actors of the movie, stored as a list whose elements are integers that represent the index (position) of the actors in the list `actors`,\n",
    "  - The movie year, `startYear` (`int`);\n",
    "- An actor/actress is represented by a list of two elements:\n",
    "  - The name of the person (`str`),\n",
    "  - The movies the person acted in, stored as a list whose elements are integers that represent the index (position) of the movies in the list `movies`.\n",
    "  "
   ]
  },
  {
   "cell_type": "markdown",
   "id": "76909c4d",
   "metadata": {},
   "source": [
    "Build these two lists.\n",
    "\n",
    "A possible way to do this:\n",
    "- Initiate `movies` and `actors` as empty lists;\n",
    "- Create two auxiliary dictionary that will associate to each movie id (`tconst`) and person id (`nconst`) their position in the list;\n",
    "- Read the file `title.principals.tsv.gz` line by line:\n",
    "  - Ignore any line where the movie is not in the set `true_movies` or the `category` of the relation is not `actor` or `actress`,\n",
    "  - If the movie id `tconst` is not in the movie auxiliary index, append an empty movie to `movies` (`[\"\", [], 0]`) and update the movie auxiliary index with an entry for `tconst`,\n",
    "  - If the actor id `nconst` is not in the actor auxiliary index, append an empty actor to `actors` (`[\"\", []]`) and update the actor auxiliary index with an entry for `nconst`,\n",
    "  - Append the movie index (not `tconst`!) to the movies of the corresponding actor in `actors`,\n",
    "  - Append the actor index (not `nconst`!) to the actors of the corresponding movie in `movies`;\n",
    "- There can be a few undesired duplicates, e.g. some actors can have multiple entries for the same movies. For each actor, remove possible duplicates in the list of movies, and for each movie, remove possible duplicates in the list of actors;\n",
    "- Using `title.basics.tsv.gz` and your movie auxiliary index, populate each movie in `movies` with its correct name (`str`) and year (`int`);\n",
    "- Using `name.basics.tsv.gz` and your actor auxiliary index, populate each actor in `movies` with her correct name."
   ]
  },
  {
   "cell_type": "markdown",
   "id": "5a3de220",
   "metadata": {},
   "source": [
    "Your answer here."
   ]
  },
  {
   "cell_type": "code",
   "execution_count": 12,
   "id": "82e99bb0",
   "metadata": {
    "ExecuteTime": {
     "end_time": "2024-10-17T19:38:56.983606Z",
     "start_time": "2024-10-17T19:38:56.970004Z"
    }
   },
   "outputs": [
    {
     "data": {
      "text/plain": [
       "Ellipsis"
      ]
     },
     "execution_count": 12,
     "metadata": {},
     "output_type": "execute_result"
    }
   ],
   "source": [
    "movie_id_to_index = dict()\n",
    "movies = []\n",
    "actor_id_to_index = dict()\n",
    "actors = []\n",
    "..."
   ]
  },
  {
   "cell_type": "markdown",
   "id": "b7e0e0a1",
   "metadata": {},
   "source": [
    "Manually check that your files are correct. For example, try to get the name and year of the movies Michel Blanc played in, or the actors of the first Harry Potter movie."
   ]
  },
  {
   "cell_type": "markdown",
   "id": "47e2fb0c",
   "metadata": {},
   "source": [
    "Your answer here (if everything went well, you just need to execute the two cells below)."
   ]
  },
  {
   "cell_type": "code",
   "execution_count": 18,
   "id": "8a99a258",
   "metadata": {
    "ExecuteTime": {
     "end_time": "2024-10-17T19:42:06.206220Z",
     "start_time": "2024-10-17T19:42:05.934950Z"
    }
   },
   "outputs": [
    {
     "data": {
      "text/plain": [
       "\"La meilleure façon de marcher (1976), Vous n'aurez pas l'Alsace et la Lorraine (1977), Les bronzés (1978), Les bronzés font du ski (1979), Cause toujours... tu m'intéresses! (1979), Le cheval d'orgueil (1980), La gueule de l'autre (1979), Ma femme s'appelle reviens (1982), Viens chez moi, j'habite chez une copine (1981), Le père Noël est une ordure (1982), Circulez y a rien à voir! (1983), Papy fait de la résistance (1983), Retenez-moi... ou je fais un malheur! (1984), Marche à l'ombre (1984), Nemo (1984), Drôle de samedi (1985), Je hais les acteurs (1986), Tenue de soirée (1986), Une nuit à l'Assemblée Nationale (1988), Monsieur Hire (1989), Chambre à part (1989), Uranus (1990), The Favour, the Watch and the Very Big Fish (1991), Merci la vie (1991), Prospero's Books (1991), Toxic Affair (1993), Grosse fatigue (1994), Il mostro (1994), Les grands ducs (1996), Rien ne va plus (1979), Le beaujolais nouveau est arrivé (1978), Embrassez qui vous voudrez (2002), Madame Edouard (2004), Les bronzés 3: amis pour la vie (2006), Je vous trouve très beau (2005), Les témoins (2007), Le deuxième souffle (2007), Musée haut, musée bas (2008), Nos 18 ans (2008), Docteur? (2019), La fille du RER (2009), Les Tuche 4 (2021), Une petite zone de turbulences (2009), Les cadors (2022), Et soudain, tout le monde me manque (2011), Les petites victoires (2023), L'exercice de l'État (2011), Demi-soeur (2013), Marie-Line et son juge (2023), The Hundred-Foot Journey (2014), Le routard (2025), Les souvenirs (2014), Les nouvelles aventures d'Aladin (2015), Un petit boulot (2016), Raid dingue (2016), Voyez comme on danse (2018)\""
      ]
     },
     "execution_count": 18,
     "metadata": {},
     "output_type": "execute_result"
    }
   ],
   "source": [
    "', '.join([f\"{movies[i][0]} ({movies[i][2]})\" for i in [a for a in actors if a[0]=='Michel Blanc'][0][1]])"
   ]
  },
  {
   "cell_type": "code",
   "execution_count": 19,
   "id": "6c0142eb",
   "metadata": {
    "ExecuteTime": {
     "end_time": "2024-10-17T19:42:06.412937Z",
     "start_time": "2024-10-17T19:42:06.211288Z"
    }
   },
   "outputs": [
    {
     "data": {
      "text/plain": [
       "'Maggie Smith, Richard Harris, Robbie Coltrane, Richard Griffiths, Fiona Shaw, Daniel Radcliffe, Rupert Grint, Emma Watson, Saunders Triplets, Harry Melling'"
      ]
     },
     "execution_count": 19,
     "metadata": {},
     "output_type": "execute_result"
    }
   ],
   "source": [
    "', '.join([actors[i][0] for i in [m for m in movies if m[0].startswith('Harry Potter')][0][1]])"
   ]
  },
  {
   "cell_type": "markdown",
   "id": "d22f946c",
   "metadata": {},
   "source": [
    "When you have successfully reached this point of the project, you can save the two lists `movies` and `actors` as compressed json files using the code below:"
   ]
  },
  {
   "cell_type": "code",
   "execution_count": 20,
   "id": "4dcd8c6b",
   "metadata": {
    "ExecuteTime": {
     "end_time": "2024-10-17T19:42:53.461002Z",
     "start_time": "2024-10-17T19:42:06.416962Z"
    },
    "id": "27638009"
   },
   "outputs": [],
   "source": [
    "import gzip\n",
    "import json\n",
    "\n",
    "with gzip.open('movies.json.gz', 'wt', encoding='utf8') as f:\n",
    "    json.dump(movies, f)\n",
    "with gzip.open('actors.json.gz', 'wt', encoding='utf8') as f:\n",
    "    json.dump(actors, f)"
   ]
  },
  {
   "cell_type": "markdown",
   "id": "8547beb9",
   "metadata": {},
   "source": [
    "After your files have been saved, you do not need to re-execute all of the above each time your restart your notebook. Instead, you just need to reload `movies` and `actors` using the code below:"
   ]
  },
  {
   "cell_type": "code",
   "execution_count": 21,
   "id": "10f89c03",
   "metadata": {
    "ExecuteTime": {
     "end_time": "2024-10-17T19:43:04.301301Z",
     "start_time": "2024-10-17T19:42:53.463253Z"
    },
    "id": "10f89c03"
   },
   "outputs": [],
   "source": [
    "import gzip\n",
    "import json\n",
    "\n",
    "with gzip.open('movies.json.gz', 'rt', encoding='utf8') as f:\n",
    "    movies = json.load(f)\n",
    "with gzip.open('actors.json.gz', 'rt', encoding='utf8') as f:\n",
    "    actors = json.load(f)    "
   ]
  },
  {
   "cell_type": "markdown",
   "id": "9c68a909",
   "metadata": {},
   "source": [
    "**Important remark:** in what follows, you will have to build functions that use the two lists a lot. You should NOT reload the lists each time you call a function. Instead, ensure that the two lists are loaded in memory and use them directly."
   ]
  },
  {
   "cell_type": "markdown",
   "id": "0a45a5b0",
   "metadata": {},
   "source": [
    "## Exercise 4: Explore again (now on the curated dataset)"
   ]
  },
  {
   "cell_type": "markdown",
   "id": "6bc58de6",
   "metadata": {},
   "source": [
    "- How many actors do you have in the new dataset? How many movies?\n",
    "- In average, in how many movies played an actor?\n",
    "- In average, how many actors play in a movie?\n",
    "- What is the name of the actor that played in the most movies? How many movies did he feature in?\n",
    "- What is the oldest movie in the DB?"
   ]
  },
  {
   "cell_type": "markdown",
   "id": "259937c2",
   "metadata": {},
   "source": [
    "Your answer here."
   ]
  },
  {
   "cell_type": "markdown",
   "id": "2a56d009",
   "metadata": {},
   "source": [
    "## Exercise 5: Prepare some functions"
   ]
  },
  {
   "cell_type": "markdown",
   "id": "2756c3f5",
   "metadata": {},
   "source": [
    "Write the following functions\n",
    "- `search_movie(name: str) -> list`: return a list of movies whose name contains `name` (ignoring case). Each movie is described as a dictionary with keys `name`, `year`, and `index` (its position in `movies`)\n",
    "- `get_movie(i: int) -> dict`: returns the a json of the movie at position `i`, with following keys:\n",
    "  - `name` (`str`)\n",
    "  - `year` (`int`)\n",
    "  - `actors` (list of dictionaries with keys `name` and `index`)\n",
    "- `search_actor(name: str) -> list`: return a list of actors whose name contains `name` (ignoring case). Each actor is described as a dictionary with keys `name` and `index` (its position in `actor`)\n",
    "- `get_actor(i: int) -> dict`: returns the a json of the actor at position `i`, with following keys:\n",
    "  - `name` (`str`)\n",
    "  - `movies` (list of dictionaries with keys `name`, `year`, and `index`)"
   ]
  },
  {
   "cell_type": "markdown",
   "id": "106d1b7a",
   "metadata": {},
   "source": [
    "Your answer here."
   ]
  },
  {
   "cell_type": "code",
   "execution_count": 30,
   "id": "37fe3e43",
   "metadata": {
    "ExecuteTime": {
     "end_time": "2024-10-17T19:43:05.233997Z",
     "start_time": "2024-10-17T19:43:05.230641Z"
    }
   },
   "outputs": [],
   "source": [
    "def search_movie(name):\n",
    "    ..."
   ]
  },
  {
   "cell_type": "code",
   "execution_count": 31,
   "id": "b649b418",
   "metadata": {
    "ExecuteTime": {
     "end_time": "2024-10-17T19:43:05.250391Z",
     "start_time": "2024-10-17T19:43:05.236005Z"
    }
   },
   "outputs": [],
   "source": [
    "def get_movie(i):\n",
    "    ..."
   ]
  },
  {
   "cell_type": "code",
   "execution_count": 32,
   "id": "0caa9a7e",
   "metadata": {
    "ExecuteTime": {
     "end_time": "2024-10-17T19:43:05.263200Z",
     "start_time": "2024-10-17T19:43:05.253400Z"
    }
   },
   "outputs": [],
   "source": [
    "def search_actor(name):\n",
    "    ..."
   ]
  },
  {
   "cell_type": "code",
   "execution_count": 33,
   "id": "8a0fc883",
   "metadata": {
    "ExecuteTime": {
     "end_time": "2024-10-17T19:43:05.278733Z",
     "start_time": "2024-10-17T19:43:05.267214Z"
    }
   },
   "outputs": [],
   "source": [
    "def get_actor(i):\n",
    "    ..."
   ]
  },
  {
   "cell_type": "code",
   "execution_count": 38,
   "id": "d846d30a",
   "metadata": {
    "ExecuteTime": {
     "end_time": "2024-10-17T19:43:05.688562Z",
     "start_time": "2024-10-17T19:43:05.338687Z"
    }
   },
   "outputs": [
    {
     "data": {
      "text/plain": [
       "[{'name': 'Les bronzés', 'year': 1978, 'index': 53997},\n",
       " {'name': 'Les bronzés font du ski', 'year': 1979, 'index': 55030},\n",
       " {'name': 'Les bronzés 3: amis pour la vie', 'year': 2006, 'index': 180724},\n",
       " {'name': \"Les P'tits Bronzés au Pyrénéen\", 'year': 2013, 'index': 443498}]"
      ]
     },
     "execution_count": 38,
     "metadata": {},
     "output_type": "execute_result"
    }
   ],
   "source": [
    "search_movie('bronzés')"
   ]
  },
  {
   "cell_type": "code",
   "execution_count": 39,
   "id": "a1b4bdb5",
   "metadata": {
    "ExecuteTime": {
     "end_time": "2024-10-17T19:43:05.706974Z",
     "start_time": "2024-10-17T19:43:05.693583Z"
    }
   },
   "outputs": [
    {
     "data": {
      "text/plain": [
       "{'name': 'Les bronzés font du ski',\n",
       " 'year': 1979,\n",
       " 'actors': [{'name': 'Maurice Chevit', 'index': 38998},\n",
       "  {'name': 'Gérard Jugnot', 'index': 98822},\n",
       "  {'name': 'Michel Blanc', 'index': 99175},\n",
       "  {'name': 'Christian Clavier', 'index': 101133},\n",
       "  {'name': 'Josiane Balasko', 'index': 101135},\n",
       "  {'name': 'Dominique Lavanant', 'index': 103168},\n",
       "  {'name': 'Marie-Anne Chazel', 'index': 103728},\n",
       "  {'name': 'Bruno Moynot', 'index': 103729},\n",
       "  {'name': 'Thierry Lhermitte', 'index': 103730},\n",
       "  {'name': 'Hélène Aubert', 'index': 107139}]}"
      ]
     },
     "execution_count": 39,
     "metadata": {},
     "output_type": "execute_result"
    }
   ],
   "source": [
    "get_movie(55030)"
   ]
  },
  {
   "cell_type": "code",
   "execution_count": 40,
   "id": "5386b177",
   "metadata": {
    "ExecuteTime": {
     "end_time": "2024-10-17T19:43:06.239351Z",
     "start_time": "2024-10-17T19:43:05.712548Z"
    }
   },
   "outputs": [
    {
     "data": {
      "text/plain": [
       "[{'name': 'Daniel Radcliffe', 'index': 277289}]"
      ]
     },
     "execution_count": 40,
     "metadata": {},
     "output_type": "execute_result"
    }
   ],
   "source": [
    "search_actor('Daniel Radcliffe')"
   ]
  },
  {
   "cell_type": "code",
   "execution_count": 41,
   "id": "910c6cc1",
   "metadata": {
    "ExecuteTime": {
     "end_time": "2024-10-17T19:43:06.259338Z",
     "start_time": "2024-10-17T19:43:06.244501Z"
    }
   },
   "outputs": [
    {
     "data": {
      "text/plain": [
       "{'name': 'Daniel Radcliffe',\n",
       " 'movies': [{'name': 'The Tailor of Panama', 'year': 2001, 'index': 122984},\n",
       "  {'name': \"Harry Potter and the Sorcerer's Stone\",\n",
       "   'year': 2001,\n",
       "   'index': 124511},\n",
       "  {'name': 'Harry Potter and the Chamber of Secrets',\n",
       "   'year': 2002,\n",
       "   'index': 143844},\n",
       "  {'name': 'Harry Potter and the Prisoner of Azkaban',\n",
       "   'year': 2004,\n",
       "   'index': 145909},\n",
       "  {'name': 'Harry Potter and the Goblet of Fire',\n",
       "   'year': 2005,\n",
       "   'index': 153714},\n",
       "  {'name': 'Harry Potter and the Order of the Phoenix',\n",
       "   'year': 2007,\n",
       "   'index': 165609},\n",
       "  {'name': 'Harry Potter and the Half-Blood Prince',\n",
       "   'year': 2009,\n",
       "   'index': 175181},\n",
       "  {'name': 'December Boys', 'year': 2007, 'index': 184191},\n",
       "  {'name': 'Harry Potter and the Deathly Hallows - Part 1',\n",
       "   'year': 2010,\n",
       "   'index': 196959},\n",
       "  {'name': 'Harry Potter and the Deathly Hallows - Part 2',\n",
       "   'year': 2011,\n",
       "   'index': 226967},\n",
       "  {'name': 'Kill Your Darlings', 'year': 2013, 'index': 239138},\n",
       "  {'name': 'The Lost City', 'year': 2022, 'index': 241911},\n",
       "  {'name': 'The F Word', 'year': 2013, 'index': 263212},\n",
       "  {'name': 'Horns', 'year': 2013, 'index': 268233},\n",
       "  {'name': 'The Woman in Black', 'year': 2012, 'index': 276127},\n",
       "  {'name': 'Weird: The Al Yankovic Story', 'year': 2022, 'index': 283862},\n",
       "  {'name': 'Victor Frankenstein', 'year': 2015, 'index': 298460},\n",
       "  {'name': 'Now You See Me 2', 'year': 2016, 'index': 363578},\n",
       "  {'name': 'Jungle', 'year': 2017, 'index': 388401},\n",
       "  {'name': 'Swiss Army Man', 'year': 2016, 'index': 393022},\n",
       "  {'name': 'Playmobil: The Movie', 'year': 2019, 'index': 395577},\n",
       "  {'name': 'Now You See Me 3', 'year': 2025, 'index': 403327},\n",
       "  {'name': 'Imperium', 'year': 2016, 'index': 404228},\n",
       "  {'name': 'Escape from Pretoria', 'year': 2020, 'index': 419903},\n",
       "  {'name': 'Beast of Burden', 'year': 2018, 'index': 425460},\n",
       "  {'name': 'Lost in London', 'year': 2017, 'index': 427680},\n",
       "  {'name': 'National Theatre Live: Rosencrantz & Guildenstern Are Dead',\n",
       "   'year': 2017,\n",
       "   'index': 433997},\n",
       "  {'name': 'Guns Akimbo', 'year': 2019, 'index': 434662}]}"
      ]
     },
     "execution_count": 41,
     "metadata": {},
     "output_type": "execute_result"
    }
   ],
   "source": [
    "get_actor(277289)"
   ]
  },
  {
   "cell_type": "markdown",
   "id": "69f7ed05",
   "metadata": {},
   "source": [
    "Write a function `movie_path(origin: int, destination: int) -> distance: int, path: list` that computes the collaboration distance between two actors. That distance is the length of the shortest path `(origin, act1, act2, ..., actX, destination)`, where `origin` and `act` played in the same movie, `act1` and `act2` played in the same movie, ... and\n",
    "`actX` and `destination` played in the same movie.  In addition to the distance, the response should include one shortest path between the two actors, as a list of the form `[\"origin_name\", \"movie1_name\", \"act1_name\", \"movie2_name\", ..., \"destination_name\"]`, where `movie1` is a movie that featured `origin` and `act1`, and so on...\n",
    "\n",
    "In particular:\n",
    "- One actor is by convention at distance 0 from herself. The return path should be `[\"origin_name\"]` then;\n",
    "- Two distinct actors that play in the same movie are at distance 1;\n",
    "- If there is no connection between two actors, the function should return `-1, []` by convention.\n",
    "\n",
    "**Important remarks**: `movie_path` is tricky. You need to try to implement it but you are allowed to fail. If you are stuck for too long, please explain what you did/try and what blocked you in your opinion. Then move on."
   ]
  },
  {
   "cell_type": "markdown",
   "id": "4891e967",
   "metadata": {},
   "source": [
    "Your answer here."
   ]
  },
  {
   "cell_type": "code",
   "execution_count": 42,
   "id": "04493bcb",
   "metadata": {
    "ExecuteTime": {
     "end_time": "2024-10-17T19:43:06.270394Z",
     "start_time": "2024-10-17T19:43:06.264363Z"
    },
    "slideshow": {
     "slide_type": "-"
    }
   },
   "outputs": [],
   "source": [
    "def movie_path(origin, destination):\n",
    "    ..."
   ]
  },
  {
   "cell_type": "code",
   "execution_count": 45,
   "id": "618d8d56",
   "metadata": {
    "ExecuteTime": {
     "end_time": "2024-10-17T19:43:06.881055Z",
     "start_time": "2024-10-17T19:43:06.305024Z"
    }
   },
   "outputs": [
    {
     "data": {
      "text/plain": [
       "[{'name': 'Jean Dujardin', 'index': 329504}]"
      ]
     },
     "execution_count": 45,
     "metadata": {},
     "output_type": "execute_result"
    }
   ],
   "source": [
    "search_actor('jean dujardin')"
   ]
  },
  {
   "cell_type": "code",
   "execution_count": 46,
   "id": "094e4131",
   "metadata": {
    "ExecuteTime": {
     "end_time": "2024-10-17T19:43:07.427983Z",
     "start_time": "2024-10-17T19:43:06.883581Z"
    }
   },
   "outputs": [
    {
     "data": {
      "text/plain": [
       "[{'name': 'Kiefer Sutherland', 'index': 123737}]"
      ]
     },
     "execution_count": 46,
     "metadata": {},
     "output_type": "execute_result"
    }
   ],
   "source": [
    "search_actor('kiefer sutherland')"
   ]
  },
  {
   "cell_type": "code",
   "execution_count": 47,
   "id": "a668c49f",
   "metadata": {
    "ExecuteTime": {
     "end_time": "2024-10-17T19:43:07.793184Z",
     "start_time": "2024-10-17T19:43:07.431005Z"
    }
   },
   "outputs": [
    {
     "data": {
      "text/plain": [
       "[{'name': 'Kevin Bacon', 'index': 105311},\n",
       " {'name': 'Kevin Bacon', 'index': 1137716}]"
      ]
     },
     "execution_count": 47,
     "metadata": {},
     "output_type": "execute_result"
    }
   ],
   "source": [
    "search_actor('kevin bacon')"
   ]
  },
  {
   "cell_type": "code",
   "execution_count": 48,
   "id": "fd4c5a02",
   "metadata": {
    "ExecuteTime": {
     "end_time": "2024-10-17T19:43:08.403011Z",
     "start_time": "2024-10-17T19:43:07.795197Z"
    }
   },
   "outputs": [
    {
     "data": {
      "text/plain": [
       "[{'name': 'Louis de Funès', 'index': 38476}]"
      ]
     },
     "execution_count": 48,
     "metadata": {},
     "output_type": "execute_result"
    }
   ],
   "source": [
    "search_actor('louis de funès')"
   ]
  },
  {
   "cell_type": "code",
   "execution_count": 49,
   "id": "1b84573a",
   "metadata": {
    "ExecuteTime": {
     "end_time": "2024-10-17T19:43:08.411160Z",
     "start_time": "2024-10-17T19:43:08.405410Z"
    }
   },
   "outputs": [
    {
     "data": {
      "text/plain": [
       "(0, ['Kevin Bacon'])"
      ]
     },
     "execution_count": 49,
     "metadata": {},
     "output_type": "execute_result"
    }
   ],
   "source": [
    "movie_path(105311, 105311)"
   ]
  },
  {
   "cell_type": "code",
   "execution_count": 50,
   "id": "803e62b6",
   "metadata": {
    "ExecuteTime": {
     "end_time": "2024-10-17T19:43:08.449073Z",
     "start_time": "2024-10-17T19:43:08.414171Z"
    }
   },
   "outputs": [
    {
     "data": {
      "text/plain": [
       "(2,\n",
       " ['Kevin Bacon',\n",
       "  'Wild Things',\n",
       "  'Bill Murray',\n",
       "  'The Monuments Men',\n",
       "  'Jean Dujardin'])"
      ]
     },
     "execution_count": 50,
     "metadata": {},
     "output_type": "execute_result"
    }
   ],
   "source": [
    "movie_path(105311, 329504)"
   ]
  },
  {
   "cell_type": "code",
   "execution_count": 51,
   "id": "75aeb408",
   "metadata": {
    "ExecuteTime": {
     "end_time": "2024-10-17T19:43:08.879702Z",
     "start_time": "2024-10-17T19:43:08.453082Z"
    }
   },
   "outputs": [
    {
     "data": {
      "text/plain": [
       "(3,\n",
       " ['Louis de Funès',\n",
       "  'Dernier refuge',\n",
       "  'Noël Roquevert',\n",
       "  'Mare matto',\n",
       "  'Tomas Milian',\n",
       "  'The Cowboy Way',\n",
       "  'Kiefer Sutherland'])"
      ]
     },
     "execution_count": 51,
     "metadata": {},
     "output_type": "execute_result"
    }
   ],
   "source": [
    "movie_path(38476, 123737)"
   ]
  },
  {
   "cell_type": "code",
   "execution_count": 52,
   "id": "648f605d",
   "metadata": {
    "ExecuteTime": {
     "end_time": "2024-10-17T19:43:09.104561Z",
     "start_time": "2024-10-17T19:43:08.881726Z"
    }
   },
   "outputs": [
    {
     "data": {
      "text/plain": [
       "[{'name': 'Le gendarme de Saint-Tropez', 'year': 1964, 'index': 41002},\n",
       " {'name': 'Le gendarme à New York', 'year': 1965, 'index': 42673},\n",
       " {'name': 'Le gendarme se marie', 'year': 1968, 'index': 44456},\n",
       " {'name': 'Le gendarme en balade', 'year': 1970, 'index': 46403},\n",
       " {'name': 'Le gendarme et les extra-terrestres', 'year': 1979, 'index': 55243},\n",
       " {'name': 'Le gendarme et les gendarmettes', 'year': 1982, 'index': 58336},\n",
       " {'name': 'Le gendarme de Champignol', 'year': 1959, 'index': 92831},\n",
       " {'name': 'El gendarme desconocido', 'year': 1941, 'index': 94283},\n",
       " {'name': 'El gendarme de la esquina', 'year': 1951, 'index': 116188},\n",
       " {'name': 'Sacrés gendarmes', 'year': 1980, 'index': 120032},\n",
       " {'name': \"Hainburg - Je t'aime, gendarme\", 'year': 2001, 'index': 145903},\n",
       " {'name': 'Le gendarme de Abobo', 'year': 2019, 'index': 319589}]"
      ]
     },
     "execution_count": 52,
     "metadata": {},
     "output_type": "execute_result"
    }
   ],
   "source": [
    "search_movie('gendarme')"
   ]
  },
  {
   "cell_type": "markdown",
   "id": "8dc481ff",
   "metadata": {
    "id": "8dc481ff"
   },
   "source": [
    "## Exercise 6. Provide a Web API"
   ]
  },
  {
   "cell_type": "markdown",
   "id": "e4781467-74ea-4954-acfc-6766d46a1997",
   "metadata": {
    "id": "e4781467-74ea-4954-acfc-6766d46a1997"
   },
   "source": [
    "Using Python and the Bottle package, build a web server that implements the following API:\n",
    "- `/movies/{id}` : where `id` is the index of a movie, returns the corresponding movie as a json (cf `get_movie`).\n",
    "- `/movies` : returns by default the first 100 movies. The value 100 can be modified by sending a URL parameter `limit`.\n",
    "- `/actors/{id}` : where `id` is the index of an author, returns the json of the actor (cf `get_actor`).\n",
    "- `/actors` : returns by default the first 100 actors. The value 100 can be modified by sending a URL parameter `limit`.\n",
    "- `/actors/{id}/costars` : returns the co-stars of one actor (actors that play in a same movie).\n",
    "- `/search/actors/{searchString}` : where `searchString` is a string to lookup one actor. This route should return the actors whose name contains `searchString` (for example, `/search/actors/w` returns the actors whose name contains `w` or `W`).\n",
    "- `/search/movies/{searchString}`: where `searchString` is a string, returns the list of movies whose title contains `searchString`. The route should accept a URL parameter `filter` formatted like `key1:value1,key2:value2,...`  to restrain the search to the publications where key `keyi` contains `valuei`. For example, `/search/movies/gendarme?filter=year:1964`\n",
    "should return the list of movies where the title contains `gendarme` published in 1964.\n",
    "- `/actors/{id_origin}/distance/{id_destination}` : where `id_origin`\n",
    "and `id_destination` are two actor indices, returns the collaboration distance between the two actors. In addition to the distance, the response should include one shortest path between the two actors, e.g. the json you return should be a list of two elements, one integer and one list."
   ]
  },
  {
   "cell_type": "markdown",
   "id": "ba559bad-da30-4081-adb1-996022a82d69",
   "metadata": {
    "id": "ba559bad-da30-4081-adb1-996022a82d69"
   },
   "source": [
    "The developed API should have the following characteristics:\n",
    "\n",
    "- All errors should have the same format.\n",
    "- In absence of error, the API should always return a `json`.\n",
    "- Each route must be documented with the return format, possible errors, and an explanation of parameters.\n",
    "- Each route that returns a list should return a maximum of 100 elements and should accept URL parameters `start` and `limit` to display `limit` elements starting from the `start`-th element. For example: `/actors` should return the first 100 authors, `/actors?start=100` displays the next 100, and `/actors?start=200&limit=2` displays the next 2 elements.\n",
    "- For each route that returns a list, the returned elements should be sortable based on a given field using a URL parameter `order`. For example: `/movies?order=year` displays the first 100 movies sorted by year."
   ]
  },
  {
   "cell_type": "markdown",
   "id": "00c20fcd",
   "metadata": {},
   "source": [
    "Your answer here."
   ]
  },
  {
   "cell_type": "markdown",
   "id": "e1e29ad3",
   "metadata": {
    "id": "e1e29ad3"
   },
   "source": [
    "## Exercise 7. Test a Web API"
   ]
  },
  {
   "cell_type": "markdown",
   "id": "a7110e2c",
   "metadata": {
    "id": "a7110e2c"
   },
   "source": [
    "Using `pytest`, write a program that checks that the API made in the previous exercise works as expected."
   ]
  },
  {
   "cell_type": "markdown",
   "id": "252f540d",
   "metadata": {},
   "source": [
    "Your answer here."
   ]
  },
  {
   "cell_type": "markdown",
   "id": "2aa006cb",
   "metadata": {
    "id": "2aa006cb"
   },
   "source": [
    "## Exercise 8. Make a Website that uses the Web API"
   ]
  },
  {
   "cell_type": "markdown",
   "id": "2243ef46",
   "metadata": {
    "id": "2243ef46"
   },
   "source": [
    "Create a Python web server using the Bottle library that utilizes the Web API you developed to offer the user a graphical Web interface. This interface allows the user to obtain, by entering relevant information into a Web form:\n",
    "\n",
    "- The complete list of movies and the complete list of costars of an actor, possibly sorted alphabetically. This actor can be searched beforehand using a substring of characters appearing in her name.\n",
    "- The colloration distance between two actors. As above, the actors can be searched beforehand using a substring of characters appearing in their names. Try to format a bit (not too much). For example:\n",
    "  - The collaboration distance between Kevin Bacon and Jean Dujardin is 2.\n",
    "  - Kevin bacon played in Wild things with Bill Murray;\n",
    "  - Bill Murray played in The Monuments Men with Jean Dujardin."
   ]
  },
  {
   "cell_type": "markdown",
   "id": "6a761576",
   "metadata": {},
   "source": [
    "Your answer here."
   ]
  }
 ],
 "metadata": {
  "celltoolbar": "Slideshow",
  "colab": {
   "provenance": []
  },
  "kernelspec": {
   "display_name": "Python 3 (ipykernel)",
   "language": "python",
   "name": "python3"
  },
  "language_info": {
   "codemirror_mode": {
    "name": "ipython",
    "version": 3
   },
   "file_extension": ".py",
   "mimetype": "text/x-python",
   "name": "python",
   "nbconvert_exporter": "python",
   "pygments_lexer": "ipython3",
   "version": "3.11.4"
  },
  "toc": {
   "base_numbering": 1,
   "nav_menu": {},
   "number_sections": true,
   "sideBar": true,
   "skip_h1_title": true,
   "title_cell": "Table of Contents",
   "title_sidebar": "Contents",
   "toc_cell": false,
   "toc_position": {},
   "toc_section_display": true,
   "toc_window_display": false
  }
 },
 "nbformat": 4,
 "nbformat_minor": 5
}

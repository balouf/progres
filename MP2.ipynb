{
 "cells": [
  {
   "cell_type": "markdown",
   "id": "c377ba8a",
   "metadata": {},
   "source": [
    "# PROGRES - Mini-Projet 2 \n",
    "# API Web \n",
    "\n",
    "Fabien Mathieu - fabien.mathieu@normalesup.org\n",
    "\n",
    "Sébastien Tixeuil - Sebastien.Tixeuil@lip6.fr"
   ]
  },
  {
   "cell_type": "markdown",
   "id": "0531b03a",
   "metadata": {},
   "source": [
    "Le but de ce mini-projet est d'utiliser (entre autres) la bibliothèque Python bottle, pour \n",
    "proposer d’une part une API spécifique au site http://dblp.uni-trier.de/ qui \n",
    "regroupe l'ensemble des publications scientifiques en informatique, et d’autre part un site web \n",
    "qui permet d’utiliser l’API précédente. "
   ]
  },
  {
   "cell_type": "markdown",
   "id": "c65634e1",
   "metadata": {},
   "source": [
    "Le site dblp propose l'ensemble des publications sous la forme d'un fichier Xml. Il faut donc \n",
    "télécharger ce fichier et utiliser les données qu'il contient afin de créer votre API. Dans la suite, \n",
    "on appelle publication, un élément de type `article`, `inproceedings`, `proceedings`, \n",
    "`book`, `incollection`, `phdthesis`, ou `mastersthesis`."
   ]
  },
  {
   "cell_type": "markdown",
   "id": "37e92f7e",
   "metadata": {},
   "source": [
    "Le fichier Xml se trouve à l'adresse http://dblp.uni-trier.de/xml/. Il doit être analysé \n",
    "pour récupérer chaque publication (quel que soit son type). L’API demandée porte seulement \n",
    "sur les champs `author`, `title`, `year`, `journal`, et `booktitle` (les autres champs \n",
    "peuvent donc être ignorés). On peut remarquer que pour une publication, soit le champ \n",
    "`journal`, soit le champ `booktitle` est défini (`booktitle` correspond au nom de la \n",
    "conférence dans laquelle est publié l’article, `journal` correspond à la revue scientifique dans \n",
    "laquelle est publié l’article)."
   ]
  },
  {
   "cell_type": "markdown",
   "id": "171094fb",
   "metadata": {},
   "source": [
    "Note: En raison de la quantité limitée de mémoire RAM disponible sur certains ordinateurs, il \n",
    "est possible de ne considérer que les publications des 5 dernières années (voire moins, mais \n",
    "ce paramètre doit pouvoir être modifié dans le code source)."
   ]
  },
  {
   "cell_type": "markdown",
   "id": "4e56c23b",
   "metadata": {},
   "source": [
    "**RAPPEL :** stackoverflow est votre ami... **Mais** si vous utilisez quelque chose que vous trouvez sur Internet, vous devez citer votre source **ET** ajouter des explications. Ne copiez pas des blocs de code entiers sans comprendre, sans expliquer, sans citer."
   ]
  },
  {
   "cell_type": "markdown",
   "id": "8dc481ff",
   "metadata": {},
   "source": [
    "# Exercice 1. Mise à disposition d’une API Web "
   ]
  },
  {
   "cell_type": "markdown",
   "id": "7f7e5948",
   "metadata": {},
   "source": [
    "Réaliser en Python et en utilisant la bibliothèque bottle un serveur Web qui implémente l’API \n",
    "Web suivante :\n",
    "- `/publications/{id}` : avec `id` l'identifiant d'une publication (à vous de choisir quels \n",
    "sont les identifiants), qui retourne la publication correspondante.\n",
    "- `/publications` : qui retourne par défaut les 100 premières publications. La valeur 100 \n",
    "peut être modifiée au moyen d’un paramètre d'url `limit`).\n",
    "- `/authors/{name}` : avec `name` le nom d'un auteur, qui retourne des informations \n",
    "concernant un auteur : nombres de publications dont il est co-auteur, nombre de co-auteurs.\n",
    "- `/authors/{name}/publications` : avec `name` le nom d'un auteur, qui liste les \n",
    "publications d'un auteur.\n",
    "- `/authors/{name}/coauthors` : avec `name` le nom d'un auteur, qui liste les co-auteurs \n",
    "d'un auteur.\n",
    "- `/search/authors/{searchString}` : avec `searchString` une chaine de caractères \n",
    "permettant de chercher un auteur. Cette route retourne la liste des auteurs dont le nom \n",
    "contient `searchString` (par exemple, /search/authors/w retourne la liste de tous les \n",
    "auteurs dont le nom contient un `w` ou un `W`). \n",
    "- `/search/publications/{searchString}`: avec `searchString` une chaine de \n",
    "caractères et qui retourne la liste des publications dont le titre contient `searchString`. La \n",
    "route accepte un paramètre d'url `filter` de la forme `key1:value1,key2:value2,...` \n",
    "afin d'affiner la recherche aux publications dont la clef `keyi` contient `valuei`. Ainsi, la \n",
    "recherche `/search/publications/robots?filter=author:Jean,journal:acm` \n",
    "doit retourner la liste des publications dont le titre contient `robots`, dont l'auteur contient \n",
    "`Jean` et publiées dans un journal contenant `acm`.\n",
    "- `/authors/{name_origin}/distance/{name_destination}` : avec `name_origin` \n",
    "et `name_destination` deux noms d’auteurs, qui retourne la distance de collaboration \n",
    "entre les deux auteurs nommés. Cette distance est définie comme la longueur du plus petit \n",
    "chemin `(name_origin, auth1, auth2, ..., authX, name_destination)`, où \n",
    "`name_origine` et `auth1` sont co-auteurs, `auth1` et `auth2` sont co-auteurs, ... et \n",
    "`authX` et `name_destination` sont co-auteurs. En particulier deux co-auteurs sont à \n",
    "distance 1. En plus de retourner la distance, la réponse doit contenir un plus court chemin \n",
    "entre les deux auteurs."
   ]
  },
  {
   "cell_type": "markdown",
   "id": "42e95c32",
   "metadata": {},
   "source": [
    "L’API ainsi développée doit présenter les caractéristiques suivantes :\n",
    "- Toutes les erreurs doivent avoir le même format.\n",
    "- Chaque route doit être documentée, avec le format de retour, les erreurs possibles et une \n",
    "explications des paramètres.\n",
    "- Chaque route qui retourne une liste, doit retourner au maximum 100 éléments et accepter \n",
    "des paramètre d'URL `start` et `count` qui permettent d'afficher `count` éléments, à partir \n",
    "du `start`-ième élément. Par exemple: `/search/authors/*` doit retourner les 100 \n",
    "premiers auteurs, `/search/authors/*?start=100` affiche les 100 suivants, et `/\n",
    "search/authors/*?start=200&count=2` affiche les 2 éléments suivants.\n",
    "- Pour chaque route qui retourne une liste, les éléments retournés doivent pouvoir être triés \n",
    "par rapport à un champ donné dans un paramètre d'URL `order`. Par exemple: `/search/\n",
    "publications/*?order=journal` affiche les 100 premières publications triées dans \n",
    "l'ordre alphabétique du nom du journal dans lequel elles apparaissent."
   ]
  },
  {
   "cell_type": "markdown",
   "id": "e1e29ad3",
   "metadata": {},
   "source": [
    "# Exercice 2. Test unitaire d’une API Web "
   ]
  },
  {
   "cell_type": "markdown",
   "id": "a7110e2c",
   "metadata": {},
   "source": [
    "Réaliser en Python et en utilisant au choix la bibliothèque unittest ou la bibliothèque pytest un programme qui teste le bon \n",
    "fonctionnement de l'API Web développée à l'exercice 1."
   ]
  },
  {
   "cell_type": "markdown",
   "id": "2aa006cb",
   "metadata": {},
   "source": [
    "# Exercice 3. Site Web d’utilisation d’une API Web "
   ]
  },
  {
   "cell_type": "markdown",
   "id": "35e03c10",
   "metadata": {},
   "source": [
    "Réaliser en Python et en utilisant la bibliothèque bottle un serveur Web qui utilise l’API Web \n",
    "développée à l’exercice 1 pour proposer à l’utilisateur une interface Web graphique qui lui \n",
    "permette d’obtenir en entrant les informations pertinentes dans un formulaire Web : \n",
    "- la liste complète des publications et la liste complète des coauteurs d’un auteur, possiblement \n",
    "triées alphabétiquement. Cet auteur peut au préalable être recherché via une sous-séquence \n",
    "de caractères apparaissant dans son nom. \n",
    "- La distance entre deux auteurs. Ces auteurs peuvent au préalable être recherchés chacun \n",
    "via une sous-séquence de caractères apparaissant dans leur nom."
   ]
  }
 ],
 "metadata": {
  "kernelspec": {
   "display_name": "Python 3 (ipykernel)",
   "language": "python",
   "name": "python3"
  },
  "language_info": {
   "codemirror_mode": {
    "name": "ipython",
    "version": 3
   },
   "file_extension": ".py",
   "mimetype": "text/x-python",
   "name": "python",
   "nbconvert_exporter": "python",
   "pygments_lexer": "ipython3",
   "version": "3.9.13"
  },
  "toc": {
   "base_numbering": 1,
   "nav_menu": {},
   "number_sections": true,
   "sideBar": true,
   "skip_h1_title": true,
   "title_cell": "Table of Contents",
   "title_sidebar": "Contents",
   "toc_cell": false,
   "toc_position": {},
   "toc_section_display": true,
   "toc_window_display": false
  }
 },
 "nbformat": 4,
 "nbformat_minor": 5
}
